{
  "nbformat": 4,
  "nbformat_minor": 0,
  "metadata": {
    "colab": {
      "name": "문제2_우리애는 머리는 좋은데 공부를 안해서.ipynb",
      "provenance": [],
      "collapsed_sections": [],
      "authorship_tag": "ABX9TyOW7ATTGQEd1CKwUi0iJ9U2",
      "include_colab_link": true
    },
    "kernelspec": {
      "name": "python3",
      "display_name": "Python 3"
    },
    "accelerator": "GPU"
  },
  "cells": [
    {
      "cell_type": "markdown",
      "metadata": {
        "id": "view-in-github",
        "colab_type": "text"
      },
      "source": [
        "<a href=\"https://colab.research.google.com/github/chumdan/Machine-Learning-Project/blob/main/Machine%20Learning%20Project/Classification/%EB%AC%B8%EC%A0%9C2_%EC%9A%B0%EB%A6%AC%EC%95%A0%EB%8A%94_%EB%A8%B8%EB%A6%AC%EB%8A%94_%EC%A2%8B%EC%9D%80%EB%8D%B0_%EA%B3%B5%EB%B6%80%EB%A5%BC_%EC%95%88%ED%95%B4%EC%84%9C.ipynb\" target=\"_parent\"><img src=\"https://colab.research.google.com/assets/colab-badge.svg\" alt=\"Open In Colab\"/></a>"
      ]
    },
    {
      "cell_type": "markdown",
      "metadata": {
        "id": "HXd2jJFOAaCz"
      },
      "source": [
        "# 주제 : 우리애는 머리는 좋은데, 공부를 안해서 그래요. (분류문제유형)"
      ]
    },
    {
      "cell_type": "markdown",
      "metadata": {
        "id": "dcBtVniWAwbT"
      },
      "source": [
        "### Step 0. 필요패키지 다운 및 데이터셋 준비"
      ]
    },
    {
      "cell_type": "markdown",
      "metadata": {
        "id": "YJ9dONiwAwTo"
      },
      "source": [
        "#### 필요패키지 설치"
      ]
    },
    {
      "cell_type": "code",
      "metadata": {
        "colab": {
          "base_uri": "https://localhost:8080/"
        },
        "id": "UHe-zwXpA62C",
        "outputId": "610dda58-2f74-48eb-a1d7-b117c8279d53"
      },
      "source": [
        "from google.colab import drive\n",
        "drive.mount('/content/drive')"
      ],
      "execution_count": null,
      "outputs": [
        {
          "output_type": "stream",
          "text": [
            "Mounted at /content/drive\n"
          ],
          "name": "stdout"
        }
      ]
    },
    {
      "cell_type": "code",
      "metadata": {
        "id": "d0Gu1SBkDWXp"
      },
      "source": [
        "import pandas as pd\n",
        "import numpy as np\n",
        "import matplotlib.pyplot as plt\n",
        "import seaborn as sns\n",
        "import os\n",
        "from sklearn.neighbors import KNeighborsClassifier as KNN\n",
        "from sklearn.svm import SVC\n",
        "from sklearn.linear_model import LogisticRegression as LR\n",
        "from sklearn.tree import DecisionTreeClassifier as DTC\n",
        "from sklearn.ensemble import RandomForestClassifier as RFC\n",
        "from xgboost import XGBClassifier as XGB\n",
        "from lightgbm import LGBMClassifier as LGBM\n",
        "from sklearn.feature_selection import *\n",
        "from sklearn.metrics import f1_score\n",
        "from sklearn.model_selection import ParameterGrid\n",
        "# from sklearn.decomposition import PCA\n",
        "from sklearn.preprocessing import StandardScaler\n",
        "from sklearn.preprocessing import MinMaxScaler\n",
        "from tensorflow.keras.callbacks import EarlyStopping, ModelCheckpoint\n",
        "from sklearn.model_selection import train_test_split\n",
        "from keras import models\n",
        "from keras import layers\n",
        "from sklearn.metrics import classification_report\n",
        "from sklearn.metrics import plot_precision_recall_curve\n",
        "from sklearn.metrics import plot_roc_curve"
      ],
      "execution_count": null,
      "outputs": []
    },
    {
      "cell_type": "code",
      "metadata": {
        "id": "V-mql_IcDtq0"
      },
      "source": [
        "# os.environ을 이용하여 Kaggle API Username, Key 세팅하기\n",
        "os.environ['KAGGLE_USERNAME'] = 'chumdan'\n",
        "os.environ['KAGGLE_KEY'] = '0e8bf51ba50bce898a8a9736072bd3b8'"
      ],
      "execution_count": null,
      "outputs": []
    },
    {
      "cell_type": "code",
      "metadata": {
        "id": "-BtGZoKVD0P0",
        "colab": {
          "base_uri": "https://localhost:8080/"
        },
        "outputId": "536fe574-a558-436e-d8d3-bb9b4706e297"
      },
      "source": [
        "# Linux 명령어로 Kaggle API를 이용하여 데이터셋 다운로드하기 \n",
        "# Linux 명령어로 압축 해제하기\n",
        "!kaggle datasets download -d aljarah/xAPI-Edu-Data\n",
        "!unzip '*.zip'"
      ],
      "execution_count": null,
      "outputs": [
        {
          "output_type": "stream",
          "text": [
            "Downloading xAPI-Edu-Data.zip to /content\n",
            "\r  0% 0.00/5.54k [00:00<?, ?B/s]\n",
            "\r100% 5.54k/5.54k [00:00<00:00, 4.96MB/s]\n",
            "Archive:  xAPI-Edu-Data.zip\n",
            "  inflating: xAPI-Edu-Data.csv       \n"
          ],
          "name": "stdout"
        }
      ]
    },
    {
      "cell_type": "markdown",
      "metadata": {
        "id": "NFOjr8aBBPRo"
      },
      "source": [
        "#### 데이터소개 \n",
        "\n",
        " - 다음 1개의 csv 파일을 사용합니다.\n",
        "\n",
        "\n",
        "> \n",
        "    xAPI-Edu-Data.csv .csv\n",
        "    \n",
        "- 각 파일의 컬럼은 아래와 같습니다.\n",
        "\n",
        "> \n",
        "    gender: 학생의 성별 (M: 남성, F: 여성)\n",
        "    NationaliTy: 학생의 국적\n",
        "    PlaceofBirth: 학생이 태어난 국가\n",
        "    StageID: 학생이 다니는 학교 (초,중,고)\n",
        "    GradeID: 학생이 속한 성적 등급\n",
        "    SectionID: 학생이 속한 반 이름\n",
        "    Topic: 수강한 과목\n",
        "    Semester: 수강한 학기 (1학기/2학기)\n",
        "    Relation: 주 보호자와 학생의 관계\n",
        "    raisedhands: 학생이 수업 중 손을 든 횟수\n",
        "    VisITedResources: 학생이 과목 공지를 확인한 횟수\n",
        "    Discussion: 학생이 토론 그룹에 참여한 횟수\n",
        "    ParentAnsweringSurvey: 부모가 학교 설문에 참여했는지 여부\n",
        "    ParentschoolSatisfaction: 부모가 학교에 만족했는지 여부\n",
        "    StudentAbscenceDays: 학생의 결석 횟수 (7회 이상/미만)\n",
        "    Class: 학생의 성적 등급 (L: 낮음, M: 보통, H: 높음)\n",
        "    \n",
        "    종속변수: Class: 학생의 성적 등급 (L: 낮음, M: 보통, H: 높음)\n",
        "    \n",
        "- 데이터 출처: https://www.kaggle.com/aljarah/xAPI-Edu-Data\n",
        "\n"
      ]
    },
    {
      "cell_type": "code",
      "metadata": {
        "id": "1PIOu1TYD6LN"
      },
      "source": [
        "# pd.read_csv()로 csv파일 읽어들이기\n",
        "df = pd.read_csv('xAPI-Edu-Data.csv')"
      ],
      "execution_count": null,
      "outputs": []
    },
    {
      "cell_type": "code",
      "metadata": {
        "id": "8gVRSDlAEAgU",
        "colab": {
          "base_uri": "https://localhost:8080/",
          "height": 224
        },
        "outputId": "938671f0-7531-4a3f-ec20-ccf99cc18346"
      },
      "source": [
        "df.head()"
      ],
      "execution_count": null,
      "outputs": [
        {
          "output_type": "execute_result",
          "data": {
            "text/html": [
              "<div>\n",
              "<style scoped>\n",
              "    .dataframe tbody tr th:only-of-type {\n",
              "        vertical-align: middle;\n",
              "    }\n",
              "\n",
              "    .dataframe tbody tr th {\n",
              "        vertical-align: top;\n",
              "    }\n",
              "\n",
              "    .dataframe thead th {\n",
              "        text-align: right;\n",
              "    }\n",
              "</style>\n",
              "<table border=\"1\" class=\"dataframe\">\n",
              "  <thead>\n",
              "    <tr style=\"text-align: right;\">\n",
              "      <th></th>\n",
              "      <th>gender</th>\n",
              "      <th>NationalITy</th>\n",
              "      <th>PlaceofBirth</th>\n",
              "      <th>StageID</th>\n",
              "      <th>GradeID</th>\n",
              "      <th>SectionID</th>\n",
              "      <th>Topic</th>\n",
              "      <th>Semester</th>\n",
              "      <th>Relation</th>\n",
              "      <th>raisedhands</th>\n",
              "      <th>VisITedResources</th>\n",
              "      <th>AnnouncementsView</th>\n",
              "      <th>Discussion</th>\n",
              "      <th>ParentAnsweringSurvey</th>\n",
              "      <th>ParentschoolSatisfaction</th>\n",
              "      <th>StudentAbsenceDays</th>\n",
              "      <th>Class</th>\n",
              "    </tr>\n",
              "  </thead>\n",
              "  <tbody>\n",
              "    <tr>\n",
              "      <th>0</th>\n",
              "      <td>M</td>\n",
              "      <td>KW</td>\n",
              "      <td>KuwaIT</td>\n",
              "      <td>lowerlevel</td>\n",
              "      <td>G-04</td>\n",
              "      <td>A</td>\n",
              "      <td>IT</td>\n",
              "      <td>F</td>\n",
              "      <td>Father</td>\n",
              "      <td>15</td>\n",
              "      <td>16</td>\n",
              "      <td>2</td>\n",
              "      <td>20</td>\n",
              "      <td>Yes</td>\n",
              "      <td>Good</td>\n",
              "      <td>Under-7</td>\n",
              "      <td>M</td>\n",
              "    </tr>\n",
              "    <tr>\n",
              "      <th>1</th>\n",
              "      <td>M</td>\n",
              "      <td>KW</td>\n",
              "      <td>KuwaIT</td>\n",
              "      <td>lowerlevel</td>\n",
              "      <td>G-04</td>\n",
              "      <td>A</td>\n",
              "      <td>IT</td>\n",
              "      <td>F</td>\n",
              "      <td>Father</td>\n",
              "      <td>20</td>\n",
              "      <td>20</td>\n",
              "      <td>3</td>\n",
              "      <td>25</td>\n",
              "      <td>Yes</td>\n",
              "      <td>Good</td>\n",
              "      <td>Under-7</td>\n",
              "      <td>M</td>\n",
              "    </tr>\n",
              "    <tr>\n",
              "      <th>2</th>\n",
              "      <td>M</td>\n",
              "      <td>KW</td>\n",
              "      <td>KuwaIT</td>\n",
              "      <td>lowerlevel</td>\n",
              "      <td>G-04</td>\n",
              "      <td>A</td>\n",
              "      <td>IT</td>\n",
              "      <td>F</td>\n",
              "      <td>Father</td>\n",
              "      <td>10</td>\n",
              "      <td>7</td>\n",
              "      <td>0</td>\n",
              "      <td>30</td>\n",
              "      <td>No</td>\n",
              "      <td>Bad</td>\n",
              "      <td>Above-7</td>\n",
              "      <td>L</td>\n",
              "    </tr>\n",
              "    <tr>\n",
              "      <th>3</th>\n",
              "      <td>M</td>\n",
              "      <td>KW</td>\n",
              "      <td>KuwaIT</td>\n",
              "      <td>lowerlevel</td>\n",
              "      <td>G-04</td>\n",
              "      <td>A</td>\n",
              "      <td>IT</td>\n",
              "      <td>F</td>\n",
              "      <td>Father</td>\n",
              "      <td>30</td>\n",
              "      <td>25</td>\n",
              "      <td>5</td>\n",
              "      <td>35</td>\n",
              "      <td>No</td>\n",
              "      <td>Bad</td>\n",
              "      <td>Above-7</td>\n",
              "      <td>L</td>\n",
              "    </tr>\n",
              "    <tr>\n",
              "      <th>4</th>\n",
              "      <td>M</td>\n",
              "      <td>KW</td>\n",
              "      <td>KuwaIT</td>\n",
              "      <td>lowerlevel</td>\n",
              "      <td>G-04</td>\n",
              "      <td>A</td>\n",
              "      <td>IT</td>\n",
              "      <td>F</td>\n",
              "      <td>Father</td>\n",
              "      <td>40</td>\n",
              "      <td>50</td>\n",
              "      <td>12</td>\n",
              "      <td>50</td>\n",
              "      <td>No</td>\n",
              "      <td>Bad</td>\n",
              "      <td>Above-7</td>\n",
              "      <td>M</td>\n",
              "    </tr>\n",
              "  </tbody>\n",
              "</table>\n",
              "</div>"
            ],
            "text/plain": [
              "  gender NationalITy  ... StudentAbsenceDays Class\n",
              "0      M          KW  ...            Under-7     M\n",
              "1      M          KW  ...            Under-7     M\n",
              "2      M          KW  ...            Above-7     L\n",
              "3      M          KW  ...            Above-7     L\n",
              "4      M          KW  ...            Above-7     M\n",
              "\n",
              "[5 rows x 17 columns]"
            ]
          },
          "metadata": {
            "tags": []
          },
          "execution_count": 6
        }
      ]
    },
    {
      "cell_type": "markdown",
      "metadata": {
        "id": "tQNkS8eJB5JM"
      },
      "source": [
        "### Step 1. 데이터 기초 통계 분석 및 그래프\n",
        "\n",
        "\n"
      ]
    },
    {
      "cell_type": "markdown",
      "metadata": {
        "id": "yFWX9PR8B5U6"
      },
      "source": [
        "#### 데이터프레임의 각 칼럼 분석"
      ]
    },
    {
      "cell_type": "code",
      "metadata": {
        "id": "urnd_3e2ED50",
        "colab": {
          "base_uri": "https://localhost:8080/"
        },
        "outputId": "727797ee-d131-4d8a-ab68-da280648e0d0"
      },
      "source": [
        "df.info()"
      ],
      "execution_count": null,
      "outputs": [
        {
          "output_type": "stream",
          "text": [
            "<class 'pandas.core.frame.DataFrame'>\n",
            "RangeIndex: 480 entries, 0 to 479\n",
            "Data columns (total 17 columns):\n",
            " #   Column                    Non-Null Count  Dtype \n",
            "---  ------                    --------------  ----- \n",
            " 0   gender                    480 non-null    object\n",
            " 1   NationalITy               480 non-null    object\n",
            " 2   PlaceofBirth              480 non-null    object\n",
            " 3   StageID                   480 non-null    object\n",
            " 4   GradeID                   480 non-null    object\n",
            " 5   SectionID                 480 non-null    object\n",
            " 6   Topic                     480 non-null    object\n",
            " 7   Semester                  480 non-null    object\n",
            " 8   Relation                  480 non-null    object\n",
            " 9   raisedhands               480 non-null    int64 \n",
            " 10  VisITedResources          480 non-null    int64 \n",
            " 11  AnnouncementsView         480 non-null    int64 \n",
            " 12  Discussion                480 non-null    int64 \n",
            " 13  ParentAnsweringSurvey     480 non-null    object\n",
            " 14  ParentschoolSatisfaction  480 non-null    object\n",
            " 15  StudentAbsenceDays        480 non-null    object\n",
            " 16  Class                     480 non-null    object\n",
            "dtypes: int64(4), object(13)\n",
            "memory usage: 63.9+ KB\n"
          ],
          "name": "stdout"
        }
      ]
    },
    {
      "cell_type": "code",
      "metadata": {
        "id": "GYITIFaWESek",
        "colab": {
          "base_uri": "https://localhost:8080/",
          "height": 576
        },
        "outputId": "58cd1828-f91d-45bb-bd60-05cd392dcd01"
      },
      "source": [
        "df.describe(include='all').T"
      ],
      "execution_count": null,
      "outputs": [
        {
          "output_type": "execute_result",
          "data": {
            "text/html": [
              "<div>\n",
              "<style scoped>\n",
              "    .dataframe tbody tr th:only-of-type {\n",
              "        vertical-align: middle;\n",
              "    }\n",
              "\n",
              "    .dataframe tbody tr th {\n",
              "        vertical-align: top;\n",
              "    }\n",
              "\n",
              "    .dataframe thead th {\n",
              "        text-align: right;\n",
              "    }\n",
              "</style>\n",
              "<table border=\"1\" class=\"dataframe\">\n",
              "  <thead>\n",
              "    <tr style=\"text-align: right;\">\n",
              "      <th></th>\n",
              "      <th>count</th>\n",
              "      <th>unique</th>\n",
              "      <th>top</th>\n",
              "      <th>freq</th>\n",
              "      <th>mean</th>\n",
              "      <th>std</th>\n",
              "      <th>min</th>\n",
              "      <th>25%</th>\n",
              "      <th>50%</th>\n",
              "      <th>75%</th>\n",
              "      <th>max</th>\n",
              "    </tr>\n",
              "  </thead>\n",
              "  <tbody>\n",
              "    <tr>\n",
              "      <th>gender</th>\n",
              "      <td>480</td>\n",
              "      <td>2</td>\n",
              "      <td>M</td>\n",
              "      <td>305</td>\n",
              "      <td>NaN</td>\n",
              "      <td>NaN</td>\n",
              "      <td>NaN</td>\n",
              "      <td>NaN</td>\n",
              "      <td>NaN</td>\n",
              "      <td>NaN</td>\n",
              "      <td>NaN</td>\n",
              "    </tr>\n",
              "    <tr>\n",
              "      <th>NationalITy</th>\n",
              "      <td>480</td>\n",
              "      <td>14</td>\n",
              "      <td>KW</td>\n",
              "      <td>179</td>\n",
              "      <td>NaN</td>\n",
              "      <td>NaN</td>\n",
              "      <td>NaN</td>\n",
              "      <td>NaN</td>\n",
              "      <td>NaN</td>\n",
              "      <td>NaN</td>\n",
              "      <td>NaN</td>\n",
              "    </tr>\n",
              "    <tr>\n",
              "      <th>PlaceofBirth</th>\n",
              "      <td>480</td>\n",
              "      <td>14</td>\n",
              "      <td>KuwaIT</td>\n",
              "      <td>180</td>\n",
              "      <td>NaN</td>\n",
              "      <td>NaN</td>\n",
              "      <td>NaN</td>\n",
              "      <td>NaN</td>\n",
              "      <td>NaN</td>\n",
              "      <td>NaN</td>\n",
              "      <td>NaN</td>\n",
              "    </tr>\n",
              "    <tr>\n",
              "      <th>StageID</th>\n",
              "      <td>480</td>\n",
              "      <td>3</td>\n",
              "      <td>MiddleSchool</td>\n",
              "      <td>248</td>\n",
              "      <td>NaN</td>\n",
              "      <td>NaN</td>\n",
              "      <td>NaN</td>\n",
              "      <td>NaN</td>\n",
              "      <td>NaN</td>\n",
              "      <td>NaN</td>\n",
              "      <td>NaN</td>\n",
              "    </tr>\n",
              "    <tr>\n",
              "      <th>GradeID</th>\n",
              "      <td>480</td>\n",
              "      <td>10</td>\n",
              "      <td>G-02</td>\n",
              "      <td>147</td>\n",
              "      <td>NaN</td>\n",
              "      <td>NaN</td>\n",
              "      <td>NaN</td>\n",
              "      <td>NaN</td>\n",
              "      <td>NaN</td>\n",
              "      <td>NaN</td>\n",
              "      <td>NaN</td>\n",
              "    </tr>\n",
              "    <tr>\n",
              "      <th>SectionID</th>\n",
              "      <td>480</td>\n",
              "      <td>3</td>\n",
              "      <td>A</td>\n",
              "      <td>283</td>\n",
              "      <td>NaN</td>\n",
              "      <td>NaN</td>\n",
              "      <td>NaN</td>\n",
              "      <td>NaN</td>\n",
              "      <td>NaN</td>\n",
              "      <td>NaN</td>\n",
              "      <td>NaN</td>\n",
              "    </tr>\n",
              "    <tr>\n",
              "      <th>Topic</th>\n",
              "      <td>480</td>\n",
              "      <td>12</td>\n",
              "      <td>IT</td>\n",
              "      <td>95</td>\n",
              "      <td>NaN</td>\n",
              "      <td>NaN</td>\n",
              "      <td>NaN</td>\n",
              "      <td>NaN</td>\n",
              "      <td>NaN</td>\n",
              "      <td>NaN</td>\n",
              "      <td>NaN</td>\n",
              "    </tr>\n",
              "    <tr>\n",
              "      <th>Semester</th>\n",
              "      <td>480</td>\n",
              "      <td>2</td>\n",
              "      <td>F</td>\n",
              "      <td>245</td>\n",
              "      <td>NaN</td>\n",
              "      <td>NaN</td>\n",
              "      <td>NaN</td>\n",
              "      <td>NaN</td>\n",
              "      <td>NaN</td>\n",
              "      <td>NaN</td>\n",
              "      <td>NaN</td>\n",
              "    </tr>\n",
              "    <tr>\n",
              "      <th>Relation</th>\n",
              "      <td>480</td>\n",
              "      <td>2</td>\n",
              "      <td>Father</td>\n",
              "      <td>283</td>\n",
              "      <td>NaN</td>\n",
              "      <td>NaN</td>\n",
              "      <td>NaN</td>\n",
              "      <td>NaN</td>\n",
              "      <td>NaN</td>\n",
              "      <td>NaN</td>\n",
              "      <td>NaN</td>\n",
              "    </tr>\n",
              "    <tr>\n",
              "      <th>raisedhands</th>\n",
              "      <td>480</td>\n",
              "      <td>NaN</td>\n",
              "      <td>NaN</td>\n",
              "      <td>NaN</td>\n",
              "      <td>46.775</td>\n",
              "      <td>30.7792</td>\n",
              "      <td>0</td>\n",
              "      <td>15.75</td>\n",
              "      <td>50</td>\n",
              "      <td>75</td>\n",
              "      <td>100</td>\n",
              "    </tr>\n",
              "    <tr>\n",
              "      <th>VisITedResources</th>\n",
              "      <td>480</td>\n",
              "      <td>NaN</td>\n",
              "      <td>NaN</td>\n",
              "      <td>NaN</td>\n",
              "      <td>54.7979</td>\n",
              "      <td>33.08</td>\n",
              "      <td>0</td>\n",
              "      <td>20</td>\n",
              "      <td>65</td>\n",
              "      <td>84</td>\n",
              "      <td>99</td>\n",
              "    </tr>\n",
              "    <tr>\n",
              "      <th>AnnouncementsView</th>\n",
              "      <td>480</td>\n",
              "      <td>NaN</td>\n",
              "      <td>NaN</td>\n",
              "      <td>NaN</td>\n",
              "      <td>37.9188</td>\n",
              "      <td>26.6112</td>\n",
              "      <td>0</td>\n",
              "      <td>14</td>\n",
              "      <td>33</td>\n",
              "      <td>58</td>\n",
              "      <td>98</td>\n",
              "    </tr>\n",
              "    <tr>\n",
              "      <th>Discussion</th>\n",
              "      <td>480</td>\n",
              "      <td>NaN</td>\n",
              "      <td>NaN</td>\n",
              "      <td>NaN</td>\n",
              "      <td>43.2833</td>\n",
              "      <td>27.6377</td>\n",
              "      <td>1</td>\n",
              "      <td>20</td>\n",
              "      <td>39</td>\n",
              "      <td>70</td>\n",
              "      <td>99</td>\n",
              "    </tr>\n",
              "    <tr>\n",
              "      <th>ParentAnsweringSurvey</th>\n",
              "      <td>480</td>\n",
              "      <td>2</td>\n",
              "      <td>Yes</td>\n",
              "      <td>270</td>\n",
              "      <td>NaN</td>\n",
              "      <td>NaN</td>\n",
              "      <td>NaN</td>\n",
              "      <td>NaN</td>\n",
              "      <td>NaN</td>\n",
              "      <td>NaN</td>\n",
              "      <td>NaN</td>\n",
              "    </tr>\n",
              "    <tr>\n",
              "      <th>ParentschoolSatisfaction</th>\n",
              "      <td>480</td>\n",
              "      <td>2</td>\n",
              "      <td>Good</td>\n",
              "      <td>292</td>\n",
              "      <td>NaN</td>\n",
              "      <td>NaN</td>\n",
              "      <td>NaN</td>\n",
              "      <td>NaN</td>\n",
              "      <td>NaN</td>\n",
              "      <td>NaN</td>\n",
              "      <td>NaN</td>\n",
              "    </tr>\n",
              "    <tr>\n",
              "      <th>StudentAbsenceDays</th>\n",
              "      <td>480</td>\n",
              "      <td>2</td>\n",
              "      <td>Under-7</td>\n",
              "      <td>289</td>\n",
              "      <td>NaN</td>\n",
              "      <td>NaN</td>\n",
              "      <td>NaN</td>\n",
              "      <td>NaN</td>\n",
              "      <td>NaN</td>\n",
              "      <td>NaN</td>\n",
              "      <td>NaN</td>\n",
              "    </tr>\n",
              "    <tr>\n",
              "      <th>Class</th>\n",
              "      <td>480</td>\n",
              "      <td>3</td>\n",
              "      <td>M</td>\n",
              "      <td>211</td>\n",
              "      <td>NaN</td>\n",
              "      <td>NaN</td>\n",
              "      <td>NaN</td>\n",
              "      <td>NaN</td>\n",
              "      <td>NaN</td>\n",
              "      <td>NaN</td>\n",
              "      <td>NaN</td>\n",
              "    </tr>\n",
              "  </tbody>\n",
              "</table>\n",
              "</div>"
            ],
            "text/plain": [
              "                         count unique           top freq  ...    25%  50%  75%  max\n",
              "gender                     480      2             M  305  ...    NaN  NaN  NaN  NaN\n",
              "NationalITy                480     14            KW  179  ...    NaN  NaN  NaN  NaN\n",
              "PlaceofBirth               480     14        KuwaIT  180  ...    NaN  NaN  NaN  NaN\n",
              "StageID                    480      3  MiddleSchool  248  ...    NaN  NaN  NaN  NaN\n",
              "GradeID                    480     10          G-02  147  ...    NaN  NaN  NaN  NaN\n",
              "SectionID                  480      3             A  283  ...    NaN  NaN  NaN  NaN\n",
              "Topic                      480     12            IT   95  ...    NaN  NaN  NaN  NaN\n",
              "Semester                   480      2             F  245  ...    NaN  NaN  NaN  NaN\n",
              "Relation                   480      2        Father  283  ...    NaN  NaN  NaN  NaN\n",
              "raisedhands                480    NaN           NaN  NaN  ...  15.75   50   75  100\n",
              "VisITedResources           480    NaN           NaN  NaN  ...     20   65   84   99\n",
              "AnnouncementsView          480    NaN           NaN  NaN  ...     14   33   58   98\n",
              "Discussion                 480    NaN           NaN  NaN  ...     20   39   70   99\n",
              "ParentAnsweringSurvey      480      2           Yes  270  ...    NaN  NaN  NaN  NaN\n",
              "ParentschoolSatisfaction   480      2          Good  292  ...    NaN  NaN  NaN  NaN\n",
              "StudentAbsenceDays         480      2       Under-7  289  ...    NaN  NaN  NaN  NaN\n",
              "Class                      480      3             M  211  ...    NaN  NaN  NaN  NaN\n",
              "\n",
              "[17 rows x 11 columns]"
            ]
          },
          "metadata": {
            "tags": []
          },
          "execution_count": 8
        }
      ]
    },
    {
      "cell_type": "code",
      "metadata": {
        "id": "-xDeMhoNEcfO",
        "colab": {
          "base_uri": "https://localhost:8080/"
        },
        "outputId": "c237a863-a988-4222-f460-09c883b9dd99"
      },
      "source": [
        "df.columns"
      ],
      "execution_count": null,
      "outputs": [
        {
          "output_type": "execute_result",
          "data": {
            "text/plain": [
              "Index(['gender', 'NationalITy', 'PlaceofBirth', 'StageID', 'GradeID',\n",
              "       'SectionID', 'Topic', 'Semester', 'Relation', 'raisedhands',\n",
              "       'VisITedResources', 'AnnouncementsView', 'Discussion',\n",
              "       'ParentAnsweringSurvey', 'ParentschoolSatisfaction',\n",
              "       'StudentAbsenceDays', 'Class'],\n",
              "      dtype='object')"
            ]
          },
          "metadata": {
            "tags": []
          },
          "execution_count": 9
        }
      ]
    },
    {
      "cell_type": "code",
      "metadata": {
        "id": "3j_vNLjrEmwc",
        "colab": {
          "base_uri": "https://localhost:8080/"
        },
        "outputId": "6ccc9e00-eb5a-41f5-fb33-f3a75462e468"
      },
      "source": [
        "df['gender'].value_counts()"
      ],
      "execution_count": null,
      "outputs": [
        {
          "output_type": "execute_result",
          "data": {
            "text/plain": [
              "M    305\n",
              "F    175\n",
              "Name: gender, dtype: int64"
            ]
          },
          "metadata": {
            "tags": []
          },
          "execution_count": 10
        }
      ]
    },
    {
      "cell_type": "code",
      "metadata": {
        "id": "XyyhqNgoEoM0",
        "colab": {
          "base_uri": "https://localhost:8080/"
        },
        "outputId": "63dad361-b443-409d-ce6b-da60cd5a7a75"
      },
      "source": [
        "df['NationalITy'].value_counts()"
      ],
      "execution_count": null,
      "outputs": [
        {
          "output_type": "execute_result",
          "data": {
            "text/plain": [
              "KW             179\n",
              "Jordan         172\n",
              "Palestine       28\n",
              "Iraq            22\n",
              "lebanon         17\n",
              "Tunis           12\n",
              "SaudiArabia     11\n",
              "Egypt            9\n",
              "Syria            7\n",
              "USA              6\n",
              "Iran             6\n",
              "Lybia            6\n",
              "Morocco          4\n",
              "venzuela         1\n",
              "Name: NationalITy, dtype: int64"
            ]
          },
          "metadata": {
            "tags": []
          },
          "execution_count": 11
        }
      ]
    },
    {
      "cell_type": "code",
      "metadata": {
        "id": "td0jWbhqEpps",
        "colab": {
          "base_uri": "https://localhost:8080/"
        },
        "outputId": "7e02a6e4-d3db-4fa5-91fd-ea457bea5724"
      },
      "source": [
        "df['PlaceofBirth'].value_counts()"
      ],
      "execution_count": null,
      "outputs": [
        {
          "output_type": "execute_result",
          "data": {
            "text/plain": [
              "KuwaIT         180\n",
              "Jordan         176\n",
              "Iraq            22\n",
              "lebanon         19\n",
              "USA             16\n",
              "SaudiArabia     16\n",
              "Palestine       10\n",
              "Tunis            9\n",
              "Egypt            9\n",
              "Iran             6\n",
              "Syria            6\n",
              "Lybia            6\n",
              "Morocco          4\n",
              "venzuela         1\n",
              "Name: PlaceofBirth, dtype: int64"
            ]
          },
          "metadata": {
            "tags": []
          },
          "execution_count": 12
        }
      ]
    },
    {
      "cell_type": "markdown",
      "metadata": {
        "id": "0iVj5ZGtCLK8"
      },
      "source": [
        "#### 데이터 그래프 분석"
      ]
    },
    {
      "cell_type": "code",
      "metadata": {
        "id": "5aGFXNxIErnM",
        "colab": {
          "base_uri": "https://localhost:8080/",
          "height": 297
        },
        "outputId": "76c24ee7-9d2d-4f40-8620-4cc01ab726c9"
      },
      "source": [
        "sns.histplot(x='raisedhands', data=df, hue='Class', hue_order=['L', 'M', 'H'], kde=True)"
      ],
      "execution_count": null,
      "outputs": [
        {
          "output_type": "execute_result",
          "data": {
            "text/plain": [
              "<matplotlib.axes._subplots.AxesSubplot at 0x7f561adc22e8>"
            ]
          },
          "metadata": {
            "tags": []
          },
          "execution_count": 13
        },
        {
          "output_type": "display_data",
          "data": {
            "image/png": "[encoded data removed]",
            "text/plain": [
              "<Figure size 432x288 with 1 Axes>"
            ]
          },
          "metadata": {
            "tags": [],
            "needs_background": "light"
          }
        }
      ]
    },
    {
      "cell_type": "code",
      "metadata": {
        "id": "UdH0iQtyE4hs",
        "colab": {
          "base_uri": "https://localhost:8080/",
          "height": 459
        },
        "outputId": "6ae84240-6e1d-4cc1-f169-609a74011793"
      },
      "source": [
        "sns.jointplot(x='VisITedResources', y='raisedhands', data=df, hue='Class', hue_order=['L', 'M', 'H'])"
      ],
      "execution_count": null,
      "outputs": [
        {
          "output_type": "execute_result",
          "data": {
            "text/plain": [
              "<seaborn.axisgrid.JointGrid at 0x7f561adc2828>"
            ]
          },
          "metadata": {
            "tags": []
          },
          "execution_count": 14
        },
        {
          "output_type": "display_data",
          "data": {
            "image/png": "[encoded data removed]",
            "text/plain": [
              "<Figure size 432x432 with 3 Axes>"
            ]
          },
          "metadata": {
            "tags": [],
            "needs_background": "light"
          }
        }
      ]
    },
    {
      "cell_type": "code",
      "metadata": {
        "id": "ruBNsIFBE7T1",
        "colab": {
          "base_uri": "https://localhost:8080/",
          "height": 297
        },
        "outputId": "52d584b5-5c0c-43f9-9b2e-bb937ccb78f3"
      },
      "source": [
        "sns.histplot(x='AnnouncementsView', data=df, hue='Class', hue_order=['L', 'M', 'H'], kde=True)"
      ],
      "execution_count": null,
      "outputs": [
        {
          "output_type": "execute_result",
          "data": {
            "text/plain": [
              "<matplotlib.axes._subplots.AxesSubplot at 0x7f5611f22080>"
            ]
          },
          "metadata": {
            "tags": []
          },
          "execution_count": 15
        },
        {
          "output_type": "display_data",
          "data": {
            "image/png": "[encoded data removed]",
            "text/plain": [
              "<Figure size 432x288 with 1 Axes>"
            ]
          },
          "metadata": {
            "tags": [],
            "needs_background": "light"
          }
        }
      ]
    },
    {
      "cell_type": "code",
      "metadata": {
        "id": "hKD-LpKTFFtc",
        "colab": {
          "base_uri": "https://localhost:8080/",
          "height": 297
        },
        "outputId": "d13045ef-95c3-493c-96e4-387419d49be2"
      },
      "source": [
        "sns.histplot(x='Discussion', data=df, hue='Class', hue_order=['L', 'M', 'H'], kde=True)"
      ],
      "execution_count": null,
      "outputs": [
        {
          "output_type": "execute_result",
          "data": {
            "text/plain": [
              "<matplotlib.axes._subplots.AxesSubplot at 0x7f56106886a0>"
            ]
          },
          "metadata": {
            "tags": []
          },
          "execution_count": 16
        },
        {
          "output_type": "display_data",
          "data": {
            "image/png": "[encoded data removed]",
            "text/plain": [
              "<Figure size 432x288 with 1 Axes>"
            ]
          },
          "metadata": {
            "tags": [],
            "needs_background": "light"
          }
        }
      ]
    },
    {
      "cell_type": "code",
      "metadata": {
        "id": "IM0xUZqeFRnb",
        "colab": {
          "base_uri": "https://localhost:8080/",
          "height": 297
        },
        "outputId": "1d202b68-c92e-4b10-deaf-2a5f63cf8f58"
      },
      "source": [
        "sns.countplot(x='Class', data=df, order=['L', 'M', 'H'])"
      ],
      "execution_count": null,
      "outputs": [
        {
          "output_type": "execute_result",
          "data": {
            "text/plain": [
              "<matplotlib.axes._subplots.AxesSubplot at 0x7f56105d3908>"
            ]
          },
          "metadata": {
            "tags": []
          },
          "execution_count": 17
        },
        {
          "output_type": "display_data",
          "data": {
            "image/png": "[encoded data removed]",
            "text/plain": [
              "<Figure size 432x288 with 1 Axes>"
            ]
          },
          "metadata": {
            "tags": [],
            "needs_background": "light"
          }
        }
      ]
    },
    {
      "cell_type": "code",
      "metadata": {
        "id": "HRL6H7p6FmTd",
        "colab": {
          "base_uri": "https://localhost:8080/",
          "height": 299
        },
        "outputId": "97d3c66a-4c6b-41c8-d12a-24b848e713ec"
      },
      "source": [
        "sns.countplot(x='gender', data=df, hue='Class', hue_order=['L', 'M', 'H'])"
      ],
      "execution_count": null,
      "outputs": [
        {
          "output_type": "execute_result",
          "data": {
            "text/plain": [
              "<matplotlib.axes._subplots.AxesSubplot at 0x7f56105440b8>"
            ]
          },
          "metadata": {
            "tags": []
          },
          "execution_count": 18
        },
        {
          "output_type": "display_data",
          "data": {
            "image/png": "[encoded data removed]",
            "text/plain": [
              "<Figure size 432x288 with 1 Axes>"
            ]
          },
          "metadata": {
            "tags": [],
            "needs_background": "light"
          }
        }
      ]
    },
    {
      "cell_type": "code",
      "metadata": {
        "id": "2piH8XpeFoVR",
        "colab": {
          "base_uri": "https://localhost:8080/",
          "height": 330
        },
        "outputId": "fa350892-9c3e-44a1-ff3b-a352f6526f64"
      },
      "source": [
        "sns.countplot(x='NationalITy', data=df, hue='Class', hue_order=['L', 'M', 'H'])\n",
        "plt.xticks(rotation=90)\n",
        "plt.show()"
      ],
      "execution_count": null,
      "outputs": [
        {
          "output_type": "display_data",
          "data": {
            "image/png": "[encoded data removed]",
            "text/plain": [
              "<Figure size 432x288 with 1 Axes>"
            ]
          },
          "metadata": {
            "tags": [],
            "needs_background": "light"
          }
        }
      ]
    },
    {
      "cell_type": "code",
      "metadata": {
        "id": "gBAytskcFtyU",
        "colab": {
          "base_uri": "https://localhost:8080/",
          "height": 297
        },
        "outputId": "181cefaf-78d1-4683-acf9-c2be44e177fa"
      },
      "source": [
        "sns.countplot(x='ParentAnsweringSurvey', data=df, hue='Class', hue_order=['L', 'M', 'H'])"
      ],
      "execution_count": null,
      "outputs": [
        {
          "output_type": "execute_result",
          "data": {
            "text/plain": [
              "<matplotlib.axes._subplots.AxesSubplot at 0x7f5610539240>"
            ]
          },
          "metadata": {
            "tags": []
          },
          "execution_count": 20
        },
        {
          "output_type": "display_data",
          "data": {
            "image/png": "[encoded data removed]",
            "text/plain": [
              "<Figure size 432x288 with 1 Axes>"
            ]
          },
          "metadata": {
            "tags": [],
            "needs_background": "light"
          }
        }
      ]
    },
    {
      "cell_type": "code",
      "metadata": {
        "id": "0IoXcYHDF1K0",
        "colab": {
          "base_uri": "https://localhost:8080/",
          "height": 297
        },
        "outputId": "b38efcb6-d517-4c7a-cf60-49ed6b253c2c"
      },
      "source": [
        "sns.countplot(x='ParentschoolSatisfaction', data=df, hue='Class', hue_order=['L', 'M', 'H'])"
      ],
      "execution_count": null,
      "outputs": [
        {
          "output_type": "execute_result",
          "data": {
            "text/plain": [
              "<matplotlib.axes._subplots.AxesSubplot at 0x7f5610337978>"
            ]
          },
          "metadata": {
            "tags": []
          },
          "execution_count": 21
        },
        {
          "output_type": "display_data",
          "data": {
            "image/png": "[encoded data removed]",
            "text/plain": [
              "<Figure size 432x288 with 1 Axes>"
            ]
          },
          "metadata": {
            "tags": [],
            "needs_background": "light"
          }
        }
      ]
    },
    {
      "cell_type": "code",
      "metadata": {
        "id": "EuDRbhTzF4Kr",
        "colab": {
          "base_uri": "https://localhost:8080/",
          "height": 320
        },
        "outputId": "045d637d-9519-4df8-fcf6-8fb5381b8061"
      },
      "source": [
        "sns.countplot(x='Topic', data=df, hue='Class', hue_order=['L', 'M', 'H'])\n",
        "plt.xticks(rotation=90)\n",
        "plt.show()"
      ],
      "execution_count": null,
      "outputs": [
        {
          "output_type": "display_data",
          "data": {
            "image/png": "[encoded data removed]",
            "text/plain": [
              "<Figure size 432x288 with 1 Axes>"
            ]
          },
          "metadata": {
            "tags": [],
            "needs_background": "light"
          }
        }
      ]
    },
    {
      "cell_type": "markdown",
      "metadata": {
        "id": "GU7pwJcsCfjA"
      },
      "source": [
        "#### 범주형 칼럼 수치화 분석"
      ]
    },
    {
      "cell_type": "code",
      "metadata": {
        "id": "zr7bxOVRF7JD",
        "colab": {
          "base_uri": "https://localhost:8080/",
          "height": 224
        },
        "outputId": "dedcda66-1d0e-4c6c-e139-f96329ee4031"
      },
      "source": [
        "# L, M, H를 숫자로 바꾸어 표현하기 (eg. L: -1, M: 0, H:1)\n",
        "df['Class_value'] = df['Class'].map(dict(L=-1, M=0, H=1))\n",
        "df.head()"
      ],
      "execution_count": null,
      "outputs": [
        {
          "output_type": "execute_result",
          "data": {
            "text/html": [
              "<div>\n",
              "<style scoped>\n",
              "    .dataframe tbody tr th:only-of-type {\n",
              "        vertical-align: middle;\n",
              "    }\n",
              "\n",
              "    .dataframe tbody tr th {\n",
              "        vertical-align: top;\n",
              "    }\n",
              "\n",
              "    .dataframe thead th {\n",
              "        text-align: right;\n",
              "    }\n",
              "</style>\n",
              "<table border=\"1\" class=\"dataframe\">\n",
              "  <thead>\n",
              "    <tr style=\"text-align: right;\">\n",
              "      <th></th>\n",
              "      <th>gender</th>\n",
              "      <th>NationalITy</th>\n",
              "      <th>PlaceofBirth</th>\n",
              "      <th>StageID</th>\n",
              "      <th>GradeID</th>\n",
              "      <th>SectionID</th>\n",
              "      <th>Topic</th>\n",
              "      <th>Semester</th>\n",
              "      <th>Relation</th>\n",
              "      <th>raisedhands</th>\n",
              "      <th>VisITedResources</th>\n",
              "      <th>AnnouncementsView</th>\n",
              "      <th>Discussion</th>\n",
              "      <th>ParentAnsweringSurvey</th>\n",
              "      <th>ParentschoolSatisfaction</th>\n",
              "      <th>StudentAbsenceDays</th>\n",
              "      <th>Class</th>\n",
              "      <th>Class_value</th>\n",
              "    </tr>\n",
              "  </thead>\n",
              "  <tbody>\n",
              "    <tr>\n",
              "      <th>0</th>\n",
              "      <td>M</td>\n",
              "      <td>KW</td>\n",
              "      <td>KuwaIT</td>\n",
              "      <td>lowerlevel</td>\n",
              "      <td>G-04</td>\n",
              "      <td>A</td>\n",
              "      <td>IT</td>\n",
              "      <td>F</td>\n",
              "      <td>Father</td>\n",
              "      <td>15</td>\n",
              "      <td>16</td>\n",
              "      <td>2</td>\n",
              "      <td>20</td>\n",
              "      <td>Yes</td>\n",
              "      <td>Good</td>\n",
              "      <td>Under-7</td>\n",
              "      <td>M</td>\n",
              "      <td>0</td>\n",
              "    </tr>\n",
              "    <tr>\n",
              "      <th>1</th>\n",
              "      <td>M</td>\n",
              "      <td>KW</td>\n",
              "      <td>KuwaIT</td>\n",
              "      <td>lowerlevel</td>\n",
              "      <td>G-04</td>\n",
              "      <td>A</td>\n",
              "      <td>IT</td>\n",
              "      <td>F</td>\n",
              "      <td>Father</td>\n",
              "      <td>20</td>\n",
              "      <td>20</td>\n",
              "      <td>3</td>\n",
              "      <td>25</td>\n",
              "      <td>Yes</td>\n",
              "      <td>Good</td>\n",
              "      <td>Under-7</td>\n",
              "      <td>M</td>\n",
              "      <td>0</td>\n",
              "    </tr>\n",
              "    <tr>\n",
              "      <th>2</th>\n",
              "      <td>M</td>\n",
              "      <td>KW</td>\n",
              "      <td>KuwaIT</td>\n",
              "      <td>lowerlevel</td>\n",
              "      <td>G-04</td>\n",
              "      <td>A</td>\n",
              "      <td>IT</td>\n",
              "      <td>F</td>\n",
              "      <td>Father</td>\n",
              "      <td>10</td>\n",
              "      <td>7</td>\n",
              "      <td>0</td>\n",
              "      <td>30</td>\n",
              "      <td>No</td>\n",
              "      <td>Bad</td>\n",
              "      <td>Above-7</td>\n",
              "      <td>L</td>\n",
              "      <td>-1</td>\n",
              "    </tr>\n",
              "    <tr>\n",
              "      <th>3</th>\n",
              "      <td>M</td>\n",
              "      <td>KW</td>\n",
              "      <td>KuwaIT</td>\n",
              "      <td>lowerlevel</td>\n",
              "      <td>G-04</td>\n",
              "      <td>A</td>\n",
              "      <td>IT</td>\n",
              "      <td>F</td>\n",
              "      <td>Father</td>\n",
              "      <td>30</td>\n",
              "      <td>25</td>\n",
              "      <td>5</td>\n",
              "      <td>35</td>\n",
              "      <td>No</td>\n",
              "      <td>Bad</td>\n",
              "      <td>Above-7</td>\n",
              "      <td>L</td>\n",
              "      <td>-1</td>\n",
              "    </tr>\n",
              "    <tr>\n",
              "      <th>4</th>\n",
              "      <td>M</td>\n",
              "      <td>KW</td>\n",
              "      <td>KuwaIT</td>\n",
              "      <td>lowerlevel</td>\n",
              "      <td>G-04</td>\n",
              "      <td>A</td>\n",
              "      <td>IT</td>\n",
              "      <td>F</td>\n",
              "      <td>Father</td>\n",
              "      <td>40</td>\n",
              "      <td>50</td>\n",
              "      <td>12</td>\n",
              "      <td>50</td>\n",
              "      <td>No</td>\n",
              "      <td>Bad</td>\n",
              "      <td>Above-7</td>\n",
              "      <td>M</td>\n",
              "      <td>0</td>\n",
              "    </tr>\n",
              "  </tbody>\n",
              "</table>\n",
              "</div>"
            ],
            "text/plain": [
              "  gender NationalITy PlaceofBirth  ... StudentAbsenceDays Class Class_value\n",
              "0      M          KW       KuwaIT  ...            Under-7     M           0\n",
              "1      M          KW       KuwaIT  ...            Under-7     M           0\n",
              "2      M          KW       KuwaIT  ...            Above-7     L          -1\n",
              "3      M          KW       KuwaIT  ...            Above-7     L          -1\n",
              "4      M          KW       KuwaIT  ...            Above-7     M           0\n",
              "\n",
              "[5 rows x 18 columns]"
            ]
          },
          "metadata": {
            "tags": []
          },
          "execution_count": 23
        }
      ]
    },
    {
      "cell_type": "code",
      "metadata": {
        "id": "0vnFTzr1GF2r",
        "colab": {
          "base_uri": "https://localhost:8080/",
          "height": 283
        },
        "outputId": "d9c69c21-4be7-463d-a842-3a2a039929e7"
      },
      "source": [
        "# 숫자로 바꾼 Class_value 컬럼을 이용해 다양한 시각화 수행하기\n",
        "gb = df.groupby('gender').mean()['Class_value']\n",
        "plt.bar(gb.index, gb)"
      ],
      "execution_count": null,
      "outputs": [
        {
          "output_type": "execute_result",
          "data": {
            "text/plain": [
              "<BarContainer object of 2 artists>"
            ]
          },
          "metadata": {
            "tags": []
          },
          "execution_count": 24
        },
        {
          "output_type": "display_data",
          "data": {
            "image/png": "[encoded data removed]",
            "text/plain": [
              "<Figure size 432x288 with 1 Axes>"
            ]
          },
          "metadata": {
            "tags": [],
            "needs_background": "light"
          }
        }
      ]
    },
    {
      "cell_type": "code",
      "metadata": {
        "id": "ydzBfcz8GIP8",
        "colab": {
          "base_uri": "https://localhost:8080/",
          "height": 283
        },
        "outputId": "6bb6b4f3-a22c-419f-8c95-0fedbe6296e1"
      },
      "source": [
        "gb = df.groupby('Topic').mean()['Class_value'].sort_values()\n",
        "plt.barh(gb.index, gb)"
      ],
      "execution_count": null,
      "outputs": [
        {
          "output_type": "execute_result",
          "data": {
            "text/plain": [
              "<BarContainer object of 12 artists>"
            ]
          },
          "metadata": {
            "tags": []
          },
          "execution_count": 25
        },
        {
          "output_type": "display_data",
          "data": {
            "image/png": "[encoded data removed]",
            "text/plain": [
              "<Figure size 432x288 with 1 Axes>"
            ]
          },
          "metadata": {
            "tags": [],
            "needs_background": "light"
          }
        }
      ]
    },
    {
      "cell_type": "code",
      "metadata": {
        "id": "LBqx13upGPuz",
        "colab": {
          "base_uri": "https://localhost:8080/",
          "height": 283
        },
        "outputId": "736be49d-877a-4665-d847-e8070692cd7e"
      },
      "source": [
        "gb = df.groupby('StudentAbsenceDays').mean()['Class_value'].sort_values(ascending=False)\n",
        "plt.bar(gb.index, gb)"
      ],
      "execution_count": null,
      "outputs": [
        {
          "output_type": "execute_result",
          "data": {
            "text/plain": [
              "<BarContainer object of 2 artists>"
            ]
          },
          "metadata": {
            "tags": []
          },
          "execution_count": 26
        },
        {
          "output_type": "display_data",
          "data": {
            "image/png": "[encoded data removed]",
            "text/plain": [
              "<Figure size 432x288 with 1 Axes>"
            ]
          },
          "metadata": {
            "tags": [],
            "needs_background": "light"
          }
        }
      ]
    },
    {
      "cell_type": "markdown",
      "metadata": {
        "id": "czj4bazNCtrr"
      },
      "source": [
        "### Step 2. 모델 학습을 위한 전처리"
      ]
    },
    {
      "cell_type": "markdown",
      "metadata": {
        "id": "2KW4ZYaoCw4E"
      },
      "source": [
        "#### get_dummies()를 이용하여 범주형 데이터 전처리하기"
      ]
    },
    {
      "cell_type": "code",
      "metadata": {
        "colab": {
          "base_uri": "https://localhost:8080/"
        },
        "id": "pgVKst49CxQc",
        "outputId": "e4d5e740-ba24-41c3-be13-458232979afc"
      },
      "source": [
        "df.columns"
      ],
      "execution_count": null,
      "outputs": [
        {
          "output_type": "execute_result",
          "data": {
            "text/plain": [
              "Index(['gender', 'NationalITy', 'PlaceofBirth', 'StageID', 'GradeID',\n",
              "       'SectionID', 'Topic', 'Semester', 'Relation', 'raisedhands',\n",
              "       'VisITedResources', 'AnnouncementsView', 'Discussion',\n",
              "       'ParentAnsweringSurvey', 'ParentschoolSatisfaction',\n",
              "       'StudentAbsenceDays', 'Class', 'Class_value'],\n",
              "      dtype='object')"
            ]
          },
          "metadata": {
            "tags": []
          },
          "execution_count": 27
        }
      ]
    },
    {
      "cell_type": "code",
      "metadata": {
        "id": "FaFwg8YJGShb"
      },
      "source": [
        "# pd.get_dummies()를 이용해 범주형 데이터를 one-hot 벡터로 변환하기\n",
        "\n",
        "X = pd.get_dummies(df.drop(['ParentschoolSatisfaction', 'Class', 'Class_value'], axis=1),\n",
        "                   columns=['gender', 'NationalITy', 'PlaceofBirth',\n",
        "                            'StageID', 'GradeID','SectionID', 'Topic',\n",
        "                            'Semester', 'Relation', 'ParentAnsweringSurvey',\n",
        "                            'StudentAbsenceDays'],\n",
        "                   drop_first=True)\n",
        "\n",
        "y = df['Class']\n"
      ],
      "execution_count": null,
      "outputs": []
    },
    {
      "cell_type": "code",
      "metadata": {
        "colab": {
          "base_uri": "https://localhost:8080/",
          "height": 241
        },
        "id": "TQ_Vr_3dDlgW",
        "outputId": "33231cf1-cf76-4355-97c3-d37f76fe7940"
      },
      "source": [
        "X.head()"
      ],
      "execution_count": null,
      "outputs": [
        {
          "output_type": "execute_result",
          "data": {
            "text/html": [
              "<div>\n",
              "<style scoped>\n",
              "    .dataframe tbody tr th:only-of-type {\n",
              "        vertical-align: middle;\n",
              "    }\n",
              "\n",
              "    .dataframe tbody tr th {\n",
              "        vertical-align: top;\n",
              "    }\n",
              "\n",
              "    .dataframe thead th {\n",
              "        text-align: right;\n",
              "    }\n",
              "</style>\n",
              "<table border=\"1\" class=\"dataframe\">\n",
              "  <thead>\n",
              "    <tr style=\"text-align: right;\">\n",
              "      <th></th>\n",
              "      <th>raisedhands</th>\n",
              "      <th>VisITedResources</th>\n",
              "      <th>AnnouncementsView</th>\n",
              "      <th>Discussion</th>\n",
              "      <th>gender_M</th>\n",
              "      <th>NationalITy_Iran</th>\n",
              "      <th>NationalITy_Iraq</th>\n",
              "      <th>NationalITy_Jordan</th>\n",
              "      <th>NationalITy_KW</th>\n",
              "      <th>NationalITy_Lybia</th>\n",
              "      <th>NationalITy_Morocco</th>\n",
              "      <th>NationalITy_Palestine</th>\n",
              "      <th>NationalITy_SaudiArabia</th>\n",
              "      <th>NationalITy_Syria</th>\n",
              "      <th>NationalITy_Tunis</th>\n",
              "      <th>NationalITy_USA</th>\n",
              "      <th>NationalITy_lebanon</th>\n",
              "      <th>NationalITy_venzuela</th>\n",
              "      <th>PlaceofBirth_Iran</th>\n",
              "      <th>PlaceofBirth_Iraq</th>\n",
              "      <th>PlaceofBirth_Jordan</th>\n",
              "      <th>PlaceofBirth_KuwaIT</th>\n",
              "      <th>PlaceofBirth_Lybia</th>\n",
              "      <th>PlaceofBirth_Morocco</th>\n",
              "      <th>PlaceofBirth_Palestine</th>\n",
              "      <th>PlaceofBirth_SaudiArabia</th>\n",
              "      <th>PlaceofBirth_Syria</th>\n",
              "      <th>PlaceofBirth_Tunis</th>\n",
              "      <th>PlaceofBirth_USA</th>\n",
              "      <th>PlaceofBirth_lebanon</th>\n",
              "      <th>PlaceofBirth_venzuela</th>\n",
              "      <th>StageID_MiddleSchool</th>\n",
              "      <th>StageID_lowerlevel</th>\n",
              "      <th>GradeID_G-04</th>\n",
              "      <th>GradeID_G-05</th>\n",
              "      <th>GradeID_G-06</th>\n",
              "      <th>GradeID_G-07</th>\n",
              "      <th>GradeID_G-08</th>\n",
              "      <th>GradeID_G-09</th>\n",
              "      <th>GradeID_G-10</th>\n",
              "      <th>GradeID_G-11</th>\n",
              "      <th>GradeID_G-12</th>\n",
              "      <th>SectionID_B</th>\n",
              "      <th>SectionID_C</th>\n",
              "      <th>Topic_Biology</th>\n",
              "      <th>Topic_Chemistry</th>\n",
              "      <th>Topic_English</th>\n",
              "      <th>Topic_French</th>\n",
              "      <th>Topic_Geology</th>\n",
              "      <th>Topic_History</th>\n",
              "      <th>Topic_IT</th>\n",
              "      <th>Topic_Math</th>\n",
              "      <th>Topic_Quran</th>\n",
              "      <th>Topic_Science</th>\n",
              "      <th>Topic_Spanish</th>\n",
              "      <th>Semester_S</th>\n",
              "      <th>Relation_Mum</th>\n",
              "      <th>ParentAnsweringSurvey_Yes</th>\n",
              "      <th>StudentAbsenceDays_Under-7</th>\n",
              "    </tr>\n",
              "  </thead>\n",
              "  <tbody>\n",
              "    <tr>\n",
              "      <th>0</th>\n",
              "      <td>15</td>\n",
              "      <td>16</td>\n",
              "      <td>2</td>\n",
              "      <td>20</td>\n",
              "      <td>1</td>\n",
              "      <td>0</td>\n",
              "      <td>0</td>\n",
              "      <td>0</td>\n",
              "      <td>1</td>\n",
              "      <td>0</td>\n",
              "      <td>0</td>\n",
              "      <td>0</td>\n",
              "      <td>0</td>\n",
              "      <td>0</td>\n",
              "      <td>0</td>\n",
              "      <td>0</td>\n",
              "      <td>0</td>\n",
              "      <td>0</td>\n",
              "      <td>0</td>\n",
              "      <td>0</td>\n",
              "      <td>0</td>\n",
              "      <td>1</td>\n",
              "      <td>0</td>\n",
              "      <td>0</td>\n",
              "      <td>0</td>\n",
              "      <td>0</td>\n",
              "      <td>0</td>\n",
              "      <td>0</td>\n",
              "      <td>0</td>\n",
              "      <td>0</td>\n",
              "      <td>0</td>\n",
              "      <td>0</td>\n",
              "      <td>1</td>\n",
              "      <td>1</td>\n",
              "      <td>0</td>\n",
              "      <td>0</td>\n",
              "      <td>0</td>\n",
              "      <td>0</td>\n",
              "      <td>0</td>\n",
              "      <td>0</td>\n",
              "      <td>0</td>\n",
              "      <td>0</td>\n",
              "      <td>0</td>\n",
              "      <td>0</td>\n",
              "      <td>0</td>\n",
              "      <td>0</td>\n",
              "      <td>0</td>\n",
              "      <td>0</td>\n",
              "      <td>0</td>\n",
              "      <td>0</td>\n",
              "      <td>1</td>\n",
              "      <td>0</td>\n",
              "      <td>0</td>\n",
              "      <td>0</td>\n",
              "      <td>0</td>\n",
              "      <td>0</td>\n",
              "      <td>0</td>\n",
              "      <td>1</td>\n",
              "      <td>1</td>\n",
              "    </tr>\n",
              "    <tr>\n",
              "      <th>1</th>\n",
              "      <td>20</td>\n",
              "      <td>20</td>\n",
              "      <td>3</td>\n",
              "      <td>25</td>\n",
              "      <td>1</td>\n",
              "      <td>0</td>\n",
              "      <td>0</td>\n",
              "      <td>0</td>\n",
              "      <td>1</td>\n",
              "      <td>0</td>\n",
              "      <td>0</td>\n",
              "      <td>0</td>\n",
              "      <td>0</td>\n",
              "      <td>0</td>\n",
              "      <td>0</td>\n",
              "      <td>0</td>\n",
              "      <td>0</td>\n",
              "      <td>0</td>\n",
              "      <td>0</td>\n",
              "      <td>0</td>\n",
              "      <td>0</td>\n",
              "      <td>1</td>\n",
              "      <td>0</td>\n",
              "      <td>0</td>\n",
              "      <td>0</td>\n",
              "      <td>0</td>\n",
              "      <td>0</td>\n",
              "      <td>0</td>\n",
              "      <td>0</td>\n",
              "      <td>0</td>\n",
              "      <td>0</td>\n",
              "      <td>0</td>\n",
              "      <td>1</td>\n",
              "      <td>1</td>\n",
              "      <td>0</td>\n",
              "      <td>0</td>\n",
              "      <td>0</td>\n",
              "      <td>0</td>\n",
              "      <td>0</td>\n",
              "      <td>0</td>\n",
              "      <td>0</td>\n",
              "      <td>0</td>\n",
              "      <td>0</td>\n",
              "      <td>0</td>\n",
              "      <td>0</td>\n",
              "      <td>0</td>\n",
              "      <td>0</td>\n",
              "      <td>0</td>\n",
              "      <td>0</td>\n",
              "      <td>0</td>\n",
              "      <td>1</td>\n",
              "      <td>0</td>\n",
              "      <td>0</td>\n",
              "      <td>0</td>\n",
              "      <td>0</td>\n",
              "      <td>0</td>\n",
              "      <td>0</td>\n",
              "      <td>1</td>\n",
              "      <td>1</td>\n",
              "    </tr>\n",
              "    <tr>\n",
              "      <th>2</th>\n",
              "      <td>10</td>\n",
              "      <td>7</td>\n",
              "      <td>0</td>\n",
              "      <td>30</td>\n",
              "      <td>1</td>\n",
              "      <td>0</td>\n",
              "      <td>0</td>\n",
              "      <td>0</td>\n",
              "      <td>1</td>\n",
              "      <td>0</td>\n",
              "      <td>0</td>\n",
              "      <td>0</td>\n",
              "      <td>0</td>\n",
              "      <td>0</td>\n",
              "      <td>0</td>\n",
              "      <td>0</td>\n",
              "      <td>0</td>\n",
              "      <td>0</td>\n",
              "      <td>0</td>\n",
              "      <td>0</td>\n",
              "      <td>0</td>\n",
              "      <td>1</td>\n",
              "      <td>0</td>\n",
              "      <td>0</td>\n",
              "      <td>0</td>\n",
              "      <td>0</td>\n",
              "      <td>0</td>\n",
              "      <td>0</td>\n",
              "      <td>0</td>\n",
              "      <td>0</td>\n",
              "      <td>0</td>\n",
              "      <td>0</td>\n",
              "      <td>1</td>\n",
              "      <td>1</td>\n",
              "      <td>0</td>\n",
              "      <td>0</td>\n",
              "      <td>0</td>\n",
              "      <td>0</td>\n",
              "      <td>0</td>\n",
              "      <td>0</td>\n",
              "      <td>0</td>\n",
              "      <td>0</td>\n",
              "      <td>0</td>\n",
              "      <td>0</td>\n",
              "      <td>0</td>\n",
              "      <td>0</td>\n",
              "      <td>0</td>\n",
              "      <td>0</td>\n",
              "      <td>0</td>\n",
              "      <td>0</td>\n",
              "      <td>1</td>\n",
              "      <td>0</td>\n",
              "      <td>0</td>\n",
              "      <td>0</td>\n",
              "      <td>0</td>\n",
              "      <td>0</td>\n",
              "      <td>0</td>\n",
              "      <td>0</td>\n",
              "      <td>0</td>\n",
              "    </tr>\n",
              "    <tr>\n",
              "      <th>3</th>\n",
              "      <td>30</td>\n",
              "      <td>25</td>\n",
              "      <td>5</td>\n",
              "      <td>35</td>\n",
              "      <td>1</td>\n",
              "      <td>0</td>\n",
              "      <td>0</td>\n",
              "      <td>0</td>\n",
              "      <td>1</td>\n",
              "      <td>0</td>\n",
              "      <td>0</td>\n",
              "      <td>0</td>\n",
              "      <td>0</td>\n",
              "      <td>0</td>\n",
              "      <td>0</td>\n",
              "      <td>0</td>\n",
              "      <td>0</td>\n",
              "      <td>0</td>\n",
              "      <td>0</td>\n",
              "      <td>0</td>\n",
              "      <td>0</td>\n",
              "      <td>1</td>\n",
              "      <td>0</td>\n",
              "      <td>0</td>\n",
              "      <td>0</td>\n",
              "      <td>0</td>\n",
              "      <td>0</td>\n",
              "      <td>0</td>\n",
              "      <td>0</td>\n",
              "      <td>0</td>\n",
              "      <td>0</td>\n",
              "      <td>0</td>\n",
              "      <td>1</td>\n",
              "      <td>1</td>\n",
              "      <td>0</td>\n",
              "      <td>0</td>\n",
              "      <td>0</td>\n",
              "      <td>0</td>\n",
              "      <td>0</td>\n",
              "      <td>0</td>\n",
              "      <td>0</td>\n",
              "      <td>0</td>\n",
              "      <td>0</td>\n",
              "      <td>0</td>\n",
              "      <td>0</td>\n",
              "      <td>0</td>\n",
              "      <td>0</td>\n",
              "      <td>0</td>\n",
              "      <td>0</td>\n",
              "      <td>0</td>\n",
              "      <td>1</td>\n",
              "      <td>0</td>\n",
              "      <td>0</td>\n",
              "      <td>0</td>\n",
              "      <td>0</td>\n",
              "      <td>0</td>\n",
              "      <td>0</td>\n",
              "      <td>0</td>\n",
              "      <td>0</td>\n",
              "    </tr>\n",
              "    <tr>\n",
              "      <th>4</th>\n",
              "      <td>40</td>\n",
              "      <td>50</td>\n",
              "      <td>12</td>\n",
              "      <td>50</td>\n",
              "      <td>1</td>\n",
              "      <td>0</td>\n",
              "      <td>0</td>\n",
              "      <td>0</td>\n",
              "      <td>1</td>\n",
              "      <td>0</td>\n",
              "      <td>0</td>\n",
              "      <td>0</td>\n",
              "      <td>0</td>\n",
              "      <td>0</td>\n",
              "      <td>0</td>\n",
              "      <td>0</td>\n",
              "      <td>0</td>\n",
              "      <td>0</td>\n",
              "      <td>0</td>\n",
              "      <td>0</td>\n",
              "      <td>0</td>\n",
              "      <td>1</td>\n",
              "      <td>0</td>\n",
              "      <td>0</td>\n",
              "      <td>0</td>\n",
              "      <td>0</td>\n",
              "      <td>0</td>\n",
              "      <td>0</td>\n",
              "      <td>0</td>\n",
              "      <td>0</td>\n",
              "      <td>0</td>\n",
              "      <td>0</td>\n",
              "      <td>1</td>\n",
              "      <td>1</td>\n",
              "      <td>0</td>\n",
              "      <td>0</td>\n",
              "      <td>0</td>\n",
              "      <td>0</td>\n",
              "      <td>0</td>\n",
              "      <td>0</td>\n",
              "      <td>0</td>\n",
              "      <td>0</td>\n",
              "      <td>0</td>\n",
              "      <td>0</td>\n",
              "      <td>0</td>\n",
              "      <td>0</td>\n",
              "      <td>0</td>\n",
              "      <td>0</td>\n",
              "      <td>0</td>\n",
              "      <td>0</td>\n",
              "      <td>1</td>\n",
              "      <td>0</td>\n",
              "      <td>0</td>\n",
              "      <td>0</td>\n",
              "      <td>0</td>\n",
              "      <td>0</td>\n",
              "      <td>0</td>\n",
              "      <td>0</td>\n",
              "      <td>0</td>\n",
              "    </tr>\n",
              "  </tbody>\n",
              "</table>\n",
              "</div>"
            ],
            "text/plain": [
              "   raisedhands  ...  StudentAbsenceDays_Under-7\n",
              "0           15  ...                           1\n",
              "1           20  ...                           1\n",
              "2           10  ...                           0\n",
              "3           30  ...                           0\n",
              "4           40  ...                           0\n",
              "\n",
              "[5 rows x 59 columns]"
            ]
          },
          "metadata": {
            "tags": []
          },
          "execution_count": 118
        }
      ]
    },
    {
      "cell_type": "code",
      "metadata": {
        "colab": {
          "base_uri": "https://localhost:8080/"
        },
        "id": "-V6F-EIUZvuz",
        "outputId": "cb251dca-f312-4705-a9c7-975995f780b4"
      },
      "source": [
        "y"
      ],
      "execution_count": null,
      "outputs": [
        {
          "output_type": "execute_result",
          "data": {
            "text/plain": [
              "0      M\n",
              "1      M\n",
              "2      L\n",
              "3      L\n",
              "4      M\n",
              "      ..\n",
              "475    L\n",
              "476    M\n",
              "477    M\n",
              "478    L\n",
              "479    L\n",
              "Name: Class, Length: 480, dtype: object"
            ]
          },
          "metadata": {
            "tags": []
          },
          "execution_count": 120
        }
      ]
    },
    {
      "cell_type": "markdown",
      "metadata": {
        "id": "TSZgbWfgDxVD"
      },
      "source": [
        "#### 학습데이터와 테스트데이터 분리"
      ]
    },
    {
      "cell_type": "code",
      "metadata": {
        "id": "JrHDJylyGhCk"
      },
      "source": [
        "# train_test_split() 함수로 학습 데이터와 테스트 데이터 분리하기\n",
        "X_train, X_test, y_train, y_test = train_test_split(X, y, test_size=0.3, random_state=1)"
      ],
      "execution_count": null,
      "outputs": []
    },
    {
      "cell_type": "markdown",
      "metadata": {
        "id": "sL1RdzsSEQwV"
      },
      "source": [
        "### Step 3. Classification 모델 학습하기(y : 다중분류문제유형)\n",
        "\n",
        "-  기본 모델은 로지스틱 모델로 설정.\n",
        "-  데이터가 적기 때문에 KNN, SVM, XGB, LGBM을 모두 하이퍼파라미터 조절을 통해 분석해본다.\n"
      ]
    },
    {
      "cell_type": "markdown",
      "metadata": {
        "id": "nrBzI7H7EQ-m"
      },
      "source": [
        "#### 기본 모델 분석"
      ]
    },
    {
      "cell_type": "code",
      "metadata": {
        "id": "pHQ0pmmeGihE",
        "colab": {
          "base_uri": "https://localhost:8080/"
        },
        "outputId": "f0043de0-2085-48d7-a75d-f601650cbb2c"
      },
      "source": [
        "# 결정계수를 설정해서 가장 적합한 로지스틱분석의 결정계수를 정한다.\n",
        "def LR_model_test(C):\n",
        "    model = LR(C = C, max_iter = 100000, random_state = 10).fit(X_train, y_train) # 가벼운 모델이므로 max_iter를 크게 잡음\n",
        "    y_pred = model.predict(X_test)\n",
        "    return f1_score(y_test, y_pred, average='micro')\n",
        "print(\"C = 0.1:\\t{}\".format(LR_model_test(C = 0.1)))\n",
        "print(\"C = 0.2:\\t{}\".format(LR_model_test(C = 0.3)))\n",
        "print(\"C = 0.3:\\t{}\".format(LR_model_test(C = 0.4)))\n",
        "print(\"C = 0.5:\\t{}\".format(LR_model_test(C = 0.5)))\n",
        "print(\"C = 1:\\t{}\".format(LR_model_test(C = 1)))\n",
        "print(\"C = 3:\\t{}\".format(LR_model_test(C = 3)))\n",
        "# cut-off 범위를 0.1로 했을떄, 가장 좋은 로지스틱 모델이 나온다."
      ],
      "execution_count": null,
      "outputs": [
        {
          "output_type": "stream",
          "text": [
            "C = 0.1:\t0.7361111111111113\n",
            "C = 0.2:\t0.7013888888888888\n",
            "C = 0.3:\t0.7013888888888888\n",
            "C = 0.5:\t0.6944444444444444\n",
            "C = 1:\t0.6944444444444444\n",
            "C = 3:\t0.7013888888888888\n"
          ],
          "name": "stdout"
        }
      ]
    },
    {
      "cell_type": "code",
      "metadata": {
        "colab": {
          "base_uri": "https://localhost:8080/"
        },
        "id": "a9XM2535FRuS",
        "outputId": "6a51e30c-4b4e-44ff-e130-f21c4275d248"
      },
      "source": [
        "model_lr = LR(C = 0.1, max_iter = 100000, random_state = 10)\n",
        "model_lr.fit(X_train, y_train)"
      ],
      "execution_count": null,
      "outputs": [
        {
          "output_type": "execute_result",
          "data": {
            "text/plain": [
              "LogisticRegression(C=0.1, class_weight=None, dual=False, fit_intercept=True,\n",
              "                   intercept_scaling=1, l1_ratio=None, max_iter=100000,\n",
              "                   multi_class='auto', n_jobs=None, penalty='l2',\n",
              "                   random_state=10, solver='lbfgs', tol=0.0001, verbose=0,\n",
              "                   warm_start=False)"
            ]
          },
          "metadata": {
            "tags": []
          },
          "execution_count": 123
        }
      ]
    },
    {
      "cell_type": "code",
      "metadata": {
        "colab": {
          "base_uri": "https://localhost:8080/"
        },
        "id": "AzeYvMFVFR2-",
        "outputId": "89da6e9e-5711-4a21-fddb-106744274f48"
      },
      "source": [
        "# Predict를 수행하고 classification_report() 결과 출력하기\n",
        "pred_lr = model_lr.predict(X_test)\n",
        "print(classification_report(y_test, pred_lr))"
      ],
      "execution_count": null,
      "outputs": [
        {
          "output_type": "stream",
          "text": [
            "              precision    recall  f1-score   support\n",
            "\n",
            "           H       0.77      0.60      0.67        55\n",
            "           L       0.88      0.91      0.90        33\n",
            "           M       0.64      0.77      0.70        56\n",
            "\n",
            "    accuracy                           0.74       144\n",
            "   macro avg       0.76      0.76      0.76       144\n",
            "weighted avg       0.74      0.74      0.73       144\n",
            "\n"
          ],
          "name": "stdout"
        }
      ]
    },
    {
      "cell_type": "markdown",
      "metadata": {
        "id": "23nXDs5rFd2K"
      },
      "source": [
        "#### 파라미터 그리드 설계"
      ]
    },
    {
      "cell_type": "code",
      "metadata": {
        "id": "TWto-INMG0Hb",
        "colab": {
          "base_uri": "https://localhost:8080/"
        },
        "outputId": "5e35b3a2-8650-4d86-d816-41d0c0cd0d46"
      },
      "source": [
        "# 모델 파라미터 그리드 설계\n",
        "# 키가 모델의 함수, 값이 파라미터 그리드의 값\n",
        "param_grid = dict() \n",
        "\n",
        "\n",
        "param_grid_for_KNN = ParameterGrid({\"n_neighbors\": [3, 5, 7],\n",
        "                                    \"metric\":['euclidean', 'manhattan']})\n",
        "\n",
        "param_grid_for_SVM = ParameterGrid({\"C\": [0.1, 1, 10],\n",
        "                                    \"kernel\":['rbf', 'linear']})\n",
        "\n",
        "param_grid_for_XGB = ParameterGrid({\"max_depth\": [2, 3, 4],\n",
        "                                    \"n_estimators\": [50, 100],\n",
        "                                    \"learning_rate\": [0.05, 0.1, 0.15, 0.2]})\n",
        "\n",
        "param_grid_for_LGBM = ParameterGrid({\"max_depth\": [2, 3, 4],\n",
        "                                     \"n_estimators\": [50, 100],\n",
        "                                     \"learning_rate\": [0.05, 0.1, 0.15, 0.2]})\n",
        "\n",
        "param_grid[KNN] = param_grid_for_KNN\n",
        "param_grid[SVC] = param_grid_for_SVM\n",
        "param_grid[XGB] = param_grid_for_XGB\n",
        "param_grid[LGBM] = param_grid_for_LGBM\n",
        "\n",
        "# 출력을 위한 max_iter_num 계산 \n",
        "                           \n",
        "# 튜닝 시작\n",
        "best_score = 0\n",
        "iteration_num = 0    \n",
        "for k in range(30, 5, -1): \n",
        "    print(k)\n",
        "  \n",
        "    for model_func in [KNN, SVC, XGB,LGBM]:\n",
        "        for param in param_grid[model_func]:\n",
        "            model = model_func(**param).fit(X_train.values, y_train.values)\n",
        "            y_pred = model.predict(X_test.values)\n",
        "            score = f1_score(y_test, y_pred, average = 'micro')\n",
        "            if score > best_score:\n",
        "                best_model_func = model_func\n",
        "                best_score = score\n",
        "                best_parameter = param\n",
        "            iteration_num += 1      \n",
        "\n",
        "\n",
        "print(\"모델:\", best_model_func)\n",
        "print(\"점수:\", best_score)\n",
        "print(\"파라미터:\", best_parameter)      \n",
        "\n",
        "\n"
      ],
      "execution_count": null,
      "outputs": [
        {
          "output_type": "stream",
          "text": [
            "30\n",
            "29\n",
            "28\n",
            "27\n",
            "26\n",
            "25\n",
            "24\n",
            "23\n",
            "22\n",
            "21\n",
            "20\n",
            "19\n",
            "18\n",
            "17\n",
            "16\n",
            "15\n",
            "14\n",
            "13\n",
            "12\n",
            "11\n",
            "10\n",
            "9\n",
            "8\n",
            "7\n",
            "6\n",
            "모델: <class 'xgboost.sklearn.XGBClassifier'>\n",
            "점수: 0.7569444444444444\n",
            "파라미터: {'learning_rate': 0.2, 'max_depth': 4, 'n_estimators': 50}\n"
          ],
          "name": "stdout"
        }
      ]
    },
    {
      "cell_type": "code",
      "metadata": {
        "id": "NT7eSn0lILUK",
        "colab": {
          "base_uri": "https://localhost:8080/"
        },
        "outputId": "effb204f-cb16-4b82-864b-b712e7eb8df3"
      },
      "source": [
        "final_model_xgb=XGB(max_depth=4, n_estimators=50,learning_rate=0.2)\n",
        "final_model_xgb.fit(X_train, y_train)\n",
        "pred_xgb = final_model_xgb.predict(X_test)\n",
        "print(classification_report(y_test, pred_xgb))\n",
        "\n",
        "# 기본 모델인 로지스틱 모델에 비해서 f1-score가 0.02 상승했다."
      ],
      "execution_count": null,
      "outputs": [
        {
          "output_type": "stream",
          "text": [
            "              precision    recall  f1-score   support\n",
            "\n",
            "           H       0.83      0.73      0.78        55\n",
            "           L       0.82      0.82      0.82        33\n",
            "           M       0.67      0.75      0.71        56\n",
            "\n",
            "    accuracy                           0.76       144\n",
            "   macro avg       0.77      0.77      0.77       144\n",
            "weighted avg       0.77      0.76      0.76       144\n",
            "\n"
          ],
          "name": "stdout"
        }
      ]
    },
    {
      "cell_type": "markdown",
      "metadata": {
        "id": "8IwoXU9UI-zT"
      },
      "source": [
        "#### 특징중요도 파악"
      ]
    },
    {
      "cell_type": "code",
      "metadata": {
        "id": "wpEz2FnHJRtD",
        "colab": {
          "base_uri": "https://localhost:8080/",
          "height": 624
        },
        "outputId": "e8cd48c2-7ed6-438f-f90e-84c263445a3d"
      },
      "source": [
        "fig = plt.figure(figsize=(15, 8))\n",
        "plt.bar(X.columns, final_model_xgb.feature_importances_)\n",
        "plt.xticks(rotation=90)\n",
        "plt.show()\n",
        "\n",
        "# 아이들 학습 능력에 가장 영향을 주는 변수는 StudentAbscenceDays: 학생의 결석 횟수 (7회 이상/미만)이다."
      ],
      "execution_count": null,
      "outputs": [
        {
          "output_type": "display_data",
          "data": {
            "image/png": "[encoded data removed]",
            "text/plain": [
              "<Figure size 1080x576 with 1 Axes>"
            ]
          },
          "metadata": {
            "tags": [],
            "needs_background": "light"
          }
        }
      ]
    },
    {
      "cell_type": "markdown",
      "metadata": {
        "id": "rEDm14dRKYMs"
      },
      "source": [
        "### Step 4. 딥러닝.신경망 모델로 분석"
      ]
    },
    {
      "cell_type": "code",
      "metadata": {
        "id": "65tAtfPJJner"
      },
      "source": [
        "from keras.optimizers import Adam"
      ],
      "execution_count": null,
      "outputs": []
    },
    {
      "cell_type": "code",
      "metadata": {
        "id": "L1Nf-zVBeR2e"
      },
      "source": [
        "y = pd.get_dummies(df['Class'])"
      ],
      "execution_count": null,
      "outputs": []
    },
    {
      "cell_type": "code",
      "metadata": {
        "colab": {
          "base_uri": "https://localhost:8080/"
        },
        "id": "xsbzdTAdem-m",
        "outputId": "c9654c8b-7ec2-4de5-e29d-0766be8f9340"
      },
      "source": [
        "y.value_counts()"
      ],
      "execution_count": null,
      "outputs": [
        {
          "output_type": "execute_result",
          "data": {
            "text/plain": [
              "H  L  M\n",
              "0  0  1    211\n",
              "1  0  0    142\n",
              "0  1  0    127\n",
              "dtype: int64"
            ]
          },
          "metadata": {
            "tags": []
          },
          "execution_count": 135
        }
      ]
    },
    {
      "cell_type": "code",
      "metadata": {
        "id": "ud5vDHZ6fM11"
      },
      "source": [
        "X_train, X_test, y_train, y_test = train_test_split(X, y, test_size=0.3, random_state=1)"
      ],
      "execution_count": null,
      "outputs": []
    },
    {
      "cell_type": "code",
      "metadata": {
        "colab": {
          "base_uri": "https://localhost:8080/"
        },
        "id": "u4hQhYHiJnnr",
        "outputId": "4491538b-6910-44b6-a895-0f673ca4d844"
      },
      "source": [
        "print(X_train.shape, y_train.shape)"
      ],
      "execution_count": null,
      "outputs": [
        {
          "output_type": "stream",
          "text": [
            "(336, 59) (336, 3)\n"
          ],
          "name": "stdout"
        }
      ]
    },
    {
      "cell_type": "markdown",
      "metadata": {
        "id": "SOJ_1TyiRF3H"
      },
      "source": [
        "#### 비교적 단순 모델"
      ]
    },
    {
      "cell_type": "code",
      "metadata": {
        "colab": {
          "base_uri": "https://localhost:8080/"
        },
        "id": "DuciE5rcJntS",
        "outputId": "136ca237-388d-4b33-c9c3-ad3c08b028c9"
      },
      "source": [
        "    model = models.Sequential()\n",
        "    model.add(layers.Dense(64, activation='relu',input_shape=(59,)))\n",
        "    model.add(layers.BatchNormalization())\n",
        "\n",
        "    model.add(layers.Dense(32, activation='relu'))\n",
        "    model.add(layers.BatchNormalization())\n",
        "\n",
        "    model.add(layers.Dense(16, activation='relu'))\n",
        "    model.add(layers.BatchNormalization())\n",
        "  \n",
        "    model.add(layers.Dense(3, activation='softmax'))\n",
        "    model.compile(optimizer='Adam', loss='categorical_crossentropy', metrics=['acc'])\n",
        "\n",
        "model.summary()"
      ],
      "execution_count": null,
      "outputs": [
        {
          "output_type": "stream",
          "text": [
            "Model: \"sequential_3\"\n",
            "_________________________________________________________________\n",
            "Layer (type)                 Output Shape              Param #   \n",
            "=================================================================\n",
            "dense_12 (Dense)             (None, 64)                3840      \n",
            "_________________________________________________________________\n",
            "batch_normalization_9 (Batch (None, 64)                256       \n",
            "_________________________________________________________________\n",
            "dense_13 (Dense)             (None, 32)                2080      \n",
            "_________________________________________________________________\n",
            "batch_normalization_10 (Batc (None, 32)                128       \n",
            "_________________________________________________________________\n",
            "dense_14 (Dense)             (None, 16)                528       \n",
            "_________________________________________________________________\n",
            "batch_normalization_11 (Batc (None, 16)                64        \n",
            "_________________________________________________________________\n",
            "dense_15 (Dense)             (None, 3)                 51        \n",
            "=================================================================\n",
            "Total params: 6,947\n",
            "Trainable params: 6,723\n",
            "Non-trainable params: 224\n",
            "_________________________________________________________________\n"
          ],
          "name": "stdout"
        }
      ]
    },
    {
      "cell_type": "code",
      "metadata": {
        "colab": {
          "base_uri": "https://localhost:8080/"
        },
        "id": "I-P_fClbJnw7",
        "outputId": "1babe7e1-6589-484c-9307-30443ed27805"
      },
      "source": [
        "# 콜백 함수 적용 부분(분류모델은 val_loss로)\n",
        "early_stopping_callback = EarlyStopping(monitor='val_loss', mode='min', patience=10)\n",
        "# 분류모델이면 model_checkpoint = ModelCheckpoint(filepath='./{epoch}-{val_loss:.2f}-{val_accuracy:.2f}.h5', monitor='val_loss', save_best_only=True, verbose=1)\n",
        "model_checkpoint = ModelCheckpoint(filepath='/content/drive/MyDrive/Colab Notebooks/practice/문제2_딥러닝파라미터/{epoch}-{loss:.2f}.h5', \n",
        "                                   monitor='val_loss', save_best_only=True, verbose=1)\n",
        "\n",
        "\n",
        "history = model.fit(X_train, y_train, batch_size=32,  epochs=1000,\n",
        "            callbacks=[early_stopping_callback, model_checkpoint],\n",
        "            validation_data=(X_test, y_test))"
      ],
      "execution_count": null,
      "outputs": [
        {
          "output_type": "stream",
          "text": [
            "Epoch 1/1000\n",
            "11/11 [==============================] - 3s 30ms/step - loss: 1.2548 - acc: 0.4706 - val_loss: 3.6400 - val_acc: 0.4375\n",
            "\n",
            "Epoch 00001: val_loss improved from inf to 3.63997, saving model to /content/drive/MyDrive/Colab Notebooks/practice/문제2_딥러닝파라미터/1-1.29.h5\n",
            "Epoch 2/1000\n",
            "11/11 [==============================] - 0s 7ms/step - loss: 0.9935 - acc: 0.5688 - val_loss: 1.9606 - val_acc: 0.4583\n",
            "\n",
            "Epoch 00002: val_loss improved from 3.63997 to 1.96056, saving model to /content/drive/MyDrive/Colab Notebooks/practice/문제2_딥러닝파라미터/2-1.04.h5\n",
            "Epoch 3/1000\n",
            "11/11 [==============================] - 0s 7ms/step - loss: 0.9648 - acc: 0.5236 - val_loss: 1.3450 - val_acc: 0.4792\n",
            "\n",
            "Epoch 00003: val_loss improved from 1.96056 to 1.34497, saving model to /content/drive/MyDrive/Colab Notebooks/practice/문제2_딥러닝파라미터/3-0.92.h5\n",
            "Epoch 4/1000\n",
            "11/11 [==============================] - 0s 7ms/step - loss: 0.8177 - acc: 0.6201 - val_loss: 1.1549 - val_acc: 0.4931\n",
            "\n",
            "Epoch 00004: val_loss improved from 1.34497 to 1.15487, saving model to /content/drive/MyDrive/Colab Notebooks/practice/문제2_딥러닝파라미터/4-0.80.h5\n",
            "Epoch 5/1000\n",
            "11/11 [==============================] - 0s 7ms/step - loss: 0.7558 - acc: 0.6696 - val_loss: 1.0526 - val_acc: 0.5000\n",
            "\n",
            "Epoch 00005: val_loss improved from 1.15487 to 1.05259, saving model to /content/drive/MyDrive/Colab Notebooks/practice/문제2_딥러닝파라미터/5-0.76.h5\n",
            "Epoch 6/1000\n",
            "11/11 [==============================] - 0s 7ms/step - loss: 0.6920 - acc: 0.6917 - val_loss: 0.9973 - val_acc: 0.4792\n",
            "\n",
            "Epoch 00006: val_loss improved from 1.05259 to 0.99726, saving model to /content/drive/MyDrive/Colab Notebooks/practice/문제2_딥러닝파라미터/6-0.73.h5\n",
            "Epoch 7/1000\n",
            "11/11 [==============================] - 0s 7ms/step - loss: 0.7026 - acc: 0.6645 - val_loss: 0.9425 - val_acc: 0.5556\n",
            "\n",
            "Epoch 00007: val_loss improved from 0.99726 to 0.94249, saving model to /content/drive/MyDrive/Colab Notebooks/practice/문제2_딥러닝파라미터/7-0.70.h5\n",
            "Epoch 8/1000\n",
            "11/11 [==============================] - 0s 7ms/step - loss: 0.6187 - acc: 0.7369 - val_loss: 0.9113 - val_acc: 0.5972\n",
            "\n",
            "Epoch 00008: val_loss improved from 0.94249 to 0.91129, saving model to /content/drive/MyDrive/Colab Notebooks/practice/문제2_딥러닝파라미터/8-0.65.h5\n",
            "Epoch 9/1000\n",
            "11/11 [==============================] - 0s 7ms/step - loss: 0.6702 - acc: 0.6887 - val_loss: 0.8971 - val_acc: 0.6250\n",
            "\n",
            "Epoch 00009: val_loss improved from 0.91129 to 0.89710, saving model to /content/drive/MyDrive/Colab Notebooks/practice/문제2_딥러닝파라미터/9-0.67.h5\n",
            "Epoch 10/1000\n",
            "11/11 [==============================] - 0s 6ms/step - loss: 0.6429 - acc: 0.7215 - val_loss: 0.8892 - val_acc: 0.6319\n",
            "\n",
            "Epoch 00010: val_loss improved from 0.89710 to 0.88919, saving model to /content/drive/MyDrive/Colab Notebooks/practice/문제2_딥러닝파라미터/10-0.68.h5\n",
            "Epoch 11/1000\n",
            "11/11 [==============================] - 0s 7ms/step - loss: 0.6024 - acc: 0.7215 - val_loss: 0.8395 - val_acc: 0.6597\n",
            "\n",
            "Epoch 00011: val_loss improved from 0.88919 to 0.83951, saving model to /content/drive/MyDrive/Colab Notebooks/practice/문제2_딥러닝파라미터/11-0.62.h5\n",
            "Epoch 12/1000\n",
            "11/11 [==============================] - 0s 7ms/step - loss: 0.5861 - acc: 0.7726 - val_loss: 0.8242 - val_acc: 0.6736\n",
            "\n",
            "Epoch 00012: val_loss improved from 0.83951 to 0.82421, saving model to /content/drive/MyDrive/Colab Notebooks/practice/문제2_딥러닝파라미터/12-0.59.h5\n",
            "Epoch 13/1000\n",
            "11/11 [==============================] - 0s 7ms/step - loss: 0.6060 - acc: 0.7616 - val_loss: 0.8035 - val_acc: 0.6944\n",
            "\n",
            "Epoch 00013: val_loss improved from 0.82421 to 0.80349, saving model to /content/drive/MyDrive/Colab Notebooks/practice/문제2_딥러닝파라미터/13-0.61.h5\n",
            "Epoch 14/1000\n",
            "11/11 [==============================] - 0s 7ms/step - loss: 0.5572 - acc: 0.7965 - val_loss: 0.8084 - val_acc: 0.6944\n",
            "\n",
            "Epoch 00014: val_loss did not improve from 0.80349\n",
            "Epoch 15/1000\n",
            "11/11 [==============================] - 0s 8ms/step - loss: 0.5883 - acc: 0.7490 - val_loss: 0.7755 - val_acc: 0.7153\n",
            "\n",
            "Epoch 00015: val_loss improved from 0.80349 to 0.77547, saving model to /content/drive/MyDrive/Colab Notebooks/practice/문제2_딥러닝파라미터/15-0.56.h5\n",
            "Epoch 16/1000\n",
            "11/11 [==============================] - 0s 7ms/step - loss: 0.5696 - acc: 0.7608 - val_loss: 0.7519 - val_acc: 0.7222\n",
            "\n",
            "Epoch 00016: val_loss improved from 0.77547 to 0.75188, saving model to /content/drive/MyDrive/Colab Notebooks/practice/문제2_딥러닝파라미터/16-0.57.h5\n",
            "Epoch 17/1000\n",
            "11/11 [==============================] - 0s 7ms/step - loss: 0.5791 - acc: 0.7271 - val_loss: 0.7446 - val_acc: 0.7014\n",
            "\n",
            "Epoch 00017: val_loss improved from 0.75188 to 0.74459, saving model to /content/drive/MyDrive/Colab Notebooks/practice/문제2_딥러닝파라미터/17-0.58.h5\n",
            "Epoch 18/1000\n",
            "11/11 [==============================] - 0s 7ms/step - loss: 0.5435 - acc: 0.7784 - val_loss: 0.7306 - val_acc: 0.6875\n",
            "\n",
            "Epoch 00018: val_loss improved from 0.74459 to 0.73061, saving model to /content/drive/MyDrive/Colab Notebooks/practice/문제2_딥러닝파라미터/18-0.53.h5\n",
            "Epoch 19/1000\n",
            "11/11 [==============================] - 0s 8ms/step - loss: 0.5363 - acc: 0.7636 - val_loss: 0.7270 - val_acc: 0.7083\n",
            "\n",
            "Epoch 00019: val_loss improved from 0.73061 to 0.72701, saving model to /content/drive/MyDrive/Colab Notebooks/practice/문제2_딥러닝파라미터/19-0.54.h5\n",
            "Epoch 20/1000\n",
            "11/11 [==============================] - 0s 7ms/step - loss: 0.5057 - acc: 0.7985 - val_loss: 0.7324 - val_acc: 0.7083\n",
            "\n",
            "Epoch 00020: val_loss did not improve from 0.72701\n",
            "Epoch 21/1000\n",
            "11/11 [==============================] - 0s 22ms/step - loss: 0.5240 - acc: 0.7819 - val_loss: 0.7416 - val_acc: 0.7014\n",
            "\n",
            "Epoch 00021: val_loss did not improve from 0.72701\n",
            "Epoch 22/1000\n",
            "11/11 [==============================] - 0s 8ms/step - loss: 0.4830 - acc: 0.8031 - val_loss: 0.7481 - val_acc: 0.6667\n",
            "\n",
            "Epoch 00022: val_loss did not improve from 0.72701\n",
            "Epoch 23/1000\n",
            "11/11 [==============================] - 0s 7ms/step - loss: 0.4857 - acc: 0.7956 - val_loss: 0.7326 - val_acc: 0.6806\n",
            "\n",
            "Epoch 00023: val_loss did not improve from 0.72701\n",
            "Epoch 24/1000\n",
            "11/11 [==============================] - 0s 7ms/step - loss: 0.4668 - acc: 0.8254 - val_loss: 0.7628 - val_acc: 0.6806\n",
            "\n",
            "Epoch 00024: val_loss did not improve from 0.72701\n",
            "Epoch 25/1000\n",
            "11/11 [==============================] - 0s 7ms/step - loss: 0.4832 - acc: 0.8107 - val_loss: 0.8136 - val_acc: 0.6528\n",
            "\n",
            "Epoch 00025: val_loss did not improve from 0.72701\n",
            "Epoch 26/1000\n",
            "11/11 [==============================] - 0s 6ms/step - loss: 0.5086 - acc: 0.7836 - val_loss: 0.8043 - val_acc: 0.6736\n",
            "\n",
            "Epoch 00026: val_loss did not improve from 0.72701\n",
            "Epoch 27/1000\n",
            "11/11 [==============================] - 0s 7ms/step - loss: 0.4855 - acc: 0.8078 - val_loss: 0.8021 - val_acc: 0.6736\n",
            "\n",
            "Epoch 00027: val_loss did not improve from 0.72701\n",
            "Epoch 28/1000\n",
            "11/11 [==============================] - 0s 7ms/step - loss: 0.4742 - acc: 0.8049 - val_loss: 0.7684 - val_acc: 0.7014\n",
            "\n",
            "Epoch 00028: val_loss did not improve from 0.72701\n",
            "Epoch 29/1000\n",
            "11/11 [==============================] - 0s 7ms/step - loss: 0.4059 - acc: 0.8605 - val_loss: 0.7600 - val_acc: 0.6944\n",
            "\n",
            "Epoch 00029: val_loss did not improve from 0.72701\n"
          ],
          "name": "stdout"
        }
      ]
    },
    {
      "cell_type": "markdown",
      "metadata": {
        "id": "_QSSkemPRgmU"
      },
      "source": [
        "#### 단순딥러닝 모델평가"
      ]
    },
    {
      "cell_type": "code",
      "metadata": {
        "colab": {
          "base_uri": "https://localhost:8080/"
        },
        "id": "8KW-dW7WfzUt",
        "outputId": "f1c6ac38-22da-41fc-939f-05e47de2c163"
      },
      "source": [
        "model.evaluate(X_test, y_test)"
      ],
      "execution_count": null,
      "outputs": [
        {
          "output_type": "stream",
          "text": [
            "5/5 [==============================] - 0s 3ms/step - loss: 0.7600 - acc: 0.6944\n"
          ],
          "name": "stdout"
        },
        {
          "output_type": "execute_result",
          "data": {
            "text/plain": [
              "[0.7600347995758057, 0.6944444179534912]"
            ]
          },
          "metadata": {
            "tags": []
          },
          "execution_count": 142
        }
      ]
    },
    {
      "cell_type": "code",
      "metadata": {
        "colab": {
          "base_uri": "https://localhost:8080/"
        },
        "id": "dLctcCvPfzad",
        "outputId": "1ee536c3-9e09-4865-963e-8c962a252bb3"
      },
      "source": [
        "history_dict = history.history\n",
        "history_dict.keys()"
      ],
      "execution_count": null,
      "outputs": [
        {
          "output_type": "execute_result",
          "data": {
            "text/plain": [
              "dict_keys(['loss', 'acc', 'val_loss', 'val_acc'])"
            ]
          },
          "metadata": {
            "tags": []
          },
          "execution_count": 143
        }
      ]
    },
    {
      "cell_type": "code",
      "metadata": {
        "colab": {
          "base_uri": "https://localhost:8080/",
          "height": 295
        },
        "id": "-H-Ffj3efzeD",
        "outputId": "ab9e25a3-5596-496e-8577-95e41f681325"
      },
      "source": [
        "acc = history.history['acc'] \n",
        "val_acc = history.history['val_acc'] \n",
        "loss = history.history['loss'] \n",
        "val_loss = history.history['val_loss']\n",
        "\n",
        "epochs = range(1, len(loss) + 1)\n",
        "\n",
        "# ‘bo’는 파란색 점을 의미합니다\n",
        "plt.plot(epochs, loss, 'bo', label='Training loss')\n",
        "# ‘b’는 파란색 실선을 의미합니다\n",
        "plt.plot(epochs, val_loss, 'b', label='Validation mae')\n",
        "plt.title('Training and validation loss')\n",
        "plt.xlabel('Epochs')\n",
        "plt.ylabel('Loss')\n",
        "plt.legend()\n",
        "\n",
        "plt.show()"
      ],
      "execution_count": null,
      "outputs": [
        {
          "output_type": "display_data",
          "data": {
            "image/png": "[encoded data removed]",
            "text/plain": [
              "<Figure size 432x288 with 1 Axes>"
            ]
          },
          "metadata": {
            "tags": [],
            "needs_background": "light"
          }
        }
      ]
    },
    {
      "cell_type": "code",
      "metadata": {
        "colab": {
          "base_uri": "https://localhost:8080/",
          "height": 295
        },
        "id": "NKdImhCBfzg-",
        "outputId": "995a8712-15aa-4898-f35a-1e64b2762291"
      },
      "source": [
        "plt.clf()   # 그래프를 초기화합니다\n",
        "acc = history.history['acc'] \n",
        "val_acc = history.history['val_acc'] \n",
        "\n",
        "plt.plot(epochs, acc, 'bo', label='Training acc')\n",
        "plt.plot(epochs, val_acc, 'b', label='Validation acc')\n",
        "plt.title('Training and validation acc')\n",
        "plt.xlabel('Epochs')\n",
        "plt.ylabel('accuracy')\n",
        "plt.legend()\n",
        "\n",
        "plt.show()"
      ],
      "execution_count": null,
      "outputs": [
        {
          "output_type": "display_data",
          "data": {
            "image/png": "[encoded data removed]",
            "text/plain": [
              "<Figure size 432x288 with 1 Axes>"
            ]
          },
          "metadata": {
            "tags": [],
            "needs_background": "light"
          }
        }
      ]
    },
    {
      "cell_type": "markdown",
      "metadata": {
        "id": "AUm9j1vBgAUL"
      },
      "source": [
        "#### 복잡한 모델"
      ]
    },
    {
      "cell_type": "code",
      "metadata": {
        "colab": {
          "base_uri": "https://localhost:8080/"
        },
        "id": "DDKi_RemgdUV",
        "outputId": "7c400422-4706-4449-b7af-dd96d99cb1a8"
      },
      "source": [
        "    model2 = models.Sequential()\n",
        "    model2.add(layers.Dense(128, activation='relu',input_shape=(59,)))\n",
        "    model2.add(layers.BatchNormalization())\n",
        "\n",
        "    model2.add(layers.Dense(64, activation='relu'))\n",
        "    model2.add(layers.BatchNormalization())\n",
        "\n",
        "    model2.add(layers.Dense(64, activation='relu'))\n",
        "    model2.add(layers.BatchNormalization())\n",
        "\n",
        "    model2.add(layers.Dense(32, activation='relu'))\n",
        "    model2.add(layers.BatchNormalization())\n",
        "\n",
        "    model2.add(layers.Dense(16, activation='relu'))\n",
        "    model2.add(layers.BatchNormalization())\n",
        "    model.add(layers.Dropout(0.5))\n",
        "  \n",
        "    model2.add(layers.Dense(3, activation='softmax'))\n",
        "    model2.compile(optimizer='Adam', loss='categorical_crossentropy', metrics=['acc'])\n",
        "\n",
        "model.summary()"
      ],
      "execution_count": null,
      "outputs": [
        {
          "output_type": "stream",
          "text": [
            "Model: \"sequential_3\"\n",
            "_________________________________________________________________\n",
            "Layer (type)                 Output Shape              Param #   \n",
            "=================================================================\n",
            "dense_12 (Dense)             (None, 64)                3840      \n",
            "_________________________________________________________________\n",
            "batch_normalization_9 (Batch (None, 64)                256       \n",
            "_________________________________________________________________\n",
            "dense_13 (Dense)             (None, 32)                2080      \n",
            "_________________________________________________________________\n",
            "batch_normalization_10 (Batc (None, 32)                128       \n",
            "_________________________________________________________________\n",
            "dense_14 (Dense)             (None, 16)                528       \n",
            "_________________________________________________________________\n",
            "batch_normalization_11 (Batc (None, 16)                64        \n",
            "_________________________________________________________________\n",
            "dense_15 (Dense)             (None, 3)                 51        \n",
            "_________________________________________________________________\n",
            "dropout (Dropout)            (None, 3)                 0         \n",
            "=================================================================\n",
            "Total params: 6,947\n",
            "Trainable params: 6,723\n",
            "Non-trainable params: 224\n",
            "_________________________________________________________________\n"
          ],
          "name": "stdout"
        }
      ]
    },
    {
      "cell_type": "code",
      "metadata": {
        "colab": {
          "base_uri": "https://localhost:8080/"
        },
        "id": "3faKYFBRgdnt",
        "outputId": "c7264edb-1f1b-4b60-e542-40a7255f4949"
      },
      "source": [
        "# 콜백 함수 적용 부분(분류모델은 val_loss로)\n",
        "early_stopping_callback = EarlyStopping(monitor='val_loss', mode='min', patience=10)\n",
        "# 분류모델이면 model_checkpoint = ModelCheckpoint(filepath='./{epoch}-{val_loss:.2f}-{val_accuracy:.2f}.h5', monitor='val_loss', save_best_only=True, verbose=1)\n",
        "model_checkpoint = ModelCheckpoint(filepath='/content/drive/MyDrive/Colab Notebooks/practice/문제2_딥러닝파라미터/{epoch}-{loss:.2f}.h5', \n",
        "                                   monitor='val_loss', save_best_only=True, verbose=1)\n",
        "\n",
        "\n",
        "history2 = model2.fit(X_train, y_train, batch_size=64,  epochs=1000,\n",
        "            callbacks=[early_stopping_callback, model_checkpoint],\n",
        "            validation_data=(X_test, y_test))"
      ],
      "execution_count": null,
      "outputs": [
        {
          "output_type": "stream",
          "text": [
            "Epoch 1/1000\n",
            "6/6 [==============================] - 1s 61ms/step - loss: 1.2679 - acc: 0.4061 - val_loss: 1.0141 - val_acc: 0.4097\n",
            "\n",
            "Epoch 00001: val_loss improved from inf to 1.01405, saving model to /content/drive/MyDrive/Colab Notebooks/practice/문제2_딥러닝파라미터/1-1.18.h5\n",
            "Epoch 2/1000\n",
            "6/6 [==============================] - 0s 11ms/step - loss: 0.8740 - acc: 0.5355 - val_loss: 1.0096 - val_acc: 0.3819\n",
            "\n",
            "Epoch 00002: val_loss improved from 1.01405 to 1.00956, saving model to /content/drive/MyDrive/Colab Notebooks/practice/문제2_딥러닝파라미터/2-0.86.h5\n",
            "Epoch 3/1000\n",
            "6/6 [==============================] - 0s 11ms/step - loss: 0.7990 - acc: 0.6581 - val_loss: 0.9880 - val_acc: 0.4375\n",
            "\n",
            "Epoch 00003: val_loss improved from 1.00956 to 0.98799, saving model to /content/drive/MyDrive/Colab Notebooks/practice/문제2_딥러닝파라미터/3-0.79.h5\n",
            "Epoch 4/1000\n",
            "6/6 [==============================] - 0s 11ms/step - loss: 0.7179 - acc: 0.7151 - val_loss: 0.9940 - val_acc: 0.4861\n",
            "\n",
            "Epoch 00004: val_loss did not improve from 0.98799\n",
            "Epoch 5/1000\n",
            "6/6 [==============================] - 0s 11ms/step - loss: 0.6662 - acc: 0.7318 - val_loss: 0.9975 - val_acc: 0.4931\n",
            "\n",
            "Epoch 00005: val_loss did not improve from 0.98799\n",
            "Epoch 6/1000\n",
            "6/6 [==============================] - 0s 11ms/step - loss: 0.6534 - acc: 0.7200 - val_loss: 1.0618 - val_acc: 0.4931\n",
            "\n",
            "Epoch 00006: val_loss did not improve from 0.98799\n",
            "Epoch 7/1000\n",
            "6/6 [==============================] - 0s 11ms/step - loss: 0.5748 - acc: 0.7765 - val_loss: 1.0775 - val_acc: 0.5000\n",
            "\n",
            "Epoch 00007: val_loss did not improve from 0.98799\n",
            "Epoch 8/1000\n",
            "6/6 [==============================] - 0s 11ms/step - loss: 0.5754 - acc: 0.7733 - val_loss: 1.0291 - val_acc: 0.5278\n",
            "\n",
            "Epoch 00008: val_loss did not improve from 0.98799\n",
            "Epoch 9/1000\n",
            "6/6 [==============================] - 0s 11ms/step - loss: 0.5755 - acc: 0.7688 - val_loss: 1.0482 - val_acc: 0.5417\n",
            "\n",
            "Epoch 00009: val_loss did not improve from 0.98799\n",
            "Epoch 10/1000\n",
            "6/6 [==============================] - 0s 11ms/step - loss: 0.5631 - acc: 0.7740 - val_loss: 1.0999 - val_acc: 0.5556\n",
            "\n",
            "Epoch 00010: val_loss did not improve from 0.98799\n",
            "Epoch 11/1000\n",
            "6/6 [==============================] - 0s 11ms/step - loss: 0.5493 - acc: 0.7975 - val_loss: 1.1780 - val_acc: 0.5556\n",
            "\n",
            "Epoch 00011: val_loss did not improve from 0.98799\n",
            "Epoch 12/1000\n",
            "6/6 [==============================] - 0s 12ms/step - loss: 0.5209 - acc: 0.8134 - val_loss: 1.1447 - val_acc: 0.5556\n",
            "\n",
            "Epoch 00012: val_loss did not improve from 0.98799\n",
            "Epoch 13/1000\n",
            "6/6 [==============================] - 0s 12ms/step - loss: 0.4804 - acc: 0.8136 - val_loss: 1.0230 - val_acc: 0.5764\n",
            "\n",
            "Epoch 00013: val_loss did not improve from 0.98799\n"
          ],
          "name": "stdout"
        }
      ]
    },
    {
      "cell_type": "markdown",
      "metadata": {
        "id": "47qZdEpRgdq_"
      },
      "source": [
        "#### 복잡딥러닝 모델평가"
      ]
    },
    {
      "cell_type": "code",
      "metadata": {
        "colab": {
          "base_uri": "https://localhost:8080/"
        },
        "id": "9GdFPxV2gduM",
        "outputId": "1996d555-08a6-4061-bda0-ffba909b448a"
      },
      "source": [
        "model2.evaluate(X_test, y_test)\n",
        "# 과적합으로 테스트데이터로 실험시 결과가 좋지 않음."
      ],
      "execution_count": null,
      "outputs": [
        {
          "output_type": "stream",
          "text": [
            "5/5 [==============================] - 0s 3ms/step - loss: 1.0230 - acc: 0.5764\n"
          ],
          "name": "stdout"
        },
        {
          "output_type": "execute_result",
          "data": {
            "text/plain": [
              "[1.0230451822280884, 0.5763888955116272]"
            ]
          },
          "metadata": {
            "tags": []
          },
          "execution_count": 148
        }
      ]
    },
    {
      "cell_type": "code",
      "metadata": {
        "colab": {
          "base_uri": "https://localhost:8080/"
        },
        "id": "UgS3t-glgdwy",
        "outputId": "bd775353-54a8-44dd-9247-fe165ddd4d2f"
      },
      "source": [
        "history_dict = history2.history\n",
        "history_dict.keys()"
      ],
      "execution_count": null,
      "outputs": [
        {
          "output_type": "execute_result",
          "data": {
            "text/plain": [
              "dict_keys(['loss', 'acc', 'val_loss', 'val_acc'])"
            ]
          },
          "metadata": {
            "tags": []
          },
          "execution_count": 149
        }
      ]
    },
    {
      "cell_type": "code",
      "metadata": {
        "colab": {
          "base_uri": "https://localhost:8080/",
          "height": 295
        },
        "id": "b2CK9BvOhZMF",
        "outputId": "cb90f64f-fdf9-4da9-bc23-642ccb97032c"
      },
      "source": [
        "acc = history2.history['acc'] \n",
        "val_acc = history2.history['val_acc'] \n",
        "loss = history2.history['loss'] \n",
        "val_loss = history2.history['val_loss']\n",
        "\n",
        "epochs = range(1, len(loss) + 1)\n",
        "\n",
        "# ‘bo’는 파란색 점을 의미합니다\n",
        "plt.plot(epochs, loss, 'bo', label='Training loss')\n",
        "# ‘b’는 파란색 실선을 의미합니다\n",
        "plt.plot(epochs, val_loss, 'b', label='Validation loss')\n",
        "plt.title('Training and validation loss')\n",
        "plt.xlabel('Epochs')\n",
        "plt.ylabel('Loss')\n",
        "plt.legend()\n",
        "\n",
        "plt.show()"
      ],
      "execution_count": null,
      "outputs": [
        {
          "output_type": "display_data",
          "data": {
            "image/png": "[encoded data removed]",
            "text/plain": [
              "<Figure size 432x288 with 1 Axes>"
            ]
          },
          "metadata": {
            "tags": [],
            "needs_background": "light"
          }
        }
      ]
    },
    {
      "cell_type": "code",
      "metadata": {
        "colab": {
          "base_uri": "https://localhost:8080/",
          "height": 295
        },
        "id": "wgSioTLlhmtW",
        "outputId": "66f542f5-7afa-47f0-95d4-e2c1c5a0df87"
      },
      "source": [
        "plt.clf()   # 그래프를 초기화합니다\n",
        "acc = history2.history['acc'] \n",
        "val_acc = history2.history['val_acc'] \n",
        "\n",
        "plt.plot(epochs, acc, 'bo', label='Training acc')\n",
        "plt.plot(epochs, val_acc, 'b', label='Validation acc')\n",
        "plt.title('Training and validation acc')\n",
        "plt.xlabel('Epochs')\n",
        "plt.ylabel('accuracy')\n",
        "plt.legend()\n",
        "\n",
        "plt.show()"
      ],
      "execution_count": null,
      "outputs": [
        {
          "output_type": "display_data",
          "data": {
            "image/png": "[encoded data removed]",
            "text/plain": [
              "<Figure size 432x288 with 1 Axes>"
            ]
          },
          "metadata": {
            "tags": [],
            "needs_background": "light"
          }
        }
      ]
    },
    {
      "cell_type": "code",
      "metadata": {
        "id": "o6lCamN2h0lV"
      },
      "source": [
        ""
      ],
      "execution_count": null,
      "outputs": []
    }
  ]
}