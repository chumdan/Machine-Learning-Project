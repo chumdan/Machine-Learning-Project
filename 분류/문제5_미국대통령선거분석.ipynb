{
  "nbformat": 4,
  "nbformat_minor": 0,
  "metadata": {
    "colab": {
      "name": "문제5_미국대통령선거분석.ipynb",
      "provenance": [],
      "collapsed_sections": [],
      "authorship_tag": "ABX9TyNsgs7mS2YkwY92KU2wMAb2",
      "include_colab_link": true
    },
    "kernelspec": {
      "name": "python3",
      "display_name": "Python 3"
    },
    "accelerator": "GPU"
  },
  "cells": [
    {
      "cell_type": "markdown",
      "metadata": {
        "id": "view-in-github",
        "colab_type": "text"
      },
      "source": [
        "<a href=\"https://colab.research.google.com/github/chumdan/Machine-Learning-Project/blob/main/%EB%AC%B8%EC%A0%9C5_%EB%AF%B8%EA%B5%AD%EB%8C%80%ED%86%B5%EB%A0%B9%EC%84%A0%EA%B1%B0%EB%B6%84%EC%84%9D.ipynb\" target=\"_parent\"><img src=\"https://colab.research.google.com/assets/colab-badge.svg\" alt=\"Open In Colab\"/></a>"
      ]
    },
    {
      "cell_type": "markdown",
      "metadata": {
        "id": "EwLpLc2oKzLo"
      },
      "source": [
        "# 주제 : 미국대통령선거분석 (분류문제유형)"
      ]
    },
    {
      "cell_type": "markdown",
      "metadata": {
        "id": "52Gxf9ldLA_a"
      },
      "source": [
        "### Step 0. 필요패키지 다운 및 데이터셋 준비"
      ]
    },
    {
      "cell_type": "markdown",
      "metadata": {
        "id": "q1GCDfuGLFW2"
      },
      "source": [
        "#### 필요패키지 설치"
      ]
    },
    {
      "cell_type": "code",
      "metadata": {
        "colab": {
          "base_uri": "https://localhost:8080/"
        },
        "id": "mhwTBwlCLHM3",
        "outputId": "e88e5ef6-bc31-41af-e956-a7bdd265975f"
      },
      "source": [
        "from google.colab import drive\n",
        "drive.mount('/content/drive')"
      ],
      "execution_count": null,
      "outputs": [
        {
          "output_type": "stream",
          "text": [
            "Mounted at /content/drive\n"
          ],
          "name": "stdout"
        }
      ]
    },
    {
      "cell_type": "code",
      "metadata": {
        "id": "1_Bv2k-_LIjA"
      },
      "source": [
        "import pandas as pd\n",
        "import numpy as np\n",
        "import matplotlib.pyplot as plt\n",
        "import seaborn as sns\n",
        "import os\n",
        "from sklearn.neighbors import KNeighborsClassifier as KNN\n",
        "from sklearn.svm import SVC\n",
        "from sklearn.linear_model import LogisticRegression as LR\n",
        "from sklearn.tree import DecisionTreeClassifier as DTC\n",
        "from sklearn.ensemble import RandomForestClassifier as RFC\n",
        "from xgboost import XGBClassifier as XGB\n",
        "from lightgbm import LGBMClassifier as LGBM\n",
        "from sklearn.feature_selection import *\n",
        "from sklearn.metrics import f1_score\n",
        "from sklearn.model_selection import ParameterGrid\n",
        "from sklearn.decomposition import PCA\n",
        "from sklearn.preprocessing import StandardScaler\n",
        "from sklearn.preprocessing import MinMaxScaler\n",
        "from tensorflow.keras.callbacks import EarlyStopping, ModelCheckpoint\n",
        "from sklearn.model_selection import train_test_split\n",
        "from keras import models\n",
        "from keras import layers\n",
        "from sklearn.metrics import classification_report\n",
        "from sklearn.metrics import plot_precision_recall_curve\n",
        "from sklearn.metrics import plot_roc_curve"
      ],
      "execution_count": null,
      "outputs": []
    },
    {
      "cell_type": "code",
      "metadata": {
        "id": "gS5Z233dLbVf"
      },
      "source": [
        "# os.environ을 이용하여 Kaggle API Username, Key 세팅하기\n",
        "os.environ['KAGGLE_USERNAME'] = 'chumdan'\n",
        "os.environ['KAGGLE_KEY'] = '0e8bf51ba50bce898a8a9736072bd3b8'"
      ],
      "execution_count": null,
      "outputs": []
    },
    {
      "cell_type": "code",
      "metadata": {
        "colab": {
          "base_uri": "https://localhost:8080/"
        },
        "id": "aEjEK93_Ld9n",
        "outputId": "73c7192a-e310-42c8-a5af-b9427e9552e1"
      },
      "source": [
        "# Linux 명령어로 Kaggle API를 이용하여 데이터셋 다운로드하기 (!kaggle ~)\n",
        "# Linux 명령어로 압축 해제하기\n",
        "!kaggle datasets download -d unanimad/us-election-2020\n",
        "!kaggle datasets download -d muonneutrino/us-census-demographic-data\n",
        "!unzip '*.zip'"
      ],
      "execution_count": null,
      "outputs": [
        {
          "output_type": "stream",
          "text": [
            "Downloading us-election-2020.zip to /content\n",
            "\r  0% 0.00/429k [00:00<?, ?B/s]\n",
            "100% 429k/429k [00:00<00:00, 61.7MB/s]\n",
            "Downloading us-census-demographic-data.zip to /content\n",
            " 47% 5.00M/10.6M [00:00<00:00, 29.2MB/s]\n",
            "100% 10.6M/10.6M [00:00<00:00, 52.0MB/s]\n",
            "Archive:  us-census-demographic-data.zip\n",
            "  inflating: acs2015_census_tract_data.csv  \n",
            "  inflating: acs2015_county_data.csv  \n",
            "  inflating: acs2017_census_tract_data.csv  \n",
            "  inflating: acs2017_county_data.csv  \n",
            "\n",
            "Archive:  us-election-2020.zip\n",
            "  inflating: governors_county.csv    \n",
            "  inflating: governors_county_candidate.csv  \n",
            "  inflating: governors_state.csv     \n",
            "  inflating: house_candidate.csv     \n",
            "  inflating: house_state.csv         \n",
            "  inflating: president_county.csv    \n",
            "  inflating: president_county_candidate.csv  \n",
            "  inflating: president_state.csv     \n",
            "  inflating: senate_county.csv       \n",
            "  inflating: senate_county_candidate.csv  \n",
            "  inflating: senate_state.csv        \n",
            "\n",
            "2 archives were successfully processed.\n"
          ],
          "name": "stdout"
        }
      ]
    },
    {
      "cell_type": "markdown",
      "metadata": {
        "id": "fFA7UmQvLiXI"
      },
      "source": [
        "#### 데이터소개 \n",
        "\n",
        " - 다음 2개의 csv 파일을 사용합니다.\n",
        "\n",
        "\n",
        "    us-census-demographic-data.zip - 주데이터\n",
        "    us-election-2020.zip - 보조데이터\n",
        "\n",
        "- 총 11개의 파일 중 정보가 가장 많은 4개의 파일을 사용합니다.\n",
        "\n",
        "> \n",
        "    president_county_candidate.csv: 대통령 투표 결과\n",
        "    governors_county_candidate.csv: 카운티 지사 투표 결과\n",
        "    senate_county_candidate.csv: 상원의원 투표 결과\n",
        "    house_candidate.csv: 하원의원 투표 결과\n",
        "\n",
        " - 각 파일의 컬럼은 아래와 같습니다.\n",
        "\n",
        "\n",
        "    state: 주\n",
        "    county: 카운티(군)\n",
        "    district: 지구\n",
        "    candidate: 후보자\n",
        "    party: 후보자의 소속 정당\n",
        "    total_votes: 득표 수\n",
        "    won: 지역 투표 우승 여부\n",
        "\n",
        "> 들여쓴 블록\n",
        "\n",
        "- 데이터 출처: https://www.kaggle.com/unanimad/us-election-2020\n",
        "- 보조 데이터: https://www.kaggle.com/muonneutrino/us-census-demographic-data"
      ]
    },
    {
      "cell_type": "code",
      "metadata": {
        "id": "Sk9gZ6CrMU83"
      },
      "source": [
        "# from US Election 2020\n",
        "df_pres = pd.read_csv('president_county_candidate.csv')\n",
        "df_gov = pd.read_csv('governors_county_candidate.csv')\n",
        "\n",
        "# from US Census 2017\n",
        "df_census = pd.read_csv('acs2017_county_data.csv')"
      ],
      "execution_count": null,
      "outputs": []
    },
    {
      "cell_type": "code",
      "metadata": {
        "id": "r-swCrM8MbEh"
      },
      "source": [
        "# State Code 관련 부가 자료\n",
        "state_code = pd.read_html('https://www.infoplease.com/us/postal-information/state-abbreviations-and-state-postal-codes')[0]"
      ],
      "execution_count": null,
      "outputs": []
    },
    {
      "cell_type": "markdown",
      "metadata": {
        "id": "Z3pmW9KAMfwJ"
      },
      "source": [
        "### Step 1. 데이터 기초 통계 분석 및 그래프"
      ]
    },
    {
      "cell_type": "markdown",
      "metadata": {
        "id": "9sLwP4ujNUlP"
      },
      "source": [
        "#### 데이터프레임의 각 칼럼 분석"
      ]
    },
    {
      "cell_type": "code",
      "metadata": {
        "colab": {
          "base_uri": "https://localhost:8080/",
          "height": 198
        },
        "id": "604E2jIhMkn_",
        "outputId": "ea1b5d06-5f2d-450d-d1aa-9ffeb9d1ac31"
      },
      "source": [
        "df_pres.head()"
      ],
      "execution_count": null,
      "outputs": [
        {
          "output_type": "execute_result",
          "data": {
            "text/html": [
              "<div>\n",
              "<style scoped>\n",
              "    .dataframe tbody tr th:only-of-type {\n",
              "        vertical-align: middle;\n",
              "    }\n",
              "\n",
              "    .dataframe tbody tr th {\n",
              "        vertical-align: top;\n",
              "    }\n",
              "\n",
              "    .dataframe thead th {\n",
              "        text-align: right;\n",
              "    }\n",
              "</style>\n",
              "<table border=\"1\" class=\"dataframe\">\n",
              "  <thead>\n",
              "    <tr style=\"text-align: right;\">\n",
              "      <th></th>\n",
              "      <th>state</th>\n",
              "      <th>county</th>\n",
              "      <th>candidate</th>\n",
              "      <th>party</th>\n",
              "      <th>total_votes</th>\n",
              "      <th>won</th>\n",
              "    </tr>\n",
              "  </thead>\n",
              "  <tbody>\n",
              "    <tr>\n",
              "      <th>0</th>\n",
              "      <td>Delaware</td>\n",
              "      <td>Kent County</td>\n",
              "      <td>Joe Biden</td>\n",
              "      <td>DEM</td>\n",
              "      <td>44552</td>\n",
              "      <td>True</td>\n",
              "    </tr>\n",
              "    <tr>\n",
              "      <th>1</th>\n",
              "      <td>Delaware</td>\n",
              "      <td>Kent County</td>\n",
              "      <td>Donald Trump</td>\n",
              "      <td>REP</td>\n",
              "      <td>41009</td>\n",
              "      <td>False</td>\n",
              "    </tr>\n",
              "    <tr>\n",
              "      <th>2</th>\n",
              "      <td>Delaware</td>\n",
              "      <td>Kent County</td>\n",
              "      <td>Jo Jorgensen</td>\n",
              "      <td>LIB</td>\n",
              "      <td>1044</td>\n",
              "      <td>False</td>\n",
              "    </tr>\n",
              "    <tr>\n",
              "      <th>3</th>\n",
              "      <td>Delaware</td>\n",
              "      <td>Kent County</td>\n",
              "      <td>Howie Hawkins</td>\n",
              "      <td>GRN</td>\n",
              "      <td>420</td>\n",
              "      <td>False</td>\n",
              "    </tr>\n",
              "    <tr>\n",
              "      <th>4</th>\n",
              "      <td>Delaware</td>\n",
              "      <td>New Castle County</td>\n",
              "      <td>Joe Biden</td>\n",
              "      <td>DEM</td>\n",
              "      <td>195034</td>\n",
              "      <td>True</td>\n",
              "    </tr>\n",
              "  </tbody>\n",
              "</table>\n",
              "</div>"
            ],
            "text/plain": [
              "      state             county      candidate party  total_votes    won\n",
              "0  Delaware        Kent County      Joe Biden   DEM        44552   True\n",
              "1  Delaware        Kent County   Donald Trump   REP        41009  False\n",
              "2  Delaware        Kent County   Jo Jorgensen   LIB         1044  False\n",
              "3  Delaware        Kent County  Howie Hawkins   GRN          420  False\n",
              "4  Delaware  New Castle County      Joe Biden   DEM       195034   True"
            ]
          },
          "metadata": {
            "tags": []
          },
          "execution_count": 7
        }
      ]
    },
    {
      "cell_type": "code",
      "metadata": {
        "colab": {
          "base_uri": "https://localhost:8080/"
        },
        "id": "rQy0_whPMksS",
        "outputId": "aa2047b5-ec9d-4a29-c222-5c79720a64f8"
      },
      "source": [
        "df_pres['candidate'].unique()"
      ],
      "execution_count": null,
      "outputs": [
        {
          "output_type": "execute_result",
          "data": {
            "text/plain": [
              "array(['Joe Biden', 'Donald Trump', 'Jo Jorgensen', 'Howie Hawkins',\n",
              "       ' Write-ins', 'Gloria La Riva', 'Brock Pierce',\n",
              "       'Rocky De La Fuente', 'Don Blankenship', 'Kanye West',\n",
              "       'Brian Carroll', 'Ricki Sue King', 'Jade Simmons',\n",
              "       'President Boddie', 'Bill Hammons', 'Tom Hoefling',\n",
              "       'Alyson Kennedy', 'Jerome Segal', 'Phil Collins',\n",
              "       ' None of these candidates', 'Sheila Samm Tittle', 'Dario Hunter',\n",
              "       'Joe McHugh', 'Christopher LaFontaine', 'Keith McCormic',\n",
              "       'Brooke Paige', 'Gary Swing', 'Richard Duncan', 'Blake Huber',\n",
              "       'Kyle Kopitke', 'Zachary Scalf', 'Jesse Ventura', 'Connie Gammon',\n",
              "       'John Richard Myers', 'Mark Charles', 'Princess Jacob-Fambro',\n",
              "       'Joseph Kishore', 'Jordan Scott'], dtype=object)"
            ]
          },
          "metadata": {
            "tags": []
          },
          "execution_count": 8
        }
      ]
    },
    {
      "cell_type": "code",
      "metadata": {
        "colab": {
          "base_uri": "https://localhost:8080/",
          "height": 198
        },
        "id": "qExVqgRfMkux",
        "outputId": "71c3147c-9e7c-4264-e56a-392750d938fb"
      },
      "source": [
        "df_gov.head()"
      ],
      "execution_count": null,
      "outputs": [
        {
          "output_type": "execute_result",
          "data": {
            "text/html": [
              "<div>\n",
              "<style scoped>\n",
              "    .dataframe tbody tr th:only-of-type {\n",
              "        vertical-align: middle;\n",
              "    }\n",
              "\n",
              "    .dataframe tbody tr th {\n",
              "        vertical-align: top;\n",
              "    }\n",
              "\n",
              "    .dataframe thead th {\n",
              "        text-align: right;\n",
              "    }\n",
              "</style>\n",
              "<table border=\"1\" class=\"dataframe\">\n",
              "  <thead>\n",
              "    <tr style=\"text-align: right;\">\n",
              "      <th></th>\n",
              "      <th>state</th>\n",
              "      <th>county</th>\n",
              "      <th>candidate</th>\n",
              "      <th>party</th>\n",
              "      <th>votes</th>\n",
              "      <th>won</th>\n",
              "    </tr>\n",
              "  </thead>\n",
              "  <tbody>\n",
              "    <tr>\n",
              "      <th>0</th>\n",
              "      <td>Delaware</td>\n",
              "      <td>Kent County</td>\n",
              "      <td>John Carney</td>\n",
              "      <td>DEM</td>\n",
              "      <td>44352</td>\n",
              "      <td>True</td>\n",
              "    </tr>\n",
              "    <tr>\n",
              "      <th>1</th>\n",
              "      <td>Delaware</td>\n",
              "      <td>Kent County</td>\n",
              "      <td>Julianne Murray</td>\n",
              "      <td>REP</td>\n",
              "      <td>39332</td>\n",
              "      <td>False</td>\n",
              "    </tr>\n",
              "    <tr>\n",
              "      <th>2</th>\n",
              "      <td>Delaware</td>\n",
              "      <td>Kent County</td>\n",
              "      <td>Kathy DeMatteis</td>\n",
              "      <td>IPD</td>\n",
              "      <td>1115</td>\n",
              "      <td>False</td>\n",
              "    </tr>\n",
              "    <tr>\n",
              "      <th>3</th>\n",
              "      <td>Delaware</td>\n",
              "      <td>Kent County</td>\n",
              "      <td>John Machurek</td>\n",
              "      <td>LIB</td>\n",
              "      <td>616</td>\n",
              "      <td>False</td>\n",
              "    </tr>\n",
              "    <tr>\n",
              "      <th>4</th>\n",
              "      <td>Delaware</td>\n",
              "      <td>New Castle County</td>\n",
              "      <td>John Carney</td>\n",
              "      <td>DEM</td>\n",
              "      <td>191678</td>\n",
              "      <td>True</td>\n",
              "    </tr>\n",
              "  </tbody>\n",
              "</table>\n",
              "</div>"
            ],
            "text/plain": [
              "      state             county        candidate party   votes    won\n",
              "0  Delaware        Kent County      John Carney   DEM   44352   True\n",
              "1  Delaware        Kent County  Julianne Murray   REP   39332  False\n",
              "2  Delaware        Kent County  Kathy DeMatteis   IPD    1115  False\n",
              "3  Delaware        Kent County    John Machurek   LIB     616  False\n",
              "4  Delaware  New Castle County      John Carney   DEM  191678   True"
            ]
          },
          "metadata": {
            "tags": []
          },
          "execution_count": 9
        }
      ]
    },
    {
      "cell_type": "code",
      "metadata": {
        "colab": {
          "base_uri": "https://localhost:8080/",
          "height": 305
        },
        "id": "zFbie0x4MkxT",
        "outputId": "33ef8f76-c4c1-42bc-ff74-22a352f3cb48"
      },
      "source": [
        "df_census.head()"
      ],
      "execution_count": null,
      "outputs": [
        {
          "output_type": "execute_result",
          "data": {
            "text/html": [
              "<div>\n",
              "<style scoped>\n",
              "    .dataframe tbody tr th:only-of-type {\n",
              "        vertical-align: middle;\n",
              "    }\n",
              "\n",
              "    .dataframe tbody tr th {\n",
              "        vertical-align: top;\n",
              "    }\n",
              "\n",
              "    .dataframe thead th {\n",
              "        text-align: right;\n",
              "    }\n",
              "</style>\n",
              "<table border=\"1\" class=\"dataframe\">\n",
              "  <thead>\n",
              "    <tr style=\"text-align: right;\">\n",
              "      <th></th>\n",
              "      <th>CountyId</th>\n",
              "      <th>State</th>\n",
              "      <th>County</th>\n",
              "      <th>TotalPop</th>\n",
              "      <th>Men</th>\n",
              "      <th>Women</th>\n",
              "      <th>Hispanic</th>\n",
              "      <th>White</th>\n",
              "      <th>Black</th>\n",
              "      <th>Native</th>\n",
              "      <th>Asian</th>\n",
              "      <th>Pacific</th>\n",
              "      <th>VotingAgeCitizen</th>\n",
              "      <th>Income</th>\n",
              "      <th>IncomeErr</th>\n",
              "      <th>IncomePerCap</th>\n",
              "      <th>IncomePerCapErr</th>\n",
              "      <th>Poverty</th>\n",
              "      <th>ChildPoverty</th>\n",
              "      <th>Professional</th>\n",
              "      <th>Service</th>\n",
              "      <th>Office</th>\n",
              "      <th>Construction</th>\n",
              "      <th>Production</th>\n",
              "      <th>Drive</th>\n",
              "      <th>Carpool</th>\n",
              "      <th>Transit</th>\n",
              "      <th>Walk</th>\n",
              "      <th>OtherTransp</th>\n",
              "      <th>WorkAtHome</th>\n",
              "      <th>MeanCommute</th>\n",
              "      <th>Employed</th>\n",
              "      <th>PrivateWork</th>\n",
              "      <th>PublicWork</th>\n",
              "      <th>SelfEmployed</th>\n",
              "      <th>FamilyWork</th>\n",
              "      <th>Unemployment</th>\n",
              "    </tr>\n",
              "  </thead>\n",
              "  <tbody>\n",
              "    <tr>\n",
              "      <th>0</th>\n",
              "      <td>1001</td>\n",
              "      <td>Alabama</td>\n",
              "      <td>Autauga County</td>\n",
              "      <td>55036</td>\n",
              "      <td>26899</td>\n",
              "      <td>28137</td>\n",
              "      <td>2.7</td>\n",
              "      <td>75.4</td>\n",
              "      <td>18.9</td>\n",
              "      <td>0.3</td>\n",
              "      <td>0.9</td>\n",
              "      <td>0.0</td>\n",
              "      <td>41016</td>\n",
              "      <td>55317</td>\n",
              "      <td>2838</td>\n",
              "      <td>27824</td>\n",
              "      <td>2024</td>\n",
              "      <td>13.7</td>\n",
              "      <td>20.1</td>\n",
              "      <td>35.3</td>\n",
              "      <td>18.0</td>\n",
              "      <td>23.2</td>\n",
              "      <td>8.1</td>\n",
              "      <td>15.4</td>\n",
              "      <td>86.0</td>\n",
              "      <td>9.6</td>\n",
              "      <td>0.1</td>\n",
              "      <td>0.6</td>\n",
              "      <td>1.3</td>\n",
              "      <td>2.5</td>\n",
              "      <td>25.8</td>\n",
              "      <td>24112</td>\n",
              "      <td>74.1</td>\n",
              "      <td>20.2</td>\n",
              "      <td>5.6</td>\n",
              "      <td>0.1</td>\n",
              "      <td>5.2</td>\n",
              "    </tr>\n",
              "    <tr>\n",
              "      <th>1</th>\n",
              "      <td>1003</td>\n",
              "      <td>Alabama</td>\n",
              "      <td>Baldwin County</td>\n",
              "      <td>203360</td>\n",
              "      <td>99527</td>\n",
              "      <td>103833</td>\n",
              "      <td>4.4</td>\n",
              "      <td>83.1</td>\n",
              "      <td>9.5</td>\n",
              "      <td>0.8</td>\n",
              "      <td>0.7</td>\n",
              "      <td>0.0</td>\n",
              "      <td>155376</td>\n",
              "      <td>52562</td>\n",
              "      <td>1348</td>\n",
              "      <td>29364</td>\n",
              "      <td>735</td>\n",
              "      <td>11.8</td>\n",
              "      <td>16.1</td>\n",
              "      <td>35.7</td>\n",
              "      <td>18.2</td>\n",
              "      <td>25.6</td>\n",
              "      <td>9.7</td>\n",
              "      <td>10.8</td>\n",
              "      <td>84.7</td>\n",
              "      <td>7.6</td>\n",
              "      <td>0.1</td>\n",
              "      <td>0.8</td>\n",
              "      <td>1.1</td>\n",
              "      <td>5.6</td>\n",
              "      <td>27.0</td>\n",
              "      <td>89527</td>\n",
              "      <td>80.7</td>\n",
              "      <td>12.9</td>\n",
              "      <td>6.3</td>\n",
              "      <td>0.1</td>\n",
              "      <td>5.5</td>\n",
              "    </tr>\n",
              "    <tr>\n",
              "      <th>2</th>\n",
              "      <td>1005</td>\n",
              "      <td>Alabama</td>\n",
              "      <td>Barbour County</td>\n",
              "      <td>26201</td>\n",
              "      <td>13976</td>\n",
              "      <td>12225</td>\n",
              "      <td>4.2</td>\n",
              "      <td>45.7</td>\n",
              "      <td>47.8</td>\n",
              "      <td>0.2</td>\n",
              "      <td>0.6</td>\n",
              "      <td>0.0</td>\n",
              "      <td>20269</td>\n",
              "      <td>33368</td>\n",
              "      <td>2551</td>\n",
              "      <td>17561</td>\n",
              "      <td>798</td>\n",
              "      <td>27.2</td>\n",
              "      <td>44.9</td>\n",
              "      <td>25.0</td>\n",
              "      <td>16.8</td>\n",
              "      <td>22.6</td>\n",
              "      <td>11.5</td>\n",
              "      <td>24.1</td>\n",
              "      <td>83.4</td>\n",
              "      <td>11.1</td>\n",
              "      <td>0.3</td>\n",
              "      <td>2.2</td>\n",
              "      <td>1.7</td>\n",
              "      <td>1.3</td>\n",
              "      <td>23.4</td>\n",
              "      <td>8878</td>\n",
              "      <td>74.1</td>\n",
              "      <td>19.1</td>\n",
              "      <td>6.5</td>\n",
              "      <td>0.3</td>\n",
              "      <td>12.4</td>\n",
              "    </tr>\n",
              "    <tr>\n",
              "      <th>3</th>\n",
              "      <td>1007</td>\n",
              "      <td>Alabama</td>\n",
              "      <td>Bibb County</td>\n",
              "      <td>22580</td>\n",
              "      <td>12251</td>\n",
              "      <td>10329</td>\n",
              "      <td>2.4</td>\n",
              "      <td>74.6</td>\n",
              "      <td>22.0</td>\n",
              "      <td>0.4</td>\n",
              "      <td>0.0</td>\n",
              "      <td>0.0</td>\n",
              "      <td>17662</td>\n",
              "      <td>43404</td>\n",
              "      <td>3431</td>\n",
              "      <td>20911</td>\n",
              "      <td>1889</td>\n",
              "      <td>15.2</td>\n",
              "      <td>26.6</td>\n",
              "      <td>24.4</td>\n",
              "      <td>17.6</td>\n",
              "      <td>19.7</td>\n",
              "      <td>15.9</td>\n",
              "      <td>22.4</td>\n",
              "      <td>86.4</td>\n",
              "      <td>9.5</td>\n",
              "      <td>0.7</td>\n",
              "      <td>0.3</td>\n",
              "      <td>1.7</td>\n",
              "      <td>1.5</td>\n",
              "      <td>30.0</td>\n",
              "      <td>8171</td>\n",
              "      <td>76.0</td>\n",
              "      <td>17.4</td>\n",
              "      <td>6.3</td>\n",
              "      <td>0.3</td>\n",
              "      <td>8.2</td>\n",
              "    </tr>\n",
              "    <tr>\n",
              "      <th>4</th>\n",
              "      <td>1009</td>\n",
              "      <td>Alabama</td>\n",
              "      <td>Blount County</td>\n",
              "      <td>57667</td>\n",
              "      <td>28490</td>\n",
              "      <td>29177</td>\n",
              "      <td>9.0</td>\n",
              "      <td>87.4</td>\n",
              "      <td>1.5</td>\n",
              "      <td>0.3</td>\n",
              "      <td>0.1</td>\n",
              "      <td>0.0</td>\n",
              "      <td>42513</td>\n",
              "      <td>47412</td>\n",
              "      <td>2630</td>\n",
              "      <td>22021</td>\n",
              "      <td>850</td>\n",
              "      <td>15.6</td>\n",
              "      <td>25.4</td>\n",
              "      <td>28.5</td>\n",
              "      <td>12.9</td>\n",
              "      <td>23.3</td>\n",
              "      <td>15.8</td>\n",
              "      <td>19.5</td>\n",
              "      <td>86.8</td>\n",
              "      <td>10.2</td>\n",
              "      <td>0.1</td>\n",
              "      <td>0.4</td>\n",
              "      <td>0.4</td>\n",
              "      <td>2.1</td>\n",
              "      <td>35.0</td>\n",
              "      <td>21380</td>\n",
              "      <td>83.9</td>\n",
              "      <td>11.9</td>\n",
              "      <td>4.0</td>\n",
              "      <td>0.1</td>\n",
              "      <td>4.9</td>\n",
              "    </tr>\n",
              "  </tbody>\n",
              "</table>\n",
              "</div>"
            ],
            "text/plain": [
              "   CountyId    State          County  ...  SelfEmployed  FamilyWork  Unemployment\n",
              "0      1001  Alabama  Autauga County  ...           5.6         0.1           5.2\n",
              "1      1003  Alabama  Baldwin County  ...           6.3         0.1           5.5\n",
              "2      1005  Alabama  Barbour County  ...           6.5         0.3          12.4\n",
              "3      1007  Alabama     Bibb County  ...           6.3         0.3           8.2\n",
              "4      1009  Alabama   Blount County  ...           4.0         0.1           4.9\n",
              "\n",
              "[5 rows x 37 columns]"
            ]
          },
          "metadata": {
            "tags": []
          },
          "execution_count": 10
        }
      ]
    },
    {
      "cell_type": "code",
      "metadata": {
        "colab": {
          "base_uri": "https://localhost:8080/"
        },
        "id": "d6ZVwtj7Mk0T",
        "outputId": "94713f8d-744f-47ea-946e-a77f47cb2404"
      },
      "source": [
        "df_census['County'].value_counts()"
      ],
      "execution_count": null,
      "outputs": [
        {
          "output_type": "execute_result",
          "data": {
            "text/plain": [
              "Washington County    30\n",
              "Jefferson County     25\n",
              "Franklin County      24\n",
              "Jackson County       23\n",
              "Lincoln County       23\n",
              "                     ..\n",
              "Currituck County      1\n",
              "Madison Parish        1\n",
              "Griggs County         1\n",
              "Garvin County         1\n",
              "Pine County           1\n",
              "Name: County, Length: 1955, dtype: int64"
            ]
          },
          "metadata": {
            "tags": []
          },
          "execution_count": 11
        }
      ]
    },
    {
      "cell_type": "code",
      "metadata": {
        "colab": {
          "base_uri": "https://localhost:8080/",
          "height": 198
        },
        "id": "7jzpGg1OMyHQ",
        "outputId": "9aa09a2d-e339-49c2-d868-4969dab18190"
      },
      "source": [
        "state_code.head()"
      ],
      "execution_count": null,
      "outputs": [
        {
          "output_type": "execute_result",
          "data": {
            "text/html": [
              "<div>\n",
              "<style scoped>\n",
              "    .dataframe tbody tr th:only-of-type {\n",
              "        vertical-align: middle;\n",
              "    }\n",
              "\n",
              "    .dataframe tbody tr th {\n",
              "        vertical-align: top;\n",
              "    }\n",
              "\n",
              "    .dataframe thead th {\n",
              "        text-align: right;\n",
              "    }\n",
              "</style>\n",
              "<table border=\"1\" class=\"dataframe\">\n",
              "  <thead>\n",
              "    <tr style=\"text-align: right;\">\n",
              "      <th></th>\n",
              "      <th>State/District</th>\n",
              "      <th>Abbreviation</th>\n",
              "      <th>Postal Code</th>\n",
              "    </tr>\n",
              "  </thead>\n",
              "  <tbody>\n",
              "    <tr>\n",
              "      <th>0</th>\n",
              "      <td>Alabama</td>\n",
              "      <td>Ala.</td>\n",
              "      <td>AL</td>\n",
              "    </tr>\n",
              "    <tr>\n",
              "      <th>1</th>\n",
              "      <td>Alaska</td>\n",
              "      <td>Alaska</td>\n",
              "      <td>AK</td>\n",
              "    </tr>\n",
              "    <tr>\n",
              "      <th>2</th>\n",
              "      <td>Arizona</td>\n",
              "      <td>Ariz.</td>\n",
              "      <td>AZ</td>\n",
              "    </tr>\n",
              "    <tr>\n",
              "      <th>3</th>\n",
              "      <td>Arkansas</td>\n",
              "      <td>Ark.</td>\n",
              "      <td>AR</td>\n",
              "    </tr>\n",
              "    <tr>\n",
              "      <th>4</th>\n",
              "      <td>California</td>\n",
              "      <td>Calif.</td>\n",
              "      <td>CA</td>\n",
              "    </tr>\n",
              "  </tbody>\n",
              "</table>\n",
              "</div>"
            ],
            "text/plain": [
              "  State/District Abbreviation Postal Code\n",
              "0        Alabama         Ala.          AL\n",
              "1         Alaska       Alaska          AK\n",
              "2        Arizona        Ariz.          AZ\n",
              "3       Arkansas         Ark.          AR\n",
              "4     California       Calif.          CA"
            ]
          },
          "metadata": {
            "tags": []
          },
          "execution_count": 12
        }
      ]
    },
    {
      "cell_type": "markdown",
      "metadata": {
        "id": "XWxhOmL8MyMD"
      },
      "source": [
        "####  County 별 통계로 데이터프레임 구조 변경하기"
      ]
    },
    {
      "cell_type": "code",
      "metadata": {
        "colab": {
          "base_uri": "https://localhost:8080/",
          "height": 437
        },
        "id": "bsmbTV_fMyPh",
        "outputId": "f5756b36-e3f5-4567-f638-2b3474b9fc87"
      },
      "source": [
        "# 모든 데이터프레임의 index를 county로 변경하기\n",
        "\n",
        "data = df_pres.loc[df_pres['party'].apply(lambda s: str(s) in ['DEM', 'REP'])]\n",
        "table_pres = pd.pivot_table(data=data, index=['state', 'county'], columns='party', values='total_votes')\n",
        "table_pres.rename({'DEM': 'Pres_DEM', 'REP': 'Pres_REP'}, axis=1, inplace=True)\n",
        "table_pres"
      ],
      "execution_count": null,
      "outputs": [
        {
          "output_type": "execute_result",
          "data": {
            "text/html": [
              "<div>\n",
              "<style scoped>\n",
              "    .dataframe tbody tr th:only-of-type {\n",
              "        vertical-align: middle;\n",
              "    }\n",
              "\n",
              "    .dataframe tbody tr th {\n",
              "        vertical-align: top;\n",
              "    }\n",
              "\n",
              "    .dataframe thead th {\n",
              "        text-align: right;\n",
              "    }\n",
              "</style>\n",
              "<table border=\"1\" class=\"dataframe\">\n",
              "  <thead>\n",
              "    <tr style=\"text-align: right;\">\n",
              "      <th></th>\n",
              "      <th>party</th>\n",
              "      <th>Pres_DEM</th>\n",
              "      <th>Pres_REP</th>\n",
              "    </tr>\n",
              "    <tr>\n",
              "      <th>state</th>\n",
              "      <th>county</th>\n",
              "      <th></th>\n",
              "      <th></th>\n",
              "    </tr>\n",
              "  </thead>\n",
              "  <tbody>\n",
              "    <tr>\n",
              "      <th rowspan=\"5\" valign=\"top\">Alabama</th>\n",
              "      <th>Autauga County</th>\n",
              "      <td>7503</td>\n",
              "      <td>19838</td>\n",
              "    </tr>\n",
              "    <tr>\n",
              "      <th>Baldwin County</th>\n",
              "      <td>24578</td>\n",
              "      <td>83544</td>\n",
              "    </tr>\n",
              "    <tr>\n",
              "      <th>Barbour County</th>\n",
              "      <td>4816</td>\n",
              "      <td>5622</td>\n",
              "    </tr>\n",
              "    <tr>\n",
              "      <th>Bibb County</th>\n",
              "      <td>1986</td>\n",
              "      <td>7525</td>\n",
              "    </tr>\n",
              "    <tr>\n",
              "      <th>Blount County</th>\n",
              "      <td>2640</td>\n",
              "      <td>24711</td>\n",
              "    </tr>\n",
              "    <tr>\n",
              "      <th>...</th>\n",
              "      <th>...</th>\n",
              "      <td>...</td>\n",
              "      <td>...</td>\n",
              "    </tr>\n",
              "    <tr>\n",
              "      <th rowspan=\"5\" valign=\"top\">Wyoming</th>\n",
              "      <th>Sweetwater County</th>\n",
              "      <td>3823</td>\n",
              "      <td>12229</td>\n",
              "    </tr>\n",
              "    <tr>\n",
              "      <th>Teton County</th>\n",
              "      <td>9848</td>\n",
              "      <td>4341</td>\n",
              "    </tr>\n",
              "    <tr>\n",
              "      <th>Uinta County</th>\n",
              "      <td>1591</td>\n",
              "      <td>7496</td>\n",
              "    </tr>\n",
              "    <tr>\n",
              "      <th>Washakie County</th>\n",
              "      <td>651</td>\n",
              "      <td>3245</td>\n",
              "    </tr>\n",
              "    <tr>\n",
              "      <th>Weston County</th>\n",
              "      <td>360</td>\n",
              "      <td>3107</td>\n",
              "    </tr>\n",
              "  </tbody>\n",
              "</table>\n",
              "<p>4633 rows × 2 columns</p>\n",
              "</div>"
            ],
            "text/plain": [
              "party                      Pres_DEM  Pres_REP\n",
              "state   county                               \n",
              "Alabama Autauga County         7503     19838\n",
              "        Baldwin County        24578     83544\n",
              "        Barbour County         4816      5622\n",
              "        Bibb County            1986      7525\n",
              "        Blount County          2640     24711\n",
              "...                             ...       ...\n",
              "Wyoming Sweetwater County      3823     12229\n",
              "        Teton County           9848      4341\n",
              "        Uinta County           1591      7496\n",
              "        Washakie County         651      3245\n",
              "        Weston County           360      3107\n",
              "\n",
              "[4633 rows x 2 columns]"
            ]
          },
          "metadata": {
            "tags": []
          },
          "execution_count": 14
        }
      ]
    },
    {
      "cell_type": "code",
      "metadata": {
        "colab": {
          "base_uri": "https://localhost:8080/",
          "height": 437
        },
        "id": "gURBJBBGMySv",
        "outputId": "b42793a9-f2e1-473c-f16f-ca9f1a6ce566"
      },
      "source": [
        "data = df_gov.loc[df_gov['party'].apply(lambda s: str(s) in ['DEM', 'REP'])]\n",
        "table_gov = pd.pivot_table(data=data, index=['state', 'county'], columns='party', values='votes')\n",
        "table_gov.rename({'DEM': 'Gov_DEM', 'REP': 'Gov_REP'}, axis=1, inplace=True)\n",
        "table_gov"
      ],
      "execution_count": null,
      "outputs": [
        {
          "output_type": "execute_result",
          "data": {
            "text/html": [
              "<div>\n",
              "<style scoped>\n",
              "    .dataframe tbody tr th:only-of-type {\n",
              "        vertical-align: middle;\n",
              "    }\n",
              "\n",
              "    .dataframe tbody tr th {\n",
              "        vertical-align: top;\n",
              "    }\n",
              "\n",
              "    .dataframe thead th {\n",
              "        text-align: right;\n",
              "    }\n",
              "</style>\n",
              "<table border=\"1\" class=\"dataframe\">\n",
              "  <thead>\n",
              "    <tr style=\"text-align: right;\">\n",
              "      <th></th>\n",
              "      <th>party</th>\n",
              "      <th>Gov_DEM</th>\n",
              "      <th>Gov_REP</th>\n",
              "    </tr>\n",
              "    <tr>\n",
              "      <th>state</th>\n",
              "      <th>county</th>\n",
              "      <th></th>\n",
              "      <th></th>\n",
              "    </tr>\n",
              "  </thead>\n",
              "  <tbody>\n",
              "    <tr>\n",
              "      <th rowspan=\"3\" valign=\"top\">Delaware</th>\n",
              "      <th>Kent County</th>\n",
              "      <td>44352</td>\n",
              "      <td>39332</td>\n",
              "    </tr>\n",
              "    <tr>\n",
              "      <th>New Castle County</th>\n",
              "      <td>191678</td>\n",
              "      <td>82545</td>\n",
              "    </tr>\n",
              "    <tr>\n",
              "      <th>Sussex County</th>\n",
              "      <td>56873</td>\n",
              "      <td>68435</td>\n",
              "    </tr>\n",
              "    <tr>\n",
              "      <th rowspan=\"2\" valign=\"top\">Indiana</th>\n",
              "      <th>Adams County</th>\n",
              "      <td>2143</td>\n",
              "      <td>9441</td>\n",
              "    </tr>\n",
              "    <tr>\n",
              "      <th>Allen County</th>\n",
              "      <td>53895</td>\n",
              "      <td>98406</td>\n",
              "    </tr>\n",
              "    <tr>\n",
              "      <th>...</th>\n",
              "      <th>...</th>\n",
              "      <td>...</td>\n",
              "      <td>...</td>\n",
              "    </tr>\n",
              "    <tr>\n",
              "      <th rowspan=\"5\" valign=\"top\">West Virginia</th>\n",
              "      <th>Webster County</th>\n",
              "      <td>659</td>\n",
              "      <td>2552</td>\n",
              "    </tr>\n",
              "    <tr>\n",
              "      <th>Wetzel County</th>\n",
              "      <td>1727</td>\n",
              "      <td>4559</td>\n",
              "    </tr>\n",
              "    <tr>\n",
              "      <th>Wirt County</th>\n",
              "      <td>483</td>\n",
              "      <td>1947</td>\n",
              "    </tr>\n",
              "    <tr>\n",
              "      <th>Wood County</th>\n",
              "      <td>9933</td>\n",
              "      <td>26232</td>\n",
              "    </tr>\n",
              "    <tr>\n",
              "      <th>Wyoming County</th>\n",
              "      <td>1240</td>\n",
              "      <td>6941</td>\n",
              "    </tr>\n",
              "  </tbody>\n",
              "</table>\n",
              "<p>1025 rows × 2 columns</p>\n",
              "</div>"
            ],
            "text/plain": [
              "party                            Gov_DEM  Gov_REP\n",
              "state         county                             \n",
              "Delaware      Kent County          44352    39332\n",
              "              New Castle County   191678    82545\n",
              "              Sussex County        56873    68435\n",
              "Indiana       Adams County          2143     9441\n",
              "              Allen County         53895    98406\n",
              "...                                  ...      ...\n",
              "West Virginia Webster County         659     2552\n",
              "              Wetzel County         1727     4559\n",
              "              Wirt County            483     1947\n",
              "              Wood County           9933    26232\n",
              "              Wyoming County        1240     6941\n",
              "\n",
              "[1025 rows x 2 columns]"
            ]
          },
          "metadata": {
            "tags": []
          },
          "execution_count": 15
        }
      ]
    },
    {
      "cell_type": "code",
      "metadata": {
        "colab": {
          "base_uri": "https://localhost:8080/",
          "height": 630
        },
        "id": "rro4fSvmMyV2",
        "outputId": "d598202d-f022-469d-b7ca-926e371fb4f4"
      },
      "source": [
        "df_census.rename({'State': 'state', 'County':'county'}, axis=1, inplace=True)\n",
        "df_census.drop('CountyId', axis=1, inplace=True)\n",
        "df_census.set_index(['state', 'county'], inplace=True)\n",
        "df_census"
      ],
      "execution_count": null,
      "outputs": [
        {
          "output_type": "execute_result",
          "data": {
            "text/html": [
              "<div>\n",
              "<style scoped>\n",
              "    .dataframe tbody tr th:only-of-type {\n",
              "        vertical-align: middle;\n",
              "    }\n",
              "\n",
              "    .dataframe tbody tr th {\n",
              "        vertical-align: top;\n",
              "    }\n",
              "\n",
              "    .dataframe thead th {\n",
              "        text-align: right;\n",
              "    }\n",
              "</style>\n",
              "<table border=\"1\" class=\"dataframe\">\n",
              "  <thead>\n",
              "    <tr style=\"text-align: right;\">\n",
              "      <th></th>\n",
              "      <th></th>\n",
              "      <th>TotalPop</th>\n",
              "      <th>Men</th>\n",
              "      <th>Women</th>\n",
              "      <th>Hispanic</th>\n",
              "      <th>White</th>\n",
              "      <th>Black</th>\n",
              "      <th>Native</th>\n",
              "      <th>Asian</th>\n",
              "      <th>Pacific</th>\n",
              "      <th>VotingAgeCitizen</th>\n",
              "      <th>Income</th>\n",
              "      <th>IncomeErr</th>\n",
              "      <th>IncomePerCap</th>\n",
              "      <th>IncomePerCapErr</th>\n",
              "      <th>Poverty</th>\n",
              "      <th>ChildPoverty</th>\n",
              "      <th>Professional</th>\n",
              "      <th>Service</th>\n",
              "      <th>Office</th>\n",
              "      <th>Construction</th>\n",
              "      <th>Production</th>\n",
              "      <th>Drive</th>\n",
              "      <th>Carpool</th>\n",
              "      <th>Transit</th>\n",
              "      <th>Walk</th>\n",
              "      <th>OtherTransp</th>\n",
              "      <th>WorkAtHome</th>\n",
              "      <th>MeanCommute</th>\n",
              "      <th>Employed</th>\n",
              "      <th>PrivateWork</th>\n",
              "      <th>PublicWork</th>\n",
              "      <th>SelfEmployed</th>\n",
              "      <th>FamilyWork</th>\n",
              "      <th>Unemployment</th>\n",
              "    </tr>\n",
              "    <tr>\n",
              "      <th>state</th>\n",
              "      <th>county</th>\n",
              "      <th></th>\n",
              "      <th></th>\n",
              "      <th></th>\n",
              "      <th></th>\n",
              "      <th></th>\n",
              "      <th></th>\n",
              "      <th></th>\n",
              "      <th></th>\n",
              "      <th></th>\n",
              "      <th></th>\n",
              "      <th></th>\n",
              "      <th></th>\n",
              "      <th></th>\n",
              "      <th></th>\n",
              "      <th></th>\n",
              "      <th></th>\n",
              "      <th></th>\n",
              "      <th></th>\n",
              "      <th></th>\n",
              "      <th></th>\n",
              "      <th></th>\n",
              "      <th></th>\n",
              "      <th></th>\n",
              "      <th></th>\n",
              "      <th></th>\n",
              "      <th></th>\n",
              "      <th></th>\n",
              "      <th></th>\n",
              "      <th></th>\n",
              "      <th></th>\n",
              "      <th></th>\n",
              "      <th></th>\n",
              "      <th></th>\n",
              "      <th></th>\n",
              "    </tr>\n",
              "  </thead>\n",
              "  <tbody>\n",
              "    <tr>\n",
              "      <th rowspan=\"5\" valign=\"top\">Alabama</th>\n",
              "      <th>Autauga County</th>\n",
              "      <td>55036</td>\n",
              "      <td>26899</td>\n",
              "      <td>28137</td>\n",
              "      <td>2.7</td>\n",
              "      <td>75.4</td>\n",
              "      <td>18.9</td>\n",
              "      <td>0.3</td>\n",
              "      <td>0.9</td>\n",
              "      <td>0.0</td>\n",
              "      <td>41016</td>\n",
              "      <td>55317</td>\n",
              "      <td>2838</td>\n",
              "      <td>27824</td>\n",
              "      <td>2024</td>\n",
              "      <td>13.7</td>\n",
              "      <td>20.1</td>\n",
              "      <td>35.3</td>\n",
              "      <td>18.0</td>\n",
              "      <td>23.2</td>\n",
              "      <td>8.1</td>\n",
              "      <td>15.4</td>\n",
              "      <td>86.0</td>\n",
              "      <td>9.6</td>\n",
              "      <td>0.1</td>\n",
              "      <td>0.6</td>\n",
              "      <td>1.3</td>\n",
              "      <td>2.5</td>\n",
              "      <td>25.8</td>\n",
              "      <td>24112</td>\n",
              "      <td>74.1</td>\n",
              "      <td>20.2</td>\n",
              "      <td>5.6</td>\n",
              "      <td>0.1</td>\n",
              "      <td>5.2</td>\n",
              "    </tr>\n",
              "    <tr>\n",
              "      <th>Baldwin County</th>\n",
              "      <td>203360</td>\n",
              "      <td>99527</td>\n",
              "      <td>103833</td>\n",
              "      <td>4.4</td>\n",
              "      <td>83.1</td>\n",
              "      <td>9.5</td>\n",
              "      <td>0.8</td>\n",
              "      <td>0.7</td>\n",
              "      <td>0.0</td>\n",
              "      <td>155376</td>\n",
              "      <td>52562</td>\n",
              "      <td>1348</td>\n",
              "      <td>29364</td>\n",
              "      <td>735</td>\n",
              "      <td>11.8</td>\n",
              "      <td>16.1</td>\n",
              "      <td>35.7</td>\n",
              "      <td>18.2</td>\n",
              "      <td>25.6</td>\n",
              "      <td>9.7</td>\n",
              "      <td>10.8</td>\n",
              "      <td>84.7</td>\n",
              "      <td>7.6</td>\n",
              "      <td>0.1</td>\n",
              "      <td>0.8</td>\n",
              "      <td>1.1</td>\n",
              "      <td>5.6</td>\n",
              "      <td>27.0</td>\n",
              "      <td>89527</td>\n",
              "      <td>80.7</td>\n",
              "      <td>12.9</td>\n",
              "      <td>6.3</td>\n",
              "      <td>0.1</td>\n",
              "      <td>5.5</td>\n",
              "    </tr>\n",
              "    <tr>\n",
              "      <th>Barbour County</th>\n",
              "      <td>26201</td>\n",
              "      <td>13976</td>\n",
              "      <td>12225</td>\n",
              "      <td>4.2</td>\n",
              "      <td>45.7</td>\n",
              "      <td>47.8</td>\n",
              "      <td>0.2</td>\n",
              "      <td>0.6</td>\n",
              "      <td>0.0</td>\n",
              "      <td>20269</td>\n",
              "      <td>33368</td>\n",
              "      <td>2551</td>\n",
              "      <td>17561</td>\n",
              "      <td>798</td>\n",
              "      <td>27.2</td>\n",
              "      <td>44.9</td>\n",
              "      <td>25.0</td>\n",
              "      <td>16.8</td>\n",
              "      <td>22.6</td>\n",
              "      <td>11.5</td>\n",
              "      <td>24.1</td>\n",
              "      <td>83.4</td>\n",
              "      <td>11.1</td>\n",
              "      <td>0.3</td>\n",
              "      <td>2.2</td>\n",
              "      <td>1.7</td>\n",
              "      <td>1.3</td>\n",
              "      <td>23.4</td>\n",
              "      <td>8878</td>\n",
              "      <td>74.1</td>\n",
              "      <td>19.1</td>\n",
              "      <td>6.5</td>\n",
              "      <td>0.3</td>\n",
              "      <td>12.4</td>\n",
              "    </tr>\n",
              "    <tr>\n",
              "      <th>Bibb County</th>\n",
              "      <td>22580</td>\n",
              "      <td>12251</td>\n",
              "      <td>10329</td>\n",
              "      <td>2.4</td>\n",
              "      <td>74.6</td>\n",
              "      <td>22.0</td>\n",
              "      <td>0.4</td>\n",
              "      <td>0.0</td>\n",
              "      <td>0.0</td>\n",
              "      <td>17662</td>\n",
              "      <td>43404</td>\n",
              "      <td>3431</td>\n",
              "      <td>20911</td>\n",
              "      <td>1889</td>\n",
              "      <td>15.2</td>\n",
              "      <td>26.6</td>\n",
              "      <td>24.4</td>\n",
              "      <td>17.6</td>\n",
              "      <td>19.7</td>\n",
              "      <td>15.9</td>\n",
              "      <td>22.4</td>\n",
              "      <td>86.4</td>\n",
              "      <td>9.5</td>\n",
              "      <td>0.7</td>\n",
              "      <td>0.3</td>\n",
              "      <td>1.7</td>\n",
              "      <td>1.5</td>\n",
              "      <td>30.0</td>\n",
              "      <td>8171</td>\n",
              "      <td>76.0</td>\n",
              "      <td>17.4</td>\n",
              "      <td>6.3</td>\n",
              "      <td>0.3</td>\n",
              "      <td>8.2</td>\n",
              "    </tr>\n",
              "    <tr>\n",
              "      <th>Blount County</th>\n",
              "      <td>57667</td>\n",
              "      <td>28490</td>\n",
              "      <td>29177</td>\n",
              "      <td>9.0</td>\n",
              "      <td>87.4</td>\n",
              "      <td>1.5</td>\n",
              "      <td>0.3</td>\n",
              "      <td>0.1</td>\n",
              "      <td>0.0</td>\n",
              "      <td>42513</td>\n",
              "      <td>47412</td>\n",
              "      <td>2630</td>\n",
              "      <td>22021</td>\n",
              "      <td>850</td>\n",
              "      <td>15.6</td>\n",
              "      <td>25.4</td>\n",
              "      <td>28.5</td>\n",
              "      <td>12.9</td>\n",
              "      <td>23.3</td>\n",
              "      <td>15.8</td>\n",
              "      <td>19.5</td>\n",
              "      <td>86.8</td>\n",
              "      <td>10.2</td>\n",
              "      <td>0.1</td>\n",
              "      <td>0.4</td>\n",
              "      <td>0.4</td>\n",
              "      <td>2.1</td>\n",
              "      <td>35.0</td>\n",
              "      <td>21380</td>\n",
              "      <td>83.9</td>\n",
              "      <td>11.9</td>\n",
              "      <td>4.0</td>\n",
              "      <td>0.1</td>\n",
              "      <td>4.9</td>\n",
              "    </tr>\n",
              "    <tr>\n",
              "      <th>...</th>\n",
              "      <th>...</th>\n",
              "      <td>...</td>\n",
              "      <td>...</td>\n",
              "      <td>...</td>\n",
              "      <td>...</td>\n",
              "      <td>...</td>\n",
              "      <td>...</td>\n",
              "      <td>...</td>\n",
              "      <td>...</td>\n",
              "      <td>...</td>\n",
              "      <td>...</td>\n",
              "      <td>...</td>\n",
              "      <td>...</td>\n",
              "      <td>...</td>\n",
              "      <td>...</td>\n",
              "      <td>...</td>\n",
              "      <td>...</td>\n",
              "      <td>...</td>\n",
              "      <td>...</td>\n",
              "      <td>...</td>\n",
              "      <td>...</td>\n",
              "      <td>...</td>\n",
              "      <td>...</td>\n",
              "      <td>...</td>\n",
              "      <td>...</td>\n",
              "      <td>...</td>\n",
              "      <td>...</td>\n",
              "      <td>...</td>\n",
              "      <td>...</td>\n",
              "      <td>...</td>\n",
              "      <td>...</td>\n",
              "      <td>...</td>\n",
              "      <td>...</td>\n",
              "      <td>...</td>\n",
              "      <td>...</td>\n",
              "    </tr>\n",
              "    <tr>\n",
              "      <th rowspan=\"5\" valign=\"top\">Puerto Rico</th>\n",
              "      <th>Vega Baja Municipio</th>\n",
              "      <td>54754</td>\n",
              "      <td>26269</td>\n",
              "      <td>28485</td>\n",
              "      <td>96.7</td>\n",
              "      <td>3.1</td>\n",
              "      <td>0.1</td>\n",
              "      <td>0.0</td>\n",
              "      <td>0.0</td>\n",
              "      <td>0.0</td>\n",
              "      <td>42838</td>\n",
              "      <td>18900</td>\n",
              "      <td>1219</td>\n",
              "      <td>10197</td>\n",
              "      <td>576</td>\n",
              "      <td>43.8</td>\n",
              "      <td>49.4</td>\n",
              "      <td>28.6</td>\n",
              "      <td>20.2</td>\n",
              "      <td>25.9</td>\n",
              "      <td>11.1</td>\n",
              "      <td>14.2</td>\n",
              "      <td>92.0</td>\n",
              "      <td>4.2</td>\n",
              "      <td>0.9</td>\n",
              "      <td>1.4</td>\n",
              "      <td>0.6</td>\n",
              "      <td>0.9</td>\n",
              "      <td>31.6</td>\n",
              "      <td>14234</td>\n",
              "      <td>76.2</td>\n",
              "      <td>19.3</td>\n",
              "      <td>4.3</td>\n",
              "      <td>0.2</td>\n",
              "      <td>16.8</td>\n",
              "    </tr>\n",
              "    <tr>\n",
              "      <th>Vieques Municipio</th>\n",
              "      <td>8931</td>\n",
              "      <td>4351</td>\n",
              "      <td>4580</td>\n",
              "      <td>95.7</td>\n",
              "      <td>4.0</td>\n",
              "      <td>0.0</td>\n",
              "      <td>0.0</td>\n",
              "      <td>0.0</td>\n",
              "      <td>0.0</td>\n",
              "      <td>7045</td>\n",
              "      <td>16261</td>\n",
              "      <td>2414</td>\n",
              "      <td>11136</td>\n",
              "      <td>1459</td>\n",
              "      <td>36.8</td>\n",
              "      <td>68.2</td>\n",
              "      <td>20.9</td>\n",
              "      <td>38.4</td>\n",
              "      <td>16.4</td>\n",
              "      <td>16.9</td>\n",
              "      <td>7.3</td>\n",
              "      <td>76.3</td>\n",
              "      <td>16.9</td>\n",
              "      <td>0.0</td>\n",
              "      <td>5.0</td>\n",
              "      <td>0.0</td>\n",
              "      <td>1.7</td>\n",
              "      <td>14.9</td>\n",
              "      <td>2927</td>\n",
              "      <td>40.7</td>\n",
              "      <td>40.9</td>\n",
              "      <td>18.4</td>\n",
              "      <td>0.0</td>\n",
              "      <td>12.8</td>\n",
              "    </tr>\n",
              "    <tr>\n",
              "      <th>Villalba Municipio</th>\n",
              "      <td>23659</td>\n",
              "      <td>11510</td>\n",
              "      <td>12149</td>\n",
              "      <td>99.7</td>\n",
              "      <td>0.2</td>\n",
              "      <td>0.1</td>\n",
              "      <td>0.0</td>\n",
              "      <td>0.0</td>\n",
              "      <td>0.0</td>\n",
              "      <td>18053</td>\n",
              "      <td>19893</td>\n",
              "      <td>1935</td>\n",
              "      <td>10449</td>\n",
              "      <td>1619</td>\n",
              "      <td>50.0</td>\n",
              "      <td>67.9</td>\n",
              "      <td>22.5</td>\n",
              "      <td>21.2</td>\n",
              "      <td>22.7</td>\n",
              "      <td>14.1</td>\n",
              "      <td>19.5</td>\n",
              "      <td>83.1</td>\n",
              "      <td>11.8</td>\n",
              "      <td>0.1</td>\n",
              "      <td>2.1</td>\n",
              "      <td>0.0</td>\n",
              "      <td>2.8</td>\n",
              "      <td>28.4</td>\n",
              "      <td>6873</td>\n",
              "      <td>59.2</td>\n",
              "      <td>30.2</td>\n",
              "      <td>10.4</td>\n",
              "      <td>0.2</td>\n",
              "      <td>24.8</td>\n",
              "    </tr>\n",
              "    <tr>\n",
              "      <th>Yabucoa Municipio</th>\n",
              "      <td>35025</td>\n",
              "      <td>16984</td>\n",
              "      <td>18041</td>\n",
              "      <td>99.9</td>\n",
              "      <td>0.1</td>\n",
              "      <td>0.0</td>\n",
              "      <td>0.0</td>\n",
              "      <td>0.0</td>\n",
              "      <td>0.0</td>\n",
              "      <td>27523</td>\n",
              "      <td>15586</td>\n",
              "      <td>1467</td>\n",
              "      <td>8672</td>\n",
              "      <td>702</td>\n",
              "      <td>52.4</td>\n",
              "      <td>62.1</td>\n",
              "      <td>27.7</td>\n",
              "      <td>26.0</td>\n",
              "      <td>20.7</td>\n",
              "      <td>9.5</td>\n",
              "      <td>16.0</td>\n",
              "      <td>87.6</td>\n",
              "      <td>9.2</td>\n",
              "      <td>0.0</td>\n",
              "      <td>1.4</td>\n",
              "      <td>1.8</td>\n",
              "      <td>0.1</td>\n",
              "      <td>30.5</td>\n",
              "      <td>7878</td>\n",
              "      <td>62.7</td>\n",
              "      <td>30.9</td>\n",
              "      <td>6.3</td>\n",
              "      <td>0.0</td>\n",
              "      <td>25.4</td>\n",
              "    </tr>\n",
              "    <tr>\n",
              "      <th>Yauco Municipio</th>\n",
              "      <td>37585</td>\n",
              "      <td>18052</td>\n",
              "      <td>19533</td>\n",
              "      <td>99.8</td>\n",
              "      <td>0.2</td>\n",
              "      <td>0.0</td>\n",
              "      <td>0.0</td>\n",
              "      <td>0.0</td>\n",
              "      <td>0.0</td>\n",
              "      <td>29763</td>\n",
              "      <td>14451</td>\n",
              "      <td>1371</td>\n",
              "      <td>8124</td>\n",
              "      <td>445</td>\n",
              "      <td>50.4</td>\n",
              "      <td>58.2</td>\n",
              "      <td>30.4</td>\n",
              "      <td>20.2</td>\n",
              "      <td>25.6</td>\n",
              "      <td>12.6</td>\n",
              "      <td>11.3</td>\n",
              "      <td>82.8</td>\n",
              "      <td>8.2</td>\n",
              "      <td>2.2</td>\n",
              "      <td>1.7</td>\n",
              "      <td>0.1</td>\n",
              "      <td>5.0</td>\n",
              "      <td>24.4</td>\n",
              "      <td>8995</td>\n",
              "      <td>66.4</td>\n",
              "      <td>28.7</td>\n",
              "      <td>5.0</td>\n",
              "      <td>0.0</td>\n",
              "      <td>24.0</td>\n",
              "    </tr>\n",
              "  </tbody>\n",
              "</table>\n",
              "<p>3220 rows × 34 columns</p>\n",
              "</div>"
            ],
            "text/plain": [
              "                                 TotalPop    Men  ...  FamilyWork  Unemployment\n",
              "state       county                                ...                          \n",
              "Alabama     Autauga County          55036  26899  ...         0.1           5.2\n",
              "            Baldwin County         203360  99527  ...         0.1           5.5\n",
              "            Barbour County          26201  13976  ...         0.3          12.4\n",
              "            Bibb County             22580  12251  ...         0.3           8.2\n",
              "            Blount County           57667  28490  ...         0.1           4.9\n",
              "...                                   ...    ...  ...         ...           ...\n",
              "Puerto Rico Vega Baja Municipio     54754  26269  ...         0.2          16.8\n",
              "            Vieques Municipio        8931   4351  ...         0.0          12.8\n",
              "            Villalba Municipio      23659  11510  ...         0.2          24.8\n",
              "            Yabucoa Municipio       35025  16984  ...         0.0          25.4\n",
              "            Yauco Municipio         37585  18052  ...         0.0          24.0\n",
              "\n",
              "[3220 rows x 34 columns]"
            ]
          },
          "metadata": {
            "tags": []
          },
          "execution_count": 16
        }
      ]
    },
    {
      "cell_type": "code",
      "metadata": {
        "colab": {
          "base_uri": "https://localhost:8080/"
        },
        "id": "kdyJBPgXNj8d",
        "outputId": "f3bf6681-0419-4a49-bd5d-870ebe00a65b"
      },
      "source": [
        "df_census.columns"
      ],
      "execution_count": null,
      "outputs": [
        {
          "output_type": "execute_result",
          "data": {
            "text/plain": [
              "Index(['TotalPop', 'Men', 'Women', 'Hispanic', 'White', 'Black', 'Native',\n",
              "       'Asian', 'Pacific', 'VotingAgeCitizen', 'Income', 'IncomeErr',\n",
              "       'IncomePerCap', 'IncomePerCapErr', 'Poverty', 'ChildPoverty',\n",
              "       'Professional', 'Service', 'Office', 'Construction', 'Production',\n",
              "       'Drive', 'Carpool', 'Transit', 'Walk', 'OtherTransp', 'WorkAtHome',\n",
              "       'MeanCommute', 'Employed', 'PrivateWork', 'PublicWork', 'SelfEmployed',\n",
              "       'FamilyWork', 'Unemployment'],\n",
              "      dtype='object')"
            ]
          },
          "metadata": {
            "tags": []
          },
          "execution_count": 17
        }
      ]
    },
    {
      "cell_type": "code",
      "metadata": {
        "id": "OfQ4rkXYNlif"
      },
      "source": [
        "df_census.drop(['Income', 'IncomeErr', 'IncomePerCapErr'], axis=1, inplace=True)"
      ],
      "execution_count": null,
      "outputs": []
    },
    {
      "cell_type": "code",
      "metadata": {
        "id": "art8uODtNnAX"
      },
      "source": [
        "df_census.drop('Women', axis=1, inplace=True)"
      ],
      "execution_count": null,
      "outputs": []
    },
    {
      "cell_type": "code",
      "metadata": {
        "id": "A6OPNPOQNobQ"
      },
      "source": [
        "# 다중공성성 문제 떄문에 성비로 바꿔줌.(남+여=토탈인구 두가지가 겹치는 것이기 때문에. 아래의 것들도 같은 이유다.)\n",
        "df_census['Men'] /= df_census['TotalPop']"
      ],
      "execution_count": null,
      "outputs": []
    },
    {
      "cell_type": "code",
      "metadata": {
        "id": "PszBjxwwNq6X"
      },
      "source": [
        "df_census['VotingAgeCitizen'] /= df_census['TotalPop']"
      ],
      "execution_count": null,
      "outputs": []
    },
    {
      "cell_type": "code",
      "metadata": {
        "id": "5IHH7m5nNsmH"
      },
      "source": [
        "df_census['Employed'] /= df_census['TotalPop']"
      ],
      "execution_count": null,
      "outputs": []
    },
    {
      "cell_type": "code",
      "metadata": {
        "colab": {
          "base_uri": "https://localhost:8080/",
          "height": 335
        },
        "id": "juIXZVKwNt23",
        "outputId": "683b4749-789d-401a-f0ea-510d6669847e"
      },
      "source": [
        "df_census.head()"
      ],
      "execution_count": null,
      "outputs": [
        {
          "output_type": "execute_result",
          "data": {
            "text/html": [
              "<div>\n",
              "<style scoped>\n",
              "    .dataframe tbody tr th:only-of-type {\n",
              "        vertical-align: middle;\n",
              "    }\n",
              "\n",
              "    .dataframe tbody tr th {\n",
              "        vertical-align: top;\n",
              "    }\n",
              "\n",
              "    .dataframe thead th {\n",
              "        text-align: right;\n",
              "    }\n",
              "</style>\n",
              "<table border=\"1\" class=\"dataframe\">\n",
              "  <thead>\n",
              "    <tr style=\"text-align: right;\">\n",
              "      <th></th>\n",
              "      <th></th>\n",
              "      <th>TotalPop</th>\n",
              "      <th>Men</th>\n",
              "      <th>Hispanic</th>\n",
              "      <th>White</th>\n",
              "      <th>Black</th>\n",
              "      <th>Native</th>\n",
              "      <th>Asian</th>\n",
              "      <th>Pacific</th>\n",
              "      <th>VotingAgeCitizen</th>\n",
              "      <th>IncomePerCap</th>\n",
              "      <th>Poverty</th>\n",
              "      <th>ChildPoverty</th>\n",
              "      <th>Professional</th>\n",
              "      <th>Service</th>\n",
              "      <th>Office</th>\n",
              "      <th>Construction</th>\n",
              "      <th>Production</th>\n",
              "      <th>Drive</th>\n",
              "      <th>Carpool</th>\n",
              "      <th>Transit</th>\n",
              "      <th>Walk</th>\n",
              "      <th>OtherTransp</th>\n",
              "      <th>WorkAtHome</th>\n",
              "      <th>MeanCommute</th>\n",
              "      <th>Employed</th>\n",
              "      <th>PrivateWork</th>\n",
              "      <th>PublicWork</th>\n",
              "      <th>SelfEmployed</th>\n",
              "      <th>FamilyWork</th>\n",
              "      <th>Unemployment</th>\n",
              "    </tr>\n",
              "    <tr>\n",
              "      <th>state</th>\n",
              "      <th>county</th>\n",
              "      <th></th>\n",
              "      <th></th>\n",
              "      <th></th>\n",
              "      <th></th>\n",
              "      <th></th>\n",
              "      <th></th>\n",
              "      <th></th>\n",
              "      <th></th>\n",
              "      <th></th>\n",
              "      <th></th>\n",
              "      <th></th>\n",
              "      <th></th>\n",
              "      <th></th>\n",
              "      <th></th>\n",
              "      <th></th>\n",
              "      <th></th>\n",
              "      <th></th>\n",
              "      <th></th>\n",
              "      <th></th>\n",
              "      <th></th>\n",
              "      <th></th>\n",
              "      <th></th>\n",
              "      <th></th>\n",
              "      <th></th>\n",
              "      <th></th>\n",
              "      <th></th>\n",
              "      <th></th>\n",
              "      <th></th>\n",
              "      <th></th>\n",
              "      <th></th>\n",
              "    </tr>\n",
              "  </thead>\n",
              "  <tbody>\n",
              "    <tr>\n",
              "      <th rowspan=\"5\" valign=\"top\">Alabama</th>\n",
              "      <th>Autauga County</th>\n",
              "      <td>55036</td>\n",
              "      <td>0.488753</td>\n",
              "      <td>2.7</td>\n",
              "      <td>75.4</td>\n",
              "      <td>18.9</td>\n",
              "      <td>0.3</td>\n",
              "      <td>0.9</td>\n",
              "      <td>0.0</td>\n",
              "      <td>0.745258</td>\n",
              "      <td>27824</td>\n",
              "      <td>13.7</td>\n",
              "      <td>20.1</td>\n",
              "      <td>35.3</td>\n",
              "      <td>18.0</td>\n",
              "      <td>23.2</td>\n",
              "      <td>8.1</td>\n",
              "      <td>15.4</td>\n",
              "      <td>86.0</td>\n",
              "      <td>9.6</td>\n",
              "      <td>0.1</td>\n",
              "      <td>0.6</td>\n",
              "      <td>1.3</td>\n",
              "      <td>2.5</td>\n",
              "      <td>25.8</td>\n",
              "      <td>0.438113</td>\n",
              "      <td>74.1</td>\n",
              "      <td>20.2</td>\n",
              "      <td>5.6</td>\n",
              "      <td>0.1</td>\n",
              "      <td>5.2</td>\n",
              "    </tr>\n",
              "    <tr>\n",
              "      <th>Baldwin County</th>\n",
              "      <td>203360</td>\n",
              "      <td>0.489413</td>\n",
              "      <td>4.4</td>\n",
              "      <td>83.1</td>\n",
              "      <td>9.5</td>\n",
              "      <td>0.8</td>\n",
              "      <td>0.7</td>\n",
              "      <td>0.0</td>\n",
              "      <td>0.764044</td>\n",
              "      <td>29364</td>\n",
              "      <td>11.8</td>\n",
              "      <td>16.1</td>\n",
              "      <td>35.7</td>\n",
              "      <td>18.2</td>\n",
              "      <td>25.6</td>\n",
              "      <td>9.7</td>\n",
              "      <td>10.8</td>\n",
              "      <td>84.7</td>\n",
              "      <td>7.6</td>\n",
              "      <td>0.1</td>\n",
              "      <td>0.8</td>\n",
              "      <td>1.1</td>\n",
              "      <td>5.6</td>\n",
              "      <td>27.0</td>\n",
              "      <td>0.440239</td>\n",
              "      <td>80.7</td>\n",
              "      <td>12.9</td>\n",
              "      <td>6.3</td>\n",
              "      <td>0.1</td>\n",
              "      <td>5.5</td>\n",
              "    </tr>\n",
              "    <tr>\n",
              "      <th>Barbour County</th>\n",
              "      <td>26201</td>\n",
              "      <td>0.533415</td>\n",
              "      <td>4.2</td>\n",
              "      <td>45.7</td>\n",
              "      <td>47.8</td>\n",
              "      <td>0.2</td>\n",
              "      <td>0.6</td>\n",
              "      <td>0.0</td>\n",
              "      <td>0.773596</td>\n",
              "      <td>17561</td>\n",
              "      <td>27.2</td>\n",
              "      <td>44.9</td>\n",
              "      <td>25.0</td>\n",
              "      <td>16.8</td>\n",
              "      <td>22.6</td>\n",
              "      <td>11.5</td>\n",
              "      <td>24.1</td>\n",
              "      <td>83.4</td>\n",
              "      <td>11.1</td>\n",
              "      <td>0.3</td>\n",
              "      <td>2.2</td>\n",
              "      <td>1.7</td>\n",
              "      <td>1.3</td>\n",
              "      <td>23.4</td>\n",
              "      <td>0.338842</td>\n",
              "      <td>74.1</td>\n",
              "      <td>19.1</td>\n",
              "      <td>6.5</td>\n",
              "      <td>0.3</td>\n",
              "      <td>12.4</td>\n",
              "    </tr>\n",
              "    <tr>\n",
              "      <th>Bibb County</th>\n",
              "      <td>22580</td>\n",
              "      <td>0.542560</td>\n",
              "      <td>2.4</td>\n",
              "      <td>74.6</td>\n",
              "      <td>22.0</td>\n",
              "      <td>0.4</td>\n",
              "      <td>0.0</td>\n",
              "      <td>0.0</td>\n",
              "      <td>0.782197</td>\n",
              "      <td>20911</td>\n",
              "      <td>15.2</td>\n",
              "      <td>26.6</td>\n",
              "      <td>24.4</td>\n",
              "      <td>17.6</td>\n",
              "      <td>19.7</td>\n",
              "      <td>15.9</td>\n",
              "      <td>22.4</td>\n",
              "      <td>86.4</td>\n",
              "      <td>9.5</td>\n",
              "      <td>0.7</td>\n",
              "      <td>0.3</td>\n",
              "      <td>1.7</td>\n",
              "      <td>1.5</td>\n",
              "      <td>30.0</td>\n",
              "      <td>0.361869</td>\n",
              "      <td>76.0</td>\n",
              "      <td>17.4</td>\n",
              "      <td>6.3</td>\n",
              "      <td>0.3</td>\n",
              "      <td>8.2</td>\n",
              "    </tr>\n",
              "    <tr>\n",
              "      <th>Blount County</th>\n",
              "      <td>57667</td>\n",
              "      <td>0.494043</td>\n",
              "      <td>9.0</td>\n",
              "      <td>87.4</td>\n",
              "      <td>1.5</td>\n",
              "      <td>0.3</td>\n",
              "      <td>0.1</td>\n",
              "      <td>0.0</td>\n",
              "      <td>0.737215</td>\n",
              "      <td>22021</td>\n",
              "      <td>15.6</td>\n",
              "      <td>25.4</td>\n",
              "      <td>28.5</td>\n",
              "      <td>12.9</td>\n",
              "      <td>23.3</td>\n",
              "      <td>15.8</td>\n",
              "      <td>19.5</td>\n",
              "      <td>86.8</td>\n",
              "      <td>10.2</td>\n",
              "      <td>0.1</td>\n",
              "      <td>0.4</td>\n",
              "      <td>0.4</td>\n",
              "      <td>2.1</td>\n",
              "      <td>35.0</td>\n",
              "      <td>0.370749</td>\n",
              "      <td>83.9</td>\n",
              "      <td>11.9</td>\n",
              "      <td>4.0</td>\n",
              "      <td>0.1</td>\n",
              "      <td>4.9</td>\n",
              "    </tr>\n",
              "  </tbody>\n",
              "</table>\n",
              "</div>"
            ],
            "text/plain": [
              "                        TotalPop       Men  ...  FamilyWork  Unemployment\n",
              "state   county                              ...                          \n",
              "Alabama Autauga County     55036  0.488753  ...         0.1           5.2\n",
              "        Baldwin County    203360  0.489413  ...         0.1           5.5\n",
              "        Barbour County     26201  0.533415  ...         0.3          12.4\n",
              "        Bibb County        22580  0.542560  ...         0.3           8.2\n",
              "        Blount County      57667  0.494043  ...         0.1           4.9\n",
              "\n",
              "[5 rows x 30 columns]"
            ]
          },
          "metadata": {
            "tags": []
          },
          "execution_count": 23
        }
      ]
    },
    {
      "cell_type": "markdown",
      "metadata": {
        "id": "8irP88hANvF5"
      },
      "source": [
        "#### 여러 데이터프레임을 하나의 데이터프레임으로 결합"
      ]
    },
    {
      "cell_type": "code",
      "metadata": {
        "id": "oRNrRFp7N1h4"
      },
      "source": [
        "# df_pres, df_gov, df_census 데이터프레임을 하나로 결합하기\n",
        "df = pd.concat([table_pres, table_gov, df_census], axis=1)"
      ],
      "execution_count": null,
      "outputs": []
    },
    {
      "cell_type": "code",
      "metadata": {
        "colab": {
          "base_uri": "https://localhost:8080/",
          "height": 630
        },
        "id": "DFgeX8MKN3Yv",
        "outputId": "4ddb295c-7fb6-4cfb-ac47-d0906b847928"
      },
      "source": [
        "df"
      ],
      "execution_count": null,
      "outputs": [
        {
          "output_type": "execute_result",
          "data": {
            "text/html": [
              "<div>\n",
              "<style scoped>\n",
              "    .dataframe tbody tr th:only-of-type {\n",
              "        vertical-align: middle;\n",
              "    }\n",
              "\n",
              "    .dataframe tbody tr th {\n",
              "        vertical-align: top;\n",
              "    }\n",
              "\n",
              "    .dataframe thead th {\n",
              "        text-align: right;\n",
              "    }\n",
              "</style>\n",
              "<table border=\"1\" class=\"dataframe\">\n",
              "  <thead>\n",
              "    <tr style=\"text-align: right;\">\n",
              "      <th></th>\n",
              "      <th></th>\n",
              "      <th>Pres_DEM</th>\n",
              "      <th>Pres_REP</th>\n",
              "      <th>Gov_DEM</th>\n",
              "      <th>Gov_REP</th>\n",
              "      <th>TotalPop</th>\n",
              "      <th>Men</th>\n",
              "      <th>Hispanic</th>\n",
              "      <th>White</th>\n",
              "      <th>Black</th>\n",
              "      <th>Native</th>\n",
              "      <th>Asian</th>\n",
              "      <th>Pacific</th>\n",
              "      <th>VotingAgeCitizen</th>\n",
              "      <th>IncomePerCap</th>\n",
              "      <th>Poverty</th>\n",
              "      <th>ChildPoverty</th>\n",
              "      <th>Professional</th>\n",
              "      <th>Service</th>\n",
              "      <th>Office</th>\n",
              "      <th>Construction</th>\n",
              "      <th>Production</th>\n",
              "      <th>Drive</th>\n",
              "      <th>Carpool</th>\n",
              "      <th>Transit</th>\n",
              "      <th>Walk</th>\n",
              "      <th>OtherTransp</th>\n",
              "      <th>WorkAtHome</th>\n",
              "      <th>MeanCommute</th>\n",
              "      <th>Employed</th>\n",
              "      <th>PrivateWork</th>\n",
              "      <th>PublicWork</th>\n",
              "      <th>SelfEmployed</th>\n",
              "      <th>FamilyWork</th>\n",
              "      <th>Unemployment</th>\n",
              "    </tr>\n",
              "    <tr>\n",
              "      <th>state</th>\n",
              "      <th>county</th>\n",
              "      <th></th>\n",
              "      <th></th>\n",
              "      <th></th>\n",
              "      <th></th>\n",
              "      <th></th>\n",
              "      <th></th>\n",
              "      <th></th>\n",
              "      <th></th>\n",
              "      <th></th>\n",
              "      <th></th>\n",
              "      <th></th>\n",
              "      <th></th>\n",
              "      <th></th>\n",
              "      <th></th>\n",
              "      <th></th>\n",
              "      <th></th>\n",
              "      <th></th>\n",
              "      <th></th>\n",
              "      <th></th>\n",
              "      <th></th>\n",
              "      <th></th>\n",
              "      <th></th>\n",
              "      <th></th>\n",
              "      <th></th>\n",
              "      <th></th>\n",
              "      <th></th>\n",
              "      <th></th>\n",
              "      <th></th>\n",
              "      <th></th>\n",
              "      <th></th>\n",
              "      <th></th>\n",
              "      <th></th>\n",
              "      <th></th>\n",
              "      <th></th>\n",
              "    </tr>\n",
              "  </thead>\n",
              "  <tbody>\n",
              "    <tr>\n",
              "      <th rowspan=\"5\" valign=\"top\">Alabama</th>\n",
              "      <th>Autauga County</th>\n",
              "      <td>7503.0</td>\n",
              "      <td>19838.0</td>\n",
              "      <td>NaN</td>\n",
              "      <td>NaN</td>\n",
              "      <td>55036.0</td>\n",
              "      <td>0.488753</td>\n",
              "      <td>2.7</td>\n",
              "      <td>75.4</td>\n",
              "      <td>18.9</td>\n",
              "      <td>0.3</td>\n",
              "      <td>0.9</td>\n",
              "      <td>0.0</td>\n",
              "      <td>0.745258</td>\n",
              "      <td>27824.0</td>\n",
              "      <td>13.7</td>\n",
              "      <td>20.1</td>\n",
              "      <td>35.3</td>\n",
              "      <td>18.0</td>\n",
              "      <td>23.2</td>\n",
              "      <td>8.1</td>\n",
              "      <td>15.4</td>\n",
              "      <td>86.0</td>\n",
              "      <td>9.6</td>\n",
              "      <td>0.1</td>\n",
              "      <td>0.6</td>\n",
              "      <td>1.3</td>\n",
              "      <td>2.5</td>\n",
              "      <td>25.8</td>\n",
              "      <td>0.438113</td>\n",
              "      <td>74.1</td>\n",
              "      <td>20.2</td>\n",
              "      <td>5.6</td>\n",
              "      <td>0.1</td>\n",
              "      <td>5.2</td>\n",
              "    </tr>\n",
              "    <tr>\n",
              "      <th>Baldwin County</th>\n",
              "      <td>24578.0</td>\n",
              "      <td>83544.0</td>\n",
              "      <td>NaN</td>\n",
              "      <td>NaN</td>\n",
              "      <td>203360.0</td>\n",
              "      <td>0.489413</td>\n",
              "      <td>4.4</td>\n",
              "      <td>83.1</td>\n",
              "      <td>9.5</td>\n",
              "      <td>0.8</td>\n",
              "      <td>0.7</td>\n",
              "      <td>0.0</td>\n",
              "      <td>0.764044</td>\n",
              "      <td>29364.0</td>\n",
              "      <td>11.8</td>\n",
              "      <td>16.1</td>\n",
              "      <td>35.7</td>\n",
              "      <td>18.2</td>\n",
              "      <td>25.6</td>\n",
              "      <td>9.7</td>\n",
              "      <td>10.8</td>\n",
              "      <td>84.7</td>\n",
              "      <td>7.6</td>\n",
              "      <td>0.1</td>\n",
              "      <td>0.8</td>\n",
              "      <td>1.1</td>\n",
              "      <td>5.6</td>\n",
              "      <td>27.0</td>\n",
              "      <td>0.440239</td>\n",
              "      <td>80.7</td>\n",
              "      <td>12.9</td>\n",
              "      <td>6.3</td>\n",
              "      <td>0.1</td>\n",
              "      <td>5.5</td>\n",
              "    </tr>\n",
              "    <tr>\n",
              "      <th>Barbour County</th>\n",
              "      <td>4816.0</td>\n",
              "      <td>5622.0</td>\n",
              "      <td>NaN</td>\n",
              "      <td>NaN</td>\n",
              "      <td>26201.0</td>\n",
              "      <td>0.533415</td>\n",
              "      <td>4.2</td>\n",
              "      <td>45.7</td>\n",
              "      <td>47.8</td>\n",
              "      <td>0.2</td>\n",
              "      <td>0.6</td>\n",
              "      <td>0.0</td>\n",
              "      <td>0.773596</td>\n",
              "      <td>17561.0</td>\n",
              "      <td>27.2</td>\n",
              "      <td>44.9</td>\n",
              "      <td>25.0</td>\n",
              "      <td>16.8</td>\n",
              "      <td>22.6</td>\n",
              "      <td>11.5</td>\n",
              "      <td>24.1</td>\n",
              "      <td>83.4</td>\n",
              "      <td>11.1</td>\n",
              "      <td>0.3</td>\n",
              "      <td>2.2</td>\n",
              "      <td>1.7</td>\n",
              "      <td>1.3</td>\n",
              "      <td>23.4</td>\n",
              "      <td>0.338842</td>\n",
              "      <td>74.1</td>\n",
              "      <td>19.1</td>\n",
              "      <td>6.5</td>\n",
              "      <td>0.3</td>\n",
              "      <td>12.4</td>\n",
              "    </tr>\n",
              "    <tr>\n",
              "      <th>Bibb County</th>\n",
              "      <td>1986.0</td>\n",
              "      <td>7525.0</td>\n",
              "      <td>NaN</td>\n",
              "      <td>NaN</td>\n",
              "      <td>22580.0</td>\n",
              "      <td>0.542560</td>\n",
              "      <td>2.4</td>\n",
              "      <td>74.6</td>\n",
              "      <td>22.0</td>\n",
              "      <td>0.4</td>\n",
              "      <td>0.0</td>\n",
              "      <td>0.0</td>\n",
              "      <td>0.782197</td>\n",
              "      <td>20911.0</td>\n",
              "      <td>15.2</td>\n",
              "      <td>26.6</td>\n",
              "      <td>24.4</td>\n",
              "      <td>17.6</td>\n",
              "      <td>19.7</td>\n",
              "      <td>15.9</td>\n",
              "      <td>22.4</td>\n",
              "      <td>86.4</td>\n",
              "      <td>9.5</td>\n",
              "      <td>0.7</td>\n",
              "      <td>0.3</td>\n",
              "      <td>1.7</td>\n",
              "      <td>1.5</td>\n",
              "      <td>30.0</td>\n",
              "      <td>0.361869</td>\n",
              "      <td>76.0</td>\n",
              "      <td>17.4</td>\n",
              "      <td>6.3</td>\n",
              "      <td>0.3</td>\n",
              "      <td>8.2</td>\n",
              "    </tr>\n",
              "    <tr>\n",
              "      <th>Blount County</th>\n",
              "      <td>2640.0</td>\n",
              "      <td>24711.0</td>\n",
              "      <td>NaN</td>\n",
              "      <td>NaN</td>\n",
              "      <td>57667.0</td>\n",
              "      <td>0.494043</td>\n",
              "      <td>9.0</td>\n",
              "      <td>87.4</td>\n",
              "      <td>1.5</td>\n",
              "      <td>0.3</td>\n",
              "      <td>0.1</td>\n",
              "      <td>0.0</td>\n",
              "      <td>0.737215</td>\n",
              "      <td>22021.0</td>\n",
              "      <td>15.6</td>\n",
              "      <td>25.4</td>\n",
              "      <td>28.5</td>\n",
              "      <td>12.9</td>\n",
              "      <td>23.3</td>\n",
              "      <td>15.8</td>\n",
              "      <td>19.5</td>\n",
              "      <td>86.8</td>\n",
              "      <td>10.2</td>\n",
              "      <td>0.1</td>\n",
              "      <td>0.4</td>\n",
              "      <td>0.4</td>\n",
              "      <td>2.1</td>\n",
              "      <td>35.0</td>\n",
              "      <td>0.370749</td>\n",
              "      <td>83.9</td>\n",
              "      <td>11.9</td>\n",
              "      <td>4.0</td>\n",
              "      <td>0.1</td>\n",
              "      <td>4.9</td>\n",
              "    </tr>\n",
              "    <tr>\n",
              "      <th>...</th>\n",
              "      <th>...</th>\n",
              "      <td>...</td>\n",
              "      <td>...</td>\n",
              "      <td>...</td>\n",
              "      <td>...</td>\n",
              "      <td>...</td>\n",
              "      <td>...</td>\n",
              "      <td>...</td>\n",
              "      <td>...</td>\n",
              "      <td>...</td>\n",
              "      <td>...</td>\n",
              "      <td>...</td>\n",
              "      <td>...</td>\n",
              "      <td>...</td>\n",
              "      <td>...</td>\n",
              "      <td>...</td>\n",
              "      <td>...</td>\n",
              "      <td>...</td>\n",
              "      <td>...</td>\n",
              "      <td>...</td>\n",
              "      <td>...</td>\n",
              "      <td>...</td>\n",
              "      <td>...</td>\n",
              "      <td>...</td>\n",
              "      <td>...</td>\n",
              "      <td>...</td>\n",
              "      <td>...</td>\n",
              "      <td>...</td>\n",
              "      <td>...</td>\n",
              "      <td>...</td>\n",
              "      <td>...</td>\n",
              "      <td>...</td>\n",
              "      <td>...</td>\n",
              "      <td>...</td>\n",
              "      <td>...</td>\n",
              "    </tr>\n",
              "    <tr>\n",
              "      <th rowspan=\"5\" valign=\"top\">Wyoming</th>\n",
              "      <th>Sweetwater County</th>\n",
              "      <td>3823.0</td>\n",
              "      <td>12229.0</td>\n",
              "      <td>NaN</td>\n",
              "      <td>NaN</td>\n",
              "      <td>44527.0</td>\n",
              "      <td>0.516114</td>\n",
              "      <td>16.0</td>\n",
              "      <td>79.6</td>\n",
              "      <td>0.8</td>\n",
              "      <td>0.6</td>\n",
              "      <td>0.6</td>\n",
              "      <td>0.5</td>\n",
              "      <td>0.696768</td>\n",
              "      <td>31700.0</td>\n",
              "      <td>12.0</td>\n",
              "      <td>15.7</td>\n",
              "      <td>27.7</td>\n",
              "      <td>16.1</td>\n",
              "      <td>20.0</td>\n",
              "      <td>20.8</td>\n",
              "      <td>15.4</td>\n",
              "      <td>77.5</td>\n",
              "      <td>14.4</td>\n",
              "      <td>2.6</td>\n",
              "      <td>2.8</td>\n",
              "      <td>1.3</td>\n",
              "      <td>1.5</td>\n",
              "      <td>20.5</td>\n",
              "      <td>0.510679</td>\n",
              "      <td>78.4</td>\n",
              "      <td>17.8</td>\n",
              "      <td>3.8</td>\n",
              "      <td>0.0</td>\n",
              "      <td>5.2</td>\n",
              "    </tr>\n",
              "    <tr>\n",
              "      <th>Teton County</th>\n",
              "      <td>9848.0</td>\n",
              "      <td>4341.0</td>\n",
              "      <td>NaN</td>\n",
              "      <td>NaN</td>\n",
              "      <td>22923.0</td>\n",
              "      <td>0.530864</td>\n",
              "      <td>15.0</td>\n",
              "      <td>81.5</td>\n",
              "      <td>0.5</td>\n",
              "      <td>0.3</td>\n",
              "      <td>2.2</td>\n",
              "      <td>0.0</td>\n",
              "      <td>0.728177</td>\n",
              "      <td>49200.0</td>\n",
              "      <td>6.8</td>\n",
              "      <td>2.8</td>\n",
              "      <td>39.4</td>\n",
              "      <td>25.4</td>\n",
              "      <td>17.0</td>\n",
              "      <td>11.7</td>\n",
              "      <td>6.5</td>\n",
              "      <td>68.3</td>\n",
              "      <td>6.7</td>\n",
              "      <td>3.8</td>\n",
              "      <td>11.7</td>\n",
              "      <td>3.8</td>\n",
              "      <td>5.7</td>\n",
              "      <td>14.3</td>\n",
              "      <td>0.632203</td>\n",
              "      <td>82.1</td>\n",
              "      <td>11.4</td>\n",
              "      <td>6.5</td>\n",
              "      <td>0.0</td>\n",
              "      <td>1.3</td>\n",
              "    </tr>\n",
              "    <tr>\n",
              "      <th>Uinta County</th>\n",
              "      <td>1591.0</td>\n",
              "      <td>7496.0</td>\n",
              "      <td>NaN</td>\n",
              "      <td>NaN</td>\n",
              "      <td>20758.0</td>\n",
              "      <td>0.510309</td>\n",
              "      <td>9.1</td>\n",
              "      <td>87.7</td>\n",
              "      <td>0.1</td>\n",
              "      <td>0.9</td>\n",
              "      <td>0.1</td>\n",
              "      <td>0.0</td>\n",
              "      <td>0.685760</td>\n",
              "      <td>27115.0</td>\n",
              "      <td>14.9</td>\n",
              "      <td>20.0</td>\n",
              "      <td>30.4</td>\n",
              "      <td>19.4</td>\n",
              "      <td>18.1</td>\n",
              "      <td>16.1</td>\n",
              "      <td>16.1</td>\n",
              "      <td>77.4</td>\n",
              "      <td>14.9</td>\n",
              "      <td>3.3</td>\n",
              "      <td>1.1</td>\n",
              "      <td>1.3</td>\n",
              "      <td>2.0</td>\n",
              "      <td>19.9</td>\n",
              "      <td>0.459004</td>\n",
              "      <td>71.5</td>\n",
              "      <td>21.5</td>\n",
              "      <td>6.6</td>\n",
              "      <td>0.4</td>\n",
              "      <td>6.4</td>\n",
              "    </tr>\n",
              "    <tr>\n",
              "      <th>Washakie County</th>\n",
              "      <td>651.0</td>\n",
              "      <td>3245.0</td>\n",
              "      <td>NaN</td>\n",
              "      <td>NaN</td>\n",
              "      <td>8253.0</td>\n",
              "      <td>0.498970</td>\n",
              "      <td>14.2</td>\n",
              "      <td>82.2</td>\n",
              "      <td>0.3</td>\n",
              "      <td>0.4</td>\n",
              "      <td>0.1</td>\n",
              "      <td>0.0</td>\n",
              "      <td>0.742154</td>\n",
              "      <td>27345.0</td>\n",
              "      <td>12.8</td>\n",
              "      <td>17.5</td>\n",
              "      <td>32.1</td>\n",
              "      <td>16.3</td>\n",
              "      <td>17.6</td>\n",
              "      <td>18.8</td>\n",
              "      <td>15.3</td>\n",
              "      <td>77.2</td>\n",
              "      <td>10.2</td>\n",
              "      <td>0.0</td>\n",
              "      <td>6.9</td>\n",
              "      <td>1.3</td>\n",
              "      <td>4.4</td>\n",
              "      <td>14.3</td>\n",
              "      <td>0.464437</td>\n",
              "      <td>69.8</td>\n",
              "      <td>22.0</td>\n",
              "      <td>8.1</td>\n",
              "      <td>0.2</td>\n",
              "      <td>6.1</td>\n",
              "    </tr>\n",
              "    <tr>\n",
              "      <th>Weston County</th>\n",
              "      <td>360.0</td>\n",
              "      <td>3107.0</td>\n",
              "      <td>NaN</td>\n",
              "      <td>NaN</td>\n",
              "      <td>7117.0</td>\n",
              "      <td>0.527750</td>\n",
              "      <td>1.4</td>\n",
              "      <td>91.6</td>\n",
              "      <td>0.5</td>\n",
              "      <td>0.1</td>\n",
              "      <td>4.3</td>\n",
              "      <td>0.0</td>\n",
              "      <td>0.774203</td>\n",
              "      <td>30955.0</td>\n",
              "      <td>14.4</td>\n",
              "      <td>24.1</td>\n",
              "      <td>32.0</td>\n",
              "      <td>15.0</td>\n",
              "      <td>15.8</td>\n",
              "      <td>17.9</td>\n",
              "      <td>19.3</td>\n",
              "      <td>72.7</td>\n",
              "      <td>6.7</td>\n",
              "      <td>9.1</td>\n",
              "      <td>3.0</td>\n",
              "      <td>1.6</td>\n",
              "      <td>6.9</td>\n",
              "      <td>25.7</td>\n",
              "      <td>0.478713</td>\n",
              "      <td>68.2</td>\n",
              "      <td>21.9</td>\n",
              "      <td>8.8</td>\n",
              "      <td>1.1</td>\n",
              "      <td>2.2</td>\n",
              "    </tr>\n",
              "  </tbody>\n",
              "</table>\n",
              "<p>4809 rows × 34 columns</p>\n",
              "</div>"
            ],
            "text/plain": [
              "                           Pres_DEM  Pres_REP  ...  FamilyWork  Unemployment\n",
              "state   county                                 ...                          \n",
              "Alabama Autauga County       7503.0   19838.0  ...         0.1           5.2\n",
              "        Baldwin County      24578.0   83544.0  ...         0.1           5.5\n",
              "        Barbour County       4816.0    5622.0  ...         0.3          12.4\n",
              "        Bibb County          1986.0    7525.0  ...         0.3           8.2\n",
              "        Blount County        2640.0   24711.0  ...         0.1           4.9\n",
              "...                             ...       ...  ...         ...           ...\n",
              "Wyoming Sweetwater County    3823.0   12229.0  ...         0.0           5.2\n",
              "        Teton County         9848.0    4341.0  ...         0.0           1.3\n",
              "        Uinta County         1591.0    7496.0  ...         0.4           6.4\n",
              "        Washakie County       651.0    3245.0  ...         0.2           6.1\n",
              "        Weston County         360.0    3107.0  ...         1.1           2.2\n",
              "\n",
              "[4809 rows x 34 columns]"
            ]
          },
          "metadata": {
            "tags": []
          },
          "execution_count": 25
        }
      ]
    },
    {
      "cell_type": "markdown",
      "metadata": {
        "id": "USS9el0kN4zQ"
      },
      "source": [
        "#### 컬럼간의 Correlation을 Heatmap으로 표현"
      ]
    },
    {
      "cell_type": "code",
      "metadata": {
        "colab": {
          "base_uri": "https://localhost:8080/",
          "height": 797
        },
        "id": "YL03PHCkN-Tf",
        "outputId": "0f2f13de-12eb-4f86-c829-bbd86e2805d6"
      },
      "source": [
        "# DataFrame의 corr() 메소드와 Seaborn의 heatmap() 메소드를 이용하여 Pearson's correlation 시각화하기\n",
        "plt.figure(figsize=(12, 12))\n",
        "sns.heatmap(df.corr())"
      ],
      "execution_count": null,
      "outputs": [
        {
          "output_type": "execute_result",
          "data": {
            "text/plain": [
              "<matplotlib.axes._subplots.AxesSubplot at 0x7f62eaccd850>"
            ]
          },
          "metadata": {
            "tags": []
          },
          "execution_count": 26
        },
        {
          "output_type": "display_data",
          "data": {
            "image/png": "[encoded data removed]",
            "text/plain": [
              "<Figure size 864x864 with 2 Axes>"
            ]
          },
          "metadata": {
            "tags": [],
            "needs_background": "light"
          }
        }
      ]
    },
    {
      "cell_type": "code",
      "metadata": {
        "colab": {
          "base_uri": "https://localhost:8080/",
          "height": 723
        },
        "id": "m3VSsDk0N-Xg",
        "outputId": "7d1d3b4a-fa8b-4e35-d6d9-682f3baf2202"
      },
      "source": [
        "# DataFrame의 corr() 메소드와 Seaborn의 heatmap() 메소드를 이용하여 Pearson's correlation 시각화하기\n",
        "plt.figure(figsize=(5, 12))\n",
        "sns.heatmap(df.corr()[['Pres_DEM', 'Pres_REP']], annot=True)"
      ],
      "execution_count": null,
      "outputs": [
        {
          "output_type": "execute_result",
          "data": {
            "text/plain": [
              "<matplotlib.axes._subplots.AxesSubplot at 0x7f62e1d618d0>"
            ]
          },
          "metadata": {
            "tags": []
          },
          "execution_count": 27
        },
        {
          "output_type": "display_data",
          "data": {
            "image/png": "[encoded data removed]",
            "text/plain": [
              "<Figure size 360x864 with 2 Axes>"
            ]
          },
          "metadata": {
            "tags": [],
            "needs_background": "light"
          }
        }
      ]
    },
    {
      "cell_type": "code",
      "metadata": {
        "id": "0UzOXascN-aY"
      },
      "source": [
        "df_norm = df.copy()"
      ],
      "execution_count": null,
      "outputs": []
    },
    {
      "cell_type": "code",
      "metadata": {
        "id": "F6v1Z9XeN-dH"
      },
      "source": [
        "# 위의 보면 이상한게 민주당에 투표했으면, 공화당투표가 0이여야 하는데 이상함. 때문에 비율로 바꿔서 히트맵으로 다시 상관성확인\n",
        "df_norm['Pres_DEM'] /= df['Pres_DEM'] + df['Pres_REP']\n",
        "df_norm['Pres_REP'] /= df['Pres_DEM'] + df['Pres_REP']\n",
        "df_norm['Gov_DEM'] /= df['Gov_DEM'] + df['Gov_REP']\n",
        "df_norm['Gov_REP'] /= df['Gov_DEM'] + df['Gov_REP']"
      ],
      "execution_count": null,
      "outputs": []
    },
    {
      "cell_type": "code",
      "metadata": {
        "colab": {
          "base_uri": "https://localhost:8080/",
          "height": 797
        },
        "id": "R0fc0Bl3N-f6",
        "outputId": "d8cce4ca-6a3c-4001-aa32-5b50d51dcfb9"
      },
      "source": [
        "# normalize된 데이터로 다시 correation 확인\n",
        "plt.figure(figsize=(12, 12))\n",
        "sns.heatmap(df_norm.corr())"
      ],
      "execution_count": null,
      "outputs": [
        {
          "output_type": "execute_result",
          "data": {
            "text/plain": [
              "<matplotlib.axes._subplots.AxesSubplot at 0x7f62e03e8b10>"
            ]
          },
          "metadata": {
            "tags": []
          },
          "execution_count": 30
        },
        {
          "output_type": "display_data",
          "data": {
            "image/png": "[encoded data removed]",
            "text/plain": [
              "<Figure size 864x864 with 2 Axes>"
            ]
          },
          "metadata": {
            "tags": [],
            "needs_background": "light"
          }
        }
      ]
    },
    {
      "cell_type": "code",
      "metadata": {
        "colab": {
          "base_uri": "https://localhost:8080/",
          "height": 723
        },
        "id": "z93o0COjN-iq",
        "outputId": "5543bc8c-bfff-4b0e-990b-bdf2e72e28d1"
      },
      "source": [
        "plt.figure(figsize=(5, 12))\n",
        "sns.heatmap(df_norm.corr()[['Pres_DEM', 'Pres_REP']], annot=True)"
      ],
      "execution_count": null,
      "outputs": [
        {
          "output_type": "execute_result",
          "data": {
            "text/plain": [
              "<matplotlib.axes._subplots.AxesSubplot at 0x7f62ead11810>"
            ]
          },
          "metadata": {
            "tags": []
          },
          "execution_count": 31
        },
        {
          "output_type": "display_data",
          "data": {
            "image/png": "[encoded data removed]",
            "text/plain": [
              "<Figure size 360x864 with 2 Axes>"
            ]
          },
          "metadata": {
            "tags": [],
            "needs_background": "light"
          }
        }
      ]
    },
    {
      "cell_type": "markdown",
      "metadata": {
        "id": "fFs22LKkN-lb"
      },
      "source": [
        "#### Seaborn을 이용하여 연관성 높은 데이터의 Jointplot 확인"
      ]
    },
    {
      "cell_type": "code",
      "metadata": {
        "colab": {
          "base_uri": "https://localhost:8080/",
          "height": 459
        },
        "id": "fzpwRkqUN-oH",
        "outputId": "3df2dcca-e636-48c1-e5a0-ec78f6643035"
      },
      "source": [
        "sns.jointplot(x='White', y='Pres_REP', data=df_norm, alpha=0.2)"
      ],
      "execution_count": null,
      "outputs": [
        {
          "output_type": "execute_result",
          "data": {
            "text/plain": [
              "<seaborn.axisgrid.JointGrid at 0x7f62e011cfd0>"
            ]
          },
          "metadata": {
            "tags": []
          },
          "execution_count": 32
        },
        {
          "output_type": "display_data",
          "data": {
            "image/png": "[encoded data removed]",
            "text/plain": [
              "<Figure size 432x432 with 3 Axes>"
            ]
          },
          "metadata": {
            "tags": [],
            "needs_background": "light"
          }
        }
      ]
    },
    {
      "cell_type": "code",
      "metadata": {
        "colab": {
          "base_uri": "https://localhost:8080/",
          "height": 459
        },
        "id": "cQKgZMAwOgl4",
        "outputId": "7fe42bde-9b25-416c-d0b4-ff7f9b2c6284"
      },
      "source": [
        "sns.jointplot(x='Black', y='Pres_DEM', data=df_norm, alpha=0.2)"
      ],
      "execution_count": null,
      "outputs": [
        {
          "output_type": "execute_result",
          "data": {
            "text/plain": [
              "<seaborn.axisgrid.JointGrid at 0x7f62e01ed710>"
            ]
          },
          "metadata": {
            "tags": []
          },
          "execution_count": 34
        },
        {
          "output_type": "display_data",
          "data": {
            "image/png": "[encoded data removed]",
            "text/plain": [
              "<Figure size 432x432 with 3 Axes>"
            ]
          },
          "metadata": {
            "tags": [],
            "needs_background": "light"
          }
        }
      ]
    },
    {
      "cell_type": "markdown",
      "metadata": {
        "id": "uLOF1KthOi2g"
      },
      "source": [
        "### Step 2. 모델 학습을 위한 전처리"
      ]
    },
    {
      "cell_type": "markdown",
      "metadata": {
        "id": "uNy4Wkl2OqCv"
      },
      "source": [
        "#### 학습을 위한 데이터프레임 구성하기"
      ]
    },
    {
      "cell_type": "code",
      "metadata": {
        "colab": {
          "base_uri": "https://localhost:8080/"
        },
        "id": "aso-6Lg3OqHC",
        "outputId": "eea06109-d7e5-450f-c688-7323eb55e4ea"
      },
      "source": [
        "df_norm.columns"
      ],
      "execution_count": null,
      "outputs": [
        {
          "output_type": "execute_result",
          "data": {
            "text/plain": [
              "Index(['Pres_DEM', 'Pres_REP', 'Gov_DEM', 'Gov_REP', 'TotalPop', 'Men',\n",
              "       'Hispanic', 'White', 'Black', 'Native', 'Asian', 'Pacific',\n",
              "       'VotingAgeCitizen', 'IncomePerCap', 'Poverty', 'ChildPoverty',\n",
              "       'Professional', 'Service', 'Office', 'Construction', 'Production',\n",
              "       'Drive', 'Carpool', 'Transit', 'Walk', 'OtherTransp', 'WorkAtHome',\n",
              "       'MeanCommute', 'Employed', 'PrivateWork', 'PublicWork', 'SelfEmployed',\n",
              "       'FamilyWork', 'Unemployment'],\n",
              "      dtype='object')"
            ]
          },
          "metadata": {
            "tags": []
          },
          "execution_count": 35
        }
      ]
    },
    {
      "cell_type": "code",
      "metadata": {
        "id": "jTq9CrMGOqKL"
      },
      "source": [
        "# 투표 결과에 해당하는 데이터는 입력 데이터에서 제거\n",
        "# 예측 타겟은 DEM vs. REP 투표 비율로 한다.\n",
        "df_norm.dropna(inplace=True)\n",
        "X = df_norm.drop(['Pres_DEM', 'Pres_REP', 'Gov_DEM', 'Gov_REP'], axis=1)\n",
        "y = df_norm['Pres_DEM']"
      ],
      "execution_count": null,
      "outputs": []
    },
    {
      "cell_type": "markdown",
      "metadata": {
        "id": "MVsVUy5zOqMg"
      },
      "source": [
        "#### MinMaxScaler를 이용해 수치형 데이터 표준화하기"
      ]
    },
    {
      "cell_type": "code",
      "metadata": {
        "id": "iEhTdvY_OqO4"
      },
      "source": [
        "scaler = MinMaxScaler()\n",
        "scaler.fit(X)\n",
        "X_scaled = scaler.transform(X)\n",
        "X = pd.DataFrame(data=X_scaled, index=X.index, columns=X.columns)"
      ],
      "execution_count": null,
      "outputs": []
    },
    {
      "cell_type": "code",
      "metadata": {
        "colab": {
          "base_uri": "https://localhost:8080/",
          "height": 352
        },
        "id": "E_KYYOJXOqRw",
        "outputId": "b9778a38-c13a-4c17-fbeb-e90daf6c4b72"
      },
      "source": [
        "X.head()"
      ],
      "execution_count": null,
      "outputs": [
        {
          "output_type": "execute_result",
          "data": {
            "text/html": [
              "<div>\n",
              "<style scoped>\n",
              "    .dataframe tbody tr th:only-of-type {\n",
              "        vertical-align: middle;\n",
              "    }\n",
              "\n",
              "    .dataframe tbody tr th {\n",
              "        vertical-align: top;\n",
              "    }\n",
              "\n",
              "    .dataframe thead th {\n",
              "        text-align: right;\n",
              "    }\n",
              "</style>\n",
              "<table border=\"1\" class=\"dataframe\">\n",
              "  <thead>\n",
              "    <tr style=\"text-align: right;\">\n",
              "      <th></th>\n",
              "      <th></th>\n",
              "      <th>TotalPop</th>\n",
              "      <th>Men</th>\n",
              "      <th>Hispanic</th>\n",
              "      <th>White</th>\n",
              "      <th>Black</th>\n",
              "      <th>Native</th>\n",
              "      <th>Asian</th>\n",
              "      <th>Pacific</th>\n",
              "      <th>VotingAgeCitizen</th>\n",
              "      <th>IncomePerCap</th>\n",
              "      <th>Poverty</th>\n",
              "      <th>ChildPoverty</th>\n",
              "      <th>Professional</th>\n",
              "      <th>Service</th>\n",
              "      <th>Office</th>\n",
              "      <th>Construction</th>\n",
              "      <th>Production</th>\n",
              "      <th>Drive</th>\n",
              "      <th>Carpool</th>\n",
              "      <th>Transit</th>\n",
              "      <th>Walk</th>\n",
              "      <th>OtherTransp</th>\n",
              "      <th>WorkAtHome</th>\n",
              "      <th>MeanCommute</th>\n",
              "      <th>Employed</th>\n",
              "      <th>PrivateWork</th>\n",
              "      <th>PublicWork</th>\n",
              "      <th>SelfEmployed</th>\n",
              "      <th>FamilyWork</th>\n",
              "      <th>Unemployment</th>\n",
              "    </tr>\n",
              "    <tr>\n",
              "      <th>state</th>\n",
              "      <th>county</th>\n",
              "      <th></th>\n",
              "      <th></th>\n",
              "      <th></th>\n",
              "      <th></th>\n",
              "      <th></th>\n",
              "      <th></th>\n",
              "      <th></th>\n",
              "      <th></th>\n",
              "      <th></th>\n",
              "      <th></th>\n",
              "      <th></th>\n",
              "      <th></th>\n",
              "      <th></th>\n",
              "      <th></th>\n",
              "      <th></th>\n",
              "      <th></th>\n",
              "      <th></th>\n",
              "      <th></th>\n",
              "      <th></th>\n",
              "      <th></th>\n",
              "      <th></th>\n",
              "      <th></th>\n",
              "      <th></th>\n",
              "      <th></th>\n",
              "      <th></th>\n",
              "      <th></th>\n",
              "      <th></th>\n",
              "      <th></th>\n",
              "      <th></th>\n",
              "      <th></th>\n",
              "    </tr>\n",
              "  </thead>\n",
              "  <tbody>\n",
              "    <tr>\n",
              "      <th rowspan=\"3\" valign=\"top\">Delaware</th>\n",
              "      <th>Kent County</th>\n",
              "      <td>0.081548</td>\n",
              "      <td>0.165303</td>\n",
              "      <td>0.109149</td>\n",
              "      <td>0.575029</td>\n",
              "      <td>0.391234</td>\n",
              "      <td>0.007353</td>\n",
              "      <td>0.121212</td>\n",
              "      <td>0.0</td>\n",
              "      <td>0.706123</td>\n",
              "      <td>0.347283</td>\n",
              "      <td>0.305476</td>\n",
              "      <td>0.361493</td>\n",
              "      <td>0.455013</td>\n",
              "      <td>0.349633</td>\n",
              "      <td>0.591503</td>\n",
              "      <td>0.215447</td>\n",
              "      <td>0.293367</td>\n",
              "      <td>0.812261</td>\n",
              "      <td>0.282158</td>\n",
              "      <td>0.091603</td>\n",
              "      <td>0.035629</td>\n",
              "      <td>0.105769</td>\n",
              "      <td>0.121107</td>\n",
              "      <td>0.493261</td>\n",
              "      <td>0.632632</td>\n",
              "      <td>0.741284</td>\n",
              "      <td>0.295455</td>\n",
              "      <td>0.065527</td>\n",
              "      <td>0.0250</td>\n",
              "      <td>0.350785</td>\n",
              "    </tr>\n",
              "    <tr>\n",
              "      <th>New Castle County</th>\n",
              "      <td>0.261884</td>\n",
              "      <td>0.175099</td>\n",
              "      <td>0.154093</td>\n",
              "      <td>0.526919</td>\n",
              "      <td>0.391234</td>\n",
              "      <td>0.002451</td>\n",
              "      <td>0.327273</td>\n",
              "      <td>0.0</td>\n",
              "      <td>0.673886</td>\n",
              "      <td>0.531355</td>\n",
              "      <td>0.273775</td>\n",
              "      <td>0.312377</td>\n",
              "      <td>0.722365</td>\n",
              "      <td>0.281174</td>\n",
              "      <td>0.607843</td>\n",
              "      <td>0.101626</td>\n",
              "      <td>0.163265</td>\n",
              "      <td>0.781609</td>\n",
              "      <td>0.203320</td>\n",
              "      <td>0.305344</td>\n",
              "      <td>0.049881</td>\n",
              "      <td>0.105769</td>\n",
              "      <td>0.121107</td>\n",
              "      <td>0.477089</td>\n",
              "      <td>0.720861</td>\n",
              "      <td>0.924771</td>\n",
              "      <td>0.123106</td>\n",
              "      <td>0.042735</td>\n",
              "      <td>0.0125</td>\n",
              "      <td>0.340314</td>\n",
              "    </tr>\n",
              "    <tr>\n",
              "      <th>Sussex County</th>\n",
              "      <td>0.101573</td>\n",
              "      <td>0.178030</td>\n",
              "      <td>0.147673</td>\n",
              "      <td>0.714777</td>\n",
              "      <td>0.196429</td>\n",
              "      <td>0.004902</td>\n",
              "      <td>0.072727</td>\n",
              "      <td>0.0</td>\n",
              "      <td>0.777816</td>\n",
              "      <td>0.462415</td>\n",
              "      <td>0.276657</td>\n",
              "      <td>0.408644</td>\n",
              "      <td>0.449871</td>\n",
              "      <td>0.322738</td>\n",
              "      <td>0.627451</td>\n",
              "      <td>0.268293</td>\n",
              "      <td>0.267857</td>\n",
              "      <td>0.837165</td>\n",
              "      <td>0.186722</td>\n",
              "      <td>0.053435</td>\n",
              "      <td>0.030879</td>\n",
              "      <td>0.125000</td>\n",
              "      <td>0.169550</td>\n",
              "      <td>0.466307</td>\n",
              "      <td>0.597373</td>\n",
              "      <td>0.825688</td>\n",
              "      <td>0.176136</td>\n",
              "      <td>0.116809</td>\n",
              "      <td>0.0125</td>\n",
              "      <td>0.319372</td>\n",
              "    </tr>\n",
              "    <tr>\n",
              "      <th rowspan=\"2\" valign=\"top\">Indiana</th>\n",
              "      <th>Adams County</th>\n",
              "      <td>0.016322</td>\n",
              "      <td>0.236833</td>\n",
              "      <td>0.070626</td>\n",
              "      <td>0.930126</td>\n",
              "      <td>0.014610</td>\n",
              "      <td>0.000000</td>\n",
              "      <td>0.024242</td>\n",
              "      <td>0.0</td>\n",
              "      <td>0.562336</td>\n",
              "      <td>0.195135</td>\n",
              "      <td>0.475504</td>\n",
              "      <td>0.585462</td>\n",
              "      <td>0.215938</td>\n",
              "      <td>0.254279</td>\n",
              "      <td>0.483660</td>\n",
              "      <td>0.378049</td>\n",
              "      <td>0.612245</td>\n",
              "      <td>0.662835</td>\n",
              "      <td>0.576763</td>\n",
              "      <td>0.000000</td>\n",
              "      <td>0.054632</td>\n",
              "      <td>0.182692</td>\n",
              "      <td>0.131488</td>\n",
              "      <td>0.398922</td>\n",
              "      <td>0.570622</td>\n",
              "      <td>0.895413</td>\n",
              "      <td>0.051136</td>\n",
              "      <td>0.182336</td>\n",
              "      <td>0.0750</td>\n",
              "      <td>0.272251</td>\n",
              "    </tr>\n",
              "    <tr>\n",
              "      <th>Allen County</th>\n",
              "      <td>0.173443</td>\n",
              "      <td>0.194232</td>\n",
              "      <td>0.115570</td>\n",
              "      <td>0.711340</td>\n",
              "      <td>0.183442</td>\n",
              "      <td>0.002451</td>\n",
              "      <td>0.212121</td>\n",
              "      <td>0.0</td>\n",
              "      <td>0.627069</td>\n",
              "      <td>0.334669</td>\n",
              "      <td>0.354467</td>\n",
              "      <td>0.432220</td>\n",
              "      <td>0.460154</td>\n",
              "      <td>0.268949</td>\n",
              "      <td>0.637255</td>\n",
              "      <td>0.121951</td>\n",
              "      <td>0.397959</td>\n",
              "      <td>0.854406</td>\n",
              "      <td>0.244813</td>\n",
              "      <td>0.061069</td>\n",
              "      <td>0.021378</td>\n",
              "      <td>0.086538</td>\n",
              "      <td>0.114187</td>\n",
              "      <td>0.358491</td>\n",
              "      <td>0.706939</td>\n",
              "      <td>0.970642</td>\n",
              "      <td>0.058712</td>\n",
              "      <td>0.068376</td>\n",
              "      <td>0.0125</td>\n",
              "      <td>0.329843</td>\n",
              "    </tr>\n",
              "  </tbody>\n",
              "</table>\n",
              "</div>"
            ],
            "text/plain": [
              "                            TotalPop       Men  ...  FamilyWork  Unemployment\n",
              "state    county                                 ...                          \n",
              "Delaware Kent County        0.081548  0.165303  ...      0.0250      0.350785\n",
              "         New Castle County  0.261884  0.175099  ...      0.0125      0.340314\n",
              "         Sussex County      0.101573  0.178030  ...      0.0125      0.319372\n",
              "Indiana  Adams County       0.016322  0.236833  ...      0.0750      0.272251\n",
              "         Allen County       0.173443  0.194232  ...      0.0125      0.329843\n",
              "\n",
              "[5 rows x 30 columns]"
            ]
          },
          "metadata": {
            "tags": []
          },
          "execution_count": 38
        }
      ]
    },
    {
      "cell_type": "markdown",
      "metadata": {
        "id": "KAk3YThkOqUc"
      },
      "source": [
        "#### 학습데이터와 테스트데이터 분리"
      ]
    },
    {
      "cell_type": "code",
      "metadata": {
        "id": "xfuopj0qOqXU"
      },
      "source": [
        "# train_test_split() 함수로 학습 데이터와 테스트 데이터 분리하기\n",
        "X_train, X_test, y_train, y_test = train_test_split(X, y, test_size=0.3, random_state=1)"
      ],
      "execution_count": null,
      "outputs": []
    },
    {
      "cell_type": "markdown",
      "metadata": {
        "id": "Nim3PQlfOqZw"
      },
      "source": [
        "#### PCA를 이용해 데이터 전처리 수행하기"
      ]
    },
    {
      "cell_type": "code",
      "metadata": {
        "colab": {
          "base_uri": "https://localhost:8080/",
          "height": 265
        },
        "id": "0CRBkA0HOqcg",
        "outputId": "ebe55c95-bf04-4ccf-9a35-34255aa8b12a"
      },
      "source": [
        "pca = PCA()\n",
        "pca.fit(X_train)\n",
        "plt.plot(range(1, len(pca.explained_variance_) + 1), pca.explained_variance_)\n",
        "plt.grid()"
      ],
      "execution_count": null,
      "outputs": [
        {
          "output_type": "display_data",
          "data": {
            "image/png": "[encoded data removed]",
            "text/plain": [
              "<Figure size 432x288 with 1 Axes>"
            ]
          },
          "metadata": {
            "tags": [],
            "needs_background": "light"
          }
        }
      ]
    },
    {
      "cell_type": "code",
      "metadata": {
        "colab": {
          "base_uri": "https://localhost:8080/"
        },
        "id": "NconK-TqOqff",
        "outputId": "79bf693e-ffaf-4a81-e02f-a4483a3dbcc9"
      },
      "source": [
        "# 10에서 끊어준다.\n",
        "pca = PCA(n_components=10)\n",
        "pca.fit(X_train)"
      ],
      "execution_count": null,
      "outputs": [
        {
          "output_type": "execute_result",
          "data": {
            "text/plain": [
              "PCA(copy=True, iterated_power='auto', n_components=10, random_state=None,\n",
              "    svd_solver='auto', tol=0.0, whiten=False)"
            ]
          },
          "metadata": {
            "tags": []
          },
          "execution_count": 41
        }
      ]
    },
    {
      "cell_type": "markdown",
      "metadata": {
        "id": "PooGZs8EOqid"
      },
      "source": [
        "\n",
        "\n",
        "\n",
        "### Step 3. Regression 모델 학습하기(y : 회귀유형)\n",
        "\n",
        "-  데이터가 크기 때문에 LGBM만 하이퍼파라미터 조절을 통해 분석해본다."
      ]
    },
    {
      "cell_type": "code",
      "metadata": {
        "id": "LVXo1iCtOqlI"
      },
      "source": [
        "from lightgbm import LGBMRegressor as LGBM_R\n",
        "from sklearn.metrics import mean_absolute_error as MAE\n",
        "from sklearn.metrics import mean_squared_error as MSE\n",
        "from math import sqrt"
      ],
      "execution_count": null,
      "outputs": []
    },
    {
      "cell_type": "markdown",
      "metadata": {
        "id": "HnIxcYJ3OqoW"
      },
      "source": [
        "#### 파라미터 그리드 설계"
      ]
    },
    {
      "cell_type": "code",
      "metadata": {
        "colab": {
          "base_uri": "https://localhost:8080/"
        },
        "id": "4oGhly-1OqrO",
        "outputId": "03ffd054-d5b5-425c-8476-946d30eaa874"
      },
      "source": [
        "# 모델 파라미터 그리드 설계\n",
        "# 키가 모델의 함수, 값이 파라미터 그리드의 값\n",
        "param_grid = dict() \n",
        "\n",
        "param_grid_for_LGBM_R = ParameterGrid({\"max_depth\": [2, 3, 4],\n",
        "                                      \"n_estimators\": [50, 100],\n",
        "                                      \"learning_rate\": [0.05, 0.1, 0.15, 0.2]})\n",
        "\n",
        "param_grid[LGBM_R] = param_grid_for_LGBM_R\n",
        "\n",
        "\n",
        "# 출력을 위한 max_iter_num 계산 \n",
        "                            \n",
        "# 튜닝 시작\n",
        "best_score = 9999999999 \n",
        "iteration_num = 0    \n",
        "for k in range(30, 5, -1): \n",
        "    print(k)\n",
        "  \n",
        "    for model_func in [LGBM_R]:\n",
        "        for param in param_grid[model_func]:\n",
        "            model = model_func(**param).fit(pca.transform(X_train), y_train)\n",
        "            y_pred = model.predict(pca.transform(X_test))\n",
        "            score = MAE(y_test, y_pred)\n",
        "            if score < best_score:\n",
        "                best_model_func = model_func\n",
        "                best_score = score\n",
        "                best_parameter = param\n",
        "            iteration_num += 1      \n",
        "\n",
        "\n",
        "print(\"모델:\", best_model_func)\n",
        "print(\"점수:\", best_score)\n",
        "print(\"파라미터:\", best_parameter)        \n"
      ],
      "execution_count": null,
      "outputs": [
        {
          "output_type": "stream",
          "text": [
            "30\n",
            "29\n",
            "28\n",
            "27\n",
            "26\n",
            "25\n",
            "24\n",
            "23\n",
            "22\n",
            "21\n",
            "20\n",
            "19\n",
            "18\n",
            "17\n",
            "16\n",
            "15\n",
            "14\n",
            "13\n",
            "12\n",
            "11\n",
            "10\n",
            "9\n",
            "8\n",
            "7\n",
            "6\n",
            "모델: <class 'lightgbm.sklearn.LGBMRegressor'>\n",
            "점수: 0.05897524310102912\n",
            "파라미터: {'learning_rate': 0.2, 'max_depth': 3, 'n_estimators': 50}\n"
          ],
          "name": "stdout"
        }
      ]
    },
    {
      "cell_type": "code",
      "metadata": {
        "colab": {
          "base_uri": "https://localhost:8080/"
        },
        "id": "vNw9xuzVOquJ",
        "outputId": "bcd5a042-9129-4e80-b3c7-c7b1c9ba4244"
      },
      "source": [
        "final_model_lgbm = LGBM_R(max_depth=3, n_estimators=50,learning_rate=0.2)\n",
        "final_model_lgbm.fit(pca.transform(X_train), y_train)"
      ],
      "execution_count": null,
      "outputs": [
        {
          "output_type": "execute_result",
          "data": {
            "text/plain": [
              "LGBMRegressor(boosting_type='gbdt', class_weight=None, colsample_bytree=1.0,\n",
              "              importance_type='split', learning_rate=0.2, max_depth=3,\n",
              "              min_child_samples=20, min_child_weight=0.001, min_split_gain=0.0,\n",
              "              n_estimators=50, n_jobs=-1, num_leaves=31, objective=None,\n",
              "              random_state=None, reg_alpha=0.0, reg_lambda=0.0, silent=True,\n",
              "              subsample=1.0, subsample_for_bin=200000, subsample_freq=0)"
            ]
          },
          "metadata": {
            "tags": []
          },
          "execution_count": 53
        }
      ]
    },
    {
      "cell_type": "code",
      "metadata": {
        "colab": {
          "base_uri": "https://localhost:8080/"
        },
        "id": "DVUAKPLzS-KI",
        "outputId": "a6db0dda-dd0f-434d-9194-43ea6d5990df"
      },
      "source": [
        "pred = final_model_lgbm.predict(pca.transform(X_test))\n",
        "print(MAE(y_test, pred))\n",
        "print(sqrt(MSE(y_test, pred)))"
      ],
      "execution_count": null,
      "outputs": [
        {
          "output_type": "stream",
          "text": [
            "0.05897524310102912\n",
            "0.08439717837224664\n"
          ],
          "name": "stdout"
        }
      ]
    },
    {
      "cell_type": "code",
      "metadata": {
        "colab": {
          "base_uri": "https://localhost:8080/"
        },
        "id": "Lp_fxeKFTEng",
        "outputId": "c520d26b-981c-4149-a3b9-26f28519f26a"
      },
      "source": [
        "# y가 실수 값이기 때문에. 0.5기준으로\n",
        "from sklearn.metrics import classification_report\n",
        "print(classification_report(y_test > 0.5, pred > 0.5))\n"
      ],
      "execution_count": null,
      "outputs": [
        {
          "output_type": "stream",
          "text": [
            "              precision    recall  f1-score   support\n",
            "\n",
            "       False       0.98      0.96      0.97       146\n",
            "        True       0.70      0.82      0.76        17\n",
            "\n",
            "    accuracy                           0.94       163\n",
            "   macro avg       0.84      0.89      0.86       163\n",
            "weighted avg       0.95      0.94      0.95       163\n",
            "\n"
          ],
          "name": "stdout"
        }
      ]
    },
    {
      "cell_type": "markdown",
      "metadata": {
        "id": "JmVWUUmHTnGO"
      },
      "source": [
        "### Step 4. Classification 모델 학습하기(y : 이진분류)\n",
        "\n",
        "-  데이터가 크기 때문에 LGBM만 하이퍼파라미터 조절. 중요 변수를 보기 위해서 진행."
      ]
    },
    {
      "cell_type": "markdown",
      "metadata": {
        "id": "4A2BW8mnXc2_"
      },
      "source": [
        "#### 파라미터 그리드 설계"
      ]
    },
    {
      "cell_type": "code",
      "metadata": {
        "colab": {
          "base_uri": "https://localhost:8080/"
        },
        "id": "26CfdT2oXoOY",
        "outputId": "39e00821-7c96-4695-9cf1-71d0f231733b"
      },
      "source": [
        "# 모델 파라미터 그리드 설계\n",
        "# 키가 모델의 함수, 값이 파라미터 그리드의 값\n",
        "param_grid = dict() \n",
        "\n",
        "param_grid_for_LGBM = ParameterGrid({\"max_depth\": [2, 3, 4],\n",
        "                                      \"n_estimators\": [50, 100],\n",
        "                                      \"learning_rate\": [0.05, 0.1, 0.15, 0.2]})\n",
        "\n",
        "param_grid[LGBM] = param_grid_for_LGBM\n",
        "\n",
        "\n",
        "# 출력을 위한 max_iter_num 계산 \n",
        "# x,y가 실수로 있기때문에 분류더라도 0.5 기준으로 true, false로 만들어줘야함                           \n",
        "# 튜닝 시작\n",
        "best_score = 0\n",
        "iteration_num = 0    \n",
        "for k in range(30, 5, -1): \n",
        "    print(k)\n",
        "  \n",
        "    for model_func in [LGBM]:\n",
        "        for param in param_grid[model_func]:\n",
        "            model = model_func(**param).fit(X_train, y_train > 0.5)\n",
        "            y_pred = model.predict(X_test)\n",
        "            score = f1_score(y_test> 0.5, y_pred > 0.5, average = 'micro')\n",
        "            if score > best_score:\n",
        "                best_model_func = model_func\n",
        "                best_score = score\n",
        "                best_parameter = param\n",
        "            iteration_num += 1      \n",
        "\n",
        "\n",
        "print(\"모델:\", best_model_func)\n",
        "print(\"점수:\", best_score)\n",
        "print(\"파라미터:\", best_parameter)        \n"
      ],
      "execution_count": null,
      "outputs": [
        {
          "output_type": "stream",
          "text": [
            "30\n",
            "29\n",
            "28\n",
            "27\n",
            "26\n",
            "25\n",
            "24\n",
            "23\n",
            "22\n",
            "21\n",
            "20\n",
            "19\n",
            "18\n",
            "17\n",
            "16\n",
            "15\n",
            "14\n",
            "13\n",
            "12\n",
            "11\n",
            "10\n",
            "9\n",
            "8\n",
            "7\n",
            "6\n",
            "모델: <class 'lightgbm.sklearn.LGBMClassifier'>\n",
            "점수: 0.9631901840490797\n",
            "파라미터: {'learning_rate': 0.1, 'max_depth': 3, 'n_estimators': 50}\n"
          ],
          "name": "stdout"
        }
      ]
    },
    {
      "cell_type": "code",
      "metadata": {
        "colab": {
          "base_uri": "https://localhost:8080/"
        },
        "id": "wNzCpjQhXtmv",
        "outputId": "17ce2a5b-22b3-4d29-dd24-9a053677a9ec"
      },
      "source": [
        "model_lgbm=LGBM(max_depth=3, n_estimators=50,learning_rate=0.1)\n",
        "model_lgbm.fit(X_train, y_train> 0.5)\n",
        "pred_lgbm = model_lgbm.predict(X_test)\n",
        "print(classification_report(y_test> 0.5, pred_lgbm> 0.5))"
      ],
      "execution_count": null,
      "outputs": [
        {
          "output_type": "stream",
          "text": [
            "              precision    recall  f1-score   support\n",
            "\n",
            "       False       0.97      0.99      0.98       146\n",
            "        True       0.92      0.71      0.80        17\n",
            "\n",
            "    accuracy                           0.96       163\n",
            "   macro avg       0.94      0.85      0.89       163\n",
            "weighted avg       0.96      0.96      0.96       163\n",
            "\n"
          ],
          "name": "stdout"
        }
      ]
    },
    {
      "cell_type": "code",
      "metadata": {
        "colab": {
          "base_uri": "https://localhost:8080/",
          "height": 340
        },
        "id": "4_cH2IoeYyh2",
        "outputId": "4fcb6ac2-449c-4c23-f9ef-6139e19f228b"
      },
      "source": [
        "plt.bar(X.columns, model_lgbm.feature_importances_)\n",
        "plt.xticks(rotation=90)\n",
        "plt.show()"
      ],
      "execution_count": null,
      "outputs": [
        {
          "output_type": "display_data",
          "data": {
            "image/png": "[encoded data removed]",
            "text/plain": [
              "<Figure size 432x288 with 1 Axes>"
            ]
          },
          "metadata": {
            "tags": [],
            "needs_background": "light"
          }
        }
      ]
    },
    {
      "cell_type": "markdown",
      "metadata": {
        "id": "uYQs7N8uY3Zw"
      },
      "source": [
        "#### Precision-Recall 커브와 ROC 커브 그리기"
      ]
    },
    {
      "cell_type": "code",
      "metadata": {
        "colab": {
          "base_uri": "https://localhost:8080/",
          "height": 297
        },
        "id": "8xty4PfCZT5L",
        "outputId": "d7feb43b-df86-43fd-92bd-2c5c99656002"
      },
      "source": [
        "fig = plt.figure()\n",
        "ax = fig.gca()\n",
        "plot_precision_recall_curve(model_lgbm, X_test, y_test >0.5, ax=ax)"
      ],
      "execution_count": null,
      "outputs": [
        {
          "output_type": "execute_result",
          "data": {
            "text/plain": [
              "<sklearn.metrics._plot.precision_recall_curve.PrecisionRecallDisplay at 0x7f62dfb7afd0>"
            ]
          },
          "metadata": {
            "tags": []
          },
          "execution_count": 71
        },
        {
          "output_type": "display_data",
          "data": {
            "image/png": "[encoded data removed]",
            "text/plain": [
              "<Figure size 432x288 with 1 Axes>"
            ]
          },
          "metadata": {
            "tags": [],
            "needs_background": "light"
          }
        }
      ]
    },
    {
      "cell_type": "code",
      "metadata": {
        "colab": {
          "base_uri": "https://localhost:8080/",
          "height": 297
        },
        "id": "ddmumSwKZT9q",
        "outputId": "0daa0254-7860-4872-a5b9-0b86ad0b556b"
      },
      "source": [
        "fig = plt.figure()\n",
        "ax = fig.gca()\n",
        "plot_roc_curve(model_lgbm, X_test, y_test >0.5, ax=ax)"
      ],
      "execution_count": null,
      "outputs": [
        {
          "output_type": "execute_result",
          "data": {
            "text/plain": [
              "<sklearn.metrics._plot.roc_curve.RocCurveDisplay at 0x7f62dc6415d0>"
            ]
          },
          "metadata": {
            "tags": []
          },
          "execution_count": 72
        },
        {
          "output_type": "display_data",
          "data": {
            "image/png": "[encoded data removed]",
            "text/plain": [
              "<Figure size 432x288 with 1 Axes>"
            ]
          },
          "metadata": {
            "tags": [],
            "needs_background": "light"
          }
        }
      ]
    },
    {
      "cell_type": "markdown",
      "metadata": {
        "id": "8i6-YsqRZUAe"
      },
      "source": [
        "### Step 4. 딥러닝.신경망 모델로 분석"
      ]
    },
    {
      "cell_type": "code",
      "metadata": {
        "id": "TtV8br78ZUDd"
      },
      "source": [
        "from keras.optimizers import Adam"
      ],
      "execution_count": null,
      "outputs": []
    },
    {
      "cell_type": "code",
      "metadata": {
        "colab": {
          "base_uri": "https://localhost:8080/"
        },
        "id": "T-uMsV4uZUF9",
        "outputId": "d92e3418-a0f9-4aee-cf83-bf0c6364b75c"
      },
      "source": [
        "print(X_train.shape, y_train.shape)"
      ],
      "execution_count": null,
      "outputs": [
        {
          "output_type": "stream",
          "text": [
            "(379, 30) (379,)\n"
          ],
          "name": "stdout"
        }
      ]
    },
    {
      "cell_type": "markdown",
      "metadata": {
        "id": "tU3ZS5yKZwqc"
      },
      "source": [
        "#### 모델구현"
      ]
    },
    {
      "cell_type": "code",
      "metadata": {
        "colab": {
          "base_uri": "https://localhost:8080/"
        },
        "id": "epWjX_5kZ1F2",
        "outputId": "a40c89cd-342a-4407-a4e3-83cc97126a7b"
      },
      "source": [
        "    model = models.Sequential()\n",
        "    model.add(layers.Dense(32, activation='relu',input_shape=(30,)))\n",
        "    model.add(layers.BatchNormalization())\n",
        "\n",
        "    model.add(layers.Dense(64, activation='relu'))\n",
        "    model.add(layers.BatchNormalization())\n",
        "\n",
        "    model.add(layers.Dense(32, activation='relu'))\n",
        "    model.add(layers.BatchNormalization())\n",
        "\n",
        "    model.add(layers.Dense(16, activation='relu'))\n",
        "    model.add(layers.BatchNormalization())\n",
        "    # model.add(layers.Dropout(0.5))\n",
        "\n",
        "    model.add(layers.Dense(1))\n",
        "    model.compile(optimizer='Adam', loss='mse', metrics=['mae'])\n",
        "\n",
        "model.summary()"
      ],
      "execution_count": null,
      "outputs": [
        {
          "output_type": "stream",
          "text": [
            "Model: \"sequential\"\n",
            "_________________________________________________________________\n",
            "Layer (type)                 Output Shape              Param #   \n",
            "=================================================================\n",
            "dense (Dense)                (None, 32)                992       \n",
            "_________________________________________________________________\n",
            "batch_normalization (BatchNo (None, 32)                128       \n",
            "_________________________________________________________________\n",
            "dense_1 (Dense)              (None, 64)                2112      \n",
            "_________________________________________________________________\n",
            "batch_normalization_1 (Batch (None, 64)                256       \n",
            "_________________________________________________________________\n",
            "dense_2 (Dense)              (None, 32)                2080      \n",
            "_________________________________________________________________\n",
            "batch_normalization_2 (Batch (None, 32)                128       \n",
            "_________________________________________________________________\n",
            "dense_3 (Dense)              (None, 16)                528       \n",
            "_________________________________________________________________\n",
            "batch_normalization_3 (Batch (None, 16)                64        \n",
            "_________________________________________________________________\n",
            "dense_4 (Dense)              (None, 1)                 17        \n",
            "=================================================================\n",
            "Total params: 6,305\n",
            "Trainable params: 6,017\n",
            "Non-trainable params: 288\n",
            "_________________________________________________________________\n"
          ],
          "name": "stdout"
        }
      ]
    },
    {
      "cell_type": "code",
      "metadata": {
        "colab": {
          "base_uri": "https://localhost:8080/"
        },
        "id": "JLZKJrU-Z1NX",
        "outputId": "4a928cc8-f12d-40d4-c9cf-5af576a2822b"
      },
      "source": [
        "# 콜백 함수 적용 부분(분류모델은 val_loss로)\n",
        "early_stopping_callback = EarlyStopping(monitor='loss', mode='min', patience=10)\n",
        "# 분류모델이면 model_checkpoint = ModelCheckpoint(filepath='./{epoch}-{val_loss:.2f}-{val_accuracy:.2f}.h5', monitor='val_loss', save_best_only=True, verbose=1)\n",
        "model_checkpoint = ModelCheckpoint(filepath='/content/drive/MyDrive/Colab Notebooks/practice/분류문제/문제5_딥러닝파라미터/{epoch}-{loss:.2f}.h5', \n",
        "                                   monitor='loss', save_best_only=True, verbose=1)\n",
        "\n",
        "\n",
        "history = model.fit(X_train, y_train, batch_size=16,  epochs=1000,\n",
        "            callbacks=[early_stopping_callback, model_checkpoint],\n",
        "            validation_data=(X_test, y_test))"
      ],
      "execution_count": null,
      "outputs": [
        {
          "output_type": "stream",
          "text": [
            "Epoch 1/1000\n",
            "24/24 [==============================] - 3s 15ms/step - loss: 2.0400 - mae: 1.1159 - val_loss: 0.0542 - val_mae: 0.1953\n",
            "\n",
            "Epoch 00001: loss improved from inf to 1.52944, saving model to /content/drive/MyDrive/Colab Notebooks/practice/분류문제/문제5_딥러닝파라미터/1-1.53.h5\n",
            "Epoch 2/1000\n",
            "24/24 [==============================] - 0s 5ms/step - loss: 0.7690 - mae: 0.6819 - val_loss: 0.0191 - val_mae: 0.1023\n",
            "\n",
            "Epoch 00002: loss improved from 1.52944 to 0.68456, saving model to /content/drive/MyDrive/Colab Notebooks/practice/분류문제/문제5_딥러닝파라미터/2-0.68.h5\n",
            "Epoch 3/1000\n",
            "24/24 [==============================] - 0s 7ms/step - loss: 0.5778 - mae: 0.6074 - val_loss: 0.0289 - val_mae: 0.1471\n",
            "\n",
            "Epoch 00003: loss improved from 0.68456 to 0.49750, saving model to /content/drive/MyDrive/Colab Notebooks/practice/분류문제/문제5_딥러닝파라미터/3-0.50.h5\n",
            "Epoch 4/1000\n",
            "24/24 [==============================] - 0s 7ms/step - loss: 0.3904 - mae: 0.4954 - val_loss: 0.0306 - val_mae: 0.1452\n",
            "\n",
            "Epoch 00004: loss improved from 0.49750 to 0.37869, saving model to /content/drive/MyDrive/Colab Notebooks/practice/분류문제/문제5_딥러닝파라미터/4-0.38.h5\n",
            "Epoch 5/1000\n",
            "24/24 [==============================] - 0s 7ms/step - loss: 0.3170 - mae: 0.4488 - val_loss: 0.0365 - val_mae: 0.1541\n",
            "\n",
            "Epoch 00005: loss improved from 0.37869 to 0.33512, saving model to /content/drive/MyDrive/Colab Notebooks/practice/분류문제/문제5_딥러닝파라미터/5-0.34.h5\n",
            "Epoch 6/1000\n",
            "24/24 [==============================] - 0s 6ms/step - loss: 0.3216 - mae: 0.4477 - val_loss: 0.0436 - val_mae: 0.1639\n",
            "\n",
            "Epoch 00006: loss improved from 0.33512 to 0.28186, saving model to /content/drive/MyDrive/Colab Notebooks/practice/분류문제/문제5_딥러닝파라미터/6-0.28.h5\n",
            "Epoch 7/1000\n",
            "24/24 [==============================] - 0s 5ms/step - loss: 0.2520 - mae: 0.3962 - val_loss: 0.0425 - val_mae: 0.1612\n",
            "\n",
            "Epoch 00007: loss improved from 0.28186 to 0.21046, saving model to /content/drive/MyDrive/Colab Notebooks/practice/분류문제/문제5_딥러닝파라미터/7-0.21.h5\n",
            "Epoch 8/1000\n",
            "24/24 [==============================] - 0s 6ms/step - loss: 0.2027 - mae: 0.3593 - val_loss: 0.0377 - val_mae: 0.1532\n",
            "\n",
            "Epoch 00008: loss improved from 0.21046 to 0.20637, saving model to /content/drive/MyDrive/Colab Notebooks/practice/분류문제/문제5_딥러닝파라미터/8-0.21.h5\n",
            "Epoch 9/1000\n",
            "24/24 [==============================] - 0s 6ms/step - loss: 0.1716 - mae: 0.3298 - val_loss: 0.0430 - val_mae: 0.1618\n",
            "\n",
            "Epoch 00009: loss improved from 0.20637 to 0.17950, saving model to /content/drive/MyDrive/Colab Notebooks/practice/분류문제/문제5_딥러닝파라미터/9-0.18.h5\n",
            "Epoch 10/1000\n",
            "24/24 [==============================] - 0s 6ms/step - loss: 0.1803 - mae: 0.3364 - val_loss: 0.0425 - val_mae: 0.1617\n",
            "\n",
            "Epoch 00010: loss improved from 0.17950 to 0.17087, saving model to /content/drive/MyDrive/Colab Notebooks/practice/분류문제/문제5_딥러닝파라미터/10-0.17.h5\n",
            "Epoch 11/1000\n",
            "24/24 [==============================] - 0s 6ms/step - loss: 0.1439 - mae: 0.2976 - val_loss: 0.0427 - val_mae: 0.1615\n",
            "\n",
            "Epoch 00011: loss improved from 0.17087 to 0.14696, saving model to /content/drive/MyDrive/Colab Notebooks/practice/분류문제/문제5_딥러닝파라미터/11-0.15.h5\n",
            "Epoch 12/1000\n",
            "24/24 [==============================] - 0s 6ms/step - loss: 0.1297 - mae: 0.2902 - val_loss: 0.0439 - val_mae: 0.1645\n",
            "\n",
            "Epoch 00012: loss improved from 0.14696 to 0.14061, saving model to /content/drive/MyDrive/Colab Notebooks/practice/분류문제/문제5_딥러닝파라미터/12-0.14.h5\n",
            "Epoch 13/1000\n",
            "24/24 [==============================] - 0s 6ms/step - loss: 0.1206 - mae: 0.2667 - val_loss: 0.0410 - val_mae: 0.1582\n",
            "\n",
            "Epoch 00013: loss improved from 0.14061 to 0.13614, saving model to /content/drive/MyDrive/Colab Notebooks/practice/분류문제/문제5_딥러닝파라미터/13-0.14.h5\n",
            "Epoch 14/1000\n",
            "24/24 [==============================] - 0s 7ms/step - loss: 0.1625 - mae: 0.3173 - val_loss: 0.0393 - val_mae: 0.1555\n",
            "\n",
            "Epoch 00014: loss improved from 0.13614 to 0.13378, saving model to /content/drive/MyDrive/Colab Notebooks/practice/분류문제/문제5_딥러닝파라미터/14-0.13.h5\n",
            "Epoch 15/1000\n",
            "24/24 [==============================] - 0s 7ms/step - loss: 0.0825 - mae: 0.2287 - val_loss: 0.0378 - val_mae: 0.1525\n",
            "\n",
            "Epoch 00015: loss improved from 0.13378 to 0.08579, saving model to /content/drive/MyDrive/Colab Notebooks/practice/분류문제/문제5_딥러닝파라미터/15-0.09.h5\n",
            "Epoch 16/1000\n",
            "24/24 [==============================] - 0s 5ms/step - loss: 0.0876 - mae: 0.2292 - val_loss: 0.0385 - val_mae: 0.1542\n",
            "\n",
            "Epoch 00016: loss improved from 0.08579 to 0.08478, saving model to /content/drive/MyDrive/Colab Notebooks/practice/분류문제/문제5_딥러닝파라미터/16-0.08.h5\n",
            "Epoch 17/1000\n",
            "24/24 [==============================] - 0s 6ms/step - loss: 0.0902 - mae: 0.2317 - val_loss: 0.0396 - val_mae: 0.1561\n",
            "\n",
            "Epoch 00017: loss did not improve from 0.08478\n",
            "Epoch 18/1000\n",
            "24/24 [==============================] - 0s 8ms/step - loss: 0.0739 - mae: 0.2095 - val_loss: 0.0414 - val_mae: 0.1606\n",
            "\n",
            "Epoch 00018: loss improved from 0.08478 to 0.07921, saving model to /content/drive/MyDrive/Colab Notebooks/practice/분류문제/문제5_딥러닝파라미터/18-0.08.h5\n",
            "Epoch 19/1000\n",
            "24/24 [==============================] - 0s 7ms/step - loss: 0.0687 - mae: 0.2008 - val_loss: 0.0425 - val_mae: 0.1602\n",
            "\n",
            "Epoch 00019: loss improved from 0.07921 to 0.07381, saving model to /content/drive/MyDrive/Colab Notebooks/practice/분류문제/문제5_딥러닝파라미터/19-0.07.h5\n",
            "Epoch 20/1000\n",
            "24/24 [==============================] - 0s 7ms/step - loss: 0.0715 - mae: 0.2137 - val_loss: 0.0457 - val_mae: 0.1643\n",
            "\n",
            "Epoch 00020: loss improved from 0.07381 to 0.07003, saving model to /content/drive/MyDrive/Colab Notebooks/practice/분류문제/문제5_딥러닝파라미터/20-0.07.h5\n",
            "Epoch 21/1000\n",
            "24/24 [==============================] - 0s 7ms/step - loss: 0.0514 - mae: 0.1755 - val_loss: 0.0446 - val_mae: 0.1613\n",
            "\n",
            "Epoch 00021: loss improved from 0.07003 to 0.05845, saving model to /content/drive/MyDrive/Colab Notebooks/practice/분류문제/문제5_딥러닝파라미터/21-0.06.h5\n",
            "Epoch 22/1000\n",
            "24/24 [==============================] - 0s 6ms/step - loss: 0.0639 - mae: 0.2056 - val_loss: 0.0421 - val_mae: 0.1563\n",
            "\n",
            "Epoch 00022: loss improved from 0.05845 to 0.05653, saving model to /content/drive/MyDrive/Colab Notebooks/practice/분류문제/문제5_딥러닝파라미터/22-0.06.h5\n",
            "Epoch 23/1000\n",
            "24/24 [==============================] - 0s 5ms/step - loss: 0.0527 - mae: 0.1782 - val_loss: 0.0432 - val_mae: 0.1594\n",
            "\n",
            "Epoch 00023: loss improved from 0.05653 to 0.05628, saving model to /content/drive/MyDrive/Colab Notebooks/practice/분류문제/문제5_딥러닝파라미터/23-0.06.h5\n",
            "Epoch 24/1000\n",
            "24/24 [==============================] - 0s 6ms/step - loss: 0.0550 - mae: 0.1856 - val_loss: 0.0454 - val_mae: 0.1618\n",
            "\n",
            "Epoch 00024: loss did not improve from 0.05628\n",
            "Epoch 25/1000\n",
            "24/24 [==============================] - 0s 8ms/step - loss: 0.0594 - mae: 0.1955 - val_loss: 0.0431 - val_mae: 0.1579\n",
            "\n",
            "Epoch 00025: loss improved from 0.05628 to 0.05376, saving model to /content/drive/MyDrive/Colab Notebooks/practice/분류문제/문제5_딥러닝파라미터/25-0.05.h5\n",
            "Epoch 26/1000\n",
            "24/24 [==============================] - 0s 7ms/step - loss: 0.0452 - mae: 0.1698 - val_loss: 0.0412 - val_mae: 0.1537\n",
            "\n",
            "Epoch 00026: loss improved from 0.05376 to 0.04620, saving model to /content/drive/MyDrive/Colab Notebooks/practice/분류문제/문제5_딥러닝파라미터/26-0.05.h5\n",
            "Epoch 27/1000\n",
            "24/24 [==============================] - 0s 6ms/step - loss: 0.0403 - mae: 0.1572 - val_loss: 0.0393 - val_mae: 0.1511\n",
            "\n",
            "Epoch 00027: loss improved from 0.04620 to 0.04522, saving model to /content/drive/MyDrive/Colab Notebooks/practice/분류문제/문제5_딥러닝파라미터/27-0.05.h5\n",
            "Epoch 28/1000\n",
            "24/24 [==============================] - 0s 5ms/step - loss: 0.0378 - mae: 0.1529 - val_loss: 0.0362 - val_mae: 0.1442\n",
            "\n",
            "Epoch 00028: loss improved from 0.04522 to 0.03817, saving model to /content/drive/MyDrive/Colab Notebooks/practice/분류문제/문제5_딥러닝파라미터/28-0.04.h5\n",
            "Epoch 29/1000\n",
            "24/24 [==============================] - 0s 5ms/step - loss: 0.0400 - mae: 0.1572 - val_loss: 0.0348 - val_mae: 0.1428\n",
            "\n",
            "Epoch 00029: loss improved from 0.03817 to 0.03718, saving model to /content/drive/MyDrive/Colab Notebooks/practice/분류문제/문제5_딥러닝파라미터/29-0.04.h5\n",
            "Epoch 30/1000\n",
            "24/24 [==============================] - 0s 6ms/step - loss: 0.0306 - mae: 0.1407 - val_loss: 0.0347 - val_mae: 0.1407\n",
            "\n",
            "Epoch 00030: loss improved from 0.03718 to 0.03303, saving model to /content/drive/MyDrive/Colab Notebooks/practice/분류문제/문제5_딥러닝파라미터/30-0.03.h5\n",
            "Epoch 31/1000\n",
            "24/24 [==============================] - 0s 6ms/step - loss: 0.0315 - mae: 0.1432 - val_loss: 0.0361 - val_mae: 0.1441\n",
            "\n",
            "Epoch 00031: loss improved from 0.03303 to 0.03132, saving model to /content/drive/MyDrive/Colab Notebooks/practice/분류문제/문제5_딥러닝파라미터/31-0.03.h5\n",
            "Epoch 32/1000\n",
            "24/24 [==============================] - 0s 8ms/step - loss: 0.0448 - mae: 0.1575 - val_loss: 0.0329 - val_mae: 0.1374\n",
            "\n",
            "Epoch 00032: loss did not improve from 0.03132\n",
            "Epoch 33/1000\n",
            "24/24 [==============================] - 0s 7ms/step - loss: 0.0337 - mae: 0.1480 - val_loss: 0.0304 - val_mae: 0.1311\n",
            "\n",
            "Epoch 00033: loss did not improve from 0.03132\n",
            "Epoch 34/1000\n",
            "24/24 [==============================] - 0s 6ms/step - loss: 0.0356 - mae: 0.1488 - val_loss: 0.0294 - val_mae: 0.1312\n",
            "\n",
            "Epoch 00034: loss did not improve from 0.03132\n",
            "Epoch 35/1000\n",
            "24/24 [==============================] - 0s 6ms/step - loss: 0.0352 - mae: 0.1537 - val_loss: 0.0282 - val_mae: 0.1292\n",
            "\n",
            "Epoch 00035: loss did not improve from 0.03132\n",
            "Epoch 36/1000\n",
            "24/24 [==============================] - 0s 6ms/step - loss: 0.0241 - mae: 0.1242 - val_loss: 0.0276 - val_mae: 0.1268\n",
            "\n",
            "Epoch 00036: loss improved from 0.03132 to 0.02790, saving model to /content/drive/MyDrive/Colab Notebooks/practice/분류문제/문제5_딥러닝파라미터/36-0.03.h5\n",
            "Epoch 37/1000\n",
            "24/24 [==============================] - 0s 7ms/step - loss: 0.0226 - mae: 0.1216 - val_loss: 0.0262 - val_mae: 0.1242\n",
            "\n",
            "Epoch 00037: loss improved from 0.02790 to 0.02618, saving model to /content/drive/MyDrive/Colab Notebooks/practice/분류문제/문제5_딥러닝파라미터/37-0.03.h5\n",
            "Epoch 38/1000\n",
            "24/24 [==============================] - 0s 7ms/step - loss: 0.0305 - mae: 0.1351 - val_loss: 0.0264 - val_mae: 0.1246\n",
            "\n",
            "Epoch 00038: loss did not improve from 0.02618\n",
            "Epoch 39/1000\n",
            "24/24 [==============================] - 0s 7ms/step - loss: 0.0211 - mae: 0.1147 - val_loss: 0.0253 - val_mae: 0.1221\n",
            "\n",
            "Epoch 00039: loss improved from 0.02618 to 0.02167, saving model to /content/drive/MyDrive/Colab Notebooks/practice/분류문제/문제5_딥러닝파라미터/39-0.02.h5\n",
            "Epoch 40/1000\n",
            "24/24 [==============================] - 0s 7ms/step - loss: 0.0232 - mae: 0.1223 - val_loss: 0.0247 - val_mae: 0.1223\n",
            "\n",
            "Epoch 00040: loss did not improve from 0.02167\n",
            "Epoch 41/1000\n",
            "24/24 [==============================] - 0s 6ms/step - loss: 0.0254 - mae: 0.1289 - val_loss: 0.0226 - val_mae: 0.1148\n",
            "\n",
            "Epoch 00041: loss did not improve from 0.02167\n",
            "Epoch 42/1000\n",
            "24/24 [==============================] - 0s 7ms/step - loss: 0.0236 - mae: 0.1221 - val_loss: 0.0220 - val_mae: 0.1138\n",
            "\n",
            "Epoch 00042: loss did not improve from 0.02167\n",
            "Epoch 43/1000\n",
            "24/24 [==============================] - 0s 7ms/step - loss: 0.0220 - mae: 0.1159 - val_loss: 0.0219 - val_mae: 0.1144\n",
            "\n",
            "Epoch 00043: loss improved from 0.02167 to 0.02096, saving model to /content/drive/MyDrive/Colab Notebooks/practice/분류문제/문제5_딥러닝파라미터/43-0.02.h5\n",
            "Epoch 44/1000\n",
            "24/24 [==============================] - 0s 7ms/step - loss: 0.0198 - mae: 0.1091 - val_loss: 0.0216 - val_mae: 0.1144\n",
            "\n",
            "Epoch 00044: loss did not improve from 0.02096\n",
            "Epoch 45/1000\n",
            "24/24 [==============================] - 0s 7ms/step - loss: 0.0231 - mae: 0.1194 - val_loss: 0.0212 - val_mae: 0.1125\n",
            "\n",
            "Epoch 00045: loss did not improve from 0.02096\n",
            "Epoch 46/1000\n",
            "24/24 [==============================] - 0s 7ms/step - loss: 0.0217 - mae: 0.1135 - val_loss: 0.0206 - val_mae: 0.1109\n",
            "\n",
            "Epoch 00046: loss did not improve from 0.02096\n",
            "Epoch 47/1000\n",
            "24/24 [==============================] - 0s 6ms/step - loss: 0.0190 - mae: 0.1054 - val_loss: 0.0198 - val_mae: 0.1084\n",
            "\n",
            "Epoch 00047: loss improved from 0.02096 to 0.01870, saving model to /content/drive/MyDrive/Colab Notebooks/practice/분류문제/문제5_딥러닝파라미터/47-0.02.h5\n",
            "Epoch 48/1000\n",
            "24/24 [==============================] - 0s 6ms/step - loss: 0.0185 - mae: 0.1072 - val_loss: 0.0189 - val_mae: 0.1065\n",
            "\n",
            "Epoch 00048: loss did not improve from 0.01870\n",
            "Epoch 49/1000\n",
            "24/24 [==============================] - 0s 6ms/step - loss: 0.0172 - mae: 0.1038 - val_loss: 0.0193 - val_mae: 0.1082\n",
            "\n",
            "Epoch 00049: loss improved from 0.01870 to 0.01759, saving model to /content/drive/MyDrive/Colab Notebooks/practice/분류문제/문제5_딥러닝파라미터/49-0.02.h5\n",
            "Epoch 50/1000\n",
            "24/24 [==============================] - 0s 6ms/step - loss: 0.0175 - mae: 0.1057 - val_loss: 0.0193 - val_mae: 0.1087\n",
            "\n",
            "Epoch 00050: loss did not improve from 0.01759\n",
            "Epoch 51/1000\n",
            "24/24 [==============================] - 0s 6ms/step - loss: 0.0173 - mae: 0.1048 - val_loss: 0.0180 - val_mae: 0.1043\n",
            "\n",
            "Epoch 00051: loss did not improve from 0.01759\n",
            "Epoch 52/1000\n",
            "24/24 [==============================] - 0s 6ms/step - loss: 0.0202 - mae: 0.1108 - val_loss: 0.0174 - val_mae: 0.1024\n",
            "\n",
            "Epoch 00052: loss did not improve from 0.01759\n",
            "Epoch 53/1000\n",
            "24/24 [==============================] - 0s 6ms/step - loss: 0.0160 - mae: 0.1021 - val_loss: 0.0174 - val_mae: 0.1020\n",
            "\n",
            "Epoch 00053: loss improved from 0.01759 to 0.01743, saving model to /content/drive/MyDrive/Colab Notebooks/practice/분류문제/문제5_딥러닝파라미터/53-0.02.h5\n",
            "Epoch 54/1000\n",
            "24/24 [==============================] - 0s 6ms/step - loss: 0.0187 - mae: 0.1083 - val_loss: 0.0171 - val_mae: 0.1003\n",
            "\n",
            "Epoch 00054: loss did not improve from 0.01743\n",
            "Epoch 55/1000\n",
            "24/24 [==============================] - 0s 7ms/step - loss: 0.0182 - mae: 0.1056 - val_loss: 0.0158 - val_mae: 0.0962\n",
            "\n",
            "Epoch 00055: loss did not improve from 0.01743\n",
            "Epoch 56/1000\n",
            "24/24 [==============================] - 0s 7ms/step - loss: 0.0160 - mae: 0.0967 - val_loss: 0.0154 - val_mae: 0.0958\n",
            "\n",
            "Epoch 00056: loss improved from 0.01743 to 0.01701, saving model to /content/drive/MyDrive/Colab Notebooks/practice/분류문제/문제5_딥러닝파라미터/56-0.02.h5\n",
            "Epoch 57/1000\n",
            "24/24 [==============================] - 0s 6ms/step - loss: 0.0137 - mae: 0.0943 - val_loss: 0.0153 - val_mae: 0.0961\n",
            "\n",
            "Epoch 00057: loss improved from 0.01701 to 0.01500, saving model to /content/drive/MyDrive/Colab Notebooks/practice/분류문제/문제5_딥러닝파라미터/57-0.01.h5\n",
            "Epoch 58/1000\n",
            "24/24 [==============================] - 0s 6ms/step - loss: 0.0135 - mae: 0.0931 - val_loss: 0.0153 - val_mae: 0.0950\n",
            "\n",
            "Epoch 00058: loss improved from 0.01500 to 0.01374, saving model to /content/drive/MyDrive/Colab Notebooks/practice/분류문제/문제5_딥러닝파라미터/58-0.01.h5\n",
            "Epoch 59/1000\n",
            "24/24 [==============================] - 0s 6ms/step - loss: 0.0142 - mae: 0.0942 - val_loss: 0.0149 - val_mae: 0.0930\n",
            "\n",
            "Epoch 00059: loss did not improve from 0.01374\n",
            "Epoch 60/1000\n",
            "24/24 [==============================] - 0s 8ms/step - loss: 0.0121 - mae: 0.0860 - val_loss: 0.0143 - val_mae: 0.0909\n",
            "\n",
            "Epoch 00060: loss improved from 0.01374 to 0.01264, saving model to /content/drive/MyDrive/Colab Notebooks/practice/분류문제/문제5_딥러닝파라미터/60-0.01.h5\n",
            "Epoch 61/1000\n",
            "24/24 [==============================] - 0s 7ms/step - loss: 0.0104 - mae: 0.0793 - val_loss: 0.0143 - val_mae: 0.0918\n",
            "\n",
            "Epoch 00061: loss improved from 0.01264 to 0.01132, saving model to /content/drive/MyDrive/Colab Notebooks/practice/분류문제/문제5_딥러닝파라미터/61-0.01.h5\n",
            "Epoch 62/1000\n",
            "24/24 [==============================] - 0s 7ms/step - loss: 0.0133 - mae: 0.0912 - val_loss: 0.0139 - val_mae: 0.0905\n",
            "\n",
            "Epoch 00062: loss did not improve from 0.01132\n",
            "Epoch 63/1000\n",
            "24/24 [==============================] - 0s 6ms/step - loss: 0.0127 - mae: 0.0870 - val_loss: 0.0136 - val_mae: 0.0900\n",
            "\n",
            "Epoch 00063: loss did not improve from 0.01132\n",
            "Epoch 64/1000\n",
            "24/24 [==============================] - 0s 6ms/step - loss: 0.0137 - mae: 0.0955 - val_loss: 0.0139 - val_mae: 0.0910\n",
            "\n",
            "Epoch 00064: loss did not improve from 0.01132\n",
            "Epoch 65/1000\n",
            "24/24 [==============================] - 0s 7ms/step - loss: 0.0166 - mae: 0.1034 - val_loss: 0.0133 - val_mae: 0.0886\n",
            "\n",
            "Epoch 00065: loss did not improve from 0.01132\n",
            "Epoch 66/1000\n",
            "24/24 [==============================] - 0s 7ms/step - loss: 0.0115 - mae: 0.0848 - val_loss: 0.0131 - val_mae: 0.0882\n",
            "\n",
            "Epoch 00066: loss did not improve from 0.01132\n",
            "Epoch 67/1000\n",
            "24/24 [==============================] - 0s 7ms/step - loss: 0.0119 - mae: 0.0840 - val_loss: 0.0135 - val_mae: 0.0897\n",
            "\n",
            "Epoch 00067: loss did not improve from 0.01132\n",
            "Epoch 68/1000\n",
            "24/24 [==============================] - 0s 6ms/step - loss: 0.0153 - mae: 0.0940 - val_loss: 0.0129 - val_mae: 0.0881\n",
            "\n",
            "Epoch 00068: loss did not improve from 0.01132\n",
            "Epoch 69/1000\n",
            "24/24 [==============================] - 0s 6ms/step - loss: 0.0117 - mae: 0.0827 - val_loss: 0.0125 - val_mae: 0.0862\n",
            "\n",
            "Epoch 00069: loss did not improve from 0.01132\n",
            "Epoch 70/1000\n",
            "24/24 [==============================] - 0s 6ms/step - loss: 0.0136 - mae: 0.0858 - val_loss: 0.0120 - val_mae: 0.0856\n",
            "\n",
            "Epoch 00070: loss did not improve from 0.01132\n",
            "Epoch 71/1000\n",
            "24/24 [==============================] - 0s 6ms/step - loss: 0.0106 - mae: 0.0832 - val_loss: 0.0113 - val_mae: 0.0818\n",
            "\n",
            "Epoch 00071: loss did not improve from 0.01132\n"
          ],
          "name": "stdout"
        }
      ]
    },
    {
      "cell_type": "markdown",
      "metadata": {
        "id": "rmvqLkE0Z1Rn"
      },
      "source": [
        "#### 딥러닝 모델 평가"
      ]
    },
    {
      "cell_type": "code",
      "metadata": {
        "colab": {
          "base_uri": "https://localhost:8080/"
        },
        "id": "QtIJH_MRZ1UL",
        "outputId": "7d1c99eb-b675-43ca-e359-424735f66f3b"
      },
      "source": [
        "model.evaluate(X_test, y_test)"
      ],
      "execution_count": null,
      "outputs": [
        {
          "output_type": "stream",
          "text": [
            "6/6 [==============================] - 0s 2ms/step - loss: 0.0113 - mae: 0.0818\n"
          ],
          "name": "stdout"
        },
        {
          "output_type": "execute_result",
          "data": {
            "text/plain": [
              "[0.011259224265813828, 0.08183074742555618]"
            ]
          },
          "metadata": {
            "tags": []
          },
          "execution_count": 77
        }
      ]
    },
    {
      "cell_type": "code",
      "metadata": {
        "colab": {
          "base_uri": "https://localhost:8080/"
        },
        "id": "F1QT6nqAb7-W",
        "outputId": "177e885b-8a8d-40de-dc85-0bb6c5b8ce68"
      },
      "source": [
        "history_dict = history.history\n",
        "history_dict.keys()"
      ],
      "execution_count": null,
      "outputs": [
        {
          "output_type": "execute_result",
          "data": {
            "text/plain": [
              "dict_keys(['loss', 'mae', 'val_loss', 'val_mae'])"
            ]
          },
          "metadata": {
            "tags": []
          },
          "execution_count": 78
        }
      ]
    },
    {
      "cell_type": "code",
      "metadata": {
        "colab": {
          "base_uri": "https://localhost:8080/"
        },
        "id": "i4FGBFnHb-dg",
        "outputId": "66668b91-009f-437c-9ca0-ffc97353d6c7"
      },
      "source": [
        "print(model.predict(X_test[5:10]))\n",
        "print(y_test[5:10])"
      ],
      "execution_count": null,
      "outputs": [
        {
          "output_type": "stream",
          "text": [
            "[[0.23808025]\n",
            " [0.4855392 ]\n",
            " [0.34269065]\n",
            " [0.32096112]\n",
            " [0.49490786]]\n",
            "state          county         \n",
            "West Virginia  Jackson County     0.241128\n",
            "Montana        Gallatin County    0.538900\n",
            "Missouri       Scott County       0.214188\n",
            "Indiana        LaPorte County     0.463138\n",
            "Delaware       Kent County        0.520705\n",
            "Name: Pres_DEM, dtype: float64\n"
          ],
          "name": "stdout"
        }
      ]
    },
    {
      "cell_type": "code",
      "metadata": {
        "colab": {
          "base_uri": "https://localhost:8080/",
          "height": 295
        },
        "id": "r0d2Z8cQcEyw",
        "outputId": "abe0670b-6234-42be-970f-064359a372cf"
      },
      "source": [
        "loss = history.history['loss'] \n",
        "val_loss = history.history['val_loss']\n",
        "\n",
        "epochs = range(1, len(loss) + 1)\n",
        "\n",
        "# ‘bo’는 파란색 점을 의미합니다\n",
        "plt.plot(epochs, loss, 'bo', label='Training loss')\n",
        "# ‘b’는 파란색 실선을 의미합니다\n",
        "plt.plot(epochs, val_loss, 'b', label='Validation loss')\n",
        "plt.title('Training and validation loss')\n",
        "plt.xlabel('Epochs')\n",
        "plt.ylabel('Loss')\n",
        "plt.legend()\n",
        "\n",
        "plt.show()"
      ],
      "execution_count": null,
      "outputs": [
        {
          "output_type": "display_data",
          "data": {
            "image/png": "[encoded data removed]",
            "text/plain": [
              "<Figure size 432x288 with 1 Axes>"
            ]
          },
          "metadata": {
            "tags": [],
            "needs_background": "light"
          }
        }
      ]
    },
    {
      "cell_type": "code",
      "metadata": {
        "colab": {
          "base_uri": "https://localhost:8080/",
          "height": 295
        },
        "id": "mE2yFEnmcSIx",
        "outputId": "ed0a63f2-30fb-4df3-be21-697bd9f6b781"
      },
      "source": [
        "plt.clf()   # 그래프를 초기화합니다\n",
        "mae = history.history['mae'] \n",
        "val_mae = history.history['val_mae'] \n",
        "\n",
        "plt.plot(epochs, mae, 'bo', label='Training mae')\n",
        "plt.plot(epochs, val_mae, 'b', label='Validation mae')\n",
        "plt.title('Training and validation mae')\n",
        "plt.xlabel('Epochs')\n",
        "plt.ylabel('MAE')\n",
        "plt.legend()\n",
        "\n",
        "plt.show()"
      ],
      "execution_count": null,
      "outputs": [
        {
          "output_type": "display_data",
          "data": {
            "image/png": "[encoded data removed]",
            "text/plain": [
              "<Figure size 432x288 with 1 Axes>"
            ]
          },
          "metadata": {
            "tags": [],
            "needs_background": "light"
          }
        }
      ]
    },
    {
      "cell_type": "code",
      "metadata": {
        "id": "oPQG4y95cc3W"
      },
      "source": [
        ""
      ],
      "execution_count": null,
      "outputs": []
    }
  ]
}
