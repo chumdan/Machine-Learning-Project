{
  "nbformat": 4,
  "nbformat_minor": 0,
  "metadata": {
    "colab": {
      "name": "문제7_에어비엔비숙박료예측.ipynb",
      "provenance": [],
      "collapsed_sections": [],
      "authorship_tag": "ABX9TyNmz0Y6P3eI/AMsepbkZc3N",
      "include_colab_link": true
    },
    "kernelspec": {
      "name": "python3",
      "display_name": "Python 3"
    },
    "accelerator": "GPU"
  },
  "cells": [
    {
      "cell_type": "markdown",
      "metadata": {
        "id": "view-in-github",
        "colab_type": "text"
      },
      "source": [
        "<a href=\"https://colab.research.google.com/github/chumdan/Machine-Learning-Project/blob/main/%ED%9A%8C%EA%B7%80/%EB%AC%B8%EC%A0%9C7_%EC%97%90%EC%96%B4%EB%B9%84%EC%97%94%EB%B9%84%EC%88%99%EB%B0%95%EB%A3%8C%EC%98%88%EC%B8%A1.ipynb\" target=\"_parent\"><img src=\"https://colab.research.google.com/assets/colab-badge.svg\" alt=\"Open In Colab\"/></a>"
      ]
    },
    {
      "cell_type": "markdown",
      "metadata": {
        "id": "WKSC20tu78rt"
      },
      "source": [
        "# 주제 : 에어비엔비 숙박료예측 (회귀문제유형)"
      ]
    },
    {
      "cell_type": "markdown",
      "metadata": {
        "id": "aNEuM_j18gXP"
      },
      "source": [
        "### Step 0. 필요패키지 설치"
      ]
    },
    {
      "cell_type": "code",
      "metadata": {
        "colab": {
          "base_uri": "https://localhost:8080/"
        },
        "id": "BtqySpR88ga_",
        "outputId": "4b0d564e-7004-430e-ae49-d0bd73ce2971"
      },
      "source": [
        "from google.colab import drive\n",
        "drive.mount('/content/drive')"
      ],
      "execution_count": null,
      "outputs": [
        {
          "output_type": "stream",
          "text": [
            "Mounted at /content/drive\n"
          ],
          "name": "stdout"
        }
      ]
    },
    {
      "cell_type": "code",
      "metadata": {
        "id": "FbHrNLBx8geH"
      },
      "source": [
        "import pandas as pd\n",
        "import numpy as np\n",
        "import matplotlib.pyplot as plt\n",
        "import seaborn as sns\n",
        "import os\n",
        "from sklearn.neighbors import KNeighborsClassifier as KNN\n",
        "from sklearn.svm import SVC\n",
        "from sklearn.linear_model import LogisticRegression as LR\n",
        "from sklearn.tree import DecisionTreeClassifier as DTC\n",
        "from sklearn.ensemble import RandomForestClassifier as RFC\n",
        "from xgboost import XGBClassifier as XGB\n",
        "from lightgbm import LGBMClassifier as LGBM\n",
        "from sklearn.feature_selection import *\n",
        "from sklearn.metrics import f1_score\n",
        "from sklearn.model_selection import ParameterGrid\n",
        "from sklearn.decomposition import PCA\n",
        "from sklearn.preprocessing import StandardScaler\n",
        "from sklearn.preprocessing import MinMaxScaler\n",
        "from tensorflow.keras.callbacks import EarlyStopping, ModelCheckpoint\n",
        "from sklearn.model_selection import train_test_split\n",
        "from keras import models\n",
        "from keras import layers\n",
        "from sklearn.metrics import classification_report\n",
        "from sklearn.metrics import plot_precision_recall_curve\n",
        "from sklearn.metrics import plot_roc_curve"
      ],
      "execution_count": null,
      "outputs": []
    },
    {
      "cell_type": "code",
      "metadata": {
        "id": "_NjbPx9k8gg-"
      },
      "source": [
        "# os.environ을 이용하여 Kaggle API Username, Key 세팅하기\n",
        "os.environ['KAGGLE_USERNAME'] = 'chumdan'\n",
        "os.environ['KAGGLE_KEY'] = '0e8bf51ba50bce898a8a9736072bd3b8'"
      ],
      "execution_count": null,
      "outputs": []
    },
    {
      "cell_type": "code",
      "metadata": {
        "colab": {
          "base_uri": "https://localhost:8080/"
        },
        "id": "7PYrZ9-C8gkQ",
        "outputId": "3aaa2e68-84da-478b-9572-3b6bb4754dbd"
      },
      "source": [
        "# Linux 명령어로 Kaggle API를 이용하여 데이터셋 다운로드하기 (!kaggle ~)\n",
        "# Linux 명령어로 압축 해제하기\n",
        "!rm *.*\n",
        "!kaggle datasets download -d dgomonov/new-york-city-airbnb-open-data\n",
        "!unzip '*.zip'"
      ],
      "execution_count": null,
      "outputs": [
        {
          "output_type": "stream",
          "text": [
            "Downloading new-york-city-airbnb-open-data.zip to /content\n",
            "\r  0% 0.00/2.44M [00:00<?, ?B/s]\n",
            "\r100% 2.44M/2.44M [00:00<00:00, 82.2MB/s]\n",
            "Archive:  new-york-city-airbnb-open-data.zip\n",
            "  inflating: AB_NYC_2019.csv         \n",
            "  inflating: New_York_City_.png      \n"
          ],
          "name": "stdout"
        }
      ]
    },
    {
      "cell_type": "markdown",
      "metadata": {
        "id": "C6IaglP28gng"
      },
      "source": [
        "### 데이터 소개\n",
        "    다음의 csv 파일을 사용한다.(스크랩핑데이터)\n",
        "    - AB_NYC_2019.csv\n",
        "    id: 항목의 ID\n",
        "    name: 항목의 이름 (타이틀)\n",
        "    host_id: 호스트 ID\n",
        "    host_name: 호스트의 이름\n",
        "    neighbourhood_group: 방이 있는 구역 그룹\n",
        "    neighbourhood: 방이 있는 구역\n",
        "    latitude: 방이 위치한 위도\n",
        "    longitude: 방이 위치한 경도\n",
        "    room_type: 방의 종류\n",
        "    price: 가격 (미 달러)\n",
        "    minimum_nights: 최소 숙박 일수\n",
        "    number_of_reviews: 리뷰의 개수\n",
        "    last_review: 마지막 리뷰 일자\n",
        "    reviews_per_month: 월별 리뷰 개수\n",
        "    calculated_host_listings_count: 호스트가 올린 방 개수\n",
        "    availability_365: 365일 중 가능한 일수\n",
        "\n",
        "    종속변수 : price 가격\n",
        "    \n",
        "    \n",
        "- 데이터 출처: https://www.kaggle.com/dgomonov/new-york-city-airbnb-open-data"
      ]
    },
    {
      "cell_type": "code",
      "metadata": {
        "id": "WQY8YCOQ8gqu"
      },
      "source": [
        "df = pd.read_csv('AB_NYC_2019.csv')"
      ],
      "execution_count": null,
      "outputs": []
    },
    {
      "cell_type": "markdown",
      "metadata": {
        "id": "epUn8a148guB"
      },
      "source": [
        "### Step 1. 데이터 기초 통계 분석 및 그래프"
      ]
    },
    {
      "cell_type": "markdown",
      "metadata": {
        "id": "HooGnDWM8gxf"
      },
      "source": [
        "#### 데이터프레임의 각 칼럼 분석"
      ]
    },
    {
      "cell_type": "code",
      "metadata": {
        "colab": {
          "base_uri": "https://localhost:8080/",
          "height": 408
        },
        "id": "nm31bZU18g0y",
        "outputId": "aeeae52f-23f3-4f3c-89c7-b3c90bed2a5d"
      },
      "source": [
        "# 불필요한 칼럼제거\n",
        "df.head()"
      ],
      "execution_count": null,
      "outputs": [
        {
          "output_type": "execute_result",
          "data": {
            "text/html": [
              "<div>\n",
              "<style scoped>\n",
              "    .dataframe tbody tr th:only-of-type {\n",
              "        vertical-align: middle;\n",
              "    }\n",
              "\n",
              "    .dataframe tbody tr th {\n",
              "        vertical-align: top;\n",
              "    }\n",
              "\n",
              "    .dataframe thead th {\n",
              "        text-align: right;\n",
              "    }\n",
              "</style>\n",
              "<table border=\"1\" class=\"dataframe\">\n",
              "  <thead>\n",
              "    <tr style=\"text-align: right;\">\n",
              "      <th></th>\n",
              "      <th>id</th>\n",
              "      <th>name</th>\n",
              "      <th>host_id</th>\n",
              "      <th>host_name</th>\n",
              "      <th>neighbourhood_group</th>\n",
              "      <th>neighbourhood</th>\n",
              "      <th>latitude</th>\n",
              "      <th>longitude</th>\n",
              "      <th>room_type</th>\n",
              "      <th>price</th>\n",
              "      <th>minimum_nights</th>\n",
              "      <th>number_of_reviews</th>\n",
              "      <th>last_review</th>\n",
              "      <th>reviews_per_month</th>\n",
              "      <th>calculated_host_listings_count</th>\n",
              "      <th>availability_365</th>\n",
              "    </tr>\n",
              "  </thead>\n",
              "  <tbody>\n",
              "    <tr>\n",
              "      <th>0</th>\n",
              "      <td>2539</td>\n",
              "      <td>Clean &amp; quiet apt home by the park</td>\n",
              "      <td>2787</td>\n",
              "      <td>John</td>\n",
              "      <td>Brooklyn</td>\n",
              "      <td>Kensington</td>\n",
              "      <td>40.64749</td>\n",
              "      <td>-73.97237</td>\n",
              "      <td>Private room</td>\n",
              "      <td>149</td>\n",
              "      <td>1</td>\n",
              "      <td>9</td>\n",
              "      <td>2018-10-19</td>\n",
              "      <td>0.21</td>\n",
              "      <td>6</td>\n",
              "      <td>365</td>\n",
              "    </tr>\n",
              "    <tr>\n",
              "      <th>1</th>\n",
              "      <td>2595</td>\n",
              "      <td>Skylit Midtown Castle</td>\n",
              "      <td>2845</td>\n",
              "      <td>Jennifer</td>\n",
              "      <td>Manhattan</td>\n",
              "      <td>Midtown</td>\n",
              "      <td>40.75362</td>\n",
              "      <td>-73.98377</td>\n",
              "      <td>Entire home/apt</td>\n",
              "      <td>225</td>\n",
              "      <td>1</td>\n",
              "      <td>45</td>\n",
              "      <td>2019-05-21</td>\n",
              "      <td>0.38</td>\n",
              "      <td>2</td>\n",
              "      <td>355</td>\n",
              "    </tr>\n",
              "    <tr>\n",
              "      <th>2</th>\n",
              "      <td>3647</td>\n",
              "      <td>THE VILLAGE OF HARLEM....NEW YORK !</td>\n",
              "      <td>4632</td>\n",
              "      <td>Elisabeth</td>\n",
              "      <td>Manhattan</td>\n",
              "      <td>Harlem</td>\n",
              "      <td>40.80902</td>\n",
              "      <td>-73.94190</td>\n",
              "      <td>Private room</td>\n",
              "      <td>150</td>\n",
              "      <td>3</td>\n",
              "      <td>0</td>\n",
              "      <td>NaN</td>\n",
              "      <td>NaN</td>\n",
              "      <td>1</td>\n",
              "      <td>365</td>\n",
              "    </tr>\n",
              "    <tr>\n",
              "      <th>3</th>\n",
              "      <td>3831</td>\n",
              "      <td>Cozy Entire Floor of Brownstone</td>\n",
              "      <td>4869</td>\n",
              "      <td>LisaRoxanne</td>\n",
              "      <td>Brooklyn</td>\n",
              "      <td>Clinton Hill</td>\n",
              "      <td>40.68514</td>\n",
              "      <td>-73.95976</td>\n",
              "      <td>Entire home/apt</td>\n",
              "      <td>89</td>\n",
              "      <td>1</td>\n",
              "      <td>270</td>\n",
              "      <td>2019-07-05</td>\n",
              "      <td>4.64</td>\n",
              "      <td>1</td>\n",
              "      <td>194</td>\n",
              "    </tr>\n",
              "    <tr>\n",
              "      <th>4</th>\n",
              "      <td>5022</td>\n",
              "      <td>Entire Apt: Spacious Studio/Loft by central park</td>\n",
              "      <td>7192</td>\n",
              "      <td>Laura</td>\n",
              "      <td>Manhattan</td>\n",
              "      <td>East Harlem</td>\n",
              "      <td>40.79851</td>\n",
              "      <td>-73.94399</td>\n",
              "      <td>Entire home/apt</td>\n",
              "      <td>80</td>\n",
              "      <td>10</td>\n",
              "      <td>9</td>\n",
              "      <td>2018-11-19</td>\n",
              "      <td>0.10</td>\n",
              "      <td>1</td>\n",
              "      <td>0</td>\n",
              "    </tr>\n",
              "  </tbody>\n",
              "</table>\n",
              "</div>"
            ],
            "text/plain": [
              "     id  ... availability_365\n",
              "0  2539  ...              365\n",
              "1  2595  ...              355\n",
              "2  3647  ...              365\n",
              "3  3831  ...              194\n",
              "4  5022  ...                0\n",
              "\n",
              "[5 rows x 16 columns]"
            ]
          },
          "metadata": {
            "tags": []
          },
          "execution_count": 10
        }
      ]
    },
    {
      "cell_type": "code",
      "metadata": {
        "colab": {
          "base_uri": "https://localhost:8080/"
        },
        "id": "WqcWvRV_8g3_",
        "outputId": "b783b1df-3773-4c13-b475-af6163e6c945"
      },
      "source": [
        "df['room_type'].value_counts()"
      ],
      "execution_count": null,
      "outputs": [
        {
          "output_type": "execute_result",
          "data": {
            "text/plain": [
              "Entire home/apt    25409\n",
              "Private room       22326\n",
              "Shared room         1160\n",
              "Name: room_type, dtype: int64"
            ]
          },
          "metadata": {
            "tags": []
          },
          "execution_count": 11
        }
      ]
    },
    {
      "cell_type": "code",
      "metadata": {
        "colab": {
          "base_uri": "https://localhost:8080/"
        },
        "id": "mjgzYuXR8g7R",
        "outputId": "0c8f9347-a1c0-4a55-f2a3-5c8b31bb530f"
      },
      "source": [
        "df.info()"
      ],
      "execution_count": null,
      "outputs": [
        {
          "output_type": "stream",
          "text": [
            "<class 'pandas.core.frame.DataFrame'>\n",
            "RangeIndex: 48895 entries, 0 to 48894\n",
            "Data columns (total 16 columns):\n",
            " #   Column                          Non-Null Count  Dtype  \n",
            "---  ------                          --------------  -----  \n",
            " 0   id                              48895 non-null  int64  \n",
            " 1   name                            48879 non-null  object \n",
            " 2   host_id                         48895 non-null  int64  \n",
            " 3   host_name                       48874 non-null  object \n",
            " 4   neighbourhood_group             48895 non-null  object \n",
            " 5   neighbourhood                   48895 non-null  object \n",
            " 6   latitude                        48895 non-null  float64\n",
            " 7   longitude                       48895 non-null  float64\n",
            " 8   room_type                       48895 non-null  object \n",
            " 9   price                           48895 non-null  int64  \n",
            " 10  minimum_nights                  48895 non-null  int64  \n",
            " 11  number_of_reviews               48895 non-null  int64  \n",
            " 12  last_review                     38843 non-null  object \n",
            " 13  reviews_per_month               38843 non-null  float64\n",
            " 14  calculated_host_listings_count  48895 non-null  int64  \n",
            " 15  availability_365                48895 non-null  int64  \n",
            "dtypes: float64(3), int64(7), object(6)\n",
            "memory usage: 6.0+ MB\n"
          ],
          "name": "stdout"
        }
      ]
    },
    {
      "cell_type": "code",
      "metadata": {
        "colab": {
          "base_uri": "https://localhost:8080/"
        },
        "id": "5R2xaPv08g-o",
        "outputId": "569e4984-fd44-4f0b-aa60-a46401ec9999"
      },
      "source": [
        "df.isna().sum()"
      ],
      "execution_count": null,
      "outputs": [
        {
          "output_type": "execute_result",
          "data": {
            "text/plain": [
              "id                                    0\n",
              "name                                 16\n",
              "host_id                               0\n",
              "host_name                            21\n",
              "neighbourhood_group                   0\n",
              "neighbourhood                         0\n",
              "latitude                              0\n",
              "longitude                             0\n",
              "room_type                             0\n",
              "price                                 0\n",
              "minimum_nights                        0\n",
              "number_of_reviews                     0\n",
              "last_review                       10052\n",
              "reviews_per_month                 10052\n",
              "calculated_host_listings_count        0\n",
              "availability_365                      0\n",
              "dtype: int64"
            ]
          },
          "metadata": {
            "tags": []
          },
          "execution_count": 13
        }
      ]
    },
    {
      "cell_type": "code",
      "metadata": {
        "colab": {
          "base_uri": "https://localhost:8080/"
        },
        "id": "kHMs4N568hBo",
        "outputId": "90cfb7d2-99d2-4ca4-bc8b-ba3978ee06c5"
      },
      "source": [
        "(df['reviews_per_month'].isna() & df['last_review'].isna()).sum()"
      ],
      "execution_count": null,
      "outputs": [
        {
          "output_type": "execute_result",
          "data": {
            "text/plain": [
              "10052"
            ]
          },
          "metadata": {
            "tags": []
          },
          "execution_count": 14
        }
      ]
    },
    {
      "cell_type": "code",
      "metadata": {
        "colab": {
          "base_uri": "https://localhost:8080/"
        },
        "id": "E_jGXP5f8hEd",
        "outputId": "a8e4d79c-f553-42bf-8c61-a3a34831650e"
      },
      "source": [
        "df['reviews_per_month'].isna().sum()"
      ],
      "execution_count": null,
      "outputs": [
        {
          "output_type": "execute_result",
          "data": {
            "text/plain": [
              "10052"
            ]
          },
          "metadata": {
            "tags": []
          },
          "execution_count": 15
        }
      ]
    },
    {
      "cell_type": "code",
      "metadata": {
        "colab": {
          "base_uri": "https://localhost:8080/"
        },
        "id": "5yyxMbEj8hHn",
        "outputId": "1ae093e3-7bb8-48ad-e0dd-ee4ff281d373"
      },
      "source": [
        "(df['number_of_reviews'] == 0).sum()\n",
        "# number_of_reviews , reviews_per_month 동일한 변수"
      ],
      "execution_count": null,
      "outputs": [
        {
          "output_type": "execute_result",
          "data": {
            "text/plain": [
              "10052"
            ]
          },
          "metadata": {
            "tags": []
          },
          "execution_count": 16
        }
      ]
    },
    {
      "cell_type": "code",
      "metadata": {
        "colab": {
          "base_uri": "https://localhost:8080/",
          "height": 283
        },
        "id": "WLd1PRml8hK3",
        "outputId": "7a3d40c4-f842-4ff0-9ca1-46bb881e4006"
      },
      "source": [
        "df['availability_365'].hist()"
      ],
      "execution_count": null,
      "outputs": [
        {
          "output_type": "execute_result",
          "data": {
            "text/plain": [
              "<matplotlib.axes._subplots.AxesSubplot at 0x7f903bb45190>"
            ]
          },
          "metadata": {
            "tags": []
          },
          "execution_count": 17
        },
        {
          "output_type": "display_data",
          "data": {
            "image/png": "[encoded data removed]",
            "text/plain": [
              "<Figure size 432x288 with 1 Axes>"
            ]
          },
          "metadata": {
            "tags": [],
            "needs_background": "light"
          }
        }
      ]
    },
    {
      "cell_type": "code",
      "metadata": {
        "colab": {
          "base_uri": "https://localhost:8080/"
        },
        "id": "pc1WgIkZ8hOW",
        "outputId": "19896bb1-3b64-4d43-f22a-28ec61e63b8c"
      },
      "source": [
        "(df['availability_365'] == 0).sum()"
      ],
      "execution_count": null,
      "outputs": [
        {
          "output_type": "execute_result",
          "data": {
            "text/plain": [
              "17533"
            ]
          },
          "metadata": {
            "tags": []
          },
          "execution_count": 18
        }
      ]
    },
    {
      "cell_type": "code",
      "metadata": {
        "colab": {
          "base_uri": "https://localhost:8080/",
          "height": 308
        },
        "id": "gpUSn5kq8hRp",
        "outputId": "bcc248b1-c398-4aa6-a49f-717631aaf0db"
      },
      "source": [
        "df.describe()"
      ],
      "execution_count": null,
      "outputs": [
        {
          "output_type": "execute_result",
          "data": {
            "text/html": [
              "<div>\n",
              "<style scoped>\n",
              "    .dataframe tbody tr th:only-of-type {\n",
              "        vertical-align: middle;\n",
              "    }\n",
              "\n",
              "    .dataframe tbody tr th {\n",
              "        vertical-align: top;\n",
              "    }\n",
              "\n",
              "    .dataframe thead th {\n",
              "        text-align: right;\n",
              "    }\n",
              "</style>\n",
              "<table border=\"1\" class=\"dataframe\">\n",
              "  <thead>\n",
              "    <tr style=\"text-align: right;\">\n",
              "      <th></th>\n",
              "      <th>id</th>\n",
              "      <th>host_id</th>\n",
              "      <th>latitude</th>\n",
              "      <th>longitude</th>\n",
              "      <th>price</th>\n",
              "      <th>minimum_nights</th>\n",
              "      <th>number_of_reviews</th>\n",
              "      <th>reviews_per_month</th>\n",
              "      <th>calculated_host_listings_count</th>\n",
              "      <th>availability_365</th>\n",
              "    </tr>\n",
              "  </thead>\n",
              "  <tbody>\n",
              "    <tr>\n",
              "      <th>count</th>\n",
              "      <td>4.889500e+04</td>\n",
              "      <td>4.889500e+04</td>\n",
              "      <td>48895.000000</td>\n",
              "      <td>48895.000000</td>\n",
              "      <td>48895.000000</td>\n",
              "      <td>48895.000000</td>\n",
              "      <td>48895.000000</td>\n",
              "      <td>38843.000000</td>\n",
              "      <td>48895.000000</td>\n",
              "      <td>48895.000000</td>\n",
              "    </tr>\n",
              "    <tr>\n",
              "      <th>mean</th>\n",
              "      <td>1.901714e+07</td>\n",
              "      <td>6.762001e+07</td>\n",
              "      <td>40.728949</td>\n",
              "      <td>-73.952170</td>\n",
              "      <td>152.720687</td>\n",
              "      <td>7.029962</td>\n",
              "      <td>23.274466</td>\n",
              "      <td>1.373221</td>\n",
              "      <td>7.143982</td>\n",
              "      <td>112.781327</td>\n",
              "    </tr>\n",
              "    <tr>\n",
              "      <th>std</th>\n",
              "      <td>1.098311e+07</td>\n",
              "      <td>7.861097e+07</td>\n",
              "      <td>0.054530</td>\n",
              "      <td>0.046157</td>\n",
              "      <td>240.154170</td>\n",
              "      <td>20.510550</td>\n",
              "      <td>44.550582</td>\n",
              "      <td>1.680442</td>\n",
              "      <td>32.952519</td>\n",
              "      <td>131.622289</td>\n",
              "    </tr>\n",
              "    <tr>\n",
              "      <th>min</th>\n",
              "      <td>2.539000e+03</td>\n",
              "      <td>2.438000e+03</td>\n",
              "      <td>40.499790</td>\n",
              "      <td>-74.244420</td>\n",
              "      <td>0.000000</td>\n",
              "      <td>1.000000</td>\n",
              "      <td>0.000000</td>\n",
              "      <td>0.010000</td>\n",
              "      <td>1.000000</td>\n",
              "      <td>0.000000</td>\n",
              "    </tr>\n",
              "    <tr>\n",
              "      <th>25%</th>\n",
              "      <td>9.471945e+06</td>\n",
              "      <td>7.822033e+06</td>\n",
              "      <td>40.690100</td>\n",
              "      <td>-73.983070</td>\n",
              "      <td>69.000000</td>\n",
              "      <td>1.000000</td>\n",
              "      <td>1.000000</td>\n",
              "      <td>0.190000</td>\n",
              "      <td>1.000000</td>\n",
              "      <td>0.000000</td>\n",
              "    </tr>\n",
              "    <tr>\n",
              "      <th>50%</th>\n",
              "      <td>1.967728e+07</td>\n",
              "      <td>3.079382e+07</td>\n",
              "      <td>40.723070</td>\n",
              "      <td>-73.955680</td>\n",
              "      <td>106.000000</td>\n",
              "      <td>3.000000</td>\n",
              "      <td>5.000000</td>\n",
              "      <td>0.720000</td>\n",
              "      <td>1.000000</td>\n",
              "      <td>45.000000</td>\n",
              "    </tr>\n",
              "    <tr>\n",
              "      <th>75%</th>\n",
              "      <td>2.915218e+07</td>\n",
              "      <td>1.074344e+08</td>\n",
              "      <td>40.763115</td>\n",
              "      <td>-73.936275</td>\n",
              "      <td>175.000000</td>\n",
              "      <td>5.000000</td>\n",
              "      <td>24.000000</td>\n",
              "      <td>2.020000</td>\n",
              "      <td>2.000000</td>\n",
              "      <td>227.000000</td>\n",
              "    </tr>\n",
              "    <tr>\n",
              "      <th>max</th>\n",
              "      <td>3.648724e+07</td>\n",
              "      <td>2.743213e+08</td>\n",
              "      <td>40.913060</td>\n",
              "      <td>-73.712990</td>\n",
              "      <td>10000.000000</td>\n",
              "      <td>1250.000000</td>\n",
              "      <td>629.000000</td>\n",
              "      <td>58.500000</td>\n",
              "      <td>327.000000</td>\n",
              "      <td>365.000000</td>\n",
              "    </tr>\n",
              "  </tbody>\n",
              "</table>\n",
              "</div>"
            ],
            "text/plain": [
              "                 id  ...  availability_365\n",
              "count  4.889500e+04  ...      48895.000000\n",
              "mean   1.901714e+07  ...        112.781327\n",
              "std    1.098311e+07  ...        131.622289\n",
              "min    2.539000e+03  ...          0.000000\n",
              "25%    9.471945e+06  ...          0.000000\n",
              "50%    1.967728e+07  ...         45.000000\n",
              "75%    2.915218e+07  ...        227.000000\n",
              "max    3.648724e+07  ...        365.000000\n",
              "\n",
              "[8 rows x 10 columns]"
            ]
          },
          "metadata": {
            "tags": []
          },
          "execution_count": 19
        }
      ]
    },
    {
      "cell_type": "code",
      "metadata": {
        "colab": {
          "base_uri": "https://localhost:8080/"
        },
        "id": "x8Tl5A-B8hUu",
        "outputId": "9e5cabed-aa7d-441f-c4b2-cd1549363712"
      },
      "source": [
        "df.columns"
      ],
      "execution_count": null,
      "outputs": [
        {
          "output_type": "execute_result",
          "data": {
            "text/plain": [
              "Index(['id', 'name', 'host_id', 'host_name', 'neighbourhood_group',\n",
              "       'neighbourhood', 'latitude', 'longitude', 'room_type', 'price',\n",
              "       'minimum_nights', 'number_of_reviews', 'last_review',\n",
              "       'reviews_per_month', 'calculated_host_listings_count',\n",
              "       'availability_365'],\n",
              "      dtype='object')"
            ]
          },
          "metadata": {
            "tags": []
          },
          "execution_count": 20
        }
      ]
    },
    {
      "cell_type": "code",
      "metadata": {
        "id": "XUwO-qt48hX3"
      },
      "source": [
        "df.drop(['id', 'name', 'host_name', 'latitude', 'longitude'], axis=1, inplace=True)"
      ],
      "execution_count": null,
      "outputs": []
    },
    {
      "cell_type": "code",
      "metadata": {
        "colab": {
          "base_uri": "https://localhost:8080/",
          "height": 305
        },
        "id": "wo7lReNj8hbH",
        "outputId": "75e00c54-a09c-48e2-840f-5563323b336a"
      },
      "source": [
        "df.head()"
      ],
      "execution_count": null,
      "outputs": [
        {
          "output_type": "execute_result",
          "data": {
            "text/html": [
              "<div>\n",
              "<style scoped>\n",
              "    .dataframe tbody tr th:only-of-type {\n",
              "        vertical-align: middle;\n",
              "    }\n",
              "\n",
              "    .dataframe tbody tr th {\n",
              "        vertical-align: top;\n",
              "    }\n",
              "\n",
              "    .dataframe thead th {\n",
              "        text-align: right;\n",
              "    }\n",
              "</style>\n",
              "<table border=\"1\" class=\"dataframe\">\n",
              "  <thead>\n",
              "    <tr style=\"text-align: right;\">\n",
              "      <th></th>\n",
              "      <th>host_id</th>\n",
              "      <th>neighbourhood_group</th>\n",
              "      <th>neighbourhood</th>\n",
              "      <th>room_type</th>\n",
              "      <th>price</th>\n",
              "      <th>minimum_nights</th>\n",
              "      <th>number_of_reviews</th>\n",
              "      <th>last_review</th>\n",
              "      <th>reviews_per_month</th>\n",
              "      <th>calculated_host_listings_count</th>\n",
              "      <th>availability_365</th>\n",
              "    </tr>\n",
              "  </thead>\n",
              "  <tbody>\n",
              "    <tr>\n",
              "      <th>0</th>\n",
              "      <td>2787</td>\n",
              "      <td>Brooklyn</td>\n",
              "      <td>Kensington</td>\n",
              "      <td>Private room</td>\n",
              "      <td>149</td>\n",
              "      <td>1</td>\n",
              "      <td>9</td>\n",
              "      <td>2018-10-19</td>\n",
              "      <td>0.21</td>\n",
              "      <td>6</td>\n",
              "      <td>365</td>\n",
              "    </tr>\n",
              "    <tr>\n",
              "      <th>1</th>\n",
              "      <td>2845</td>\n",
              "      <td>Manhattan</td>\n",
              "      <td>Midtown</td>\n",
              "      <td>Entire home/apt</td>\n",
              "      <td>225</td>\n",
              "      <td>1</td>\n",
              "      <td>45</td>\n",
              "      <td>2019-05-21</td>\n",
              "      <td>0.38</td>\n",
              "      <td>2</td>\n",
              "      <td>355</td>\n",
              "    </tr>\n",
              "    <tr>\n",
              "      <th>2</th>\n",
              "      <td>4632</td>\n",
              "      <td>Manhattan</td>\n",
              "      <td>Harlem</td>\n",
              "      <td>Private room</td>\n",
              "      <td>150</td>\n",
              "      <td>3</td>\n",
              "      <td>0</td>\n",
              "      <td>NaN</td>\n",
              "      <td>NaN</td>\n",
              "      <td>1</td>\n",
              "      <td>365</td>\n",
              "    </tr>\n",
              "    <tr>\n",
              "      <th>3</th>\n",
              "      <td>4869</td>\n",
              "      <td>Brooklyn</td>\n",
              "      <td>Clinton Hill</td>\n",
              "      <td>Entire home/apt</td>\n",
              "      <td>89</td>\n",
              "      <td>1</td>\n",
              "      <td>270</td>\n",
              "      <td>2019-07-05</td>\n",
              "      <td>4.64</td>\n",
              "      <td>1</td>\n",
              "      <td>194</td>\n",
              "    </tr>\n",
              "    <tr>\n",
              "      <th>4</th>\n",
              "      <td>7192</td>\n",
              "      <td>Manhattan</td>\n",
              "      <td>East Harlem</td>\n",
              "      <td>Entire home/apt</td>\n",
              "      <td>80</td>\n",
              "      <td>10</td>\n",
              "      <td>9</td>\n",
              "      <td>2018-11-19</td>\n",
              "      <td>0.10</td>\n",
              "      <td>1</td>\n",
              "      <td>0</td>\n",
              "    </tr>\n",
              "  </tbody>\n",
              "</table>\n",
              "</div>"
            ],
            "text/plain": [
              "   host_id  ... availability_365\n",
              "0     2787  ...              365\n",
              "1     2845  ...              355\n",
              "2     4632  ...              365\n",
              "3     4869  ...              194\n",
              "4     7192  ...                0\n",
              "\n",
              "[5 rows x 11 columns]"
            ]
          },
          "metadata": {
            "tags": []
          },
          "execution_count": 22
        }
      ]
    },
    {
      "cell_type": "markdown",
      "metadata": {
        "id": "fPk6TO4w8heN"
      },
      "source": [
        "#### 수치형 데이터와 종속변수 분석"
      ]
    },
    {
      "cell_type": "code",
      "metadata": {
        "colab": {
          "base_uri": "https://localhost:8080/"
        },
        "id": "2vQJ6hZS8hhm",
        "outputId": "f504824e-bfed-4788-d4a9-08d5a3b3175b"
      },
      "source": [
        "df.columns"
      ],
      "execution_count": null,
      "outputs": [
        {
          "output_type": "execute_result",
          "data": {
            "text/plain": [
              "Index(['host_id', 'neighbourhood_group', 'neighbourhood', 'room_type', 'price',\n",
              "       'minimum_nights', 'number_of_reviews', 'last_review',\n",
              "       'reviews_per_month', 'calculated_host_listings_count',\n",
              "       'availability_365'],\n",
              "      dtype='object')"
            ]
          },
          "metadata": {
            "tags": []
          },
          "execution_count": 23
        }
      ]
    },
    {
      "cell_type": "code",
      "metadata": {
        "colab": {
          "base_uri": "https://localhost:8080/",
          "height": 459
        },
        "id": "gcd7D81W8hlE",
        "outputId": "f15b4be4-df33-4ecd-f905-4f6c214dbfa2"
      },
      "source": [
        "# 이상치로 분석 어려움.\n",
        "sns.jointplot(x='host_id', y='price', data=df, kind='hex')"
      ],
      "execution_count": null,
      "outputs": [
        {
          "output_type": "execute_result",
          "data": {
            "text/plain": [
              "<seaborn.axisgrid.JointGrid at 0x7f903cfd6250>"
            ]
          },
          "metadata": {
            "tags": []
          },
          "execution_count": 24
        },
        {
          "output_type": "display_data",
          "data": {
            "image/png": "[encoded data removed]",
            "text/plain": [
              "<Figure size 432x432 with 3 Axes>"
            ]
          },
          "metadata": {
            "tags": [],
            "needs_background": "light"
          }
        }
      ]
    },
    {
      "cell_type": "code",
      "metadata": {
        "colab": {
          "base_uri": "https://localhost:8080/",
          "height": 459
        },
        "id": "n08Q7o5S8hoX",
        "outputId": "868b6bfd-ab18-41ea-ba6d-1665471a77f4"
      },
      "source": [
        "# 이상치로 분석 어려움.\n",
        "sns.jointplot(x='reviews_per_month', y='price', data=df, kind='hex')"
      ],
      "execution_count": null,
      "outputs": [
        {
          "output_type": "execute_result",
          "data": {
            "text/plain": [
              "<seaborn.axisgrid.JointGrid at 0x7f904601ddd0>"
            ]
          },
          "metadata": {
            "tags": []
          },
          "execution_count": 25
        },
        {
          "output_type": "display_data",
          "data": {
            "image/png": "[encoded data removed]",
            "text/plain": [
              "<Figure size 432x432 with 3 Axes>"
            ]
          },
          "metadata": {
            "tags": [],
            "needs_background": "light"
          }
        }
      ]
    },
    {
      "cell_type": "code",
      "metadata": {
        "colab": {
          "base_uri": "https://localhost:8080/",
          "height": 429
        },
        "id": "yCEmXc5x8hrm",
        "outputId": "3a1bb6c9-2d3a-4670-98fd-c91ed1c9843b"
      },
      "source": [
        "sns.heatmap(df.corr(), annot=True, cmap='YlOrRd')"
      ],
      "execution_count": null,
      "outputs": [
        {
          "output_type": "execute_result",
          "data": {
            "text/plain": [
              "<matplotlib.axes._subplots.AxesSubplot at 0x7f9044430ed0>"
            ]
          },
          "metadata": {
            "tags": []
          },
          "execution_count": 26
        },
        {
          "output_type": "display_data",
          "data": {
            "image/png": "[encoded data removed]",
            "text/plain": [
              "<Figure size 432x288 with 2 Axes>"
            ]
          },
          "metadata": {
            "tags": [],
            "needs_background": "light"
          }
        }
      ]
    },
    {
      "cell_type": "markdown",
      "metadata": {
        "id": "8W7X1hf88hu7"
      },
      "source": [
        "#### 범주형 데이터와 종속변수 관계파악"
      ]
    },
    {
      "cell_type": "code",
      "metadata": {
        "colab": {
          "base_uri": "https://localhost:8080/"
        },
        "id": "V1U-zzOM8hyG",
        "outputId": "e1d08a50-044a-46eb-d3d5-51cd51219778"
      },
      "source": [
        "df.columns"
      ],
      "execution_count": null,
      "outputs": [
        {
          "output_type": "execute_result",
          "data": {
            "text/plain": [
              "Index(['host_id', 'neighbourhood_group', 'neighbourhood', 'room_type', 'price',\n",
              "       'minimum_nights', 'number_of_reviews', 'last_review',\n",
              "       'reviews_per_month', 'calculated_host_listings_count',\n",
              "       'availability_365'],\n",
              "      dtype='object')"
            ]
          },
          "metadata": {
            "tags": []
          },
          "execution_count": 27
        }
      ]
    },
    {
      "cell_type": "code",
      "metadata": {
        "colab": {
          "base_uri": "https://localhost:8080/",
          "height": 298
        },
        "id": "YczCLy9G8h1H",
        "outputId": "ed8865ea-69c6-497c-88f6-f147fa3eda4e"
      },
      "source": [
        "sns.boxplot(x='neighbourhood_group', y='price', data=df)"
      ],
      "execution_count": null,
      "outputs": [
        {
          "output_type": "execute_result",
          "data": {
            "text/plain": [
              "<matplotlib.axes._subplots.AxesSubplot at 0x7f90440fb150>"
            ]
          },
          "metadata": {
            "tags": []
          },
          "execution_count": 28
        },
        {
          "output_type": "display_data",
          "data": {
            "image/png": "[encoded data removed]",
            "text/plain": [
              "<Figure size 432x288 with 1 Axes>"
            ]
          },
          "metadata": {
            "tags": [],
            "needs_background": "light"
          }
        }
      ]
    },
    {
      "cell_type": "code",
      "metadata": {
        "colab": {
          "base_uri": "https://localhost:8080/",
          "height": 298
        },
        "id": "aYG9ucnc8h4r",
        "outputId": "391c079f-8df7-4680-9b1b-8e1d2e9357f3"
      },
      "source": [
        "sns.boxplot(x='room_type', y='price', data=df)\n",
        "# 범주형 변수와 수치형 변수 모두 이상치 때문에 그래프 분석이 어려움. 데이터 클리닝 수행"
      ],
      "execution_count": null,
      "outputs": [
        {
          "output_type": "execute_result",
          "data": {
            "text/plain": [
              "<matplotlib.axes._subplots.AxesSubplot at 0x7f904405c3d0>"
            ]
          },
          "metadata": {
            "tags": []
          },
          "execution_count": 29
        },
        {
          "output_type": "display_data",
          "data": {
            "image/png": "[encoded data removed]",
            "text/plain": [
              "<Figure size 432x288 with 1 Axes>"
            ]
          },
          "metadata": {
            "tags": [],
            "needs_background": "light"
          }
        }
      ]
    },
    {
      "cell_type": "markdown",
      "metadata": {
        "id": "oAsORvSt8h8Q"
      },
      "source": [
        "### Step 2. 데이터 클리닝 수행하기"
      ]
    },
    {
      "cell_type": "markdown",
      "metadata": {
        "id": "tUuJzopU8h_0"
      },
      "source": [
        "#### 미기입, 오기입 데이터 확인"
      ]
    },
    {
      "cell_type": "code",
      "metadata": {
        "colab": {
          "base_uri": "https://localhost:8080/"
        },
        "id": "jsdlmh7m8iCt",
        "outputId": "3b391159-3d05-417e-c0e4-326ba74469dd"
      },
      "source": [
        "df.columns"
      ],
      "execution_count": null,
      "outputs": [
        {
          "output_type": "execute_result",
          "data": {
            "text/plain": [
              "Index(['host_id', 'neighbourhood_group', 'neighbourhood', 'room_type', 'price',\n",
              "       'minimum_nights', 'number_of_reviews', 'last_review',\n",
              "       'reviews_per_month', 'calculated_host_listings_count',\n",
              "       'availability_365'],\n",
              "      dtype='object')"
            ]
          },
          "metadata": {
            "tags": []
          },
          "execution_count": 30
        }
      ]
    },
    {
      "cell_type": "code",
      "metadata": {
        "colab": {
          "base_uri": "https://localhost:8080/"
        },
        "id": "gAHmkS-M8iGW",
        "outputId": "cc3f59eb-ede3-4c16-d96c-da5ec4e9c0a2"
      },
      "source": [
        "df.isna().sum()"
      ],
      "execution_count": null,
      "outputs": [
        {
          "output_type": "execute_result",
          "data": {
            "text/plain": [
              "host_id                               0\n",
              "neighbourhood_group                   0\n",
              "neighbourhood                         0\n",
              "room_type                             0\n",
              "price                                 0\n",
              "minimum_nights                        0\n",
              "number_of_reviews                     0\n",
              "last_review                       10052\n",
              "reviews_per_month                 10052\n",
              "calculated_host_listings_count        0\n",
              "availability_365                      0\n",
              "dtype: int64"
            ]
          },
          "metadata": {
            "tags": []
          },
          "execution_count": 31
        }
      ]
    },
    {
      "cell_type": "code",
      "metadata": {
        "colab": {
          "base_uri": "https://localhost:8080/"
        },
        "id": "w-t_BAG08iJm",
        "outputId": "bc23a06d-2997-41ff-9c4a-a067eefe7017"
      },
      "source": [
        "df['neighbourhood_group'].value_counts()"
      ],
      "execution_count": null,
      "outputs": [
        {
          "output_type": "execute_result",
          "data": {
            "text/plain": [
              "Manhattan        21661\n",
              "Brooklyn         20104\n",
              "Queens            5666\n",
              "Bronx             1091\n",
              "Staten Island      373\n",
              "Name: neighbourhood_group, dtype: int64"
            ]
          },
          "metadata": {
            "tags": []
          },
          "execution_count": 32
        }
      ]
    },
    {
      "cell_type": "code",
      "metadata": {
        "colab": {
          "base_uri": "https://localhost:8080/",
          "height": 283
        },
        "id": "X4KB0ChF8iNV",
        "outputId": "c8d4dc2c-91a2-4aeb-a029-3a0bda136cad"
      },
      "source": [
        "# 50을 기준으로 기타분류\n",
        "neigh = df['neighbourhood'].value_counts()\n",
        "plt.plot(range(len(neigh)), neigh)"
      ],
      "execution_count": null,
      "outputs": [
        {
          "output_type": "execute_result",
          "data": {
            "text/plain": [
              "[<matplotlib.lines.Line2D at 0x7f9043fb20d0>]"
            ]
          },
          "metadata": {
            "tags": []
          },
          "execution_count": 33
        },
        {
          "output_type": "display_data",
          "data": {
            "image/png": "[encoded data removed]",
            "text/plain": [
              "<Figure size 432x288 with 1 Axes>"
            ]
          },
          "metadata": {
            "tags": [],
            "needs_background": "light"
          }
        }
      ]
    },
    {
      "cell_type": "code",
      "metadata": {
        "id": "A61sbveo8iQq"
      },
      "source": [
        "df['neighbourhood'] = df['neighbourhood'].apply(lambda s: s if str(s) not in neigh[50:] else 'others')"
      ],
      "execution_count": null,
      "outputs": []
    },
    {
      "cell_type": "code",
      "metadata": {
        "colab": {
          "base_uri": "https://localhost:8080/"
        },
        "id": "9kT7WfGu8iT8",
        "outputId": "5ab4f7f4-682d-48ad-976e-cbe0d9400f1e"
      },
      "source": [
        "df['neighbourhood'].value_counts()"
      ],
      "execution_count": null,
      "outputs": [
        {
          "output_type": "execute_result",
          "data": {
            "text/plain": [
              "others                       6248\n",
              "Williamsburg                 3920\n",
              "Bedford-Stuyvesant           3714\n",
              "Harlem                       2658\n",
              "Bushwick                     2465\n",
              "Upper West Side              1971\n",
              "Hell's Kitchen               1958\n",
              "East Village                 1853\n",
              "Upper East Side              1798\n",
              "Crown Heights                1564\n",
              "Midtown                      1545\n",
              "East Harlem                  1117\n",
              "Greenpoint                   1115\n",
              "Chelsea                      1113\n",
              "Lower East Side               911\n",
              "Astoria                       900\n",
              "Washington Heights            899\n",
              "West Village                  768\n",
              "Financial District            744\n",
              "Flatbush                      621\n",
              "Clinton Hill                  572\n",
              "Long Island City              537\n",
              "Prospect-Lefferts Gardens     535\n",
              "Park Slope                    506\n",
              "East Flatbush                 500\n",
              "Fort Greene                   489\n",
              "Murray Hill                   485\n",
              "Kips Bay                      470\n",
              "Flushing                      426\n",
              "Ridgewood                     423\n",
              "Greenwich Village             392\n",
              "Sunset Park                   390\n",
              "Chinatown                     368\n",
              "Sunnyside                     363\n",
              "SoHo                          358\n",
              "Prospect Heights              357\n",
              "Morningside Heights           346\n",
              "Gramercy                      338\n",
              "Ditmars Steinway              309\n",
              "Theater District              288\n",
              "South Slope                   284\n",
              "Nolita                        253\n",
              "Inwood                        252\n",
              "Gowanus                       247\n",
              "Elmhurst                      237\n",
              "Woodside                      235\n",
              "Carroll Gardens               233\n",
              "Jamaica                       231\n",
              "East New York                 218\n",
              "Jackson Heights               186\n",
              "East Elmhurst                 185\n",
              "Name: neighbourhood, dtype: int64"
            ]
          },
          "metadata": {
            "tags": []
          },
          "execution_count": 35
        }
      ]
    },
    {
      "cell_type": "code",
      "metadata": {
        "colab": {
          "base_uri": "https://localhost:8080/"
        },
        "id": "HBBmRs2s8iXK",
        "outputId": "7e058a3f-e99e-4bfd-98be-64dbdfde1afe"
      },
      "source": [
        "df['room_type'].value_counts()"
      ],
      "execution_count": null,
      "outputs": [
        {
          "output_type": "execute_result",
          "data": {
            "text/plain": [
              "Entire home/apt    25409\n",
              "Private room       22326\n",
              "Shared room         1160\n",
              "Name: room_type, dtype: int64"
            ]
          },
          "metadata": {
            "tags": []
          },
          "execution_count": 36
        }
      ]
    },
    {
      "cell_type": "code",
      "metadata": {
        "colab": {
          "base_uri": "https://localhost:8080/"
        },
        "id": "lW4YiqtD8iad",
        "outputId": "a0c51e93-bf4a-42b3-8c4e-328eb9b9cf12"
      },
      "source": [
        "df.columns"
      ],
      "execution_count": null,
      "outputs": [
        {
          "output_type": "execute_result",
          "data": {
            "text/plain": [
              "Index(['host_id', 'neighbourhood_group', 'neighbourhood', 'room_type', 'price',\n",
              "       'minimum_nights', 'number_of_reviews', 'last_review',\n",
              "       'reviews_per_month', 'calculated_host_listings_count',\n",
              "       'availability_365'],\n",
              "      dtype='object')"
            ]
          },
          "metadata": {
            "tags": []
          },
          "execution_count": 37
        }
      ]
    },
    {
      "cell_type": "code",
      "metadata": {
        "colab": {
          "base_uri": "https://localhost:8080/",
          "height": 297
        },
        "id": "pZzQumhq8idx",
        "outputId": "29dbaa66-9368-4004-b08b-68dfe7e732b5"
      },
      "source": [
        "sns.rugplot(x='price', data=df, height=1)"
      ],
      "execution_count": null,
      "outputs": [
        {
          "output_type": "execute_result",
          "data": {
            "text/plain": [
              "<matplotlib.axes._subplots.AxesSubplot at 0x7f9043f7d910>"
            ]
          },
          "metadata": {
            "tags": []
          },
          "execution_count": 38
        },
        {
          "output_type": "display_data",
          "data": {
            "image/png": "[encoded data removed]",
            "text/plain": [
              "<Figure size 432x288 with 1 Axes>"
            ]
          },
          "metadata": {
            "tags": [],
            "needs_background": "light"
          }
        }
      ]
    },
    {
      "cell_type": "code",
      "metadata": {
        "colab": {
          "base_uri": "https://localhost:8080/"
        },
        "id": "6L2njtfJA3vi",
        "outputId": "40894754-1c2a-46d0-9831-479cb310d7f9"
      },
      "source": [
        "print(df['price'].quantile(0.95)) # 상위 5%\n",
        "print(df['price'].quantile(0.005)) # 하위 0.5%"
      ],
      "execution_count": null,
      "outputs": [
        {
          "output_type": "stream",
          "text": [
            "355.0\n",
            "26.0\n"
          ],
          "name": "stdout"
        }
      ]
    },
    {
      "cell_type": "code",
      "metadata": {
        "colab": {
          "base_uri": "https://localhost:8080/",
          "height": 298
        },
        "id": "ARZMh6x8A3zf",
        "outputId": "d9eb1ef0-9d8b-4783-d9d3-6b2629399188"
      },
      "source": [
        "sns.rugplot(x='minimum_nights', data=df, height=1)"
      ],
      "execution_count": null,
      "outputs": [
        {
          "output_type": "execute_result",
          "data": {
            "text/plain": [
              "<matplotlib.axes._subplots.AxesSubplot at 0x7f90422e5150>"
            ]
          },
          "metadata": {
            "tags": []
          },
          "execution_count": 40
        },
        {
          "output_type": "display_data",
          "data": {
            "image/png": "[encoded data removed]",
            "text/plain": [
              "<Figure size 432x288 with 1 Axes>"
            ]
          },
          "metadata": {
            "tags": [],
            "needs_background": "light"
          }
        }
      ]
    },
    {
      "cell_type": "code",
      "metadata": {
        "colab": {
          "base_uri": "https://localhost:8080/"
        },
        "id": "Kse7mp6QA322",
        "outputId": "709f95ed-6dfe-4d80-8fa3-87906a2f2fd7"
      },
      "source": [
        "# 아웃라이어제거. \n",
        "print(df['minimum_nights'].quantile(0.98))"
      ],
      "execution_count": null,
      "outputs": [
        {
          "output_type": "stream",
          "text": [
            "30.0\n"
          ],
          "name": "stdout"
        }
      ]
    },
    {
      "cell_type": "code",
      "metadata": {
        "colab": {
          "base_uri": "https://localhost:8080/",
          "height": 298
        },
        "id": "yXhUM7oRA352",
        "outputId": "9c37e07d-1c16-40d6-aa11-2328bcc0a689"
      },
      "source": [
        "sns.rugplot(x='availability_365', data=df, height=1)"
      ],
      "execution_count": null,
      "outputs": [
        {
          "output_type": "execute_result",
          "data": {
            "text/plain": [
              "<matplotlib.axes._subplots.AxesSubplot at 0x7f90406d5f50>"
            ]
          },
          "metadata": {
            "tags": []
          },
          "execution_count": 42
        },
        {
          "output_type": "display_data",
          "data": {
            "image/png": "[encoded data removed]",
            "text/plain": [
              "<Figure size 432x288 with 1 Axes>"
            ]
          },
          "metadata": {
            "tags": [],
            "needs_background": "light"
          }
        }
      ]
    },
    {
      "cell_type": "code",
      "metadata": {
        "colab": {
          "base_uri": "https://localhost:8080/"
        },
        "id": "ycQLRAtTA39J",
        "outputId": "fe037e92-f7b0-4389-8326-0f552ca4585a"
      },
      "source": [
        "print(df['availability_365'].quantile(0.3))"
      ],
      "execution_count": null,
      "outputs": [
        {
          "output_type": "stream",
          "text": [
            "0.0\n"
          ],
          "name": "stdout"
        }
      ]
    },
    {
      "cell_type": "markdown",
      "metadata": {
        "id": "AbDGfl8HA4AG"
      },
      "source": [
        "#### 아웃라이어를 제거하고 통계 재분석"
      ]
    },
    {
      "cell_type": "code",
      "metadata": {
        "colab": {
          "base_uri": "https://localhost:8080/"
        },
        "id": "Im9J2tjjA4DJ",
        "outputId": "d4e427c1-2eed-4af8-cbb5-ce22c548c711"
      },
      "source": [
        "p1 = df['price'].quantile(0.95)\n",
        "p2 = df['price'].quantile(0.005)\n",
        "print(p1, p2)"
      ],
      "execution_count": null,
      "outputs": [
        {
          "output_type": "stream",
          "text": [
            "355.0 26.0\n"
          ],
          "name": "stdout"
        }
      ]
    },
    {
      "cell_type": "code",
      "metadata": {
        "id": "9kUowLjfA4GW"
      },
      "source": [
        "df = df[(df['price'] < p1) & (df['price'] > p2)]"
      ],
      "execution_count": null,
      "outputs": []
    },
    {
      "cell_type": "code",
      "metadata": {
        "colab": {
          "base_uri": "https://localhost:8080/",
          "height": 283
        },
        "id": "zPx2xzUyA4Jx",
        "outputId": "fb1d6fbc-7da2-472b-daf7-fdc52da280a6"
      },
      "source": [
        "# 정규분포는 아님.\n",
        "df['price'].hist()"
      ],
      "execution_count": null,
      "outputs": [
        {
          "output_type": "execute_result",
          "data": {
            "text/plain": [
              "<matplotlib.axes._subplots.AxesSubplot at 0x7f903ea68410>"
            ]
          },
          "metadata": {
            "tags": []
          },
          "execution_count": 46
        },
        {
          "output_type": "display_data",
          "data": {
            "image/png": "[encoded data removed]",
            "text/plain": [
              "<Figure size 432x288 with 1 Axes>"
            ]
          },
          "metadata": {
            "tags": [],
            "needs_background": "light"
          }
        }
      ]
    },
    {
      "cell_type": "code",
      "metadata": {
        "colab": {
          "base_uri": "https://localhost:8080/"
        },
        "id": "LepfcZFuA4M2",
        "outputId": "96dce9cf-e564-4145-9f45-8c78786c9388"
      },
      "source": [
        "mn1 = df['minimum_nights'].quantile(0.98)\n",
        "print(mn1)"
      ],
      "execution_count": null,
      "outputs": [
        {
          "output_type": "stream",
          "text": [
            "30.0\n"
          ],
          "name": "stdout"
        }
      ]
    },
    {
      "cell_type": "code",
      "metadata": {
        "id": "aejbEGheA4QO"
      },
      "source": [
        "df = df[df['minimum_nights'] < mn1]"
      ],
      "execution_count": null,
      "outputs": []
    },
    {
      "cell_type": "code",
      "metadata": {
        "colab": {
          "base_uri": "https://localhost:8080/",
          "height": 283
        },
        "id": "BgesUYddA4Ts",
        "outputId": "c00d831d-2c89-4241-e728-fc360c73474d"
      },
      "source": [
        "df['minimum_nights'].hist()"
      ],
      "execution_count": null,
      "outputs": [
        {
          "output_type": "execute_result",
          "data": {
            "text/plain": [
              "<matplotlib.axes._subplots.AxesSubplot at 0x7f903e9e9110>"
            ]
          },
          "metadata": {
            "tags": []
          },
          "execution_count": 49
        },
        {
          "output_type": "display_data",
          "data": {
            "image/png": "[encoded data removed]",
            "text/plain": [
              "<Figure size 432x288 with 1 Axes>"
            ]
          },
          "metadata": {
            "tags": [],
            "needs_background": "light"
          }
        }
      ]
    },
    {
      "cell_type": "code",
      "metadata": {
        "id": "9CFmohwWA4W_"
      },
      "source": [
        "df['is_avail_zero'] = df['availability_365'].apply(lambda x: 'Zero' if x==0 else 'Nonzero')"
      ],
      "execution_count": null,
      "outputs": []
    },
    {
      "cell_type": "markdown",
      "metadata": {
        "id": "LfL6Fvc9A4af"
      },
      "source": [
        "#### 미기입 데이터 처리하기"
      ]
    },
    {
      "cell_type": "code",
      "metadata": {
        "id": "FNiGYwI7A4dr"
      },
      "source": [
        "# No - 리뷰 x , Yes - 리뷰 o\n",
        "df['review_exists'] = df['reviews_per_month'].isna().apply(lambda x: 'No' if x is True else 'Yes')"
      ],
      "execution_count": null,
      "outputs": []
    },
    {
      "cell_type": "code",
      "metadata": {
        "id": "5ZBbFXo8A4hB"
      },
      "source": [
        "df.fillna(0, inplace=True)"
      ],
      "execution_count": null,
      "outputs": []
    },
    {
      "cell_type": "code",
      "metadata": {
        "colab": {
          "base_uri": "https://localhost:8080/"
        },
        "id": "ERFEejxtA4kc",
        "outputId": "71d42465-b9b5-4a03-f1d7-b0bb33fa255d"
      },
      "source": [
        "df.isna().sum()"
      ],
      "execution_count": null,
      "outputs": [
        {
          "output_type": "execute_result",
          "data": {
            "text/plain": [
              "host_id                           0\n",
              "neighbourhood_group               0\n",
              "neighbourhood                     0\n",
              "room_type                         0\n",
              "price                             0\n",
              "minimum_nights                    0\n",
              "number_of_reviews                 0\n",
              "last_review                       0\n",
              "reviews_per_month                 0\n",
              "calculated_host_listings_count    0\n",
              "availability_365                  0\n",
              "is_avail_zero                     0\n",
              "review_exists                     0\n",
              "dtype: int64"
            ]
          },
          "metadata": {
            "tags": []
          },
          "execution_count": 53
        }
      ]
    },
    {
      "cell_type": "code",
      "metadata": {
        "colab": {
          "base_uri": "https://localhost:8080/",
          "height": 305
        },
        "id": "KxL6RL_iA4n3",
        "outputId": "5e8a23da-b673-45eb-db6b-dfe824677a7d"
      },
      "source": [
        "df.head()"
      ],
      "execution_count": null,
      "outputs": [
        {
          "output_type": "execute_result",
          "data": {
            "text/html": [
              "<div>\n",
              "<style scoped>\n",
              "    .dataframe tbody tr th:only-of-type {\n",
              "        vertical-align: middle;\n",
              "    }\n",
              "\n",
              "    .dataframe tbody tr th {\n",
              "        vertical-align: top;\n",
              "    }\n",
              "\n",
              "    .dataframe thead th {\n",
              "        text-align: right;\n",
              "    }\n",
              "</style>\n",
              "<table border=\"1\" class=\"dataframe\">\n",
              "  <thead>\n",
              "    <tr style=\"text-align: right;\">\n",
              "      <th></th>\n",
              "      <th>host_id</th>\n",
              "      <th>neighbourhood_group</th>\n",
              "      <th>neighbourhood</th>\n",
              "      <th>room_type</th>\n",
              "      <th>price</th>\n",
              "      <th>minimum_nights</th>\n",
              "      <th>number_of_reviews</th>\n",
              "      <th>last_review</th>\n",
              "      <th>reviews_per_month</th>\n",
              "      <th>calculated_host_listings_count</th>\n",
              "      <th>availability_365</th>\n",
              "      <th>is_avail_zero</th>\n",
              "      <th>review_exists</th>\n",
              "    </tr>\n",
              "  </thead>\n",
              "  <tbody>\n",
              "    <tr>\n",
              "      <th>0</th>\n",
              "      <td>2787</td>\n",
              "      <td>Brooklyn</td>\n",
              "      <td>others</td>\n",
              "      <td>Private room</td>\n",
              "      <td>149</td>\n",
              "      <td>1</td>\n",
              "      <td>9</td>\n",
              "      <td>2018-10-19</td>\n",
              "      <td>0.21</td>\n",
              "      <td>6</td>\n",
              "      <td>365</td>\n",
              "      <td>Nonzero</td>\n",
              "      <td>Yes</td>\n",
              "    </tr>\n",
              "    <tr>\n",
              "      <th>1</th>\n",
              "      <td>2845</td>\n",
              "      <td>Manhattan</td>\n",
              "      <td>Midtown</td>\n",
              "      <td>Entire home/apt</td>\n",
              "      <td>225</td>\n",
              "      <td>1</td>\n",
              "      <td>45</td>\n",
              "      <td>2019-05-21</td>\n",
              "      <td>0.38</td>\n",
              "      <td>2</td>\n",
              "      <td>355</td>\n",
              "      <td>Nonzero</td>\n",
              "      <td>Yes</td>\n",
              "    </tr>\n",
              "    <tr>\n",
              "      <th>2</th>\n",
              "      <td>4632</td>\n",
              "      <td>Manhattan</td>\n",
              "      <td>Harlem</td>\n",
              "      <td>Private room</td>\n",
              "      <td>150</td>\n",
              "      <td>3</td>\n",
              "      <td>0</td>\n",
              "      <td>0</td>\n",
              "      <td>0.00</td>\n",
              "      <td>1</td>\n",
              "      <td>365</td>\n",
              "      <td>Nonzero</td>\n",
              "      <td>No</td>\n",
              "    </tr>\n",
              "    <tr>\n",
              "      <th>3</th>\n",
              "      <td>4869</td>\n",
              "      <td>Brooklyn</td>\n",
              "      <td>Clinton Hill</td>\n",
              "      <td>Entire home/apt</td>\n",
              "      <td>89</td>\n",
              "      <td>1</td>\n",
              "      <td>270</td>\n",
              "      <td>2019-07-05</td>\n",
              "      <td>4.64</td>\n",
              "      <td>1</td>\n",
              "      <td>194</td>\n",
              "      <td>Nonzero</td>\n",
              "      <td>Yes</td>\n",
              "    </tr>\n",
              "    <tr>\n",
              "      <th>4</th>\n",
              "      <td>7192</td>\n",
              "      <td>Manhattan</td>\n",
              "      <td>East Harlem</td>\n",
              "      <td>Entire home/apt</td>\n",
              "      <td>80</td>\n",
              "      <td>10</td>\n",
              "      <td>9</td>\n",
              "      <td>2018-11-19</td>\n",
              "      <td>0.10</td>\n",
              "      <td>1</td>\n",
              "      <td>0</td>\n",
              "      <td>Zero</td>\n",
              "      <td>Yes</td>\n",
              "    </tr>\n",
              "  </tbody>\n",
              "</table>\n",
              "</div>"
            ],
            "text/plain": [
              "   host_id neighbourhood_group  ... is_avail_zero review_exists\n",
              "0     2787            Brooklyn  ...       Nonzero           Yes\n",
              "1     2845           Manhattan  ...       Nonzero           Yes\n",
              "2     4632           Manhattan  ...       Nonzero            No\n",
              "3     4869            Brooklyn  ...       Nonzero           Yes\n",
              "4     7192           Manhattan  ...          Zero           Yes\n",
              "\n",
              "[5 rows x 13 columns]"
            ]
          },
          "metadata": {
            "tags": []
          },
          "execution_count": 54
        }
      ]
    },
    {
      "cell_type": "markdown",
      "metadata": {
        "id": "Ps7Z02toA4rM"
      },
      "source": [
        "### Step 3. 모델 학습을 위한 전처리"
      ]
    },
    {
      "cell_type": "markdown",
      "metadata": {
        "id": "tq9FikBiA4uY"
      },
      "source": [
        "#### get_dummies를 이용한 범주형 데이터 전처리"
      ]
    },
    {
      "cell_type": "code",
      "metadata": {
        "colab": {
          "base_uri": "https://localhost:8080/"
        },
        "id": "cBDKz9fiA4xo",
        "outputId": "ad8494dc-2181-4790-f32f-19190ef70605"
      },
      "source": [
        "df.columns"
      ],
      "execution_count": null,
      "outputs": [
        {
          "output_type": "execute_result",
          "data": {
            "text/plain": [
              "Index(['host_id', 'neighbourhood_group', 'neighbourhood', 'room_type', 'price',\n",
              "       'minimum_nights', 'number_of_reviews', 'last_review',\n",
              "       'reviews_per_month', 'calculated_host_listings_count',\n",
              "       'availability_365', 'is_avail_zero', 'review_exists'],\n",
              "      dtype='object')"
            ]
          },
          "metadata": {
            "tags": []
          },
          "execution_count": 55
        }
      ]
    },
    {
      "cell_type": "code",
      "metadata": {
        "id": "MO_DpS06A405"
      },
      "source": [
        "X_cat = df[['neighbourhood_group', 'neighbourhood', 'room_type', 'is_avail_zero', 'review_exists']]\n",
        "X_cat = pd.get_dummies(X_cat)"
      ],
      "execution_count": null,
      "outputs": []
    },
    {
      "cell_type": "markdown",
      "metadata": {
        "id": "C_4s7xeUA44S"
      },
      "source": [
        "#### MinMaxScaler를 이용해 수치형 데이터 표준화"
      ]
    },
    {
      "cell_type": "code",
      "metadata": {
        "colab": {
          "base_uri": "https://localhost:8080/"
        },
        "id": "5pwcs9XAA47K",
        "outputId": "49c97776-702e-4ba6-de51-af43022c11f7"
      },
      "source": [
        "df.columns"
      ],
      "execution_count": null,
      "outputs": [
        {
          "output_type": "execute_result",
          "data": {
            "text/plain": [
              "Index(['host_id', 'neighbourhood_group', 'neighbourhood', 'room_type', 'price',\n",
              "       'minimum_nights', 'number_of_reviews', 'last_review',\n",
              "       'reviews_per_month', 'calculated_host_listings_count',\n",
              "       'availability_365', 'is_avail_zero', 'review_exists'],\n",
              "      dtype='object')"
            ]
          },
          "metadata": {
            "tags": []
          },
          "execution_count": 57
        }
      ]
    },
    {
      "cell_type": "code",
      "metadata": {
        "id": "IHHJzZPd8ihA"
      },
      "source": [
        "# last_review 날짜형이기 떄문에 스케일링이 안됨, 그래서 제거.\n",
        "scaler = MinMaxScaler()\n",
        "X_num = df.drop(['neighbourhood_group', 'neighbourhood', 'room_type', 'price', \n",
        "                 'last_review', 'is_avail_zero', 'review_exists'], axis=1)\n",
        "\n",
        "scaler.fit(X_num)\n",
        "X_scaled = scaler.transform(X_num)\n",
        "X_scaled = pd.DataFrame(X_scaled, index=X_num.index, columns=X_num.columns)\n",
        "\n",
        "X = pd.concat([X_scaled, X_cat], axis=1)\n",
        "y = df['price']"
      ],
      "execution_count": null,
      "outputs": []
    },
    {
      "cell_type": "code",
      "metadata": {
        "colab": {
          "base_uri": "https://localhost:8080/",
          "height": 322
        },
        "id": "Rl1taMSo8ikW",
        "outputId": "2f9d261e-d99e-415d-ff05-d6703e01111b"
      },
      "source": [
        "X.head()"
      ],
      "execution_count": null,
      "outputs": [
        {
          "output_type": "execute_result",
          "data": {
            "text/html": [
              "<div>\n",
              "<style scoped>\n",
              "    .dataframe tbody tr th:only-of-type {\n",
              "        vertical-align: middle;\n",
              "    }\n",
              "\n",
              "    .dataframe tbody tr th {\n",
              "        vertical-align: top;\n",
              "    }\n",
              "\n",
              "    .dataframe thead th {\n",
              "        text-align: right;\n",
              "    }\n",
              "</style>\n",
              "<table border=\"1\" class=\"dataframe\">\n",
              "  <thead>\n",
              "    <tr style=\"text-align: right;\">\n",
              "      <th></th>\n",
              "      <th>host_id</th>\n",
              "      <th>minimum_nights</th>\n",
              "      <th>number_of_reviews</th>\n",
              "      <th>reviews_per_month</th>\n",
              "      <th>calculated_host_listings_count</th>\n",
              "      <th>availability_365</th>\n",
              "      <th>neighbourhood_group_Bronx</th>\n",
              "      <th>neighbourhood_group_Brooklyn</th>\n",
              "      <th>neighbourhood_group_Manhattan</th>\n",
              "      <th>neighbourhood_group_Queens</th>\n",
              "      <th>neighbourhood_group_Staten Island</th>\n",
              "      <th>neighbourhood_Astoria</th>\n",
              "      <th>neighbourhood_Bedford-Stuyvesant</th>\n",
              "      <th>neighbourhood_Bushwick</th>\n",
              "      <th>neighbourhood_Carroll Gardens</th>\n",
              "      <th>neighbourhood_Chelsea</th>\n",
              "      <th>neighbourhood_Chinatown</th>\n",
              "      <th>neighbourhood_Clinton Hill</th>\n",
              "      <th>neighbourhood_Crown Heights</th>\n",
              "      <th>neighbourhood_Ditmars Steinway</th>\n",
              "      <th>neighbourhood_East Elmhurst</th>\n",
              "      <th>neighbourhood_East Flatbush</th>\n",
              "      <th>neighbourhood_East Harlem</th>\n",
              "      <th>neighbourhood_East New York</th>\n",
              "      <th>neighbourhood_East Village</th>\n",
              "      <th>neighbourhood_Elmhurst</th>\n",
              "      <th>neighbourhood_Financial District</th>\n",
              "      <th>neighbourhood_Flatbush</th>\n",
              "      <th>neighbourhood_Flushing</th>\n",
              "      <th>neighbourhood_Fort Greene</th>\n",
              "      <th>neighbourhood_Gowanus</th>\n",
              "      <th>neighbourhood_Gramercy</th>\n",
              "      <th>neighbourhood_Greenpoint</th>\n",
              "      <th>neighbourhood_Greenwich Village</th>\n",
              "      <th>neighbourhood_Harlem</th>\n",
              "      <th>neighbourhood_Hell's Kitchen</th>\n",
              "      <th>neighbourhood_Inwood</th>\n",
              "      <th>neighbourhood_Jackson Heights</th>\n",
              "      <th>neighbourhood_Jamaica</th>\n",
              "      <th>neighbourhood_Kips Bay</th>\n",
              "      <th>neighbourhood_Long Island City</th>\n",
              "      <th>neighbourhood_Lower East Side</th>\n",
              "      <th>neighbourhood_Midtown</th>\n",
              "      <th>neighbourhood_Morningside Heights</th>\n",
              "      <th>neighbourhood_Murray Hill</th>\n",
              "      <th>neighbourhood_Nolita</th>\n",
              "      <th>neighbourhood_Park Slope</th>\n",
              "      <th>neighbourhood_Prospect Heights</th>\n",
              "      <th>neighbourhood_Prospect-Lefferts Gardens</th>\n",
              "      <th>neighbourhood_Ridgewood</th>\n",
              "      <th>neighbourhood_SoHo</th>\n",
              "      <th>neighbourhood_South Slope</th>\n",
              "      <th>neighbourhood_Sunnyside</th>\n",
              "      <th>neighbourhood_Sunset Park</th>\n",
              "      <th>neighbourhood_Theater District</th>\n",
              "      <th>neighbourhood_Upper East Side</th>\n",
              "      <th>neighbourhood_Upper West Side</th>\n",
              "      <th>neighbourhood_Washington Heights</th>\n",
              "      <th>neighbourhood_West Village</th>\n",
              "      <th>neighbourhood_Williamsburg</th>\n",
              "      <th>neighbourhood_Woodside</th>\n",
              "      <th>neighbourhood_others</th>\n",
              "      <th>room_type_Entire home/apt</th>\n",
              "      <th>room_type_Private room</th>\n",
              "      <th>room_type_Shared room</th>\n",
              "      <th>is_avail_zero_Nonzero</th>\n",
              "      <th>is_avail_zero_Zero</th>\n",
              "      <th>review_exists_No</th>\n",
              "      <th>review_exists_Yes</th>\n",
              "    </tr>\n",
              "  </thead>\n",
              "  <tbody>\n",
              "    <tr>\n",
              "      <th>0</th>\n",
              "      <td>7.874052e-07</td>\n",
              "      <td>0.000000</td>\n",
              "      <td>0.014308</td>\n",
              "      <td>0.003590</td>\n",
              "      <td>0.015337</td>\n",
              "      <td>1.000000</td>\n",
              "      <td>0</td>\n",
              "      <td>1</td>\n",
              "      <td>0</td>\n",
              "      <td>0</td>\n",
              "      <td>0</td>\n",
              "      <td>0</td>\n",
              "      <td>0</td>\n",
              "      <td>0</td>\n",
              "      <td>0</td>\n",
              "      <td>0</td>\n",
              "      <td>0</td>\n",
              "      <td>0</td>\n",
              "      <td>0</td>\n",
              "      <td>0</td>\n",
              "      <td>0</td>\n",
              "      <td>0</td>\n",
              "      <td>0</td>\n",
              "      <td>0</td>\n",
              "      <td>0</td>\n",
              "      <td>0</td>\n",
              "      <td>0</td>\n",
              "      <td>0</td>\n",
              "      <td>0</td>\n",
              "      <td>0</td>\n",
              "      <td>0</td>\n",
              "      <td>0</td>\n",
              "      <td>0</td>\n",
              "      <td>0</td>\n",
              "      <td>0</td>\n",
              "      <td>0</td>\n",
              "      <td>0</td>\n",
              "      <td>0</td>\n",
              "      <td>0</td>\n",
              "      <td>0</td>\n",
              "      <td>0</td>\n",
              "      <td>0</td>\n",
              "      <td>0</td>\n",
              "      <td>0</td>\n",
              "      <td>0</td>\n",
              "      <td>0</td>\n",
              "      <td>0</td>\n",
              "      <td>0</td>\n",
              "      <td>0</td>\n",
              "      <td>0</td>\n",
              "      <td>0</td>\n",
              "      <td>0</td>\n",
              "      <td>0</td>\n",
              "      <td>0</td>\n",
              "      <td>0</td>\n",
              "      <td>0</td>\n",
              "      <td>0</td>\n",
              "      <td>0</td>\n",
              "      <td>0</td>\n",
              "      <td>0</td>\n",
              "      <td>0</td>\n",
              "      <td>1</td>\n",
              "      <td>0</td>\n",
              "      <td>1</td>\n",
              "      <td>0</td>\n",
              "      <td>1</td>\n",
              "      <td>0</td>\n",
              "      <td>0</td>\n",
              "      <td>1</td>\n",
              "    </tr>\n",
              "    <tr>\n",
              "      <th>1</th>\n",
              "      <td>9.988381e-07</td>\n",
              "      <td>0.000000</td>\n",
              "      <td>0.071542</td>\n",
              "      <td>0.006496</td>\n",
              "      <td>0.003067</td>\n",
              "      <td>0.972603</td>\n",
              "      <td>0</td>\n",
              "      <td>0</td>\n",
              "      <td>1</td>\n",
              "      <td>0</td>\n",
              "      <td>0</td>\n",
              "      <td>0</td>\n",
              "      <td>0</td>\n",
              "      <td>0</td>\n",
              "      <td>0</td>\n",
              "      <td>0</td>\n",
              "      <td>0</td>\n",
              "      <td>0</td>\n",
              "      <td>0</td>\n",
              "      <td>0</td>\n",
              "      <td>0</td>\n",
              "      <td>0</td>\n",
              "      <td>0</td>\n",
              "      <td>0</td>\n",
              "      <td>0</td>\n",
              "      <td>0</td>\n",
              "      <td>0</td>\n",
              "      <td>0</td>\n",
              "      <td>0</td>\n",
              "      <td>0</td>\n",
              "      <td>0</td>\n",
              "      <td>0</td>\n",
              "      <td>0</td>\n",
              "      <td>0</td>\n",
              "      <td>0</td>\n",
              "      <td>0</td>\n",
              "      <td>0</td>\n",
              "      <td>0</td>\n",
              "      <td>0</td>\n",
              "      <td>0</td>\n",
              "      <td>0</td>\n",
              "      <td>0</td>\n",
              "      <td>1</td>\n",
              "      <td>0</td>\n",
              "      <td>0</td>\n",
              "      <td>0</td>\n",
              "      <td>0</td>\n",
              "      <td>0</td>\n",
              "      <td>0</td>\n",
              "      <td>0</td>\n",
              "      <td>0</td>\n",
              "      <td>0</td>\n",
              "      <td>0</td>\n",
              "      <td>0</td>\n",
              "      <td>0</td>\n",
              "      <td>0</td>\n",
              "      <td>0</td>\n",
              "      <td>0</td>\n",
              "      <td>0</td>\n",
              "      <td>0</td>\n",
              "      <td>0</td>\n",
              "      <td>0</td>\n",
              "      <td>1</td>\n",
              "      <td>0</td>\n",
              "      <td>0</td>\n",
              "      <td>1</td>\n",
              "      <td>0</td>\n",
              "      <td>0</td>\n",
              "      <td>1</td>\n",
              "    </tr>\n",
              "    <tr>\n",
              "      <th>2</th>\n",
              "      <td>7.513158e-06</td>\n",
              "      <td>0.071429</td>\n",
              "      <td>0.000000</td>\n",
              "      <td>0.000000</td>\n",
              "      <td>0.000000</td>\n",
              "      <td>1.000000</td>\n",
              "      <td>0</td>\n",
              "      <td>0</td>\n",
              "      <td>1</td>\n",
              "      <td>0</td>\n",
              "      <td>0</td>\n",
              "      <td>0</td>\n",
              "      <td>0</td>\n",
              "      <td>0</td>\n",
              "      <td>0</td>\n",
              "      <td>0</td>\n",
              "      <td>0</td>\n",
              "      <td>0</td>\n",
              "      <td>0</td>\n",
              "      <td>0</td>\n",
              "      <td>0</td>\n",
              "      <td>0</td>\n",
              "      <td>0</td>\n",
              "      <td>0</td>\n",
              "      <td>0</td>\n",
              "      <td>0</td>\n",
              "      <td>0</td>\n",
              "      <td>0</td>\n",
              "      <td>0</td>\n",
              "      <td>0</td>\n",
              "      <td>0</td>\n",
              "      <td>0</td>\n",
              "      <td>0</td>\n",
              "      <td>0</td>\n",
              "      <td>1</td>\n",
              "      <td>0</td>\n",
              "      <td>0</td>\n",
              "      <td>0</td>\n",
              "      <td>0</td>\n",
              "      <td>0</td>\n",
              "      <td>0</td>\n",
              "      <td>0</td>\n",
              "      <td>0</td>\n",
              "      <td>0</td>\n",
              "      <td>0</td>\n",
              "      <td>0</td>\n",
              "      <td>0</td>\n",
              "      <td>0</td>\n",
              "      <td>0</td>\n",
              "      <td>0</td>\n",
              "      <td>0</td>\n",
              "      <td>0</td>\n",
              "      <td>0</td>\n",
              "      <td>0</td>\n",
              "      <td>0</td>\n",
              "      <td>0</td>\n",
              "      <td>0</td>\n",
              "      <td>0</td>\n",
              "      <td>0</td>\n",
              "      <td>0</td>\n",
              "      <td>0</td>\n",
              "      <td>0</td>\n",
              "      <td>0</td>\n",
              "      <td>1</td>\n",
              "      <td>0</td>\n",
              "      <td>1</td>\n",
              "      <td>0</td>\n",
              "      <td>1</td>\n",
              "      <td>0</td>\n",
              "    </tr>\n",
              "    <tr>\n",
              "      <th>3</th>\n",
              "      <td>8.377116e-06</td>\n",
              "      <td>0.000000</td>\n",
              "      <td>0.429253</td>\n",
              "      <td>0.079316</td>\n",
              "      <td>0.000000</td>\n",
              "      <td>0.531507</td>\n",
              "      <td>0</td>\n",
              "      <td>1</td>\n",
              "      <td>0</td>\n",
              "      <td>0</td>\n",
              "      <td>0</td>\n",
              "      <td>0</td>\n",
              "      <td>0</td>\n",
              "      <td>0</td>\n",
              "      <td>0</td>\n",
              "      <td>0</td>\n",
              "      <td>0</td>\n",
              "      <td>1</td>\n",
              "      <td>0</td>\n",
              "      <td>0</td>\n",
              "      <td>0</td>\n",
              "      <td>0</td>\n",
              "      <td>0</td>\n",
              "      <td>0</td>\n",
              "      <td>0</td>\n",
              "      <td>0</td>\n",
              "      <td>0</td>\n",
              "      <td>0</td>\n",
              "      <td>0</td>\n",
              "      <td>0</td>\n",
              "      <td>0</td>\n",
              "      <td>0</td>\n",
              "      <td>0</td>\n",
              "      <td>0</td>\n",
              "      <td>0</td>\n",
              "      <td>0</td>\n",
              "      <td>0</td>\n",
              "      <td>0</td>\n",
              "      <td>0</td>\n",
              "      <td>0</td>\n",
              "      <td>0</td>\n",
              "      <td>0</td>\n",
              "      <td>0</td>\n",
              "      <td>0</td>\n",
              "      <td>0</td>\n",
              "      <td>0</td>\n",
              "      <td>0</td>\n",
              "      <td>0</td>\n",
              "      <td>0</td>\n",
              "      <td>0</td>\n",
              "      <td>0</td>\n",
              "      <td>0</td>\n",
              "      <td>0</td>\n",
              "      <td>0</td>\n",
              "      <td>0</td>\n",
              "      <td>0</td>\n",
              "      <td>0</td>\n",
              "      <td>0</td>\n",
              "      <td>0</td>\n",
              "      <td>0</td>\n",
              "      <td>0</td>\n",
              "      <td>0</td>\n",
              "      <td>1</td>\n",
              "      <td>0</td>\n",
              "      <td>0</td>\n",
              "      <td>1</td>\n",
              "      <td>0</td>\n",
              "      <td>0</td>\n",
              "      <td>1</td>\n",
              "    </tr>\n",
              "    <tr>\n",
              "      <th>4</th>\n",
              "      <td>1.684537e-05</td>\n",
              "      <td>0.321429</td>\n",
              "      <td>0.014308</td>\n",
              "      <td>0.001709</td>\n",
              "      <td>0.000000</td>\n",
              "      <td>0.000000</td>\n",
              "      <td>0</td>\n",
              "      <td>0</td>\n",
              "      <td>1</td>\n",
              "      <td>0</td>\n",
              "      <td>0</td>\n",
              "      <td>0</td>\n",
              "      <td>0</td>\n",
              "      <td>0</td>\n",
              "      <td>0</td>\n",
              "      <td>0</td>\n",
              "      <td>0</td>\n",
              "      <td>0</td>\n",
              "      <td>0</td>\n",
              "      <td>0</td>\n",
              "      <td>0</td>\n",
              "      <td>0</td>\n",
              "      <td>1</td>\n",
              "      <td>0</td>\n",
              "      <td>0</td>\n",
              "      <td>0</td>\n",
              "      <td>0</td>\n",
              "      <td>0</td>\n",
              "      <td>0</td>\n",
              "      <td>0</td>\n",
              "      <td>0</td>\n",
              "      <td>0</td>\n",
              "      <td>0</td>\n",
              "      <td>0</td>\n",
              "      <td>0</td>\n",
              "      <td>0</td>\n",
              "      <td>0</td>\n",
              "      <td>0</td>\n",
              "      <td>0</td>\n",
              "      <td>0</td>\n",
              "      <td>0</td>\n",
              "      <td>0</td>\n",
              "      <td>0</td>\n",
              "      <td>0</td>\n",
              "      <td>0</td>\n",
              "      <td>0</td>\n",
              "      <td>0</td>\n",
              "      <td>0</td>\n",
              "      <td>0</td>\n",
              "      <td>0</td>\n",
              "      <td>0</td>\n",
              "      <td>0</td>\n",
              "      <td>0</td>\n",
              "      <td>0</td>\n",
              "      <td>0</td>\n",
              "      <td>0</td>\n",
              "      <td>0</td>\n",
              "      <td>0</td>\n",
              "      <td>0</td>\n",
              "      <td>0</td>\n",
              "      <td>0</td>\n",
              "      <td>0</td>\n",
              "      <td>1</td>\n",
              "      <td>0</td>\n",
              "      <td>0</td>\n",
              "      <td>0</td>\n",
              "      <td>1</td>\n",
              "      <td>0</td>\n",
              "      <td>1</td>\n",
              "    </tr>\n",
              "  </tbody>\n",
              "</table>\n",
              "</div>"
            ],
            "text/plain": [
              "        host_id  minimum_nights  ...  review_exists_No  review_exists_Yes\n",
              "0  7.874052e-07        0.000000  ...                 0                  1\n",
              "1  9.988381e-07        0.000000  ...                 0                  1\n",
              "2  7.513158e-06        0.071429  ...                 1                  0\n",
              "3  8.377116e-06        0.000000  ...                 0                  1\n",
              "4  1.684537e-05        0.321429  ...                 0                  1\n",
              "\n",
              "[5 rows x 69 columns]"
            ]
          },
          "metadata": {
            "tags": []
          },
          "execution_count": 59
        }
      ]
    },
    {
      "cell_type": "markdown",
      "metadata": {
        "id": "T7cynMkUCcyg"
      },
      "source": [
        "#### 학습데이터와 테스트데이터 분리"
      ]
    },
    {
      "cell_type": "code",
      "metadata": {
        "id": "uLjjwNutCc3Z"
      },
      "source": [
        "X_train, X_test, y_train, y_test = train_test_split(X, y, test_size=0.3, random_state=1)"
      ],
      "execution_count": null,
      "outputs": []
    },
    {
      "cell_type": "markdown",
      "metadata": {
        "id": "6ip5ipfCCqth"
      },
      "source": [
        "#### PCA를 이용해 데이터 전처리 수행하기"
      ]
    },
    {
      "cell_type": "code",
      "metadata": {
        "colab": {
          "base_uri": "https://localhost:8080/"
        },
        "id": "zvknoSGOCc6g",
        "outputId": "ca2f9ba1-aef9-4db3-d401-e25868d18184"
      },
      "source": [
        "X.shape"
      ],
      "execution_count": null,
      "outputs": [
        {
          "output_type": "execute_result",
          "data": {
            "text/plain": [
              "(41980, 69)"
            ]
          },
          "metadata": {
            "tags": []
          },
          "execution_count": 62
        }
      ]
    },
    {
      "cell_type": "code",
      "metadata": {
        "colab": {
          "base_uri": "https://localhost:8080/",
          "height": 265
        },
        "id": "SKdXpIS-Cc9-",
        "outputId": "76ab3951-ee49-46e9-f475-91327dfbdbb6"
      },
      "source": [
        "pca = PCA()\n",
        "pca.fit(X_train)\n",
        "plt.plot(range(1, len(pca.explained_variance_) + 1), pca.explained_variance_)\n",
        "plt.grid()"
      ],
      "execution_count": null,
      "outputs": [
        {
          "output_type": "display_data",
          "data": {
            "image/png": "[encoded data removed]",
            "text/plain": [
              "<Figure size 432x288 with 1 Axes>"
            ]
          },
          "metadata": {
            "tags": [],
            "needs_background": "light"
          }
        }
      ]
    },
    {
      "cell_type": "code",
      "metadata": {
        "colab": {
          "base_uri": "https://localhost:8080/"
        },
        "id": "aqlshIBxCdBm",
        "outputId": "5373b4d9-0f95-48b5-dcb9-56f4fab8de9c"
      },
      "source": [
        "# 20에서 끊어준다.\n",
        "pca = PCA(n_components=20)\n",
        "pca.fit(X_train)"
      ],
      "execution_count": null,
      "outputs": [
        {
          "output_type": "execute_result",
          "data": {
            "text/plain": [
              "PCA(copy=True, iterated_power='auto', n_components=20, random_state=None,\n",
              "    svd_solver='auto', tol=0.0, whiten=False)"
            ]
          },
          "metadata": {
            "tags": []
          },
          "execution_count": 84
        }
      ]
    },
    {
      "cell_type": "markdown",
      "metadata": {
        "id": "OabtPBsxCdFL"
      },
      "source": [
        "### Step 4. Regression 모델 학습하기(y : 회귀유형)\n",
        "\n",
        "-  데이터가 크기 때문에 LGBM만 하이퍼파라미터 조절을 통해 분석해본다."
      ]
    },
    {
      "cell_type": "code",
      "metadata": {
        "id": "szkqKp6MCdIo"
      },
      "source": [
        "from lightgbm import LGBMRegressor as LGBM_R\n",
        "from sklearn.metrics import mean_absolute_error as MAE\n",
        "from sklearn.metrics import mean_squared_error as MSE\n",
        "from math import sqrt"
      ],
      "execution_count": null,
      "outputs": []
    },
    {
      "cell_type": "markdown",
      "metadata": {
        "id": "GZsB6cicERqp"
      },
      "source": [
        "### 파라미터 그리드 설계"
      ]
    },
    {
      "cell_type": "code",
      "metadata": {
        "colab": {
          "base_uri": "https://localhost:8080/"
        },
        "id": "1ClVa6RqCdMN",
        "outputId": "6f000e67-6ded-4c15-d44d-770796da0065"
      },
      "source": [
        "# 모델 파라미터 그리드 설계\n",
        "# 키가 모델의 함수, 값이 파라미터 그리드의 값\n",
        "param_grid = dict() \n",
        "\n",
        "param_grid_for_LGBM_R = ParameterGrid({\"max_depth\": [2, 3, 4],\n",
        "                                      \"n_estimators\": [50, 100],\n",
        "                                      \"learning_rate\": [0.05, 0.1, 0.15, 0.2]})\n",
        "\n",
        "param_grid[LGBM_R] = param_grid_for_LGBM_R\n",
        "\n",
        "\n",
        "# 출력을 위한 max_iter_num 계산 \n",
        "                            \n",
        "# 튜닝 시작\n",
        "best_score = 9999999999 \n",
        "iteration_num = 0    \n",
        "for k in range(30, 5, -1): \n",
        "    print(k)\n",
        "  \n",
        "    for model_func in [LGBM_R]:\n",
        "        for param in param_grid[model_func]:\n",
        "            model = model_func(**param).fit(pca.transform(X_train), y_train)\n",
        "            y_pred = model.predict(pca.transform(X_test))\n",
        "            score = MAE(y_test, y_pred)\n",
        "            if score < best_score:\n",
        "                best_model_func = model_func\n",
        "                best_score = score\n",
        "                best_parameter = param\n",
        "            iteration_num += 1      \n",
        "\n",
        "\n",
        "print(\"모델:\", best_model_func)\n",
        "print(\"점수:\", best_score)\n",
        "print(\"파라미터:\", best_parameter)     "
      ],
      "execution_count": null,
      "outputs": [
        {
          "output_type": "stream",
          "text": [
            "30\n",
            "29\n",
            "28\n",
            "27\n",
            "26\n",
            "25\n",
            "24\n",
            "23\n",
            "22\n",
            "21\n",
            "20\n",
            "19\n",
            "18\n",
            "17\n",
            "16\n",
            "15\n",
            "14\n",
            "13\n",
            "12\n",
            "11\n",
            "10\n",
            "9\n",
            "8\n",
            "7\n",
            "6\n",
            "모델: <class 'lightgbm.sklearn.LGBMRegressor'>\n",
            "점수: 35.394642106169854\n",
            "파라미터: {'learning_rate': 0.2, 'max_depth': 4, 'n_estimators': 100}\n"
          ],
          "name": "stdout"
        }
      ]
    },
    {
      "cell_type": "code",
      "metadata": {
        "colab": {
          "base_uri": "https://localhost:8080/"
        },
        "id": "8mFalp5YCdQF",
        "outputId": "51bfcb43-517e-4e29-e474-e897c4b08115"
      },
      "source": [
        "final_model_lgbm = LGBM_R(max_depth=4, n_estimators=100,learning_rate=0.2)\n",
        "final_model_lgbm.fit(pca.transform(X_train), y_train)"
      ],
      "execution_count": null,
      "outputs": [
        {
          "output_type": "execute_result",
          "data": {
            "text/plain": [
              "LGBMRegressor(boosting_type='gbdt', class_weight=None, colsample_bytree=1.0,\n",
              "              importance_type='split', learning_rate=0.2, max_depth=4,\n",
              "              min_child_samples=20, min_child_weight=0.001, min_split_gain=0.0,\n",
              "              n_estimators=100, n_jobs=-1, num_leaves=31, objective=None,\n",
              "              random_state=None, reg_alpha=0.0, reg_lambda=0.0, silent=True,\n",
              "              subsample=1.0, subsample_for_bin=200000, subsample_freq=0)"
            ]
          },
          "metadata": {
            "tags": []
          },
          "execution_count": 87
        }
      ]
    },
    {
      "cell_type": "code",
      "metadata": {
        "colab": {
          "base_uri": "https://localhost:8080/"
        },
        "id": "3VeCltrwCdTE",
        "outputId": "c53b7830-060b-4178-cec2-7db3c13dc5a0"
      },
      "source": [
        "pred = final_model_lgbm.predict(pca.transform(X_test))\n",
        "print(MAE(y_test, pred))\n",
        "print(sqrt(MSE(y_test, pred)))"
      ],
      "execution_count": null,
      "outputs": [
        {
          "output_type": "stream",
          "text": [
            "35.394642106169854\n",
            "49.585346205657004\n"
          ],
          "name": "stdout"
        }
      ]
    },
    {
      "cell_type": "code",
      "metadata": {
        "colab": {
          "base_uri": "https://localhost:8080/",
          "height": 283
        },
        "id": "m5PyiOqbCdWJ",
        "outputId": "742b1bbe-e26a-4d9c-c70f-b39f56e481c6"
      },
      "source": [
        "plt.scatter(x=y_test, y=pred, alpha=0.1)\n",
        "plt.plot([0,350], [0, 350], 'r-')"
      ],
      "execution_count": null,
      "outputs": [
        {
          "output_type": "execute_result",
          "data": {
            "text/plain": [
              "[<matplotlib.lines.Line2D at 0x7f903dea3c10>]"
            ]
          },
          "metadata": {
            "tags": []
          },
          "execution_count": 89
        },
        {
          "output_type": "display_data",
          "data": {
            "image/png": "[encoded data removed]",
            "text/plain": [
              "<Figure size 432x288 with 1 Axes>"
            ]
          },
          "metadata": {
            "tags": [],
            "needs_background": "light"
          }
        }
      ]
    },
    {
      "cell_type": "code",
      "metadata": {
        "colab": {
          "base_uri": "https://localhost:8080/",
          "height": 283
        },
        "id": "sULQcMrqCdZw",
        "outputId": "471d69ac-6af4-4b5a-fccd-fcc3f5fef7a8"
      },
      "source": [
        "err = (pred - y_test) / y_test\n",
        "sns.histplot(err)\n",
        "plt.grid()"
      ],
      "execution_count": null,
      "outputs": [
        {
          "output_type": "display_data",
          "data": {
            "image/png": "[encoded data removed]",
            "text/plain": [
              "<Figure size 432x288 with 1 Axes>"
            ]
          },
          "metadata": {
            "tags": [],
            "needs_background": "light"
          }
        }
      ]
    },
    {
      "cell_type": "code",
      "metadata": {
        "colab": {
          "base_uri": "https://localhost:8080/",
          "height": 279
        },
        "id": "cJZ03VnPFyf-",
        "outputId": "47ac3732-5390-432f-8056-c6d372e2e930"
      },
      "source": [
        "err = pred - y_test\n",
        "sns.histplot(err)\n",
        "plt.grid()\n",
        "# 전반적으로 값을 낮춰서 예측하는 경향이 있음."
      ],
      "execution_count": null,
      "outputs": [
        {
          "output_type": "display_data",
          "data": {
            "image/png": "[encoded data removed]",
            "text/plain": [
              "<Figure size 432x288 with 1 Axes>"
            ]
          },
          "metadata": {
            "tags": [],
            "needs_background": "light"
          }
        }
      ]
    },
    {
      "cell_type": "markdown",
      "metadata": {
        "id": "fJNilfJdCddF"
      },
      "source": [
        "#### 에러 값의 히스토그램 확인하기"
      ]
    },
    {
      "cell_type": "markdown",
      "metadata": {
        "id": "WfPMlE-kCdmS"
      },
      "source": [
        "### Step 5. 딥러닝.신경망 모델로 분석"
      ]
    },
    {
      "cell_type": "code",
      "metadata": {
        "id": "vIXM5pQFCdpR"
      },
      "source": [
        "from keras.optimizers import Adam"
      ],
      "execution_count": null,
      "outputs": []
    },
    {
      "cell_type": "code",
      "metadata": {
        "colab": {
          "base_uri": "https://localhost:8080/"
        },
        "id": "swLk15NlCds8",
        "outputId": "fbf677bc-b3f8-4530-8f2b-c84a94af58e4"
      },
      "source": [
        "print(X_train.shape, y_train.shape)"
      ],
      "execution_count": null,
      "outputs": [
        {
          "output_type": "stream",
          "text": [
            "(29386, 30) (29386,)\n"
          ],
          "name": "stdout"
        }
      ]
    },
    {
      "cell_type": "code",
      "metadata": {
        "id": "4nipz-NcCdvU"
      },
      "source": [
        "X_train = pca.transform(X_train)\n",
        "X_test = pca.transform(X_test)"
      ],
      "execution_count": null,
      "outputs": []
    },
    {
      "cell_type": "code",
      "metadata": {
        "colab": {
          "base_uri": "https://localhost:8080/"
        },
        "id": "Vh2I5mDNCdxv",
        "outputId": "b324fb03-8bc2-4cbb-864b-af1b2ea7c044"
      },
      "source": [
        "X_train.shape"
      ],
      "execution_count": null,
      "outputs": [
        {
          "output_type": "execute_result",
          "data": {
            "text/plain": [
              "(29386, 20)"
            ]
          },
          "metadata": {
            "tags": []
          },
          "execution_count": 95
        }
      ]
    },
    {
      "cell_type": "markdown",
      "metadata": {
        "id": "Pv1pyVMZ8inh"
      },
      "source": [
        "#### 모델구현"
      ]
    },
    {
      "cell_type": "code",
      "metadata": {
        "colab": {
          "base_uri": "https://localhost:8080/"
        },
        "id": "n5ihh9Bv8irC",
        "outputId": "d0057c15-e5a8-4dc9-b6c8-f7f0d700b5c6"
      },
      "source": [
        "    model = models.Sequential()\n",
        "    model.add(layers.Dense(16, activation='relu',input_shape=(20,)))\n",
        "    model.add(layers.BatchNormalization())\n",
        "\n",
        "    model.add(layers.Dense(32, activation='relu'))\n",
        "    model.add(layers.BatchNormalization())\n",
        "\n",
        "    model.add(layers.Dense(16, activation='relu'))\n",
        "    model.add(layers.BatchNormalization())\n",
        "\n",
        "    model.add(layers.Dense(1))\n",
        "    model.compile(optimizer='Adam', loss='mse', metrics=['mae'])\n",
        "\n",
        "model.summary()"
      ],
      "execution_count": null,
      "outputs": [
        {
          "output_type": "stream",
          "text": [
            "Model: \"sequential\"\n",
            "_________________________________________________________________\n",
            "Layer (type)                 Output Shape              Param #   \n",
            "=================================================================\n",
            "dense (Dense)                (None, 16)                336       \n",
            "_________________________________________________________________\n",
            "batch_normalization (BatchNo (None, 16)                64        \n",
            "_________________________________________________________________\n",
            "dense_1 (Dense)              (None, 32)                544       \n",
            "_________________________________________________________________\n",
            "batch_normalization_1 (Batch (None, 32)                128       \n",
            "_________________________________________________________________\n",
            "dense_2 (Dense)              (None, 16)                528       \n",
            "_________________________________________________________________\n",
            "batch_normalization_2 (Batch (None, 16)                64        \n",
            "_________________________________________________________________\n",
            "dense_3 (Dense)              (None, 1)                 17        \n",
            "=================================================================\n",
            "Total params: 1,681\n",
            "Trainable params: 1,553\n",
            "Non-trainable params: 128\n",
            "_________________________________________________________________\n"
          ],
          "name": "stdout"
        }
      ]
    },
    {
      "cell_type": "code",
      "metadata": {
        "colab": {
          "base_uri": "https://localhost:8080/"
        },
        "id": "mSbDvvFKGb8v",
        "outputId": "7e37e8d3-3bdd-4649-c8bc-e4138f05cdb1"
      },
      "source": [
        "# 콜백 함수 적용 부분(분류모델은 val_loss로)\n",
        "early_stopping_callback = EarlyStopping(monitor='loss', mode='min', patience=10)\n",
        "# 분류모델이면 model_checkpoint = ModelCheckpoint(filepath='./{epoch}-{val_loss:.2f}-{val_accuracy:.2f}.h5', monitor='val_loss', save_best_only=True, verbose=1)\n",
        "model_checkpoint = ModelCheckpoint(filepath='/content/drive/MyDrive/Colab Notebooks/practice/분류문제/문제7_딥러닝파라미터/{epoch}-{loss:.2f}.h5', \n",
        "                                   monitor='loss', save_best_only=True, verbose=1)\n",
        "\n",
        "\n",
        "history = model.fit(X_train, y_train, batch_size=16,  epochs=300,\n",
        "            callbacks=[early_stopping_callback, model_checkpoint],\n",
        "            validation_data=(X_test, y_test))"
      ],
      "execution_count": null,
      "outputs": [
        {
          "output_type": "stream",
          "text": [
            "Epoch 1/300\n",
            "1837/1837 [==============================] - 10s 4ms/step - loss: 15978.8407 - mae: 109.1525 - val_loss: 4325.8940 - val_mae: 48.1171\n",
            "\n",
            "Epoch 00001: loss improved from inf to 11896.66113, saving model to /content/drive/MyDrive/Colab Notebooks/practice/분류문제/문제7_딥러닝파라미터/1-11896.66.h5\n",
            "Epoch 2/300\n",
            "1837/1837 [==============================] - 8s 4ms/step - loss: 3368.3202 - mae: 41.2158 - val_loss: 2630.0913 - val_mae: 36.7074\n",
            "\n",
            "Epoch 00002: loss improved from 11896.66113 to 3042.00049, saving model to /content/drive/MyDrive/Colab Notebooks/practice/분류문제/문제7_딥러닝파라미터/2-3042.00.h5\n",
            "Epoch 3/300\n",
            "1837/1837 [==============================] - 8s 4ms/step - loss: 2753.2454 - mae: 38.1069 - val_loss: 2594.5122 - val_mae: 36.7751\n",
            "\n",
            "Epoch 00003: loss improved from 3042.00049 to 2753.59155, saving model to /content/drive/MyDrive/Colab Notebooks/practice/분류문제/문제7_딥러닝파라미터/3-2753.59.h5\n",
            "Epoch 4/300\n",
            "1837/1837 [==============================] - 7s 4ms/step - loss: 2804.2115 - mae: 38.3172 - val_loss: 2607.3311 - val_mae: 36.2660\n",
            "\n",
            "Epoch 00004: loss improved from 2753.59155 to 2745.05273, saving model to /content/drive/MyDrive/Colab Notebooks/practice/분류문제/문제7_딥러닝파라미터/4-2745.05.h5\n",
            "Epoch 5/300\n",
            "1837/1837 [==============================] - 8s 4ms/step - loss: 2758.8262 - mae: 38.5031 - val_loss: 2599.6746 - val_mae: 36.8114\n",
            "\n",
            "Epoch 00005: loss improved from 2745.05273 to 2743.63623, saving model to /content/drive/MyDrive/Colab Notebooks/practice/분류문제/문제7_딥러닝파라미터/5-2743.64.h5\n",
            "Epoch 6/300\n",
            "1837/1837 [==============================] - 9s 5ms/step - loss: 2736.9902 - mae: 38.1538 - val_loss: 2597.5334 - val_mae: 36.8623\n",
            "\n",
            "Epoch 00006: loss improved from 2743.63623 to 2721.57031, saving model to /content/drive/MyDrive/Colab Notebooks/practice/분류문제/문제7_딥러닝파라미터/6-2721.57.h5\n",
            "Epoch 7/300\n",
            "1837/1837 [==============================] - 9s 5ms/step - loss: 2735.5560 - mae: 37.9936 - val_loss: 2591.3679 - val_mae: 36.3270\n",
            "\n",
            "Epoch 00007: loss did not improve from 2721.57031\n",
            "Epoch 8/300\n",
            "1837/1837 [==============================] - 8s 4ms/step - loss: 2745.9428 - mae: 38.0917 - val_loss: 2580.6057 - val_mae: 36.2044\n",
            "\n",
            "Epoch 00008: loss did not improve from 2721.57031\n",
            "Epoch 9/300\n",
            "1837/1837 [==============================] - 8s 4ms/step - loss: 2737.8613 - mae: 38.1223 - val_loss: 2585.1221 - val_mae: 36.2543\n",
            "\n",
            "Epoch 00009: loss improved from 2721.57031 to 2716.50684, saving model to /content/drive/MyDrive/Colab Notebooks/practice/분류문제/문제7_딥러닝파라미터/9-2716.51.h5\n",
            "Epoch 10/300\n",
            "1837/1837 [==============================] - 9s 5ms/step - loss: 2713.2002 - mae: 37.9035 - val_loss: 2576.0122 - val_mae: 36.2164\n",
            "\n",
            "Epoch 00010: loss improved from 2716.50684 to 2708.30762, saving model to /content/drive/MyDrive/Colab Notebooks/practice/분류문제/문제7_딥러닝파라미터/10-2708.31.h5\n",
            "Epoch 11/300\n",
            "1837/1837 [==============================] - 7s 4ms/step - loss: 2724.5608 - mae: 37.9561 - val_loss: 2569.1853 - val_mae: 36.5418\n",
            "\n",
            "Epoch 00011: loss improved from 2708.30762 to 2706.29468, saving model to /content/drive/MyDrive/Colab Notebooks/practice/분류문제/문제7_딥러닝파라미터/11-2706.29.h5\n",
            "Epoch 12/300\n",
            "1837/1837 [==============================] - 8s 4ms/step - loss: 2695.6389 - mae: 37.8176 - val_loss: 2571.5374 - val_mae: 36.2475\n",
            "\n",
            "Epoch 00012: loss did not improve from 2706.29468\n",
            "Epoch 13/300\n",
            "1837/1837 [==============================] - 8s 5ms/step - loss: 2724.2845 - mae: 38.0710 - val_loss: 2573.8162 - val_mae: 36.1959\n",
            "\n",
            "Epoch 00013: loss improved from 2706.29468 to 2704.98071, saving model to /content/drive/MyDrive/Colab Notebooks/practice/분류문제/문제7_딥러닝파라미터/13-2704.98.h5\n",
            "Epoch 14/300\n",
            "1837/1837 [==============================] - 7s 4ms/step - loss: 2698.4989 - mae: 37.7035 - val_loss: 2573.3186 - val_mae: 35.9726\n",
            "\n",
            "Epoch 00014: loss improved from 2704.98071 to 2698.99487, saving model to /content/drive/MyDrive/Colab Notebooks/practice/분류문제/문제7_딥러닝파라미터/14-2698.99.h5\n",
            "Epoch 15/300\n",
            "1837/1837 [==============================] - 7s 4ms/step - loss: 2724.4744 - mae: 38.1052 - val_loss: 2572.9629 - val_mae: 36.3374\n",
            "\n",
            "Epoch 00015: loss did not improve from 2698.99487\n",
            "Epoch 16/300\n",
            "1837/1837 [==============================] - 8s 4ms/step - loss: 2630.0689 - mae: 37.2985 - val_loss: 2572.4001 - val_mae: 36.2226\n",
            "\n",
            "Epoch 00016: loss improved from 2698.99487 to 2664.43359, saving model to /content/drive/MyDrive/Colab Notebooks/practice/분류문제/문제7_딥러닝파라미터/16-2664.43.h5\n",
            "Epoch 17/300\n",
            "1837/1837 [==============================] - 8s 4ms/step - loss: 2690.9849 - mae: 37.7665 - val_loss: 2560.4338 - val_mae: 36.3918\n",
            "\n",
            "Epoch 00017: loss did not improve from 2664.43359\n",
            "Epoch 18/300\n",
            "1837/1837 [==============================] - 8s 4ms/step - loss: 2670.6566 - mae: 37.8330 - val_loss: 2556.7703 - val_mae: 36.0765\n",
            "\n",
            "Epoch 00018: loss did not improve from 2664.43359\n",
            "Epoch 19/300\n",
            "1837/1837 [==============================] - 8s 4ms/step - loss: 2722.3268 - mae: 37.9012 - val_loss: 2569.1455 - val_mae: 36.1457\n",
            "\n",
            "Epoch 00019: loss did not improve from 2664.43359\n",
            "Epoch 20/300\n",
            "1837/1837 [==============================] - 8s 4ms/step - loss: 2652.8317 - mae: 37.4593 - val_loss: 2564.7212 - val_mae: 36.1900\n",
            "\n",
            "Epoch 00020: loss did not improve from 2664.43359\n",
            "Epoch 21/300\n",
            "1837/1837 [==============================] - 8s 5ms/step - loss: 2699.2398 - mae: 37.9757 - val_loss: 2566.6292 - val_mae: 35.9362\n",
            "\n",
            "Epoch 00021: loss did not improve from 2664.43359\n",
            "Epoch 22/300\n",
            "1837/1837 [==============================] - 7s 4ms/step - loss: 2671.5111 - mae: 37.6468 - val_loss: 2561.6155 - val_mae: 36.2523\n",
            "\n",
            "Epoch 00022: loss did not improve from 2664.43359\n",
            "Epoch 23/300\n",
            "1837/1837 [==============================] - 7s 4ms/step - loss: 2633.3124 - mae: 37.3809 - val_loss: 2562.8906 - val_mae: 36.2015\n",
            "\n",
            "Epoch 00023: loss did not improve from 2664.43359\n",
            "Epoch 24/300\n",
            "1837/1837 [==============================] - 7s 4ms/step - loss: 2694.8890 - mae: 37.8514 - val_loss: 2560.2476 - val_mae: 36.1475\n",
            "\n",
            "Epoch 00024: loss did not improve from 2664.43359\n",
            "Epoch 25/300\n",
            "1837/1837 [==============================] - 8s 5ms/step - loss: 2678.6665 - mae: 37.7356 - val_loss: 2556.6675 - val_mae: 35.7669\n",
            "\n",
            "Epoch 00025: loss did not improve from 2664.43359\n",
            "Epoch 26/300\n",
            "1837/1837 [==============================] - 8s 4ms/step - loss: 2691.3818 - mae: 37.6510 - val_loss: 2569.9778 - val_mae: 36.3245\n",
            "\n",
            "Epoch 00026: loss did not improve from 2664.43359\n"
          ],
          "name": "stdout"
        }
      ]
    },
    {
      "cell_type": "code",
      "metadata": {
        "colab": {
          "base_uri": "https://localhost:8080/"
        },
        "id": "RjnukPhZGcHI",
        "outputId": "0b3f805d-47b6-4162-952f-bb80d97275c5"
      },
      "source": [
        "print(sqrt(2691))"
      ],
      "execution_count": null,
      "outputs": [
        {
          "output_type": "stream",
          "text": [
            "51.87484939737175\n"
          ],
          "name": "stdout"
        }
      ]
    },
    {
      "cell_type": "markdown",
      "metadata": {
        "id": "aE9xoAj5GcL9"
      },
      "source": [
        "#### 딥러닝 모델평가"
      ]
    },
    {
      "cell_type": "code",
      "metadata": {
        "colab": {
          "base_uri": "https://localhost:8080/"
        },
        "id": "IlxRlpZ5IZeQ",
        "outputId": "b975cecf-e2de-45de-ea6c-ae1cc1817fcc"
      },
      "source": [
        "model.evaluate(X_test, y_test)"
      ],
      "execution_count": null,
      "outputs": [
        {
          "output_type": "stream",
          "text": [
            "394/394 [==============================] - 1s 2ms/step - loss: 2569.9810 - mae: 36.3245\n"
          ],
          "name": "stdout"
        },
        {
          "output_type": "execute_result",
          "data": {
            "text/plain": [
              "[2569.98095703125, 36.324520111083984]"
            ]
          },
          "metadata": {
            "tags": []
          },
          "execution_count": 99
        }
      ]
    },
    {
      "cell_type": "code",
      "metadata": {
        "colab": {
          "base_uri": "https://localhost:8080/"
        },
        "id": "va5UY3CzIZig",
        "outputId": "46c3e8ac-8fb0-4c88-a9c3-c6e5855241e0"
      },
      "source": [
        "history_dict = history.history\n",
        "history_dict.keys()"
      ],
      "execution_count": null,
      "outputs": [
        {
          "output_type": "execute_result",
          "data": {
            "text/plain": [
              "dict_keys(['loss', 'mae', 'val_loss', 'val_mae'])"
            ]
          },
          "metadata": {
            "tags": []
          },
          "execution_count": 100
        }
      ]
    },
    {
      "cell_type": "code",
      "metadata": {
        "colab": {
          "base_uri": "https://localhost:8080/"
        },
        "id": "3gVdDCvLIZmE",
        "outputId": "4df5a3b8-455b-4a01-fd31-d20334acba1f"
      },
      "source": [
        "print(model.predict(X_test[5:10]))\n",
        "print(y_test[5:10])"
      ],
      "execution_count": null,
      "outputs": [
        {
          "output_type": "stream",
          "text": [
            "[[ 97.08649 ]\n",
            " [ 47.297764]\n",
            " [140.24034 ]\n",
            " [135.62596 ]\n",
            " [ 75.56027 ]]\n",
            "2518     125\n",
            "35531     50\n",
            "9401     125\n",
            "6643     150\n",
            "28740     85\n",
            "Name: price, dtype: int64\n"
          ],
          "name": "stdout"
        }
      ]
    },
    {
      "cell_type": "code",
      "metadata": {
        "colab": {
          "base_uri": "https://localhost:8080/",
          "height": 295
        },
        "id": "E1dcgi4nIZpL",
        "outputId": "01c9bdb7-a026-4ae9-b978-551cba901713"
      },
      "source": [
        "loss = history.history['loss'] \n",
        "val_loss = history.history['val_loss']\n",
        "\n",
        "epochs = range(1, len(loss) + 1)\n",
        "\n",
        "# ‘bo’는 파란색 점을 의미합니다\n",
        "plt.plot(epochs, loss, 'bo', label='Training loss')\n",
        "# ‘b’는 파란색 실선을 의미합니다\n",
        "plt.plot(epochs, val_loss, 'b', label='Validation loss')\n",
        "plt.title('Training and validation loss')\n",
        "plt.xlabel('Epochs')\n",
        "plt.ylabel('Loss')\n",
        "plt.legend()\n",
        "\n",
        "plt.show()"
      ],
      "execution_count": null,
      "outputs": [
        {
          "output_type": "display_data",
          "data": {
            "image/png": "[encoded data removed]",
            "text/plain": [
              "<Figure size 432x288 with 1 Axes>"
            ]
          },
          "metadata": {
            "tags": [],
            "needs_background": "light"
          }
        }
      ]
    },
    {
      "cell_type": "code",
      "metadata": {
        "colab": {
          "base_uri": "https://localhost:8080/",
          "height": 295
        },
        "id": "-0LkCioGIZsx",
        "outputId": "8c197393-1cb4-462a-9c7b-1cf39dc94fb5"
      },
      "source": [
        "plt.clf()   # 그래프를 초기화합니다\n",
        "mae = history.history['mae'] \n",
        "val_mae = history.history['val_mae'] \n",
        "\n",
        "plt.plot(epochs, mae, 'bo', label='Training mae')\n",
        "plt.plot(epochs, val_mae, 'b', label='Validation mae')\n",
        "plt.title('Training and validation mae')\n",
        "plt.xlabel('Epochs')\n",
        "plt.ylabel('MAE')\n",
        "plt.legend()\n",
        "\n",
        "plt.show()"
      ],
      "execution_count": null,
      "outputs": [
        {
          "output_type": "display_data",
          "data": {
            "image/png": "[encoded data removed]",
            "text/plain": [
              "<Figure size 432x288 with 1 Axes>"
            ]
          },
          "metadata": {
            "tags": [],
            "needs_background": "light"
          }
        }
      ]
    },
    {
      "cell_type": "code",
      "metadata": {
        "id": "vcCoTYVHIZvI"
      },
      "source": [
        ""
      ],
      "execution_count": null,
      "outputs": []
    }
  ]
}