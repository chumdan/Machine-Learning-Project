{
  "nbformat": 4,
  "nbformat_minor": 0,
  "metadata": {
    "colab": {
      "name": "문제6_중고자동차 가격분석.ipynb",
      "provenance": [],
      "collapsed_sections": [],
      "authorship_tag": "ABX9TyM1WDHBg5MaYWdRyEqWh3xe",
      "include_colab_link": true
    },
    "kernelspec": {
      "name": "python3",
      "display_name": "Python 3"
    },
    "accelerator": "GPU"
  },
  "cells": [
    {
      "cell_type": "markdown",
      "metadata": {
        "id": "view-in-github",
        "colab_type": "text"
      },
      "source": [
        "<a href=\"https://colab.research.google.com/github/chumdan/Machine-Learning-Project/blob/main/%ED%9A%8C%EA%B7%80/%EB%AC%B8%EC%A0%9C6_%EC%A4%91%EA%B3%A0%EC%9E%90%EB%8F%99%EC%B0%A8_%EA%B0%80%EA%B2%A9%EB%B6%84%EC%84%9D.ipynb\" target=\"_parent\"><img src=\"https://colab.research.google.com/assets/colab-badge.svg\" alt=\"Open In Colab\"/></a>"
      ]
    },
    {
      "cell_type": "markdown",
      "metadata": {
        "id": "SpDqViuFJ0C1"
      },
      "source": [
        "# 주제 : 중고자동차 가격분석 (회귀문제유형)"
      ]
    },
    {
      "cell_type": "markdown",
      "metadata": {
        "id": "8XvfefSuKlYD"
      },
      "source": [
        "### Step 0. 필요패키지 다운 및 데이터셋 준비"
      ]
    },
    {
      "cell_type": "markdown",
      "metadata": {
        "id": "2g6feM2tKr67"
      },
      "source": [
        "#### 필요패키지 설치"
      ]
    },
    {
      "cell_type": "code",
      "metadata": {
        "colab": {
          "base_uri": "https://localhost:8080/"
        },
        "id": "Thf3yHXBKtxU",
        "outputId": "3396e164-5f08-47c3-b285-9521a581546c"
      },
      "source": [
        "from google.colab import drive\n",
        "drive.mount('/content/drive')"
      ],
      "execution_count": null,
      "outputs": [
        {
          "output_type": "stream",
          "text": [
            "Mounted at /content/drive\n"
          ],
          "name": "stdout"
        }
      ]
    },
    {
      "cell_type": "code",
      "metadata": {
        "id": "YyUW_gZdKt1U"
      },
      "source": [
        "import pandas as pd\n",
        "import numpy as np\n",
        "import matplotlib.pyplot as plt\n",
        "import seaborn as sns\n",
        "import os\n",
        "from sklearn.neighbors import KNeighborsClassifier as KNN\n",
        "from sklearn.svm import SVC\n",
        "from sklearn.linear_model import LogisticRegression as LR\n",
        "from sklearn.tree import DecisionTreeClassifier as DTC\n",
        "from sklearn.ensemble import RandomForestClassifier as RFC\n",
        "from xgboost import XGBClassifier as XGB\n",
        "from lightgbm import LGBMClassifier as LGBM\n",
        "from sklearn.feature_selection import *\n",
        "from sklearn.metrics import f1_score\n",
        "from sklearn.model_selection import ParameterGrid\n",
        "from sklearn.decomposition import PCA\n",
        "from sklearn.preprocessing import StandardScaler\n",
        "from sklearn.preprocessing import MinMaxScaler\n",
        "from tensorflow.keras.callbacks import EarlyStopping, ModelCheckpoint\n",
        "from sklearn.model_selection import train_test_split\n",
        "from keras import models\n",
        "from keras import layers\n",
        "from sklearn.metrics import classification_report\n",
        "from sklearn.metrics import plot_precision_recall_curve\n",
        "from sklearn.metrics import plot_roc_curve"
      ],
      "execution_count": null,
      "outputs": []
    },
    {
      "cell_type": "code",
      "metadata": {
        "id": "-Xd8zvlKKt4k"
      },
      "source": [
        "# os.environ을 이용하여 Kaggle API Username, Key 세팅하기\n",
        "os.environ['KAGGLE_USERNAME'] = 'chumdan'\n",
        "os.environ['KAGGLE_KEY'] = '0e8bf51ba50bce898a8a9736072bd3b8'"
      ],
      "execution_count": null,
      "outputs": []
    },
    {
      "cell_type": "code",
      "metadata": {
        "colab": {
          "base_uri": "https://localhost:8080/"
        },
        "id": "KFbnRtyPKt7e",
        "outputId": "b12f7c71-7c32-4f76-f806-b09dc15b8708"
      },
      "source": [
        "# Linux 명령어로 Kaggle API를 이용하여 데이터셋 다운로드하기 (!kaggle ~)\n",
        "# Linux 명령어로 압축 해제하기\n",
        "!rm *.* # 재 실행할때 팁.(완전히 처음부터 시작하게 할 수 있음.)\n",
        "!kaggle datasets download -d austinreese/craigslist-carstrucks-data\n",
        "!unzip '*.zip'"
      ],
      "execution_count": null,
      "outputs": [
        {
          "output_type": "stream",
          "text": [
            "rm: cannot remove '*.*': No such file or directory\n",
            "Downloading craigslist-carstrucks-data.zip to /content\n",
            " 97% 259M/267M [00:03<00:00, 78.1MB/s]\n",
            "100% 267M/267M [00:03<00:00, 72.2MB/s]\n",
            "Archive:  craigslist-carstrucks-data.zip\n",
            "  inflating: vehicles.csv            \n"
          ],
          "name": "stdout"
        }
      ]
    },
    {
      "cell_type": "markdown",
      "metadata": {
        "id": "I8jYXKvUKt-X"
      },
      "source": [
        "## 데이터 소개\n",
        "    다음의 데이터를 사용한다.(크롤링데이터)\n",
        "    - vehicles.csv\n",
        "    id : 중고차 거래의 아이디\n",
        "    url : 중고차 거래 페이지\n",
        "    region : 해당 거래의 관리 지점\n",
        "    region_url : 거래 관리 지점의 홈페이지\n",
        "    price : 기입된 자동차의 거래가\n",
        "    year : 거래가 기입된 년도\n",
        "    manufacturer : 자동차를 생산한 회사\n",
        "    model : 자동차 모델명\n",
        "    condition : 자동차의 상태\n",
        "    cylinders : 자동차의 기통 수\n",
        "    fuel : 자동차의 연료 타입\n",
        "    odometer : 자동차의 운행 마일 수\n",
        "    title_status : 자동차의 타이틀 상태 (소유주 등록 상태)\n",
        "    transmission : 자동차의 트랜스미션 종류\n",
        "    vin : 자동차의 식별 번호 (vehicle identification number)\n",
        "    drive : 자동차의 구동 타입\n",
        "    size : 자동차 크기\n",
        "    type : 자동차의 일반 타입 (세단, ...)\n",
        "    paint_color : 자동차 색상\n",
        "    image_url : 자동차 이미지\n",
        "    description : 세부 설명\n",
        "    county : 실수로 생성된 미사용 컬럼\n",
        "    state : 거래가 업로드된 미 주\n",
        "    lat : 거래가 업로드된 곳의 위도\n",
        "    long : 거래가 업로드된 곳의 경도\n",
        "\n",
        "    종속변수 : price 가격\n",
        "    \n",
        "    \n",
        "- 데이터 출처: https://www.kaggle.com/austinreese/craigslist-carstrucks-data\n"
      ]
    },
    {
      "cell_type": "code",
      "metadata": {
        "id": "BxASDdFQKuBM"
      },
      "source": [
        "df = pd.read_csv('vehicles.csv')"
      ],
      "execution_count": null,
      "outputs": []
    },
    {
      "cell_type": "markdown",
      "metadata": {
        "id": "WSVy_ITBKuEN"
      },
      "source": [
        "### Step 1. 데이터 기초 통계 분석 및 그래프"
      ]
    },
    {
      "cell_type": "markdown",
      "metadata": {
        "id": "NG31Edz5KuHM"
      },
      "source": [
        "#### 데이터프레임의 각 칼럼 분석"
      ]
    },
    {
      "cell_type": "code",
      "metadata": {
        "colab": {
          "base_uri": "https://localhost:8080/",
          "height": 512
        },
        "id": "DYdwrr5tKuKM",
        "outputId": "654d3a71-e770-4817-ef02-d8e0b7d2b29f"
      },
      "source": [
        "# 데이터프레임에서 불필요한 컬럼 제거하기\n",
        "# 'year' 컬럼을 'age' 컬럼으로 변경하기\n",
        "df.head()"
      ],
      "execution_count": null,
      "outputs": [
        {
          "output_type": "execute_result",
          "data": {
            "text/html": [
              "<div>\n",
              "<style scoped>\n",
              "    .dataframe tbody tr th:only-of-type {\n",
              "        vertical-align: middle;\n",
              "    }\n",
              "\n",
              "    .dataframe tbody tr th {\n",
              "        vertical-align: top;\n",
              "    }\n",
              "\n",
              "    .dataframe thead th {\n",
              "        text-align: right;\n",
              "    }\n",
              "</style>\n",
              "<table border=\"1\" class=\"dataframe\">\n",
              "  <thead>\n",
              "    <tr style=\"text-align: right;\">\n",
              "      <th></th>\n",
              "      <th>Unnamed: 0</th>\n",
              "      <th>id</th>\n",
              "      <th>url</th>\n",
              "      <th>region</th>\n",
              "      <th>region_url</th>\n",
              "      <th>price</th>\n",
              "      <th>year</th>\n",
              "      <th>manufacturer</th>\n",
              "      <th>model</th>\n",
              "      <th>condition</th>\n",
              "      <th>cylinders</th>\n",
              "      <th>fuel</th>\n",
              "      <th>odometer</th>\n",
              "      <th>title_status</th>\n",
              "      <th>transmission</th>\n",
              "      <th>VIN</th>\n",
              "      <th>drive</th>\n",
              "      <th>size</th>\n",
              "      <th>type</th>\n",
              "      <th>paint_color</th>\n",
              "      <th>image_url</th>\n",
              "      <th>description</th>\n",
              "      <th>state</th>\n",
              "      <th>lat</th>\n",
              "      <th>long</th>\n",
              "      <th>posting_date</th>\n",
              "    </tr>\n",
              "  </thead>\n",
              "  <tbody>\n",
              "    <tr>\n",
              "      <th>0</th>\n",
              "      <td>0</td>\n",
              "      <td>7240372487</td>\n",
              "      <td>https://auburn.craigslist.org/ctd/d/auburn-uni...</td>\n",
              "      <td>auburn</td>\n",
              "      <td>https://auburn.craigslist.org</td>\n",
              "      <td>35990</td>\n",
              "      <td>2010.0</td>\n",
              "      <td>chevrolet</td>\n",
              "      <td>corvette grand sport</td>\n",
              "      <td>good</td>\n",
              "      <td>8 cylinders</td>\n",
              "      <td>gas</td>\n",
              "      <td>32742.0</td>\n",
              "      <td>clean</td>\n",
              "      <td>other</td>\n",
              "      <td>1G1YU3DW1A5106980</td>\n",
              "      <td>rwd</td>\n",
              "      <td>NaN</td>\n",
              "      <td>other</td>\n",
              "      <td>NaN</td>\n",
              "      <td>https://images.craigslist.org/00N0N_ipkbHVZYf4...</td>\n",
              "      <td>Carvana is the safer way to buy a car During t...</td>\n",
              "      <td>al</td>\n",
              "      <td>32.590000</td>\n",
              "      <td>-85.480000</td>\n",
              "      <td>2020-12-02T08:11:30-0600</td>\n",
              "    </tr>\n",
              "    <tr>\n",
              "      <th>1</th>\n",
              "      <td>1</td>\n",
              "      <td>7240309422</td>\n",
              "      <td>https://auburn.craigslist.org/cto/d/auburn-201...</td>\n",
              "      <td>auburn</td>\n",
              "      <td>https://auburn.craigslist.org</td>\n",
              "      <td>7500</td>\n",
              "      <td>2014.0</td>\n",
              "      <td>hyundai</td>\n",
              "      <td>sonata</td>\n",
              "      <td>excellent</td>\n",
              "      <td>4 cylinders</td>\n",
              "      <td>gas</td>\n",
              "      <td>93600.0</td>\n",
              "      <td>clean</td>\n",
              "      <td>automatic</td>\n",
              "      <td>5NPEC4AB0EH813529</td>\n",
              "      <td>fwd</td>\n",
              "      <td>NaN</td>\n",
              "      <td>sedan</td>\n",
              "      <td>NaN</td>\n",
              "      <td>https://images.craigslist.org/00s0s_gBHYmJ5o7y...</td>\n",
              "      <td>I'll move to another city and try to sell my c...</td>\n",
              "      <td>al</td>\n",
              "      <td>32.547500</td>\n",
              "      <td>-85.468200</td>\n",
              "      <td>2020-12-02T02:11:50-0600</td>\n",
              "    </tr>\n",
              "    <tr>\n",
              "      <th>2</th>\n",
              "      <td>2</td>\n",
              "      <td>7240224296</td>\n",
              "      <td>https://auburn.craigslist.org/cto/d/auburn-200...</td>\n",
              "      <td>auburn</td>\n",
              "      <td>https://auburn.craigslist.org</td>\n",
              "      <td>4900</td>\n",
              "      <td>2006.0</td>\n",
              "      <td>bmw</td>\n",
              "      <td>x3 3.0i</td>\n",
              "      <td>good</td>\n",
              "      <td>6 cylinders</td>\n",
              "      <td>gas</td>\n",
              "      <td>87046.0</td>\n",
              "      <td>clean</td>\n",
              "      <td>automatic</td>\n",
              "      <td>NaN</td>\n",
              "      <td>NaN</td>\n",
              "      <td>NaN</td>\n",
              "      <td>SUV</td>\n",
              "      <td>blue</td>\n",
              "      <td>https://images.craigslist.org/00B0B_5zgEGWPOrt...</td>\n",
              "      <td>Clean 2006 BMW X3 3.0I.  Beautiful and rare Bl...</td>\n",
              "      <td>al</td>\n",
              "      <td>32.616807</td>\n",
              "      <td>-85.464149</td>\n",
              "      <td>2020-12-01T19:50:41-0600</td>\n",
              "    </tr>\n",
              "    <tr>\n",
              "      <th>3</th>\n",
              "      <td>3</td>\n",
              "      <td>7240103965</td>\n",
              "      <td>https://auburn.craigslist.org/cto/d/lanett-tru...</td>\n",
              "      <td>auburn</td>\n",
              "      <td>https://auburn.craigslist.org</td>\n",
              "      <td>2000</td>\n",
              "      <td>1974.0</td>\n",
              "      <td>chevrolet</td>\n",
              "      <td>c-10</td>\n",
              "      <td>good</td>\n",
              "      <td>4 cylinders</td>\n",
              "      <td>gas</td>\n",
              "      <td>190000.0</td>\n",
              "      <td>clean</td>\n",
              "      <td>automatic</td>\n",
              "      <td>NaN</td>\n",
              "      <td>rwd</td>\n",
              "      <td>full-size</td>\n",
              "      <td>pickup</td>\n",
              "      <td>blue</td>\n",
              "      <td>https://images.craigslist.org/00M0M_6o7KcDpArw...</td>\n",
              "      <td>1974 chev. truck (LONG BED) NEW starter front ...</td>\n",
              "      <td>al</td>\n",
              "      <td>32.861600</td>\n",
              "      <td>-85.216100</td>\n",
              "      <td>2020-12-01T15:54:45-0600</td>\n",
              "    </tr>\n",
              "    <tr>\n",
              "      <th>4</th>\n",
              "      <td>4</td>\n",
              "      <td>7239983776</td>\n",
              "      <td>https://auburn.craigslist.org/cto/d/auburn-200...</td>\n",
              "      <td>auburn</td>\n",
              "      <td>https://auburn.craigslist.org</td>\n",
              "      <td>19500</td>\n",
              "      <td>2005.0</td>\n",
              "      <td>ford</td>\n",
              "      <td>f350 lariat</td>\n",
              "      <td>excellent</td>\n",
              "      <td>8 cylinders</td>\n",
              "      <td>diesel</td>\n",
              "      <td>116000.0</td>\n",
              "      <td>lien</td>\n",
              "      <td>automatic</td>\n",
              "      <td>NaN</td>\n",
              "      <td>4wd</td>\n",
              "      <td>full-size</td>\n",
              "      <td>pickup</td>\n",
              "      <td>blue</td>\n",
              "      <td>https://images.craigslist.org/00p0p_b95l1EgUfl...</td>\n",
              "      <td>2005 Ford F350 Lariat (Bullet Proofed). This t...</td>\n",
              "      <td>al</td>\n",
              "      <td>32.547500</td>\n",
              "      <td>-85.468200</td>\n",
              "      <td>2020-12-01T12:53:56-0600</td>\n",
              "    </tr>\n",
              "  </tbody>\n",
              "</table>\n",
              "</div>"
            ],
            "text/plain": [
              "   Unnamed: 0          id  ...       long              posting_date\n",
              "0           0  7240372487  ... -85.480000  2020-12-02T08:11:30-0600\n",
              "1           1  7240309422  ... -85.468200  2020-12-02T02:11:50-0600\n",
              "2           2  7240224296  ... -85.464149  2020-12-01T19:50:41-0600\n",
              "3           3  7240103965  ... -85.216100  2020-12-01T15:54:45-0600\n",
              "4           4  7239983776  ... -85.468200  2020-12-01T12:53:56-0600\n",
              "\n",
              "[5 rows x 26 columns]"
            ]
          },
          "metadata": {
            "tags": []
          },
          "execution_count": 7
        }
      ]
    },
    {
      "cell_type": "code",
      "metadata": {
        "colab": {
          "base_uri": "https://localhost:8080/"
        },
        "id": "k-13kYKGKuNU",
        "outputId": "29ac4815-94f0-48e6-9ef6-2de11797f140"
      },
      "source": [
        "df.info()"
      ],
      "execution_count": null,
      "outputs": [
        {
          "output_type": "stream",
          "text": [
            "<class 'pandas.core.frame.DataFrame'>\n",
            "RangeIndex: 458213 entries, 0 to 458212\n",
            "Data columns (total 26 columns):\n",
            " #   Column        Non-Null Count   Dtype  \n",
            "---  ------        --------------   -----  \n",
            " 0   Unnamed: 0    458213 non-null  int64  \n",
            " 1   id            458213 non-null  int64  \n",
            " 2   url           458213 non-null  object \n",
            " 3   region        458213 non-null  object \n",
            " 4   region_url    458213 non-null  object \n",
            " 5   price         458213 non-null  int64  \n",
            " 6   year          457163 non-null  float64\n",
            " 7   manufacturer  439993 non-null  object \n",
            " 8   model         453367 non-null  object \n",
            " 9   condition     265273 non-null  object \n",
            " 10  cylinders     287073 non-null  object \n",
            " 11  fuel          454976 non-null  object \n",
            " 12  odometer      402910 non-null  float64\n",
            " 13  title_status  455636 non-null  object \n",
            " 14  transmission  455771 non-null  object \n",
            " 15  VIN           270664 non-null  object \n",
            " 16  drive         324025 non-null  object \n",
            " 17  size          136865 non-null  object \n",
            " 18  type          345475 non-null  object \n",
            " 19  paint_color   317370 non-null  object \n",
            " 20  image_url     458185 non-null  object \n",
            " 21  description   458143 non-null  object \n",
            " 22  state         458213 non-null  object \n",
            " 23  lat           450765 non-null  float64\n",
            " 24  long          450765 non-null  float64\n",
            " 25  posting_date  458185 non-null  object \n",
            "dtypes: float64(4), int64(3), object(19)\n",
            "memory usage: 90.9+ MB\n"
          ],
          "name": "stdout"
        }
      ]
    },
    {
      "cell_type": "code",
      "metadata": {
        "colab": {
          "base_uri": "https://localhost:8080/"
        },
        "id": "qRW83V9TKuQX",
        "outputId": "0255d93f-ee36-4d37-85d5-79a0708a4ff9"
      },
      "source": [
        "df.isna().sum()"
      ],
      "execution_count": null,
      "outputs": [
        {
          "output_type": "execute_result",
          "data": {
            "text/plain": [
              "Unnamed: 0           0\n",
              "id                   0\n",
              "url                  0\n",
              "region               0\n",
              "region_url           0\n",
              "price                0\n",
              "year              1050\n",
              "manufacturer     18220\n",
              "model             4846\n",
              "condition       192940\n",
              "cylinders       171140\n",
              "fuel              3237\n",
              "odometer         55303\n",
              "title_status      2577\n",
              "transmission      2442\n",
              "VIN             187549\n",
              "drive           134188\n",
              "size            321348\n",
              "type            112738\n",
              "paint_color     140843\n",
              "image_url           28\n",
              "description         70\n",
              "state                0\n",
              "lat               7448\n",
              "long              7448\n",
              "posting_date        28\n",
              "dtype: int64"
            ]
          },
          "metadata": {
            "tags": []
          },
          "execution_count": 9
        }
      ]
    },
    {
      "cell_type": "code",
      "metadata": {
        "colab": {
          "base_uri": "https://localhost:8080/",
          "height": 288
        },
        "id": "rGqASe7HKuTQ",
        "outputId": "2e86e054-1061-44fc-be42-66941c95a534"
      },
      "source": [
        "df.describe() # 이상치 많은"
      ],
      "execution_count": null,
      "outputs": [
        {
          "output_type": "execute_result",
          "data": {
            "text/html": [
              "<div>\n",
              "<style scoped>\n",
              "    .dataframe tbody tr th:only-of-type {\n",
              "        vertical-align: middle;\n",
              "    }\n",
              "\n",
              "    .dataframe tbody tr th {\n",
              "        vertical-align: top;\n",
              "    }\n",
              "\n",
              "    .dataframe thead th {\n",
              "        text-align: right;\n",
              "    }\n",
              "</style>\n",
              "<table border=\"1\" class=\"dataframe\">\n",
              "  <thead>\n",
              "    <tr style=\"text-align: right;\">\n",
              "      <th></th>\n",
              "      <th>Unnamed: 0</th>\n",
              "      <th>id</th>\n",
              "      <th>price</th>\n",
              "      <th>year</th>\n",
              "      <th>odometer</th>\n",
              "      <th>lat</th>\n",
              "      <th>long</th>\n",
              "    </tr>\n",
              "  </thead>\n",
              "  <tbody>\n",
              "    <tr>\n",
              "      <th>count</th>\n",
              "      <td>458213.000000</td>\n",
              "      <td>4.582130e+05</td>\n",
              "      <td>4.582130e+05</td>\n",
              "      <td>457163.000000</td>\n",
              "      <td>4.029100e+05</td>\n",
              "      <td>450765.000000</td>\n",
              "      <td>450765.000000</td>\n",
              "    </tr>\n",
              "    <tr>\n",
              "      <th>mean</th>\n",
              "      <td>229106.000000</td>\n",
              "      <td>7.235233e+09</td>\n",
              "      <td>4.042093e+04</td>\n",
              "      <td>2010.746067</td>\n",
              "      <td>1.016698e+05</td>\n",
              "      <td>38.531925</td>\n",
              "      <td>-94.375824</td>\n",
              "    </tr>\n",
              "    <tr>\n",
              "      <th>std</th>\n",
              "      <td>132274.843786</td>\n",
              "      <td>4.594362e+06</td>\n",
              "      <td>8.194599e+06</td>\n",
              "      <td>8.868136</td>\n",
              "      <td>3.228623e+06</td>\n",
              "      <td>5.857378</td>\n",
              "      <td>18.076225</td>\n",
              "    </tr>\n",
              "    <tr>\n",
              "      <th>min</th>\n",
              "      <td>0.000000</td>\n",
              "      <td>7.208550e+09</td>\n",
              "      <td>0.000000e+00</td>\n",
              "      <td>1900.000000</td>\n",
              "      <td>0.000000e+00</td>\n",
              "      <td>-82.607549</td>\n",
              "      <td>-164.091797</td>\n",
              "    </tr>\n",
              "    <tr>\n",
              "      <th>25%</th>\n",
              "      <td>114553.000000</td>\n",
              "      <td>7.231953e+09</td>\n",
              "      <td>4.900000e+03</td>\n",
              "      <td>2008.000000</td>\n",
              "      <td>4.087700e+04</td>\n",
              "      <td>34.600000</td>\n",
              "      <td>-110.890427</td>\n",
              "    </tr>\n",
              "    <tr>\n",
              "      <th>50%</th>\n",
              "      <td>229106.000000</td>\n",
              "      <td>7.236409e+09</td>\n",
              "      <td>1.099500e+04</td>\n",
              "      <td>2013.000000</td>\n",
              "      <td>8.764100e+04</td>\n",
              "      <td>39.244500</td>\n",
              "      <td>-88.314889</td>\n",
              "    </tr>\n",
              "    <tr>\n",
              "      <th>75%</th>\n",
              "      <td>343659.000000</td>\n",
              "      <td>7.239321e+09</td>\n",
              "      <td>2.149500e+04</td>\n",
              "      <td>2016.000000</td>\n",
              "      <td>1.340000e+05</td>\n",
              "      <td>42.484503</td>\n",
              "      <td>-81.015022</td>\n",
              "    </tr>\n",
              "    <tr>\n",
              "      <th>max</th>\n",
              "      <td>458212.000000</td>\n",
              "      <td>7.241019e+09</td>\n",
              "      <td>3.615215e+09</td>\n",
              "      <td>2021.000000</td>\n",
              "      <td>2.043756e+09</td>\n",
              "      <td>82.049255</td>\n",
              "      <td>150.898969</td>\n",
              "    </tr>\n",
              "  </tbody>\n",
              "</table>\n",
              "</div>"
            ],
            "text/plain": [
              "          Unnamed: 0            id  ...            lat           long\n",
              "count  458213.000000  4.582130e+05  ...  450765.000000  450765.000000\n",
              "mean   229106.000000  7.235233e+09  ...      38.531925     -94.375824\n",
              "std    132274.843786  4.594362e+06  ...       5.857378      18.076225\n",
              "min         0.000000  7.208550e+09  ...     -82.607549    -164.091797\n",
              "25%    114553.000000  7.231953e+09  ...      34.600000    -110.890427\n",
              "50%    229106.000000  7.236409e+09  ...      39.244500     -88.314889\n",
              "75%    343659.000000  7.239321e+09  ...      42.484503     -81.015022\n",
              "max    458212.000000  7.241019e+09  ...      82.049255     150.898969\n",
              "\n",
              "[8 rows x 7 columns]"
            ]
          },
          "metadata": {
            "tags": []
          },
          "execution_count": 10
        }
      ]
    },
    {
      "cell_type": "code",
      "metadata": {
        "colab": {
          "base_uri": "https://localhost:8080/"
        },
        "id": "WRTiciapKuWJ",
        "outputId": "99c85321-782d-4930-cd0a-2b95e95c2c38"
      },
      "source": [
        "df.columns"
      ],
      "execution_count": null,
      "outputs": [
        {
          "output_type": "execute_result",
          "data": {
            "text/plain": [
              "Index(['Unnamed: 0', 'id', 'url', 'region', 'region_url', 'price', 'year',\n",
              "       'manufacturer', 'model', 'condition', 'cylinders', 'fuel', 'odometer',\n",
              "       'title_status', 'transmission', 'VIN', 'drive', 'size', 'type',\n",
              "       'paint_color', 'image_url', 'description', 'state', 'lat', 'long',\n",
              "       'posting_date'],\n",
              "      dtype='object')"
            ]
          },
          "metadata": {
            "tags": []
          },
          "execution_count": 11
        }
      ]
    },
    {
      "cell_type": "code",
      "metadata": {
        "id": "mwIQip2rKuZB"
      },
      "source": [
        "df.drop(['Unnamed: 0', 'id', 'url', 'region_url', 'VIN',\n",
        "         'image_url', 'description', 'state', 'lat', \n",
        "         'long', 'posting_date'], axis=1, inplace=True)"
      ],
      "execution_count": null,
      "outputs": []
    },
    {
      "cell_type": "code",
      "metadata": {
        "id": "5NnXFeVJKucT"
      },
      "source": [
        "df['age'] = 2021 - df['year']\n",
        "df.drop('year', axis=1, inplace=True)"
      ],
      "execution_count": null,
      "outputs": []
    },
    {
      "cell_type": "code",
      "metadata": {
        "colab": {
          "base_uri": "https://localhost:8080/",
          "height": 407
        },
        "id": "H1d4E8q6KufL",
        "outputId": "f2ccc227-6481-471f-8304-2380469fdb6f"
      },
      "source": [
        "df"
      ],
      "execution_count": null,
      "outputs": [
        {
          "output_type": "execute_result",
          "data": {
            "text/html": [
              "<div>\n",
              "<style scoped>\n",
              "    .dataframe tbody tr th:only-of-type {\n",
              "        vertical-align: middle;\n",
              "    }\n",
              "\n",
              "    .dataframe tbody tr th {\n",
              "        vertical-align: top;\n",
              "    }\n",
              "\n",
              "    .dataframe thead th {\n",
              "        text-align: right;\n",
              "    }\n",
              "</style>\n",
              "<table border=\"1\" class=\"dataframe\">\n",
              "  <thead>\n",
              "    <tr style=\"text-align: right;\">\n",
              "      <th></th>\n",
              "      <th>region</th>\n",
              "      <th>price</th>\n",
              "      <th>manufacturer</th>\n",
              "      <th>model</th>\n",
              "      <th>condition</th>\n",
              "      <th>cylinders</th>\n",
              "      <th>fuel</th>\n",
              "      <th>odometer</th>\n",
              "      <th>title_status</th>\n",
              "      <th>transmission</th>\n",
              "      <th>drive</th>\n",
              "      <th>size</th>\n",
              "      <th>type</th>\n",
              "      <th>paint_color</th>\n",
              "      <th>age</th>\n",
              "    </tr>\n",
              "  </thead>\n",
              "  <tbody>\n",
              "    <tr>\n",
              "      <th>0</th>\n",
              "      <td>auburn</td>\n",
              "      <td>35990</td>\n",
              "      <td>chevrolet</td>\n",
              "      <td>corvette grand sport</td>\n",
              "      <td>good</td>\n",
              "      <td>8 cylinders</td>\n",
              "      <td>gas</td>\n",
              "      <td>32742.0</td>\n",
              "      <td>clean</td>\n",
              "      <td>other</td>\n",
              "      <td>rwd</td>\n",
              "      <td>NaN</td>\n",
              "      <td>other</td>\n",
              "      <td>NaN</td>\n",
              "      <td>11.0</td>\n",
              "    </tr>\n",
              "    <tr>\n",
              "      <th>1</th>\n",
              "      <td>auburn</td>\n",
              "      <td>7500</td>\n",
              "      <td>hyundai</td>\n",
              "      <td>sonata</td>\n",
              "      <td>excellent</td>\n",
              "      <td>4 cylinders</td>\n",
              "      <td>gas</td>\n",
              "      <td>93600.0</td>\n",
              "      <td>clean</td>\n",
              "      <td>automatic</td>\n",
              "      <td>fwd</td>\n",
              "      <td>NaN</td>\n",
              "      <td>sedan</td>\n",
              "      <td>NaN</td>\n",
              "      <td>7.0</td>\n",
              "    </tr>\n",
              "    <tr>\n",
              "      <th>2</th>\n",
              "      <td>auburn</td>\n",
              "      <td>4900</td>\n",
              "      <td>bmw</td>\n",
              "      <td>x3 3.0i</td>\n",
              "      <td>good</td>\n",
              "      <td>6 cylinders</td>\n",
              "      <td>gas</td>\n",
              "      <td>87046.0</td>\n",
              "      <td>clean</td>\n",
              "      <td>automatic</td>\n",
              "      <td>NaN</td>\n",
              "      <td>NaN</td>\n",
              "      <td>SUV</td>\n",
              "      <td>blue</td>\n",
              "      <td>15.0</td>\n",
              "    </tr>\n",
              "    <tr>\n",
              "      <th>3</th>\n",
              "      <td>auburn</td>\n",
              "      <td>2000</td>\n",
              "      <td>chevrolet</td>\n",
              "      <td>c-10</td>\n",
              "      <td>good</td>\n",
              "      <td>4 cylinders</td>\n",
              "      <td>gas</td>\n",
              "      <td>190000.0</td>\n",
              "      <td>clean</td>\n",
              "      <td>automatic</td>\n",
              "      <td>rwd</td>\n",
              "      <td>full-size</td>\n",
              "      <td>pickup</td>\n",
              "      <td>blue</td>\n",
              "      <td>47.0</td>\n",
              "    </tr>\n",
              "    <tr>\n",
              "      <th>4</th>\n",
              "      <td>auburn</td>\n",
              "      <td>19500</td>\n",
              "      <td>ford</td>\n",
              "      <td>f350 lariat</td>\n",
              "      <td>excellent</td>\n",
              "      <td>8 cylinders</td>\n",
              "      <td>diesel</td>\n",
              "      <td>116000.0</td>\n",
              "      <td>lien</td>\n",
              "      <td>automatic</td>\n",
              "      <td>4wd</td>\n",
              "      <td>full-size</td>\n",
              "      <td>pickup</td>\n",
              "      <td>blue</td>\n",
              "      <td>16.0</td>\n",
              "    </tr>\n",
              "    <tr>\n",
              "      <th>...</th>\n",
              "      <td>...</td>\n",
              "      <td>...</td>\n",
              "      <td>...</td>\n",
              "      <td>...</td>\n",
              "      <td>...</td>\n",
              "      <td>...</td>\n",
              "      <td>...</td>\n",
              "      <td>...</td>\n",
              "      <td>...</td>\n",
              "      <td>...</td>\n",
              "      <td>...</td>\n",
              "      <td>...</td>\n",
              "      <td>...</td>\n",
              "      <td>...</td>\n",
              "      <td>...</td>\n",
              "    </tr>\n",
              "    <tr>\n",
              "      <th>458208</th>\n",
              "      <td>wausau</td>\n",
              "      <td>14995</td>\n",
              "      <td>cadillac</td>\n",
              "      <td>srx</td>\n",
              "      <td>excellent</td>\n",
              "      <td>6 cylinders</td>\n",
              "      <td>gas</td>\n",
              "      <td>83790.0</td>\n",
              "      <td>clean</td>\n",
              "      <td>automatic</td>\n",
              "      <td>4wd</td>\n",
              "      <td>mid-size</td>\n",
              "      <td>SUV</td>\n",
              "      <td>silver</td>\n",
              "      <td>7.0</td>\n",
              "    </tr>\n",
              "    <tr>\n",
              "      <th>458209</th>\n",
              "      <td>wausau</td>\n",
              "      <td>17895</td>\n",
              "      <td>hyundai</td>\n",
              "      <td>tucson</td>\n",
              "      <td>excellent</td>\n",
              "      <td>4 cylinders</td>\n",
              "      <td>gas</td>\n",
              "      <td>31888.0</td>\n",
              "      <td>clean</td>\n",
              "      <td>automatic</td>\n",
              "      <td>4wd</td>\n",
              "      <td>mid-size</td>\n",
              "      <td>SUV</td>\n",
              "      <td>white</td>\n",
              "      <td>3.0</td>\n",
              "    </tr>\n",
              "    <tr>\n",
              "      <th>458210</th>\n",
              "      <td>wyoming</td>\n",
              "      <td>17900</td>\n",
              "      <td>cadillac</td>\n",
              "      <td>cts coupe awd</td>\n",
              "      <td>excellent</td>\n",
              "      <td>6 cylinders</td>\n",
              "      <td>gas</td>\n",
              "      <td>53000.0</td>\n",
              "      <td>clean</td>\n",
              "      <td>automatic</td>\n",
              "      <td>4wd</td>\n",
              "      <td>mid-size</td>\n",
              "      <td>coupe</td>\n",
              "      <td>black</td>\n",
              "      <td>7.0</td>\n",
              "    </tr>\n",
              "    <tr>\n",
              "      <th>458211</th>\n",
              "      <td>wyoming</td>\n",
              "      <td>1300</td>\n",
              "      <td>jeep</td>\n",
              "      <td>grand cherokee</td>\n",
              "      <td>good</td>\n",
              "      <td>8 cylinders</td>\n",
              "      <td>gas</td>\n",
              "      <td>164000.0</td>\n",
              "      <td>clean</td>\n",
              "      <td>automatic</td>\n",
              "      <td>4wd</td>\n",
              "      <td>mid-size</td>\n",
              "      <td>SUV</td>\n",
              "      <td>white</td>\n",
              "      <td>13.0</td>\n",
              "    </tr>\n",
              "    <tr>\n",
              "      <th>458212</th>\n",
              "      <td>wyoming</td>\n",
              "      <td>22900</td>\n",
              "      <td>NaN</td>\n",
              "      <td>International 4300</td>\n",
              "      <td>NaN</td>\n",
              "      <td>NaN</td>\n",
              "      <td>diesel</td>\n",
              "      <td>164000.0</td>\n",
              "      <td>clean</td>\n",
              "      <td>automatic</td>\n",
              "      <td>NaN</td>\n",
              "      <td>NaN</td>\n",
              "      <td>NaN</td>\n",
              "      <td>NaN</td>\n",
              "      <td>13.0</td>\n",
              "    </tr>\n",
              "  </tbody>\n",
              "</table>\n",
              "<p>458213 rows × 15 columns</p>\n",
              "</div>"
            ],
            "text/plain": [
              "         region  price manufacturer  ...    type paint_color   age\n",
              "0        auburn  35990    chevrolet  ...   other         NaN  11.0\n",
              "1        auburn   7500      hyundai  ...   sedan         NaN   7.0\n",
              "2        auburn   4900          bmw  ...     SUV        blue  15.0\n",
              "3        auburn   2000    chevrolet  ...  pickup        blue  47.0\n",
              "4        auburn  19500         ford  ...  pickup        blue  16.0\n",
              "...         ...    ...          ...  ...     ...         ...   ...\n",
              "458208   wausau  14995     cadillac  ...     SUV      silver   7.0\n",
              "458209   wausau  17895      hyundai  ...     SUV       white   3.0\n",
              "458210  wyoming  17900     cadillac  ...   coupe       black   7.0\n",
              "458211  wyoming   1300         jeep  ...     SUV       white  13.0\n",
              "458212  wyoming  22900          NaN  ...     NaN         NaN  13.0\n",
              "\n",
              "[458213 rows x 15 columns]"
            ]
          },
          "metadata": {
            "tags": []
          },
          "execution_count": 14
        }
      ]
    },
    {
      "cell_type": "markdown",
      "metadata": {
        "id": "0h2IphAqKuiU"
      },
      "source": [
        "#### 범주형 데이터의 통계 분석"
      ]
    },
    {
      "cell_type": "code",
      "metadata": {
        "colab": {
          "base_uri": "https://localhost:8080/"
        },
        "id": "sz3h0gW7Ma8N",
        "outputId": "c53b0b46-78f6-4980-8841-d0faf2dbdbf4"
      },
      "source": [
        "df.columns"
      ],
      "execution_count": null,
      "outputs": [
        {
          "output_type": "execute_result",
          "data": {
            "text/plain": [
              "Index(['region', 'price', 'manufacturer', 'model', 'condition', 'cylinders',\n",
              "       'fuel', 'odometer', 'title_status', 'transmission', 'drive', 'size',\n",
              "       'type', 'paint_color', 'age'],\n",
              "      dtype='object')"
            ]
          },
          "metadata": {
            "tags": []
          },
          "execution_count": 15
        }
      ]
    },
    {
      "cell_type": "code",
      "metadata": {
        "colab": {
          "base_uri": "https://localhost:8080/"
        },
        "id": "brmS4zCrMbAD",
        "outputId": "9428d194-19ff-490e-a2a1-aa46914b2462"
      },
      "source": [
        "len(df['manufacturer'].value_counts())"
      ],
      "execution_count": null,
      "outputs": [
        {
          "output_type": "execute_result",
          "data": {
            "text/plain": [
              "43"
            ]
          },
          "metadata": {
            "tags": []
          },
          "execution_count": 16
        }
      ]
    },
    {
      "cell_type": "code",
      "metadata": {
        "colab": {
          "base_uri": "https://localhost:8080/"
        },
        "id": "NneZjiwNMbDA",
        "outputId": "b7fe5111-6419-4aa7-bfe1-a394c215d68e"
      },
      "source": [
        "df['manufacturer'].value_counts()"
      ],
      "execution_count": null,
      "outputs": [
        {
          "output_type": "execute_result",
          "data": {
            "text/plain": [
              "ford               79666\n",
              "chevrolet          64977\n",
              "toyota             38577\n",
              "honda              25868\n",
              "nissan             23654\n",
              "jeep               21165\n",
              "ram                17697\n",
              "gmc                17267\n",
              "dodge              16730\n",
              "bmw                12352\n",
              "hyundai            10975\n",
              "mercedes-benz      10628\n",
              "subaru             10510\n",
              "volkswagen         10489\n",
              "kia                 8854\n",
              "chrysler            7499\n",
              "lexus               7119\n",
              "cadillac            6743\n",
              "buick               6009\n",
              "mazda               5931\n",
              "audi                5583\n",
              "acura               4008\n",
              "infiniti            3714\n",
              "lincoln             3338\n",
              "pontiac             3037\n",
              "volvo               2866\n",
              "mini                2330\n",
              "mitsubishi          2301\n",
              "porsche             1779\n",
              "rover               1662\n",
              "mercury             1645\n",
              "saturn              1393\n",
              "tesla               1067\n",
              "jaguar              1060\n",
              "fiat                 955\n",
              "alfa-romeo           187\n",
              "harley-davidson      139\n",
              "ferrari               96\n",
              "datsun                63\n",
              "aston-martin          35\n",
              "land rover            21\n",
              "morgan                 3\n",
              "hennessey              1\n",
              "Name: manufacturer, dtype: int64"
            ]
          },
          "metadata": {
            "tags": []
          },
          "execution_count": 17
        }
      ]
    },
    {
      "cell_type": "code",
      "metadata": {
        "colab": {
          "base_uri": "https://localhost:8080/",
          "height": 625
        },
        "id": "6oIeEcUiMbFa",
        "outputId": "58b483ca-1246-42fb-cf90-f15590b3cde8"
      },
      "source": [
        "fig = plt.figure(figsize=(8, 10))\n",
        "sns.countplot(y='manufacturer', data=df.fillna('n/a'), order=df.fillna('n/a')['manufacturer'].value_counts().index)"
      ],
      "execution_count": null,
      "outputs": [
        {
          "output_type": "execute_result",
          "data": {
            "text/plain": [
              "<matplotlib.axes._subplots.AxesSubplot at 0x7f2ea2d4e950>"
            ]
          },
          "metadata": {
            "tags": []
          },
          "execution_count": 18
        },
        {
          "output_type": "display_data",
          "data": {
            "image/png": "[encoded data removed]",
            "text/plain": [
              "<Figure size 576x720 with 1 Axes>"
            ]
          },
          "metadata": {
            "tags": [],
            "needs_background": "light"
          }
        }
      ]
    },
    {
      "cell_type": "code",
      "metadata": {
        "colab": {
          "base_uri": "https://localhost:8080/"
        },
        "id": "9bCgPMOJMbIw",
        "outputId": "12b40f6f-72a2-4c0b-dae7-550c888bd336"
      },
      "source": [
        "df.columns"
      ],
      "execution_count": null,
      "outputs": [
        {
          "output_type": "execute_result",
          "data": {
            "text/plain": [
              "Index(['region', 'price', 'manufacturer', 'model', 'condition', 'cylinders',\n",
              "       'fuel', 'odometer', 'title_status', 'transmission', 'drive', 'size',\n",
              "       'type', 'paint_color', 'age'],\n",
              "      dtype='object')"
            ]
          },
          "metadata": {
            "tags": []
          },
          "execution_count": 19
        }
      ]
    },
    {
      "cell_type": "code",
      "metadata": {
        "colab": {
          "base_uri": "https://localhost:8080/",
          "height": 297
        },
        "id": "r6HKSFqOMbME",
        "outputId": "c8d24a6b-3f91-4d1b-a274-bbfdc2ed2577"
      },
      "source": [
        "sns.countplot(y='condition', data=df.fillna('n/a'), order=df.fillna('n/a')['condition'].value_counts().index)"
      ],
      "execution_count": null,
      "outputs": [
        {
          "output_type": "execute_result",
          "data": {
            "text/plain": [
              "<matplotlib.axes._subplots.AxesSubplot at 0x7f2e6333fd90>"
            ]
          },
          "metadata": {
            "tags": []
          },
          "execution_count": 20
        },
        {
          "output_type": "display_data",
          "data": {
            "image/png": "[encoded data removed]",
            "text/plain": [
              "<Figure size 432x288 with 1 Axes>"
            ]
          },
          "metadata": {
            "tags": [],
            "needs_background": "light"
          }
        }
      ]
    },
    {
      "cell_type": "code",
      "metadata": {
        "colab": {
          "base_uri": "https://localhost:8080/",
          "height": 297
        },
        "id": "AwDwysecMbOz",
        "outputId": "4353e20f-d8f8-4c4b-dbe7-dcbfc77fed4f"
      },
      "source": [
        "sns.countplot(y='cylinders', data=df.fillna('n/a'), order=df.fillna('n/a')['cylinders'].value_counts().index)"
      ],
      "execution_count": null,
      "outputs": [
        {
          "output_type": "execute_result",
          "data": {
            "text/plain": [
              "<matplotlib.axes._subplots.AxesSubplot at 0x7f2e63278ad0>"
            ]
          },
          "metadata": {
            "tags": []
          },
          "execution_count": 21
        },
        {
          "output_type": "display_data",
          "data": {
            "image/png": "[encoded data removed]",
            "text/plain": [
              "<Figure size 432x288 with 1 Axes>"
            ]
          },
          "metadata": {
            "tags": [],
            "needs_background": "light"
          }
        }
      ]
    },
    {
      "cell_type": "code",
      "metadata": {
        "colab": {
          "base_uri": "https://localhost:8080/",
          "height": 297
        },
        "id": "-s5DBAVFMbRf",
        "outputId": "bea446e2-6e96-43c8-a4c5-1367c474c9b5"
      },
      "source": [
        "sns.countplot(y='fuel', data=df.fillna('n/a'), order=df.fillna('n/a')['fuel'].value_counts().index)"
      ],
      "execution_count": null,
      "outputs": [
        {
          "output_type": "execute_result",
          "data": {
            "text/plain": [
              "<matplotlib.axes._subplots.AxesSubplot at 0x7f2e630e2210>"
            ]
          },
          "metadata": {
            "tags": []
          },
          "execution_count": 22
        },
        {
          "output_type": "display_data",
          "data": {
            "image/png": "[encoded data removed]",
            "text/plain": [
              "<Figure size 432x288 with 1 Axes>"
            ]
          },
          "metadata": {
            "tags": [],
            "needs_background": "light"
          }
        }
      ]
    },
    {
      "cell_type": "code",
      "metadata": {
        "colab": {
          "base_uri": "https://localhost:8080/"
        },
        "id": "LR5k35QHMbUY",
        "outputId": "e7d79935-598e-4ca5-8e92-1eab8a224331"
      },
      "source": [
        "df.columns"
      ],
      "execution_count": null,
      "outputs": [
        {
          "output_type": "execute_result",
          "data": {
            "text/plain": [
              "Index(['region', 'price', 'manufacturer', 'model', 'condition', 'cylinders',\n",
              "       'fuel', 'odometer', 'title_status', 'transmission', 'drive', 'size',\n",
              "       'type', 'paint_color', 'age'],\n",
              "      dtype='object')"
            ]
          },
          "metadata": {
            "tags": []
          },
          "execution_count": 23
        }
      ]
    },
    {
      "cell_type": "code",
      "metadata": {
        "colab": {
          "base_uri": "https://localhost:8080/",
          "height": 297
        },
        "id": "fv3ruMjCMbXR",
        "outputId": "38ebd559-e336-4ce9-9abb-ab694a186c36"
      },
      "source": [
        "sns.countplot(y='transmission', data=df.fillna('n/a'), order=df.fillna('n/a')['transmission'].value_counts().index)"
      ],
      "execution_count": null,
      "outputs": [
        {
          "output_type": "execute_result",
          "data": {
            "text/plain": [
              "<matplotlib.axes._subplots.AxesSubplot at 0x7f2e63c64390>"
            ]
          },
          "metadata": {
            "tags": []
          },
          "execution_count": 24
        },
        {
          "output_type": "display_data",
          "data": {
            "image/png": "[encoded data removed]",
            "text/plain": [
              "<Figure size 432x288 with 1 Axes>"
            ]
          },
          "metadata": {
            "tags": [],
            "needs_background": "light"
          }
        }
      ]
    },
    {
      "cell_type": "code",
      "metadata": {
        "colab": {
          "base_uri": "https://localhost:8080/",
          "height": 297
        },
        "id": "4IxKQx2ZMbaQ",
        "outputId": "d285df56-98b7-477a-d886-71bb5b55b456"
      },
      "source": [
        "sns.countplot(y='drive', data=df.fillna('n/a'), order=df.fillna('n/a')['drive'].value_counts().index)"
      ],
      "execution_count": null,
      "outputs": [
        {
          "output_type": "execute_result",
          "data": {
            "text/plain": [
              "<matplotlib.axes._subplots.AxesSubplot at 0x7f2e63c5ba10>"
            ]
          },
          "metadata": {
            "tags": []
          },
          "execution_count": 25
        },
        {
          "output_type": "display_data",
          "data": {
            "image/png": "[encoded data removed]",
            "text/plain": [
              "<Figure size 432x288 with 1 Axes>"
            ]
          },
          "metadata": {
            "tags": [],
            "needs_background": "light"
          }
        }
      ]
    },
    {
      "cell_type": "code",
      "metadata": {
        "colab": {
          "base_uri": "https://localhost:8080/",
          "height": 297
        },
        "id": "_gHdHvDPMbdh",
        "outputId": "3a2bb98a-61a8-44d7-946c-84604bfcd25b"
      },
      "source": [
        "sns.countplot(y='size', data=df.fillna('n/a'), order=df.fillna('n/a')['size'].value_counts().index)"
      ],
      "execution_count": null,
      "outputs": [
        {
          "output_type": "execute_result",
          "data": {
            "text/plain": [
              "<matplotlib.axes._subplots.AxesSubplot at 0x7f2e60fe2c10>"
            ]
          },
          "metadata": {
            "tags": []
          },
          "execution_count": 26
        },
        {
          "output_type": "display_data",
          "data": {
            "image/png": "[encoded data removed]",
            "text/plain": [
              "<Figure size 432x288 with 1 Axes>"
            ]
          },
          "metadata": {
            "tags": [],
            "needs_background": "light"
          }
        }
      ]
    },
    {
      "cell_type": "code",
      "metadata": {
        "colab": {
          "base_uri": "https://localhost:8080/",
          "height": 297
        },
        "id": "r_9GDcHtMbgX",
        "outputId": "d2f45938-2414-4e52-f0a0-e3b2c197d3b6"
      },
      "source": [
        "sns.countplot(y='type', data=df.fillna('n/a'), order=df.fillna('n/a')['type'].value_counts().index)"
      ],
      "execution_count": null,
      "outputs": [
        {
          "output_type": "execute_result",
          "data": {
            "text/plain": [
              "<matplotlib.axes._subplots.AxesSubplot at 0x7f2e616208d0>"
            ]
          },
          "metadata": {
            "tags": []
          },
          "execution_count": 27
        },
        {
          "output_type": "display_data",
          "data": {
            "image/png": "[encoded data removed]",
            "text/plain": [
              "<Figure size 432x288 with 1 Axes>"
            ]
          },
          "metadata": {
            "tags": [],
            "needs_background": "light"
          }
        }
      ]
    },
    {
      "cell_type": "code",
      "metadata": {
        "colab": {
          "base_uri": "https://localhost:8080/",
          "height": 297
        },
        "id": "2J3dkVaNMbjU",
        "outputId": "5b271d9c-ec2e-4cd1-9bef-b699978b39e1"
      },
      "source": [
        "sns.countplot(y='paint_color', data=df.fillna('n/a'), order=df.fillna('n/a')['paint_color'].value_counts().index)"
      ],
      "execution_count": null,
      "outputs": [
        {
          "output_type": "execute_result",
          "data": {
            "text/plain": [
              "<matplotlib.axes._subplots.AxesSubplot at 0x7f2e61e0cfd0>"
            ]
          },
          "metadata": {
            "tags": []
          },
          "execution_count": 28
        },
        {
          "output_type": "display_data",
          "data": {
            "image/png": "[encoded data removed]",
            "text/plain": [
              "<Figure size 432x288 with 1 Axes>"
            ]
          },
          "metadata": {
            "tags": [],
            "needs_background": "light"
          }
        }
      ]
    },
    {
      "cell_type": "markdown",
      "metadata": {
        "id": "OrR01CJDMbmp"
      },
      "source": [
        "#### 수치형 데이터 통계분석"
      ]
    },
    {
      "cell_type": "code",
      "metadata": {
        "colab": {
          "base_uri": "https://localhost:8080/"
        },
        "id": "TwBfpN3LMbpz",
        "outputId": "b7d8a4ff-aa73-44cb-e8c7-68ec68912e53"
      },
      "source": [
        "df.columns"
      ],
      "execution_count": null,
      "outputs": [
        {
          "output_type": "execute_result",
          "data": {
            "text/plain": [
              "Index(['region', 'price', 'manufacturer', 'model', 'condition', 'cylinders',\n",
              "       'fuel', 'odometer', 'title_status', 'transmission', 'drive', 'size',\n",
              "       'type', 'paint_color', 'age'],\n",
              "      dtype='object')"
            ]
          },
          "metadata": {
            "tags": []
          },
          "execution_count": 29
        }
      ]
    },
    {
      "cell_type": "code",
      "metadata": {
        "colab": {
          "base_uri": "https://localhost:8080/",
          "height": 189
        },
        "id": "q91XGL9XMbtI",
        "outputId": "406a1a4e-5cdc-4b99-f007-3d6ae1779cd4"
      },
      "source": [
        "fig = plt.figure(figsize=(8, 2))\n",
        "sns.rugplot(x='price', data=df, height=1)"
      ],
      "execution_count": null,
      "outputs": [
        {
          "output_type": "execute_result",
          "data": {
            "text/plain": [
              "<matplotlib.axes._subplots.AxesSubplot at 0x7f2e610c8110>"
            ]
          },
          "metadata": {
            "tags": []
          },
          "execution_count": 30
        },
        {
          "output_type": "display_data",
          "data": {
            "image/png": "[encoded data removed]",
            "text/plain": [
              "<Figure size 576x144 with 1 Axes>"
            ]
          },
          "metadata": {
            "tags": [],
            "needs_background": "light"
          }
        }
      ]
    },
    {
      "cell_type": "code",
      "metadata": {
        "colab": {
          "base_uri": "https://localhost:8080/",
          "height": 189
        },
        "id": "d4aQ6Ik9MbwS",
        "outputId": "869288ca-ed38-430b-d3b8-e481a0377d1f"
      },
      "source": [
        "fig = plt.figure(figsize=(8, 2))\n",
        "sns.rugplot(x='odometer', data=df, height=1)"
      ],
      "execution_count": null,
      "outputs": [
        {
          "output_type": "execute_result",
          "data": {
            "text/plain": [
              "<matplotlib.axes._subplots.AxesSubplot at 0x7f2e610c8c90>"
            ]
          },
          "metadata": {
            "tags": []
          },
          "execution_count": 31
        },
        {
          "output_type": "display_data",
          "data": {
            "image/png": "[encoded data removed]",
            "text/plain": [
              "<Figure size 576x144 with 1 Axes>"
            ]
          },
          "metadata": {
            "tags": [],
            "needs_background": "light"
          }
        }
      ]
    },
    {
      "cell_type": "code",
      "metadata": {
        "colab": {
          "base_uri": "https://localhost:8080/",
          "height": 297
        },
        "id": "YU3EQpq-Mbzd",
        "outputId": "fd259750-12f2-44a3-eea4-2f69bbcbc709"
      },
      "source": [
        "sns.histplot(x='age', data=df, bins=18, kde=True)"
      ],
      "execution_count": null,
      "outputs": [
        {
          "output_type": "execute_result",
          "data": {
            "text/plain": [
              "<matplotlib.axes._subplots.AxesSubplot at 0x7f2e3cd1fe10>"
            ]
          },
          "metadata": {
            "tags": []
          },
          "execution_count": 32
        },
        {
          "output_type": "display_data",
          "data": {
            "image/png": "[encoded data removed]",
            "text/plain": [
              "<Figure size 432x288 with 1 Axes>"
            ]
          },
          "metadata": {
            "tags": [],
            "needs_background": "light"
          }
        }
      ]
    },
    {
      "cell_type": "markdown",
      "metadata": {
        "id": "xIstUUi4Mb2n"
      },
      "source": [
        "#### 데이터 클리닝 수행"
      ]
    },
    {
      "cell_type": "code",
      "metadata": {
        "colab": {
          "base_uri": "https://localhost:8080/"
        },
        "id": "vgfpRSE5Mb5d",
        "outputId": "27150918-53ed-4be7-871c-b5781109f4ca"
      },
      "source": [
        "df.columns"
      ],
      "execution_count": null,
      "outputs": [
        {
          "output_type": "execute_result",
          "data": {
            "text/plain": [
              "Index(['region', 'price', 'manufacturer', 'model', 'condition', 'cylinders',\n",
              "       'fuel', 'odometer', 'title_status', 'transmission', 'drive', 'size',\n",
              "       'type', 'paint_color', 'age'],\n",
              "      dtype='object')"
            ]
          },
          "metadata": {
            "tags": []
          },
          "execution_count": 33
        }
      ]
    },
    {
      "cell_type": "code",
      "metadata": {
        "colab": {
          "base_uri": "https://localhost:8080/",
          "height": 308
        },
        "id": "yHQlt0zxMb8f",
        "outputId": "cbf7332b-ccab-49aa-c3b4-620be9dcd210"
      },
      "source": [
        "sns.boxplot(x='manufacturer', y='price', data=df.fillna('n/a'))"
      ],
      "execution_count": null,
      "outputs": [
        {
          "output_type": "execute_result",
          "data": {
            "text/plain": [
              "<matplotlib.axes._subplots.AxesSubplot at 0x7f2e3ccaa0d0>"
            ]
          },
          "metadata": {
            "tags": []
          },
          "execution_count": 34
        },
        {
          "output_type": "display_data",
          "data": {
            "image/png": "[encoded data removed]",
            "text/plain": [
              "<Figure size 432x288 with 1 Axes>"
            ]
          },
          "metadata": {
            "tags": [],
            "needs_background": "light"
          }
        }
      ]
    },
    {
      "cell_type": "code",
      "metadata": {
        "colab": {
          "base_uri": "https://localhost:8080/",
          "height": 308
        },
        "id": "VA9fhngQMb_6",
        "outputId": "ef2ce968-b3b8-44cf-b420-3e6ed2409095"
      },
      "source": [
        "sns.boxplot(x='fuel', y='price', data=df.fillna('n/a'))"
      ],
      "execution_count": null,
      "outputs": [
        {
          "output_type": "execute_result",
          "data": {
            "text/plain": [
              "<matplotlib.axes._subplots.AxesSubplot at 0x7f2e3c056090>"
            ]
          },
          "metadata": {
            "tags": []
          },
          "execution_count": 35
        },
        {
          "output_type": "display_data",
          "data": {
            "image/png": "[encoded data removed]",
            "text/plain": [
              "<Figure size 432x288 with 1 Axes>"
            ]
          },
          "metadata": {
            "tags": [],
            "needs_background": "light"
          }
        }
      ]
    },
    {
      "cell_type": "code",
      "metadata": {
        "colab": {
          "base_uri": "https://localhost:8080/"
        },
        "id": "mPPaxWFdMcCy",
        "outputId": "28f4d380-1de8-4227-971c-b30553b55a97"
      },
      "source": [
        "# 범주형 데이터를 아래 방법 중 적절히 판단하여 처리하기\n",
        "# 1. 결손 데이터가 포함된 Row를 제거\n",
        "# 2. 결손 데이터를 others 범주로 변경하기\n",
        "# 3. 지나치게 소수로 이루어진 범주를 others 범주로 변경하기\n",
        "# (4. Classifier를 학습해서, 결손 데이터를 추정하여 채워넣기)\n",
        "df.columns"
      ],
      "execution_count": null,
      "outputs": [
        {
          "output_type": "execute_result",
          "data": {
            "text/plain": [
              "Index(['region', 'price', 'manufacturer', 'model', 'condition', 'cylinders',\n",
              "       'fuel', 'odometer', 'title_status', 'transmission', 'drive', 'size',\n",
              "       'type', 'paint_color', 'age'],\n",
              "      dtype='object')"
            ]
          },
          "metadata": {
            "tags": []
          },
          "execution_count": 36
        }
      ]
    },
    {
      "cell_type": "code",
      "metadata": {
        "id": "e8iTXA_zMcF5"
      },
      "source": [
        "df.drop('title_status', axis=1, inplace=True)"
      ],
      "execution_count": null,
      "outputs": []
    },
    {
      "cell_type": "code",
      "metadata": {
        "colab": {
          "base_uri": "https://localhost:8080/",
          "height": 283
        },
        "id": "xqJv_qwtMcJF",
        "outputId": "92bb9503-1244-47b2-906a-48e7177679b2"
      },
      "source": [
        "col = 'manufacturer'\n",
        "counts = df[col].fillna('others').value_counts()\n",
        "plt.grid()\n",
        "plt.plot(range(len(counts)), counts)"
      ],
      "execution_count": null,
      "outputs": [
        {
          "output_type": "execute_result",
          "data": {
            "text/plain": [
              "[<matplotlib.lines.Line2D at 0x7f2e3c3c66d0>]"
            ]
          },
          "metadata": {
            "tags": []
          },
          "execution_count": 38
        },
        {
          "output_type": "display_data",
          "data": {
            "image/png": "[encoded data removed]",
            "text/plain": [
              "<Figure size 432x288 with 1 Axes>"
            ]
          },
          "metadata": {
            "tags": [],
            "needs_background": "light"
          }
        }
      ]
    },
    {
      "cell_type": "code",
      "metadata": {
        "id": "_2VS5LDZMcMQ"
      },
      "source": [
        "n_categorical = 12\n",
        "others = counts.index[n_categorical:] \n",
        "# 12개에 속해 있으면, others 아니면, 그냥 그대로 index 유지.\n",
        "df[col] = df[col].apply(lambda s: s if str(s) not in others else 'others')"
      ],
      "execution_count": null,
      "outputs": []
    },
    {
      "cell_type": "code",
      "metadata": {
        "colab": {
          "base_uri": "https://localhost:8080/"
        },
        "id": "TdqVYMFGMcQE",
        "outputId": "bfb801b9-33bd-43f0-c94f-92b1b812de62"
      },
      "source": [
        "df[col].value_counts()"
      ],
      "execution_count": null,
      "outputs": [
        {
          "output_type": "execute_result",
          "data": {
            "text/plain": [
              "others       111065\n",
              "ford          79666\n",
              "chevrolet     64977\n",
              "toyota        38577\n",
              "honda         25868\n",
              "nissan        23654\n",
              "jeep          21165\n",
              "ram           17697\n",
              "gmc           17267\n",
              "dodge         16730\n",
              "bmw           12352\n",
              "hyundai       10975\n",
              "Name: manufacturer, dtype: int64"
            ]
          },
          "metadata": {
            "tags": []
          },
          "execution_count": 40
        }
      ]
    },
    {
      "cell_type": "code",
      "metadata": {
        "id": "8xYyqOgjMcTI"
      },
      "source": [
        "df[col].fillna('others', inplace=True)"
      ],
      "execution_count": null,
      "outputs": []
    },
    {
      "cell_type": "code",
      "metadata": {
        "colab": {
          "base_uri": "https://localhost:8080/",
          "height": 287
        },
        "id": "oovbmLfCMcWQ",
        "outputId": "1232acd2-dc78-4fd5-ad07-0e156612cf9e"
      },
      "source": [
        "col = 'region'\n",
        "counts = df[col].fillna('others').value_counts()\n",
        "plt.grid()\n",
        "plt.plot(range(len(counts)), counts)"
      ],
      "execution_count": null,
      "outputs": [
        {
          "output_type": "execute_result",
          "data": {
            "text/plain": [
              "[<matplotlib.lines.Line2D at 0x7f2e3a6ef250>]"
            ]
          },
          "metadata": {
            "tags": []
          },
          "execution_count": 42
        },
        {
          "output_type": "display_data",
          "data": {
            "image/png": "[encoded data removed]",
            "text/plain": [
              "<Figure size 432x288 with 1 Axes>"
            ]
          },
          "metadata": {
            "tags": [],
            "needs_background": "light"
          }
        }
      ]
    },
    {
      "cell_type": "code",
      "metadata": {
        "id": "2VbVq-1AOHbm"
      },
      "source": [
        "n_categorical = 5\n",
        "others = counts.index[n_categorical:]\n",
        "df[col] = df[col].apply(lambda s: s if str(s) not in others else 'others')"
      ],
      "execution_count": null,
      "outputs": []
    },
    {
      "cell_type": "code",
      "metadata": {
        "colab": {
          "base_uri": "https://localhost:8080/"
        },
        "id": "vYcW5Lx4OHgd",
        "outputId": "2e2a22aa-2fcc-4c74-8adc-0b22d66db385"
      },
      "source": [
        "df[col].value_counts()"
      ],
      "execution_count": null,
      "outputs": [
        {
          "output_type": "execute_result",
          "data": {
            "text/plain": [
              "others          441016\n",
              "columbus          3818\n",
              "rochester         3592\n",
              "jacksonville      3504\n",
              "springfield       3293\n",
              "fayetteville      2990\n",
              "Name: region, dtype: int64"
            ]
          },
          "metadata": {
            "tags": []
          },
          "execution_count": 44
        }
      ]
    },
    {
      "cell_type": "code",
      "metadata": {
        "id": "1nrl1oN1OHlD"
      },
      "source": [
        "df[col].fillna('others', inplace=True)"
      ],
      "execution_count": null,
      "outputs": []
    },
    {
      "cell_type": "code",
      "metadata": {
        "colab": {
          "base_uri": "https://localhost:8080/",
          "height": 283
        },
        "id": "n5x7TinNOHpf",
        "outputId": "50ec7bc8-b2ad-4e6c-d8e1-31633d7111e3"
      },
      "source": [
        "col = 'model'\n",
        "counts = df[col].fillna('others').value_counts()\n",
        "plt.grid()\n",
        "plt.plot(range(len(counts[:20])), counts[:20])"
      ],
      "execution_count": null,
      "outputs": [
        {
          "output_type": "execute_result",
          "data": {
            "text/plain": [
              "[<matplotlib.lines.Line2D at 0x7f2e3baff6d0>]"
            ]
          },
          "metadata": {
            "tags": []
          },
          "execution_count": 46
        },
        {
          "output_type": "display_data",
          "data": {
            "image/png": "[encoded data removed]",
            "text/plain": [
              "<Figure size 432x288 with 1 Axes>"
            ]
          },
          "metadata": {
            "tags": [],
            "needs_background": "light"
          }
        }
      ]
    },
    {
      "cell_type": "code",
      "metadata": {
        "id": "L6YJkr4jOHtC"
      },
      "source": [
        "n_categorical = 10\n",
        "others = counts.index[n_categorical:] \n",
        "df[col] = df[col].apply(lambda s: s if str(s) not in others else 'others')"
      ],
      "execution_count": null,
      "outputs": []
    },
    {
      "cell_type": "code",
      "metadata": {
        "colab": {
          "base_uri": "https://localhost:8080/"
        },
        "id": "nOoByBWUOHxf",
        "outputId": "62992709-83fc-4558-a1d8-156fffbe97a2"
      },
      "source": [
        "df[col].value_counts()"
      ],
      "execution_count": null,
      "outputs": [
        {
          "output_type": "execute_result",
          "data": {
            "text/plain": [
              "others            413556\n",
              "f-150               8370\n",
              "silverado 1500      5964\n",
              "1500                4211\n",
              "camry               4033\n",
              "accord              3730\n",
              "altima              3490\n",
              "civic               3479\n",
              "escape              3444\n",
              "silverado           3090\n",
              "Name: model, dtype: int64"
            ]
          },
          "metadata": {
            "tags": []
          },
          "execution_count": 48
        }
      ]
    },
    {
      "cell_type": "code",
      "metadata": {
        "id": "cF8anyreOH0R"
      },
      "source": [
        "df[col].fillna('others', inplace=True)"
      ],
      "execution_count": null,
      "outputs": []
    },
    {
      "cell_type": "code",
      "metadata": {
        "colab": {
          "base_uri": "https://localhost:8080/",
          "height": 285
        },
        "id": "7MaEtIxzOH2-",
        "outputId": "7da8077c-8874-42ba-82c2-b7e1e4c74374"
      },
      "source": [
        "col = 'condition'\n",
        "counts = df[col].fillna('others').value_counts()\n",
        "plt.grid()\n",
        "plt.plot(range(len(counts)), counts)"
      ],
      "execution_count": null,
      "outputs": [
        {
          "output_type": "execute_result",
          "data": {
            "text/plain": [
              "[<matplotlib.lines.Line2D at 0x7f2e3b322950>]"
            ]
          },
          "metadata": {
            "tags": []
          },
          "execution_count": 50
        },
        {
          "output_type": "display_data",
          "data": {
            "image/png": "[encoded data removed]",
            "text/plain": [
              "<Figure size 432x288 with 1 Axes>"
            ]
          },
          "metadata": {
            "tags": [],
            "needs_background": "light"
          }
        }
      ]
    },
    {
      "cell_type": "code",
      "metadata": {
        "id": "3m5xEOjMOH8D"
      },
      "source": [
        "n_categorical = 3\n",
        "others = counts.index[n_categorical:] \n",
        "df[col] = df[col].apply(lambda s: s if str(s) not in others else 'others')"
      ],
      "execution_count": null,
      "outputs": []
    },
    {
      "cell_type": "code",
      "metadata": {
        "colab": {
          "base_uri": "https://localhost:8080/"
        },
        "id": "aZ-o-MBlOIAl",
        "outputId": "6de8e478-daa7-4335-e8be-67240e92e7eb"
      },
      "source": [
        "df[col].value_counts()"
      ],
      "execution_count": null,
      "outputs": [
        {
          "output_type": "execute_result",
          "data": {
            "text/plain": [
              "good         115685\n",
              "excellent    115206\n",
              "others        34382\n",
              "Name: condition, dtype: int64"
            ]
          },
          "metadata": {
            "tags": []
          },
          "execution_count": 52
        }
      ]
    },
    {
      "cell_type": "code",
      "metadata": {
        "id": "hYb-RflZOIGS"
      },
      "source": [
        "df[col].fillna('others', inplace=True)"
      ],
      "execution_count": null,
      "outputs": []
    },
    {
      "cell_type": "code",
      "metadata": {
        "colab": {
          "base_uri": "https://localhost:8080/",
          "height": 283
        },
        "id": "nLCY0lbnMcZv",
        "outputId": "5799be1d-0450-4577-aa04-9b12963cae4a"
      },
      "source": [
        "col = 'cylinders'\n",
        "counts = df[col].fillna('others').value_counts()\n",
        "plt.grid()\n",
        "plt.plot(range(len(counts)), counts)"
      ],
      "execution_count": null,
      "outputs": [
        {
          "output_type": "execute_result",
          "data": {
            "text/plain": [
              "[<matplotlib.lines.Line2D at 0x7f2e3bcbac50>]"
            ]
          },
          "metadata": {
            "tags": []
          },
          "execution_count": 54
        },
        {
          "output_type": "display_data",
          "data": {
            "image/png": "[encoded data removed]",
            "text/plain": [
              "<Figure size 432x288 with 1 Axes>"
            ]
          },
          "metadata": {
            "tags": [],
            "needs_background": "light"
          }
        }
      ]
    },
    {
      "cell_type": "code",
      "metadata": {
        "id": "3qtF2Mg6McdQ"
      },
      "source": [
        "n_categorical = 4\n",
        "others = counts.index[n_categorical:] \n",
        "df[col] = df[col].apply(lambda s: s if str(s) not in others else 'others')"
      ],
      "execution_count": null,
      "outputs": []
    },
    {
      "cell_type": "code",
      "metadata": {
        "colab": {
          "base_uri": "https://localhost:8080/"
        },
        "id": "ANuDjLU7Oswd",
        "outputId": "32c01272-4cbb-45d3-ac72-c1b4a2b39f54"
      },
      "source": [
        "df[col].value_counts()"
      ],
      "execution_count": null,
      "outputs": [
        {
          "output_type": "execute_result",
          "data": {
            "text/plain": [
              "6 cylinders    105677\n",
              "4 cylinders     94767\n",
              "8 cylinders     81179\n",
              "others           5450\n",
              "Name: cylinders, dtype: int64"
            ]
          },
          "metadata": {
            "tags": []
          },
          "execution_count": 56
        }
      ]
    },
    {
      "cell_type": "code",
      "metadata": {
        "id": "jkNbKgvnOs4B"
      },
      "source": [
        "df[col].fillna('others', inplace=True)"
      ],
      "execution_count": null,
      "outputs": []
    },
    {
      "cell_type": "code",
      "metadata": {
        "colab": {
          "base_uri": "https://localhost:8080/",
          "height": 283
        },
        "id": "fxJFs3tDOs_8",
        "outputId": "d6964d0a-2cf7-43b7-b68d-43412de2dae4"
      },
      "source": [
        "col = 'fuel'\n",
        "counts = df[col].fillna('others').value_counts()\n",
        "plt.grid()\n",
        "plt.plot(range(len(counts)), counts)"
      ],
      "execution_count": null,
      "outputs": [
        {
          "output_type": "execute_result",
          "data": {
            "text/plain": [
              "[<matplotlib.lines.Line2D at 0x7f2e3b025590>]"
            ]
          },
          "metadata": {
            "tags": []
          },
          "execution_count": 58
        },
        {
          "output_type": "display_data",
          "data": {
            "image/png": "[encoded data removed]",
            "text/plain": [
              "<Figure size 432x288 with 1 Axes>"
            ]
          },
          "metadata": {
            "tags": [],
            "needs_background": "light"
          }
        }
      ]
    },
    {
      "cell_type": "code",
      "metadata": {
        "id": "aoZTFEZzOtHs"
      },
      "source": [
        "n_categorical = 3\n",
        "others = counts.index[n_categorical:] \n",
        "df[col] = df[col].apply(lambda s: s if str(s) not in others else 'others')"
      ],
      "execution_count": null,
      "outputs": []
    },
    {
      "cell_type": "code",
      "metadata": {
        "colab": {
          "base_uri": "https://localhost:8080/"
        },
        "id": "5JTGFanEOtOE",
        "outputId": "81eb5e05-f45a-4728-d5ee-5f174b6b55d4"
      },
      "source": [
        "df[col].value_counts()"
      ],
      "execution_count": null,
      "outputs": [
        {
          "output_type": "execute_result",
          "data": {
            "text/plain": [
              "gas       399399\n",
              "diesel     31077\n",
              "other      16359\n",
              "others      8141\n",
              "Name: fuel, dtype: int64"
            ]
          },
          "metadata": {
            "tags": []
          },
          "execution_count": 60
        }
      ]
    },
    {
      "cell_type": "code",
      "metadata": {
        "id": "_kTRYyiHOtUe"
      },
      "source": [
        "df.loc[df[col] == 'other', col] = 'others'"
      ],
      "execution_count": null,
      "outputs": []
    },
    {
      "cell_type": "code",
      "metadata": {
        "colab": {
          "base_uri": "https://localhost:8080/"
        },
        "id": "ZNPCpsr-OtbD",
        "outputId": "94585116-989a-4509-9898-2f92528f0d50"
      },
      "source": [
        "df[col].value_counts()"
      ],
      "execution_count": null,
      "outputs": [
        {
          "output_type": "execute_result",
          "data": {
            "text/plain": [
              "gas       399399\n",
              "diesel     31077\n",
              "others     24500\n",
              "Name: fuel, dtype: int64"
            ]
          },
          "metadata": {
            "tags": []
          },
          "execution_count": 62
        }
      ]
    },
    {
      "cell_type": "code",
      "metadata": {
        "id": "4HAInLTTOtgB"
      },
      "source": [
        "df[col].fillna('others', inplace=True)"
      ],
      "execution_count": null,
      "outputs": []
    },
    {
      "cell_type": "code",
      "metadata": {
        "colab": {
          "base_uri": "https://localhost:8080/",
          "height": 283
        },
        "id": "8vHdXzaQOtkL",
        "outputId": "200db146-1108-4861-f3c1-8a229149e54f"
      },
      "source": [
        "col = 'transmission'\n",
        "counts = df[col].fillna('others').value_counts()\n",
        "plt.grid()\n",
        "plt.plot(range(len(counts)), counts)"
      ],
      "execution_count": null,
      "outputs": [
        {
          "output_type": "execute_result",
          "data": {
            "text/plain": [
              "[<matplotlib.lines.Line2D at 0x7f2e3bd424d0>]"
            ]
          },
          "metadata": {
            "tags": []
          },
          "execution_count": 64
        },
        {
          "output_type": "display_data",
          "data": {
            "image/png": "[encoded data removed]",
            "text/plain": [
              "<Figure size 432x288 with 1 Axes>"
            ]
          },
          "metadata": {
            "tags": [],
            "needs_background": "light"
          }
        }
      ]
    },
    {
      "cell_type": "code",
      "metadata": {
        "id": "JgZhMw2POtnl"
      },
      "source": [
        "n_categorical = 3\n",
        "others = counts.index[n_categorical:] \n",
        "df[col] = df[col].apply(lambda s: s if str(s) not in others else 'others')"
      ],
      "execution_count": null,
      "outputs": []
    },
    {
      "cell_type": "code",
      "metadata": {
        "colab": {
          "base_uri": "https://localhost:8080/"
        },
        "id": "2OdgpEoOOtrj",
        "outputId": "a14d7593-f4e6-41dd-dc6e-66baab82249b"
      },
      "source": [
        "df[col].value_counts()"
      ],
      "execution_count": null,
      "outputs": [
        {
          "output_type": "execute_result",
          "data": {
            "text/plain": [
              "automatic    396322\n",
              "other         32186\n",
              "manual        27263\n",
              "Name: transmission, dtype: int64"
            ]
          },
          "metadata": {
            "tags": []
          },
          "execution_count": 66
        }
      ]
    },
    {
      "cell_type": "code",
      "metadata": {
        "id": "OhHkOv64OtuE"
      },
      "source": [
        "df[col].fillna('others', inplace=True)"
      ],
      "execution_count": null,
      "outputs": []
    },
    {
      "cell_type": "code",
      "metadata": {
        "colab": {
          "base_uri": "https://localhost:8080/"
        },
        "id": "TrWv2ulZOtxK",
        "outputId": "d23472ff-167d-4e71-a20a-74643d289f65"
      },
      "source": [
        "df.columns"
      ],
      "execution_count": null,
      "outputs": [
        {
          "output_type": "execute_result",
          "data": {
            "text/plain": [
              "Index(['region', 'price', 'manufacturer', 'model', 'condition', 'cylinders',\n",
              "       'fuel', 'odometer', 'transmission', 'drive', 'size', 'type',\n",
              "       'paint_color', 'age'],\n",
              "      dtype='object')"
            ]
          },
          "metadata": {
            "tags": []
          },
          "execution_count": 68
        }
      ]
    },
    {
      "cell_type": "code",
      "metadata": {
        "colab": {
          "base_uri": "https://localhost:8080/",
          "height": 283
        },
        "id": "ZbjU4kZcOt02",
        "outputId": "3d7d14ce-0681-4072-91e6-893463a7a270"
      },
      "source": [
        "col = 'drive'\n",
        "counts = df[col].fillna('others').value_counts()\n",
        "plt.grid()\n",
        "plt.plot(range(len(counts)), counts)"
      ],
      "execution_count": null,
      "outputs": [
        {
          "output_type": "execute_result",
          "data": {
            "text/plain": [
              "[<matplotlib.lines.Line2D at 0x7f2e3b450b90>]"
            ]
          },
          "metadata": {
            "tags": []
          },
          "execution_count": 69
        },
        {
          "output_type": "display_data",
          "data": {
            "image/png": "[encoded data removed]",
            "text/plain": [
              "<Figure size 432x288 with 1 Axes>"
            ]
          },
          "metadata": {
            "tags": [],
            "needs_background": "light"
          }
        }
      ]
    },
    {
      "cell_type": "code",
      "metadata": {
        "id": "9FRXy-c7PQvz"
      },
      "source": [
        "df[col].fillna('others', inplace=True)"
      ],
      "execution_count": null,
      "outputs": []
    },
    {
      "cell_type": "code",
      "metadata": {
        "colab": {
          "base_uri": "https://localhost:8080/"
        },
        "id": "Pmva2Ha3PQ3T",
        "outputId": "a8b2b832-638f-4032-964a-5e37e16feccc"
      },
      "source": [
        "df[col].value_counts()"
      ],
      "execution_count": null,
      "outputs": [
        {
          "output_type": "execute_result",
          "data": {
            "text/plain": [
              "4wd       139693\n",
              "others    134188\n",
              "fwd       122602\n",
              "rwd        61730\n",
              "Name: drive, dtype: int64"
            ]
          },
          "metadata": {
            "tags": []
          },
          "execution_count": 71
        }
      ]
    },
    {
      "cell_type": "code",
      "metadata": {
        "colab": {
          "base_uri": "https://localhost:8080/",
          "height": 283
        },
        "id": "CqoS7sEtPQ8S",
        "outputId": "d8d0867d-f8e4-4442-cf1e-e96eda256120"
      },
      "source": [
        "col = 'size'\n",
        "counts = df[col].fillna('others').value_counts()\n",
        "plt.grid()\n",
        "plt.plot(range(len(counts)), counts) "
      ],
      "execution_count": null,
      "outputs": [
        {
          "output_type": "execute_result",
          "data": {
            "text/plain": [
              "[<matplotlib.lines.Line2D at 0x7f2e3bf19150>]"
            ]
          },
          "metadata": {
            "tags": []
          },
          "execution_count": 72
        },
        {
          "output_type": "display_data",
          "data": {
            "image/png": "[encoded data removed]",
            "text/plain": [
              "<Figure size 432x288 with 1 Axes>"
            ]
          },
          "metadata": {
            "tags": [],
            "needs_background": "light"
          }
        }
      ]
    },
    {
      "cell_type": "code",
      "metadata": {
        "id": "l-vbBN7LPRCU"
      },
      "source": [
        "n_categorical = 2\n",
        "others = counts.index[n_categorical:] \n",
        "df[col] = df[col].apply(lambda s: s if str(s) not in others else 'others')"
      ],
      "execution_count": null,
      "outputs": []
    },
    {
      "cell_type": "code",
      "metadata": {
        "colab": {
          "base_uri": "https://localhost:8080/"
        },
        "id": "e_mIEWWePRHS",
        "outputId": "729f2938-943d-48c4-bb6c-2b89ac6905e5"
      },
      "source": [
        "df[col].value_counts()"
      ],
      "execution_count": null,
      "outputs": [
        {
          "output_type": "execute_result",
          "data": {
            "text/plain": [
              "full-size    69736\n",
              "others       67129\n",
              "Name: size, dtype: int64"
            ]
          },
          "metadata": {
            "tags": []
          },
          "execution_count": 74
        }
      ]
    },
    {
      "cell_type": "code",
      "metadata": {
        "id": "4EkzBjDjPRM5"
      },
      "source": [
        "df[col].fillna('others', inplace=True)"
      ],
      "execution_count": null,
      "outputs": []
    },
    {
      "cell_type": "code",
      "metadata": {
        "colab": {
          "base_uri": "https://localhost:8080/",
          "height": 283
        },
        "id": "-fV2S8tyPRSl",
        "outputId": "458f0d57-3983-4b57-9ce5-b89cc127db0f"
      },
      "source": [
        "col = 'type'\n",
        "counts = df[col].fillna('others').value_counts()\n",
        "plt.grid()\n",
        "plt.plot(range(len(counts)), counts) "
      ],
      "execution_count": null,
      "outputs": [
        {
          "output_type": "execute_result",
          "data": {
            "text/plain": [
              "[<matplotlib.lines.Line2D at 0x7f2e3b6b5590>]"
            ]
          },
          "metadata": {
            "tags": []
          },
          "execution_count": 76
        },
        {
          "output_type": "display_data",
          "data": {
            "image/png": "[encoded data removed]",
            "text/plain": [
              "<Figure size 432x288 with 1 Axes>"
            ]
          },
          "metadata": {
            "tags": [],
            "needs_background": "light"
          }
        }
      ]
    },
    {
      "cell_type": "code",
      "metadata": {
        "id": "GMoETFoZPRWD"
      },
      "source": [
        "n_categorical = 8\n",
        "others = counts.index[n_categorical:] \n",
        "df[col] = df[col].apply(lambda s: s if str(s) not in others else 'others')"
      ],
      "execution_count": null,
      "outputs": []
    },
    {
      "cell_type": "code",
      "metadata": {
        "colab": {
          "base_uri": "https://localhost:8080/"
        },
        "id": "0O1vF5wRPRbw",
        "outputId": "c8c6123f-81a6-4297-b5fa-e5aad7d891a4"
      },
      "source": [
        "df[col].value_counts()"
      ],
      "execution_count": null,
      "outputs": [
        {
          "output_type": "execute_result",
          "data": {
            "text/plain": [
              "sedan        92364\n",
              "SUV          79882\n",
              "pickup       43343\n",
              "truck        35694\n",
              "others       34538\n",
              "other        24160\n",
              "coupe        19106\n",
              "hatchback    16388\n",
              "Name: type, dtype: int64"
            ]
          },
          "metadata": {
            "tags": []
          },
          "execution_count": 78
        }
      ]
    },
    {
      "cell_type": "code",
      "metadata": {
        "id": "2I_L2fbNPRgH"
      },
      "source": [
        "df.loc[df[col] == 'other', col] = 'others'"
      ],
      "execution_count": null,
      "outputs": []
    },
    {
      "cell_type": "code",
      "metadata": {
        "id": "QylTalz2PRkI"
      },
      "source": [
        "df[col].fillna('others', inplace=True)"
      ],
      "execution_count": null,
      "outputs": []
    },
    {
      "cell_type": "code",
      "metadata": {
        "colab": {
          "base_uri": "https://localhost:8080/",
          "height": 283
        },
        "id": "PLC5VO3MPRoS",
        "outputId": "eaf868f1-6d10-4e4b-851a-09f3ba9334e2"
      },
      "source": [
        "col = 'paint_color'\n",
        "counts = df[col].fillna('others').value_counts()\n",
        "plt.grid()\n",
        "plt.plot(range(len(counts)), counts) "
      ],
      "execution_count": null,
      "outputs": [
        {
          "output_type": "execute_result",
          "data": {
            "text/plain": [
              "[<matplotlib.lines.Line2D at 0x7f2e3bd87890>]"
            ]
          },
          "metadata": {
            "tags": []
          },
          "execution_count": 81
        },
        {
          "output_type": "display_data",
          "data": {
            "image/png": "[encoded data removed]",
            "text/plain": [
              "<Figure size 432x288 with 1 Axes>"
            ]
          },
          "metadata": {
            "tags": [],
            "needs_background": "light"
          }
        }
      ]
    },
    {
      "cell_type": "code",
      "metadata": {
        "id": "ZfJ22GZ1PRsO"
      },
      "source": [
        "n_categorical = 7\n",
        "others = counts.index[n_categorical:] \n",
        "df[col] = df[col].apply(lambda s: s if str(s) not in others else 'others')"
      ],
      "execution_count": null,
      "outputs": []
    },
    {
      "cell_type": "code",
      "metadata": {
        "colab": {
          "base_uri": "https://localhost:8080/"
        },
        "id": "CLhXtdjfPRui",
        "outputId": "b80bc0b4-7fa9-4c22-dbb8-313a772814b5"
      },
      "source": [
        "df[col].value_counts()"
      ],
      "execution_count": null,
      "outputs": [
        {
          "output_type": "execute_result",
          "data": {
            "text/plain": [
              "white     82786\n",
              "black     64145\n",
              "silver    46722\n",
              "red       33274\n",
              "blue      32746\n",
              "grey      30455\n",
              "others    27242\n",
              "Name: paint_color, dtype: int64"
            ]
          },
          "metadata": {
            "tags": []
          },
          "execution_count": 83
        }
      ]
    },
    {
      "cell_type": "code",
      "metadata": {
        "id": "fPZoj7CjPRyc"
      },
      "source": [
        "df.loc[df[col] == 'other', col] = 'others'"
      ],
      "execution_count": null,
      "outputs": []
    },
    {
      "cell_type": "code",
      "metadata": {
        "id": "YbNMg2UuP30M"
      },
      "source": [
        "df[col].fillna('others', inplace=True)"
      ],
      "execution_count": null,
      "outputs": []
    },
    {
      "cell_type": "markdown",
      "metadata": {
        "id": "njzqHnp_P4WV"
      },
      "source": [
        "#### 수치형데이터 클리닝"
      ]
    },
    {
      "cell_type": "code",
      "metadata": {
        "colab": {
          "base_uri": "https://localhost:8080/"
        },
        "id": "YvW1djfAP4dA",
        "outputId": "6ab4a94a-e8df-4634-acb2-4e3f628fd4aa"
      },
      "source": [
        "p1 = df['price'].quantile(0.99) # 상위 1%\n",
        "p2 = df['price'].quantile(0.1) # 하위 10%\n",
        "print(p1, p2)\n",
        "# 아웃라이어 제거"
      ],
      "execution_count": null,
      "outputs": [
        {
          "output_type": "stream",
          "text": [
            "59900.0 651.0\n"
          ],
          "name": "stdout"
        }
      ]
    },
    {
      "cell_type": "code",
      "metadata": {
        "id": "izmhbG0nP4hB"
      },
      "source": [
        "df = df[(p1 > df['price']) & (df['price'] > p2)]"
      ],
      "execution_count": null,
      "outputs": []
    },
    {
      "cell_type": "code",
      "metadata": {
        "colab": {
          "base_uri": "https://localhost:8080/"
        },
        "id": "JLtgI5pgP4lm",
        "outputId": "fa801382-2675-4f68-8ad5-72356136d935"
      },
      "source": [
        "o1 = df['odometer'].quantile(0.99)\n",
        "o2 = df['odometer'].quantile(0.1)\n",
        "print(o1, o2)"
      ],
      "execution_count": null,
      "outputs": [
        {
          "output_type": "stream",
          "text": [
            "272803.10999999824 18593.0\n"
          ],
          "name": "stdout"
        }
      ]
    },
    {
      "cell_type": "code",
      "metadata": {
        "id": "4CtjMzBBP4rj"
      },
      "source": [
        "df = df[(o1 > df['odometer']) & (df['odometer'] > o2)]"
      ],
      "execution_count": null,
      "outputs": []
    },
    {
      "cell_type": "code",
      "metadata": {
        "colab": {
          "base_uri": "https://localhost:8080/",
          "height": 288
        },
        "id": "3qVb4GAwP4u6",
        "outputId": "35475968-0be5-4ff0-8fda-a87377a5fdb8"
      },
      "source": [
        "df.describe()"
      ],
      "execution_count": null,
      "outputs": [
        {
          "output_type": "execute_result",
          "data": {
            "text/html": [
              "<div>\n",
              "<style scoped>\n",
              "    .dataframe tbody tr th:only-of-type {\n",
              "        vertical-align: middle;\n",
              "    }\n",
              "\n",
              "    .dataframe tbody tr th {\n",
              "        vertical-align: top;\n",
              "    }\n",
              "\n",
              "    .dataframe thead th {\n",
              "        text-align: right;\n",
              "    }\n",
              "</style>\n",
              "<table border=\"1\" class=\"dataframe\">\n",
              "  <thead>\n",
              "    <tr style=\"text-align: right;\">\n",
              "      <th></th>\n",
              "      <th>price</th>\n",
              "      <th>odometer</th>\n",
              "      <th>age</th>\n",
              "    </tr>\n",
              "  </thead>\n",
              "  <tbody>\n",
              "    <tr>\n",
              "      <th>count</th>\n",
              "      <td>322166.000000</td>\n",
              "      <td>322166.000000</td>\n",
              "      <td>321666.000000</td>\n",
              "    </tr>\n",
              "    <tr>\n",
              "      <th>mean</th>\n",
              "      <td>15211.239072</td>\n",
              "      <td>103341.828089</td>\n",
              "      <td>10.220235</td>\n",
              "    </tr>\n",
              "    <tr>\n",
              "      <th>std</th>\n",
              "      <td>11248.543565</td>\n",
              "      <td>55049.524247</td>\n",
              "      <td>7.071633</td>\n",
              "    </tr>\n",
              "    <tr>\n",
              "      <th>min</th>\n",
              "      <td>652.000000</td>\n",
              "      <td>18596.000000</td>\n",
              "      <td>0.000000</td>\n",
              "    </tr>\n",
              "    <tr>\n",
              "      <th>25%</th>\n",
              "      <td>6500.000000</td>\n",
              "      <td>57454.000000</td>\n",
              "      <td>6.000000</td>\n",
              "    </tr>\n",
              "    <tr>\n",
              "      <th>50%</th>\n",
              "      <td>12000.000000</td>\n",
              "      <td>98850.000000</td>\n",
              "      <td>9.000000</td>\n",
              "    </tr>\n",
              "    <tr>\n",
              "      <th>75%</th>\n",
              "      <td>20990.000000</td>\n",
              "      <td>141000.000000</td>\n",
              "      <td>13.000000</td>\n",
              "    </tr>\n",
              "    <tr>\n",
              "      <th>max</th>\n",
              "      <td>59895.000000</td>\n",
              "      <td>272742.000000</td>\n",
              "      <td>121.000000</td>\n",
              "    </tr>\n",
              "  </tbody>\n",
              "</table>\n",
              "</div>"
            ],
            "text/plain": [
              "               price       odometer            age\n",
              "count  322166.000000  322166.000000  321666.000000\n",
              "mean    15211.239072  103341.828089      10.220235\n",
              "std     11248.543565   55049.524247       7.071633\n",
              "min       652.000000   18596.000000       0.000000\n",
              "25%      6500.000000   57454.000000       6.000000\n",
              "50%     12000.000000   98850.000000       9.000000\n",
              "75%     20990.000000  141000.000000      13.000000\n",
              "max     59895.000000  272742.000000     121.000000"
            ]
          },
          "metadata": {
            "tags": []
          },
          "execution_count": 90
        }
      ]
    },
    {
      "cell_type": "code",
      "metadata": {
        "colab": {
          "base_uri": "https://localhost:8080/"
        },
        "id": "patmJ8U2P4zt",
        "outputId": "e02ae65e-4b3c-4873-aeba-58585fc02303"
      },
      "source": [
        "df.columns"
      ],
      "execution_count": null,
      "outputs": [
        {
          "output_type": "execute_result",
          "data": {
            "text/plain": [
              "Index(['region', 'price', 'manufacturer', 'model', 'condition', 'cylinders',\n",
              "       'fuel', 'odometer', 'transmission', 'drive', 'size', 'type',\n",
              "       'paint_color', 'age'],\n",
              "      dtype='object')"
            ]
          },
          "metadata": {
            "tags": []
          },
          "execution_count": 91
        }
      ]
    },
    {
      "cell_type": "code",
      "metadata": {
        "colab": {
          "base_uri": "https://localhost:8080/",
          "height": 352
        },
        "id": "AmwyvVwcP426",
        "outputId": "a900aa61-8cde-4dbe-e8a5-3518fe3f6e65"
      },
      "source": [
        "fig = plt.figure(figsize=(10, 5))\n",
        "sns.boxplot(x='manufacturer', y='price', data=df)"
      ],
      "execution_count": null,
      "outputs": [
        {
          "output_type": "execute_result",
          "data": {
            "text/plain": [
              "<matplotlib.axes._subplots.AxesSubplot at 0x7f2e3b469850>"
            ]
          },
          "metadata": {
            "tags": []
          },
          "execution_count": 92
        },
        {
          "output_type": "display_data",
          "data": {
            "image/png": "[encoded data removed]",
            "text/plain": [
              "<Figure size 720x360 with 1 Axes>"
            ]
          },
          "metadata": {
            "tags": [],
            "needs_background": "light"
          }
        }
      ]
    },
    {
      "cell_type": "code",
      "metadata": {
        "colab": {
          "base_uri": "https://localhost:8080/",
          "height": 352
        },
        "id": "2cjqOmodP482",
        "outputId": "1f1bb1ff-85af-49dd-fb49-afb1f461b7a0"
      },
      "source": [
        "fig = plt.figure(figsize=(14, 5))\n",
        "sns.boxplot(x='model', y='price', data=df)"
      ],
      "execution_count": null,
      "outputs": [
        {
          "output_type": "execute_result",
          "data": {
            "text/plain": [
              "<matplotlib.axes._subplots.AxesSubplot at 0x7f2e3a6cde10>"
            ]
          },
          "metadata": {
            "tags": []
          },
          "execution_count": 93
        },
        {
          "output_type": "display_data",
          "data": {
            "image/png": "[encoded data removed]",
            "text/plain": [
              "<Figure size 1008x360 with 1 Axes>"
            ]
          },
          "metadata": {
            "tags": [],
            "needs_background": "light"
          }
        }
      ]
    },
    {
      "cell_type": "markdown",
      "metadata": {
        "id": "KfYRu1NfP4-E"
      },
      "source": [
        "#### 칼럽간의 히트맵 시각화"
      ]
    },
    {
      "cell_type": "code",
      "metadata": {
        "colab": {
          "base_uri": "https://localhost:8080/",
          "height": 287
        },
        "id": "TB2tvJq9P4_r",
        "outputId": "4eb1dd6f-846f-437d-e682-a3c3eb89cd3c"
      },
      "source": [
        "sns.heatmap(df.corr(), annot=True, cmap='YlOrRd')"
      ],
      "execution_count": null,
      "outputs": [
        {
          "output_type": "execute_result",
          "data": {
            "text/plain": [
              "<matplotlib.axes._subplots.AxesSubplot at 0x7f2e3ab57890>"
            ]
          },
          "metadata": {
            "tags": []
          },
          "execution_count": 94
        },
        {
          "output_type": "display_data",
          "data": {
            "image/png": "[encoded data removed]",
            "text/plain": [
              "<Figure size 432x288 with 2 Axes>"
            ]
          },
          "metadata": {
            "tags": [],
            "needs_background": "light"
          }
        }
      ]
    },
    {
      "cell_type": "markdown",
      "metadata": {
        "id": "GKnkXGDcP5GG"
      },
      "source": [
        "### Step 2. 모델 학습을 위한 전처리"
      ]
    },
    {
      "cell_type": "markdown",
      "metadata": {
        "id": "GbKCWfOGRGLc"
      },
      "source": [
        "#### MinMaxScaler를 이용해 수치형 데이터 표준화하기"
      ]
    },
    {
      "cell_type": "code",
      "metadata": {
        "id": "Up42jsthRGQK"
      },
      "source": [
        "\n",
        "\n",
        "X_num = df[['odometer', 'age']]\n",
        "\n",
        "scaler = MinMaxScaler()\n",
        "scaler.fit(X_num)\n",
        "X_scaled = scaler.transform(X_num)\n",
        "X_scaled = pd.DataFrame(X_scaled, index=X_num.index, columns=X_num.columns)\n",
        "\n",
        "# get_dummies를 이용해 범주형 데이터를 one-hot 벡터로 변경\n",
        "X_cat = df.drop(['price', 'odometer', 'age'], axis=1)\n",
        "X_cat = pd.get_dummies(X_cat) \n",
        "\n",
        "# 입출력 데이터 통합하기\n",
        "X = pd.concat([X_scaled, X_cat], axis=1)\n",
        "y = df['price']"
      ],
      "execution_count": null,
      "outputs": []
    },
    {
      "cell_type": "code",
      "metadata": {
        "colab": {
          "base_uri": "https://localhost:8080/",
          "height": 235
        },
        "id": "ArpeuewHRGUQ",
        "outputId": "762d057c-86fb-43d9-bec4-3f3ec521685b"
      },
      "source": [
        "X.head()"
      ],
      "execution_count": null,
      "outputs": [
        {
          "output_type": "execute_result",
          "data": {
            "text/html": [
              "<div>\n",
              "<style scoped>\n",
              "    .dataframe tbody tr th:only-of-type {\n",
              "        vertical-align: middle;\n",
              "    }\n",
              "\n",
              "    .dataframe tbody tr th {\n",
              "        vertical-align: top;\n",
              "    }\n",
              "\n",
              "    .dataframe thead th {\n",
              "        text-align: right;\n",
              "    }\n",
              "</style>\n",
              "<table border=\"1\" class=\"dataframe\">\n",
              "  <thead>\n",
              "    <tr style=\"text-align: right;\">\n",
              "      <th></th>\n",
              "      <th>odometer</th>\n",
              "      <th>age</th>\n",
              "      <th>region_columbus</th>\n",
              "      <th>region_fayetteville</th>\n",
              "      <th>region_jacksonville</th>\n",
              "      <th>region_others</th>\n",
              "      <th>region_rochester</th>\n",
              "      <th>region_springfield</th>\n",
              "      <th>manufacturer_bmw</th>\n",
              "      <th>manufacturer_chevrolet</th>\n",
              "      <th>manufacturer_dodge</th>\n",
              "      <th>manufacturer_ford</th>\n",
              "      <th>manufacturer_gmc</th>\n",
              "      <th>manufacturer_honda</th>\n",
              "      <th>manufacturer_hyundai</th>\n",
              "      <th>manufacturer_jeep</th>\n",
              "      <th>manufacturer_nissan</th>\n",
              "      <th>manufacturer_others</th>\n",
              "      <th>manufacturer_ram</th>\n",
              "      <th>manufacturer_toyota</th>\n",
              "      <th>model_1500</th>\n",
              "      <th>model_accord</th>\n",
              "      <th>model_altima</th>\n",
              "      <th>model_camry</th>\n",
              "      <th>model_civic</th>\n",
              "      <th>model_escape</th>\n",
              "      <th>model_f-150</th>\n",
              "      <th>model_others</th>\n",
              "      <th>model_silverado</th>\n",
              "      <th>model_silverado 1500</th>\n",
              "      <th>condition_excellent</th>\n",
              "      <th>condition_good</th>\n",
              "      <th>condition_others</th>\n",
              "      <th>cylinders_4 cylinders</th>\n",
              "      <th>cylinders_6 cylinders</th>\n",
              "      <th>cylinders_8 cylinders</th>\n",
              "      <th>cylinders_others</th>\n",
              "      <th>fuel_diesel</th>\n",
              "      <th>fuel_gas</th>\n",
              "      <th>fuel_others</th>\n",
              "      <th>transmission_automatic</th>\n",
              "      <th>transmission_manual</th>\n",
              "      <th>transmission_other</th>\n",
              "      <th>transmission_others</th>\n",
              "      <th>drive_4wd</th>\n",
              "      <th>drive_fwd</th>\n",
              "      <th>drive_others</th>\n",
              "      <th>drive_rwd</th>\n",
              "      <th>size_full-size</th>\n",
              "      <th>size_others</th>\n",
              "      <th>type_SUV</th>\n",
              "      <th>type_coupe</th>\n",
              "      <th>type_hatchback</th>\n",
              "      <th>type_others</th>\n",
              "      <th>type_pickup</th>\n",
              "      <th>type_sedan</th>\n",
              "      <th>type_truck</th>\n",
              "      <th>paint_color_black</th>\n",
              "      <th>paint_color_blue</th>\n",
              "      <th>paint_color_grey</th>\n",
              "      <th>paint_color_others</th>\n",
              "      <th>paint_color_red</th>\n",
              "      <th>paint_color_silver</th>\n",
              "      <th>paint_color_white</th>\n",
              "    </tr>\n",
              "  </thead>\n",
              "  <tbody>\n",
              "    <tr>\n",
              "      <th>0</th>\n",
              "      <td>0.055661</td>\n",
              "      <td>0.090909</td>\n",
              "      <td>0</td>\n",
              "      <td>0</td>\n",
              "      <td>0</td>\n",
              "      <td>1</td>\n",
              "      <td>0</td>\n",
              "      <td>0</td>\n",
              "      <td>0</td>\n",
              "      <td>1</td>\n",
              "      <td>0</td>\n",
              "      <td>0</td>\n",
              "      <td>0</td>\n",
              "      <td>0</td>\n",
              "      <td>0</td>\n",
              "      <td>0</td>\n",
              "      <td>0</td>\n",
              "      <td>0</td>\n",
              "      <td>0</td>\n",
              "      <td>0</td>\n",
              "      <td>0</td>\n",
              "      <td>0</td>\n",
              "      <td>0</td>\n",
              "      <td>0</td>\n",
              "      <td>0</td>\n",
              "      <td>0</td>\n",
              "      <td>0</td>\n",
              "      <td>1</td>\n",
              "      <td>0</td>\n",
              "      <td>0</td>\n",
              "      <td>0</td>\n",
              "      <td>1</td>\n",
              "      <td>0</td>\n",
              "      <td>0</td>\n",
              "      <td>0</td>\n",
              "      <td>1</td>\n",
              "      <td>0</td>\n",
              "      <td>0</td>\n",
              "      <td>1</td>\n",
              "      <td>0</td>\n",
              "      <td>0</td>\n",
              "      <td>0</td>\n",
              "      <td>1</td>\n",
              "      <td>0</td>\n",
              "      <td>0</td>\n",
              "      <td>0</td>\n",
              "      <td>0</td>\n",
              "      <td>1</td>\n",
              "      <td>0</td>\n",
              "      <td>1</td>\n",
              "      <td>0</td>\n",
              "      <td>0</td>\n",
              "      <td>0</td>\n",
              "      <td>1</td>\n",
              "      <td>0</td>\n",
              "      <td>0</td>\n",
              "      <td>0</td>\n",
              "      <td>0</td>\n",
              "      <td>0</td>\n",
              "      <td>0</td>\n",
              "      <td>1</td>\n",
              "      <td>0</td>\n",
              "      <td>0</td>\n",
              "      <td>0</td>\n",
              "    </tr>\n",
              "    <tr>\n",
              "      <th>1</th>\n",
              "      <td>0.295122</td>\n",
              "      <td>0.057851</td>\n",
              "      <td>0</td>\n",
              "      <td>0</td>\n",
              "      <td>0</td>\n",
              "      <td>1</td>\n",
              "      <td>0</td>\n",
              "      <td>0</td>\n",
              "      <td>0</td>\n",
              "      <td>0</td>\n",
              "      <td>0</td>\n",
              "      <td>0</td>\n",
              "      <td>0</td>\n",
              "      <td>0</td>\n",
              "      <td>1</td>\n",
              "      <td>0</td>\n",
              "      <td>0</td>\n",
              "      <td>0</td>\n",
              "      <td>0</td>\n",
              "      <td>0</td>\n",
              "      <td>0</td>\n",
              "      <td>0</td>\n",
              "      <td>0</td>\n",
              "      <td>0</td>\n",
              "      <td>0</td>\n",
              "      <td>0</td>\n",
              "      <td>0</td>\n",
              "      <td>1</td>\n",
              "      <td>0</td>\n",
              "      <td>0</td>\n",
              "      <td>1</td>\n",
              "      <td>0</td>\n",
              "      <td>0</td>\n",
              "      <td>1</td>\n",
              "      <td>0</td>\n",
              "      <td>0</td>\n",
              "      <td>0</td>\n",
              "      <td>0</td>\n",
              "      <td>1</td>\n",
              "      <td>0</td>\n",
              "      <td>1</td>\n",
              "      <td>0</td>\n",
              "      <td>0</td>\n",
              "      <td>0</td>\n",
              "      <td>0</td>\n",
              "      <td>1</td>\n",
              "      <td>0</td>\n",
              "      <td>0</td>\n",
              "      <td>0</td>\n",
              "      <td>1</td>\n",
              "      <td>0</td>\n",
              "      <td>0</td>\n",
              "      <td>0</td>\n",
              "      <td>0</td>\n",
              "      <td>0</td>\n",
              "      <td>1</td>\n",
              "      <td>0</td>\n",
              "      <td>0</td>\n",
              "      <td>0</td>\n",
              "      <td>0</td>\n",
              "      <td>1</td>\n",
              "      <td>0</td>\n",
              "      <td>0</td>\n",
              "      <td>0</td>\n",
              "    </tr>\n",
              "    <tr>\n",
              "      <th>2</th>\n",
              "      <td>0.269333</td>\n",
              "      <td>0.123967</td>\n",
              "      <td>0</td>\n",
              "      <td>0</td>\n",
              "      <td>0</td>\n",
              "      <td>1</td>\n",
              "      <td>0</td>\n",
              "      <td>0</td>\n",
              "      <td>1</td>\n",
              "      <td>0</td>\n",
              "      <td>0</td>\n",
              "      <td>0</td>\n",
              "      <td>0</td>\n",
              "      <td>0</td>\n",
              "      <td>0</td>\n",
              "      <td>0</td>\n",
              "      <td>0</td>\n",
              "      <td>0</td>\n",
              "      <td>0</td>\n",
              "      <td>0</td>\n",
              "      <td>0</td>\n",
              "      <td>0</td>\n",
              "      <td>0</td>\n",
              "      <td>0</td>\n",
              "      <td>0</td>\n",
              "      <td>0</td>\n",
              "      <td>0</td>\n",
              "      <td>1</td>\n",
              "      <td>0</td>\n",
              "      <td>0</td>\n",
              "      <td>0</td>\n",
              "      <td>1</td>\n",
              "      <td>0</td>\n",
              "      <td>0</td>\n",
              "      <td>1</td>\n",
              "      <td>0</td>\n",
              "      <td>0</td>\n",
              "      <td>0</td>\n",
              "      <td>1</td>\n",
              "      <td>0</td>\n",
              "      <td>1</td>\n",
              "      <td>0</td>\n",
              "      <td>0</td>\n",
              "      <td>0</td>\n",
              "      <td>0</td>\n",
              "      <td>0</td>\n",
              "      <td>1</td>\n",
              "      <td>0</td>\n",
              "      <td>0</td>\n",
              "      <td>1</td>\n",
              "      <td>1</td>\n",
              "      <td>0</td>\n",
              "      <td>0</td>\n",
              "      <td>0</td>\n",
              "      <td>0</td>\n",
              "      <td>0</td>\n",
              "      <td>0</td>\n",
              "      <td>0</td>\n",
              "      <td>1</td>\n",
              "      <td>0</td>\n",
              "      <td>0</td>\n",
              "      <td>0</td>\n",
              "      <td>0</td>\n",
              "      <td>0</td>\n",
              "    </tr>\n",
              "    <tr>\n",
              "      <th>3</th>\n",
              "      <td>0.674431</td>\n",
              "      <td>0.388430</td>\n",
              "      <td>0</td>\n",
              "      <td>0</td>\n",
              "      <td>0</td>\n",
              "      <td>1</td>\n",
              "      <td>0</td>\n",
              "      <td>0</td>\n",
              "      <td>0</td>\n",
              "      <td>1</td>\n",
              "      <td>0</td>\n",
              "      <td>0</td>\n",
              "      <td>0</td>\n",
              "      <td>0</td>\n",
              "      <td>0</td>\n",
              "      <td>0</td>\n",
              "      <td>0</td>\n",
              "      <td>0</td>\n",
              "      <td>0</td>\n",
              "      <td>0</td>\n",
              "      <td>0</td>\n",
              "      <td>0</td>\n",
              "      <td>0</td>\n",
              "      <td>0</td>\n",
              "      <td>0</td>\n",
              "      <td>0</td>\n",
              "      <td>0</td>\n",
              "      <td>1</td>\n",
              "      <td>0</td>\n",
              "      <td>0</td>\n",
              "      <td>0</td>\n",
              "      <td>1</td>\n",
              "      <td>0</td>\n",
              "      <td>1</td>\n",
              "      <td>0</td>\n",
              "      <td>0</td>\n",
              "      <td>0</td>\n",
              "      <td>0</td>\n",
              "      <td>1</td>\n",
              "      <td>0</td>\n",
              "      <td>1</td>\n",
              "      <td>0</td>\n",
              "      <td>0</td>\n",
              "      <td>0</td>\n",
              "      <td>0</td>\n",
              "      <td>0</td>\n",
              "      <td>0</td>\n",
              "      <td>1</td>\n",
              "      <td>1</td>\n",
              "      <td>0</td>\n",
              "      <td>0</td>\n",
              "      <td>0</td>\n",
              "      <td>0</td>\n",
              "      <td>0</td>\n",
              "      <td>1</td>\n",
              "      <td>0</td>\n",
              "      <td>0</td>\n",
              "      <td>0</td>\n",
              "      <td>1</td>\n",
              "      <td>0</td>\n",
              "      <td>0</td>\n",
              "      <td>0</td>\n",
              "      <td>0</td>\n",
              "      <td>0</td>\n",
              "    </tr>\n",
              "    <tr>\n",
              "      <th>4</th>\n",
              "      <td>0.383260</td>\n",
              "      <td>0.132231</td>\n",
              "      <td>0</td>\n",
              "      <td>0</td>\n",
              "      <td>0</td>\n",
              "      <td>1</td>\n",
              "      <td>0</td>\n",
              "      <td>0</td>\n",
              "      <td>0</td>\n",
              "      <td>0</td>\n",
              "      <td>0</td>\n",
              "      <td>1</td>\n",
              "      <td>0</td>\n",
              "      <td>0</td>\n",
              "      <td>0</td>\n",
              "      <td>0</td>\n",
              "      <td>0</td>\n",
              "      <td>0</td>\n",
              "      <td>0</td>\n",
              "      <td>0</td>\n",
              "      <td>0</td>\n",
              "      <td>0</td>\n",
              "      <td>0</td>\n",
              "      <td>0</td>\n",
              "      <td>0</td>\n",
              "      <td>0</td>\n",
              "      <td>0</td>\n",
              "      <td>1</td>\n",
              "      <td>0</td>\n",
              "      <td>0</td>\n",
              "      <td>1</td>\n",
              "      <td>0</td>\n",
              "      <td>0</td>\n",
              "      <td>0</td>\n",
              "      <td>0</td>\n",
              "      <td>1</td>\n",
              "      <td>0</td>\n",
              "      <td>1</td>\n",
              "      <td>0</td>\n",
              "      <td>0</td>\n",
              "      <td>1</td>\n",
              "      <td>0</td>\n",
              "      <td>0</td>\n",
              "      <td>0</td>\n",
              "      <td>1</td>\n",
              "      <td>0</td>\n",
              "      <td>0</td>\n",
              "      <td>0</td>\n",
              "      <td>1</td>\n",
              "      <td>0</td>\n",
              "      <td>0</td>\n",
              "      <td>0</td>\n",
              "      <td>0</td>\n",
              "      <td>0</td>\n",
              "      <td>1</td>\n",
              "      <td>0</td>\n",
              "      <td>0</td>\n",
              "      <td>0</td>\n",
              "      <td>1</td>\n",
              "      <td>0</td>\n",
              "      <td>0</td>\n",
              "      <td>0</td>\n",
              "      <td>0</td>\n",
              "      <td>0</td>\n",
              "    </tr>\n",
              "  </tbody>\n",
              "</table>\n",
              "</div>"
            ],
            "text/plain": [
              "   odometer       age  ...  paint_color_silver  paint_color_white\n",
              "0  0.055661  0.090909  ...                   0                  0\n",
              "1  0.295122  0.057851  ...                   0                  0\n",
              "2  0.269333  0.123967  ...                   0                  0\n",
              "3  0.674431  0.388430  ...                   0                  0\n",
              "4  0.383260  0.132231  ...                   0                  0\n",
              "\n",
              "[5 rows x 64 columns]"
            ]
          },
          "metadata": {
            "tags": []
          },
          "execution_count": 96
        }
      ]
    },
    {
      "cell_type": "code",
      "metadata": {
        "colab": {
          "base_uri": "https://localhost:8080/"
        },
        "id": "Vq1eFc6KRGXf",
        "outputId": "c5062d53-2b36-47b4-c053-18d15d118b18"
      },
      "source": [
        "X.shape"
      ],
      "execution_count": null,
      "outputs": [
        {
          "output_type": "execute_result",
          "data": {
            "text/plain": [
              "(322166, 64)"
            ]
          },
          "metadata": {
            "tags": []
          },
          "execution_count": 97
        }
      ]
    },
    {
      "cell_type": "code",
      "metadata": {
        "colab": {
          "base_uri": "https://localhost:8080/"
        },
        "id": "0rz_EyBORGbC",
        "outputId": "2d9af8d5-f915-4c0a-f806-80fcc53b0051"
      },
      "source": [
        "X.isna().sum()"
      ],
      "execution_count": null,
      "outputs": [
        {
          "output_type": "execute_result",
          "data": {
            "text/plain": [
              "odometer                 0\n",
              "age                    500\n",
              "region_columbus          0\n",
              "region_fayetteville      0\n",
              "region_jacksonville      0\n",
              "                      ... \n",
              "paint_color_grey         0\n",
              "paint_color_others       0\n",
              "paint_color_red          0\n",
              "paint_color_silver       0\n",
              "paint_color_white        0\n",
              "Length: 64, dtype: int64"
            ]
          },
          "metadata": {
            "tags": []
          },
          "execution_count": 98
        }
      ]
    },
    {
      "cell_type": "code",
      "metadata": {
        "id": "ss0yoXzKRGe5"
      },
      "source": [
        " # X['age'].mean()을 보면, 2.3403839e-15 스케일링을 해줘서, 거의 0이다. 그래서 그냥 0으로 바꿔줌.\n",
        " X.fillna(0.0, inplace=True)"
      ],
      "execution_count": null,
      "outputs": []
    },
    {
      "cell_type": "code",
      "metadata": {
        "colab": {
          "base_uri": "https://localhost:8080/"
        },
        "id": "08BHGt_3RGi7",
        "outputId": "9f109bc8-ee0e-4110-813e-a2ca90d45fd6"
      },
      "source": [
        "X.isna().sum()"
      ],
      "execution_count": null,
      "outputs": [
        {
          "output_type": "execute_result",
          "data": {
            "text/plain": [
              "odometer               0\n",
              "age                    0\n",
              "region_columbus        0\n",
              "region_fayetteville    0\n",
              "region_jacksonville    0\n",
              "                      ..\n",
              "paint_color_grey       0\n",
              "paint_color_others     0\n",
              "paint_color_red        0\n",
              "paint_color_silver     0\n",
              "paint_color_white      0\n",
              "Length: 64, dtype: int64"
            ]
          },
          "metadata": {
            "tags": []
          },
          "execution_count": 100
        }
      ]
    },
    {
      "cell_type": "markdown",
      "metadata": {
        "id": "NAEjSLjxRGl6"
      },
      "source": [
        "#### 학습데이터와 테스트데이터 분리"
      ]
    },
    {
      "cell_type": "code",
      "metadata": {
        "id": "Fj8nATxBRGpF"
      },
      "source": [
        "X_train, X_test, y_train, y_test = train_test_split(X, y, test_size=0.3, random_state=1)"
      ],
      "execution_count": null,
      "outputs": []
    },
    {
      "cell_type": "markdown",
      "metadata": {
        "id": "b7s9x1U4R6i4"
      },
      "source": [
        "#### PCA를 이용해 데이터 전처리 수행하기"
      ]
    },
    {
      "cell_type": "code",
      "metadata": {
        "colab": {
          "base_uri": "https://localhost:8080/",
          "height": 265
        },
        "id": "BOrn-SY7SIH4",
        "outputId": "edb3177c-e336-45b0-8762-103ded81bae8"
      },
      "source": [
        "pca = PCA()\n",
        "pca.fit(X_train)\n",
        "plt.plot(range(1, len(pca.explained_variance_) + 1), pca.explained_variance_)\n",
        "plt.grid()"
      ],
      "execution_count": null,
      "outputs": [
        {
          "output_type": "display_data",
          "data": {
            "image/png": "[encoded data removed]",
            "text/plain": [
              "<Figure size 432x288 with 1 Axes>"
            ]
          },
          "metadata": {
            "tags": [],
            "needs_background": "light"
          }
        }
      ]
    },
    {
      "cell_type": "code",
      "metadata": {
        "colab": {
          "base_uri": "https://localhost:8080/"
        },
        "id": "jUDPysEUSIMH",
        "outputId": "6ce4b789-b510-4751-d23b-bdf5cc1012d8"
      },
      "source": [
        "# 30에서 끊어준다.\n",
        "pca = PCA(n_components=30)\n",
        "pca.fit(X_train)"
      ],
      "execution_count": null,
      "outputs": [
        {
          "output_type": "execute_result",
          "data": {
            "text/plain": [
              "PCA(copy=True, iterated_power='auto', n_components=30, random_state=None,\n",
              "    svd_solver='auto', tol=0.0, whiten=False)"
            ]
          },
          "metadata": {
            "tags": []
          },
          "execution_count": 103
        }
      ]
    },
    {
      "cell_type": "markdown",
      "metadata": {
        "id": "9WludYesSIPf"
      },
      "source": [
        "\n",
        "\n",
        "### Step 3. Regression 모델 학습하기(y : 회귀유형)\n",
        "\n",
        "-  데이터가 크기 때문에 LGBM만 하이퍼파라미터 조절을 통해 분석해본다."
      ]
    },
    {
      "cell_type": "code",
      "metadata": {
        "id": "hNUPksuqSISn"
      },
      "source": [
        "from lightgbm import LGBMRegressor as LGBM_R\n",
        "from sklearn.metrics import mean_absolute_error as MAE\n",
        "from sklearn.metrics import mean_squared_error as MSE\n",
        "from math import sqrt"
      ],
      "execution_count": null,
      "outputs": []
    },
    {
      "cell_type": "markdown",
      "metadata": {
        "id": "f0FAxQ5cSIWF"
      },
      "source": [
        "#### 파라미터 그리드 설계"
      ]
    },
    {
      "cell_type": "code",
      "metadata": {
        "colab": {
          "base_uri": "https://localhost:8080/"
        },
        "id": "7NZ1tMvFSIYe",
        "outputId": "02a952dc-2b33-45f1-fe15-06ffd965929b"
      },
      "source": [
        "# 모델 파라미터 그리드 설계\n",
        "# 키가 모델의 함수, 값이 파라미터 그리드의 값\n",
        "param_grid = dict() \n",
        "\n",
        "param_grid_for_LGBM_R = ParameterGrid({\"max_depth\": [2, 3, 4],\n",
        "                                      \"n_estimators\": [50, 100],\n",
        "                                      \"learning_rate\": [0.05, 0.1, 0.15, 0.2]})\n",
        "\n",
        "param_grid[LGBM_R] = param_grid_for_LGBM_R\n",
        "\n",
        "\n",
        "# 출력을 위한 max_iter_num 계산 \n",
        "                            \n",
        "# 튜닝 시작\n",
        "best_score = 9999999999 \n",
        "iteration_num = 0    \n",
        "for k in range(30, 5, -1): \n",
        "    print(k)\n",
        "  \n",
        "    for model_func in [LGBM_R]:\n",
        "        for param in param_grid[model_func]:\n",
        "            model = model_func(**param).fit(pca.transform(X_train), y_train)\n",
        "            y_pred = model.predict(pca.transform(X_test))\n",
        "            score = MAE(y_test, y_pred)\n",
        "            if score < best_score:\n",
        "                best_model_func = model_func\n",
        "                best_score = score\n",
        "                best_parameter = param\n",
        "            iteration_num += 1      \n",
        "\n",
        "\n",
        "print(\"모델:\", best_model_func)\n",
        "print(\"점수:\", best_score)\n",
        "print(\"파라미터:\", best_parameter)       "
      ],
      "execution_count": null,
      "outputs": [
        {
          "output_type": "stream",
          "text": [
            "30\n",
            "29\n",
            "28\n",
            "27\n",
            "26\n",
            "25\n",
            "24\n",
            "23\n",
            "22\n",
            "21\n",
            "20\n",
            "19\n",
            "18\n",
            "17\n",
            "16\n",
            "15\n",
            "14\n",
            "13\n",
            "12\n",
            "11\n",
            "10\n",
            "9\n",
            "8\n",
            "7\n",
            "6\n",
            "모델: <class 'lightgbm.sklearn.LGBMRegressor'>\n",
            "점수: 6356.085916135081\n",
            "파라미터: {'learning_rate': 0.2, 'max_depth': 4, 'n_estimators': 100}\n"
          ],
          "name": "stdout"
        }
      ]
    },
    {
      "cell_type": "code",
      "metadata": {
        "colab": {
          "base_uri": "https://localhost:8080/"
        },
        "id": "ndJc4X6sSIb1",
        "outputId": "2678536a-a497-46be-bfeb-027fcdf43e6f"
      },
      "source": [
        "final_model_lgbm = LGBM_R(max_depth=4, n_estimators=100,learning_rate=0.2)\n",
        "final_model_lgbm.fit(pca.transform(X_train), y_train)"
      ],
      "execution_count": null,
      "outputs": [
        {
          "output_type": "execute_result",
          "data": {
            "text/plain": [
              "LGBMRegressor(boosting_type='gbdt', class_weight=None, colsample_bytree=1.0,\n",
              "              importance_type='split', learning_rate=0.2, max_depth=4,\n",
              "              min_child_samples=20, min_child_weight=0.001, min_split_gain=0.0,\n",
              "              n_estimators=100, n_jobs=-1, num_leaves=31, objective=None,\n",
              "              random_state=None, reg_alpha=0.0, reg_lambda=0.0, silent=True,\n",
              "              subsample=1.0, subsample_for_bin=200000, subsample_freq=0)"
            ]
          },
          "metadata": {
            "tags": []
          },
          "execution_count": 105
        }
      ]
    },
    {
      "cell_type": "code",
      "metadata": {
        "colab": {
          "base_uri": "https://localhost:8080/"
        },
        "id": "N6s11YRESIeq",
        "outputId": "5585ba10-8225-4cd4-f5d3-259d5594ecee"
      },
      "source": [
        "pred = final_model_lgbm.predict(pca.transform(X_test))\n",
        "print(MAE(y_test, pred))\n",
        "print(sqrt(MSE(y_test, pred)))"
      ],
      "execution_count": null,
      "outputs": [
        {
          "output_type": "stream",
          "text": [
            "4821.085579763152\n",
            "6719.608121610891\n"
          ],
          "name": "stdout"
        }
      ]
    },
    {
      "cell_type": "code",
      "metadata": {
        "colab": {
          "base_uri": "https://localhost:8080/",
          "height": 283
        },
        "id": "jz7yW0W1WDyG",
        "outputId": "45547c5d-688b-4469-f312-8be88c4c959b"
      },
      "source": [
        "plt.scatter(x=y_test, y=pred, alpha=0.005)\n",
        "plt.plot([0,60000], [0,60000], 'r-')"
      ],
      "execution_count": null,
      "outputs": [
        {
          "output_type": "execute_result",
          "data": {
            "text/plain": [
              "[<matplotlib.lines.Line2D at 0x7f2e3aa38550>]"
            ]
          },
          "metadata": {
            "tags": []
          },
          "execution_count": 107
        },
        {
          "output_type": "display_data",
          "data": {
            "image/png": "[encoded data removed]",
            "text/plain": [
              "<Figure size 432x288 with 1 Axes>"
            ]
          },
          "metadata": {
            "tags": [],
            "needs_background": "light"
          }
        }
      ]
    },
    {
      "cell_type": "code",
      "metadata": {
        "colab": {
          "base_uri": "https://localhost:8080/",
          "height": 297
        },
        "id": "vCP0mL20WD4U",
        "outputId": "c0d69ac6-be5c-4a59-be4c-95cfe0e815f7"
      },
      "source": [
        "sns.histplot(x=y_test, y=pred)\n",
        "plt.plot([0, 60000], [0, 60000], 'r-')"
      ],
      "execution_count": null,
      "outputs": [
        {
          "output_type": "execute_result",
          "data": {
            "text/plain": [
              "[<matplotlib.lines.Line2D at 0x7f2e3a836850>]"
            ]
          },
          "metadata": {
            "tags": []
          },
          "execution_count": 108
        },
        {
          "output_type": "display_data",
          "data": {
            "image/png": "[encoded data removed]",
            "text/plain": [
              "<Figure size 432x288 with 1 Axes>"
            ]
          },
          "metadata": {
            "tags": [],
            "needs_background": "light"
          }
        }
      ]
    },
    {
      "cell_type": "markdown",
      "metadata": {
        "id": "aqF1wHVCWD9y"
      },
      "source": [
        "#### 에러 값의 히스토그램 확인하기"
      ]
    },
    {
      "cell_type": "code",
      "metadata": {
        "colab": {
          "base_uri": "https://localhost:8080/",
          "height": 279
        },
        "id": "GF6PAER3WECa",
        "outputId": "a02773e6-396c-42c9-b1f8-a8a0e3bdeec4"
      },
      "source": [
        "# 에러율의 히스토그램으로 에러율 히스토그램 확인하기\n",
        "err = (pred - y_test) / y_test * 100 \n",
        "sns.histplot(err)\n",
        "plt.xlabel('error (%)')\n",
        "plt.xlim(-100, 100)\n",
        "plt.grid()"
      ],
      "execution_count": null,
      "outputs": [
        {
          "output_type": "display_data",
          "data": {
            "image/png": "[encoded data removed]",
            "text/plain": [
              "<Figure size 432x288 with 1 Axes>"
            ]
          },
          "metadata": {
            "tags": [],
            "needs_background": "light"
          }
        }
      ]
    },
    {
      "cell_type": "code",
      "metadata": {
        "colab": {
          "base_uri": "https://localhost:8080/",
          "height": 279
        },
        "id": "Yl35lvMsWEGc",
        "outputId": "5ebcd5f1-fdaa-42fe-dc9e-d4d135e551c8"
      },
      "source": [
        "err = (pred - y_test)\n",
        "sns.histplot(err)\n",
        "plt.xlabel('error ($)')\n",
        "plt.grid()  "
      ],
      "execution_count": null,
      "outputs": [
        {
          "output_type": "display_data",
          "data": {
            "image/png": "[encoded data removed]",
            "text/plain": [
              "<Figure size 432x288 with 1 Axes>"
            ]
          },
          "metadata": {
            "tags": [],
            "needs_background": "light"
          }
        }
      ]
    },
    {
      "cell_type": "markdown",
      "metadata": {
        "id": "ArgodzgLWELD"
      },
      "source": [
        "### Step 4. 딥러닝.신경망 모델로 분석"
      ]
    },
    {
      "cell_type": "code",
      "metadata": {
        "id": "Pqa4l_aiYPo3"
      },
      "source": [
        "from keras.optimizers import Adam"
      ],
      "execution_count": null,
      "outputs": []
    },
    {
      "cell_type": "code",
      "metadata": {
        "colab": {
          "base_uri": "https://localhost:8080/"
        },
        "id": "ee77NKY9YPt5",
        "outputId": "5ed9cdda-a6cd-4162-c645-4a056a0e163e"
      },
      "source": [
        "print(X_train.shape, y_train.shape)"
      ],
      "execution_count": null,
      "outputs": [
        {
          "output_type": "stream",
          "text": [
            "(225516, 64) (225516,)\n"
          ],
          "name": "stdout"
        }
      ]
    },
    {
      "cell_type": "code",
      "metadata": {
        "id": "Xqks2i_ih0ZI"
      },
      "source": [
        "X_train = pca.transform(X_train)\n",
        "X_test = pca.transform(X_test)"
      ],
      "execution_count": null,
      "outputs": []
    },
    {
      "cell_type": "code",
      "metadata": {
        "colab": {
          "base_uri": "https://localhost:8080/"
        },
        "id": "pbm6Sf1mh2-o",
        "outputId": "23ad9c25-5371-4263-8618-1cdb14962045"
      },
      "source": [
        "X_train.shape"
      ],
      "execution_count": null,
      "outputs": [
        {
          "output_type": "execute_result",
          "data": {
            "text/plain": [
              "(225516, 30)"
            ]
          },
          "metadata": {
            "tags": []
          },
          "execution_count": 114
        }
      ]
    },
    {
      "cell_type": "code",
      "metadata": {
        "id": "qp7iXQTkiwp7"
      },
      "source": [
        ""
      ],
      "execution_count": null,
      "outputs": []
    },
    {
      "cell_type": "markdown",
      "metadata": {
        "id": "8Ye9FGWZYPxa"
      },
      "source": [
        "#### 모델구현"
      ]
    },
    {
      "cell_type": "code",
      "metadata": {
        "colab": {
          "base_uri": "https://localhost:8080/"
        },
        "id": "KIrpONQ-YP1z",
        "outputId": "34b12f48-ef4d-45fe-8767-8c2adf0d8ce4"
      },
      "source": [
        "    model = models.Sequential()\n",
        "    model.add(layers.Dense(16, activation='linear',input_shape=(30,)))\n",
        "    model.add(layers.BatchNormalization())\n",
        "\n",
        "    model.add(layers.Dense(32, activation='relu'))\n",
        "    model.add(layers.BatchNormalization())\n",
        "\n",
        "    model.add(layers.Dense(16, activation='relu'))\n",
        "    model.add(layers.BatchNormalization())\n",
        "\n",
        "    model.add(layers.Dense(1))\n",
        "    model.compile(optimizer='Adam', loss='mse', metrics=['mae'])\n",
        "\n",
        "model.summary()"
      ],
      "execution_count": null,
      "outputs": [
        {
          "output_type": "stream",
          "text": [
            "Model: \"sequential_1\"\n",
            "_________________________________________________________________\n",
            "Layer (type)                 Output Shape              Param #   \n",
            "=================================================================\n",
            "dense_4 (Dense)              (None, 16)                496       \n",
            "_________________________________________________________________\n",
            "batch_normalization_3 (Batch (None, 16)                64        \n",
            "_________________________________________________________________\n",
            "dense_5 (Dense)              (None, 32)                544       \n",
            "_________________________________________________________________\n",
            "batch_normalization_4 (Batch (None, 32)                128       \n",
            "_________________________________________________________________\n",
            "dense_6 (Dense)              (None, 16)                528       \n",
            "_________________________________________________________________\n",
            "batch_normalization_5 (Batch (None, 16)                64        \n",
            "_________________________________________________________________\n",
            "dense_7 (Dense)              (None, 1)                 17        \n",
            "=================================================================\n",
            "Total params: 1,841\n",
            "Trainable params: 1,713\n",
            "Non-trainable params: 128\n",
            "_________________________________________________________________\n"
          ],
          "name": "stdout"
        }
      ]
    },
    {
      "cell_type": "code",
      "metadata": {
        "colab": {
          "base_uri": "https://localhost:8080/"
        },
        "id": "a9regBGgYP51",
        "outputId": "40846036-ec16-48b2-84a5-cac332210831"
      },
      "source": [
        "# 콜백 함수 적용 부분(분류모델은 val_loss로)\n",
        "early_stopping_callback = EarlyStopping(monitor='loss', mode='min', patience=10)\n",
        "# 분류모델이면 model_checkpoint = ModelCheckpoint(filepath='./{epoch}-{val_loss:.2f}-{val_accuracy:.2f}.h5', monitor='val_loss', save_best_only=True, verbose=1)\n",
        "model_checkpoint = ModelCheckpoint(filepath='/content/drive/MyDrive/Colab Notebooks/practice/분류문제/문제6_딥러닝파라미터/{epoch}-{loss:.2f}.h5', \n",
        "                                   monitor='loss', save_best_only=True, verbose=1)\n",
        "\n",
        "\n",
        "history = model.fit(X_train, y_train, batch_size=128,  epochs=50,\n",
        "            callbacks=[early_stopping_callback, model_checkpoint],\n",
        "            validation_data=(X_test, y_test))"
      ],
      "execution_count": null,
      "outputs": [
        {
          "output_type": "stream",
          "text": [
            "Epoch 1/50\n",
            "1762/1762 [==============================] - 7s 4ms/step - loss: 55215904.0000 - mae: 5416.9277 - val_loss: 51131952.0000 - val_mae: 5152.1587\n",
            "\n",
            "Epoch 00001: loss improved from inf to 55215904.00000, saving model to /content/drive/MyDrive/Colab Notebooks/practice/분류문제/문제6_딥러닝파라미터/1-55215904.00.h5\n",
            "Epoch 2/50\n",
            "1762/1762 [==============================] - 7s 4ms/step - loss: 47599924.0000 - mae: 4904.4253 - val_loss: 46161224.0000 - val_mae: 4778.0283\n",
            "\n",
            "Epoch 00002: loss improved from 55215904.00000 to 47599924.00000, saving model to /content/drive/MyDrive/Colab Notebooks/practice/분류문제/문제6_딥러닝파라미터/2-47599924.00.h5\n",
            "Epoch 3/50\n",
            "1762/1762 [==============================] - 7s 4ms/step - loss: 42957800.0000 - mae: 4573.6221 - val_loss: 40646900.0000 - val_mae: 4392.7554\n",
            "\n",
            "Epoch 00003: loss improved from 47599924.00000 to 42957800.00000, saving model to /content/drive/MyDrive/Colab Notebooks/practice/분류문제/문제6_딥러닝파라미터/3-42957800.00.h5\n",
            "Epoch 4/50\n",
            "1762/1762 [==============================] - 7s 4ms/step - loss: 40950252.0000 - mae: 4453.5190 - val_loss: 39144692.0000 - val_mae: 4346.1177\n",
            "\n",
            "Epoch 00004: loss improved from 42957800.00000 to 40950252.00000, saving model to /content/drive/MyDrive/Colab Notebooks/practice/분류문제/문제6_딥러닝파라미터/4-40950252.00.h5\n",
            "Epoch 5/50\n",
            "1762/1762 [==============================] - 7s 4ms/step - loss: 40173396.0000 - mae: 4430.6641 - val_loss: 39227208.0000 - val_mae: 4336.0693\n",
            "\n",
            "Epoch 00005: loss improved from 40950252.00000 to 40173396.00000, saving model to /content/drive/MyDrive/Colab Notebooks/practice/분류문제/문제6_딥러닝파라미터/5-40173396.00.h5\n",
            "Epoch 6/50\n",
            "1762/1762 [==============================] - 7s 4ms/step - loss: 39889316.0000 - mae: 4425.3022 - val_loss: 38576000.0000 - val_mae: 4337.2295\n",
            "\n",
            "Epoch 00006: loss improved from 40173396.00000 to 39889316.00000, saving model to /content/drive/MyDrive/Colab Notebooks/practice/분류문제/문제6_딥러닝파라미터/6-39889316.00.h5\n",
            "Epoch 7/50\n",
            "1762/1762 [==============================] - 7s 4ms/step - loss: 39685396.0000 - mae: 4417.4980 - val_loss: 38723140.0000 - val_mae: 4342.7773\n",
            "\n",
            "Epoch 00007: loss improved from 39889316.00000 to 39685396.00000, saving model to /content/drive/MyDrive/Colab Notebooks/practice/분류문제/문제6_딥러닝파라미터/7-39685396.00.h5\n",
            "Epoch 8/50\n",
            "1762/1762 [==============================] - 7s 4ms/step - loss: 39415784.0000 - mae: 4401.8994 - val_loss: 38330456.0000 - val_mae: 4314.7095\n",
            "\n",
            "Epoch 00008: loss improved from 39685396.00000 to 39415784.00000, saving model to /content/drive/MyDrive/Colab Notebooks/practice/분류문제/문제6_딥러닝파라미터/8-39415784.00.h5\n",
            "Epoch 9/50\n",
            "1762/1762 [==============================] - 7s 4ms/step - loss: 39333448.0000 - mae: 4393.8486 - val_loss: 38744480.0000 - val_mae: 4311.0591\n",
            "\n",
            "Epoch 00009: loss improved from 39415784.00000 to 39333448.00000, saving model to /content/drive/MyDrive/Colab Notebooks/practice/분류문제/문제6_딥러닝파라미터/9-39333448.00.h5\n",
            "Epoch 10/50\n",
            "1762/1762 [==============================] - 7s 4ms/step - loss: 39186628.0000 - mae: 4382.6470 - val_loss: 38537380.0000 - val_mae: 4305.1035\n",
            "\n",
            "Epoch 00010: loss improved from 39333448.00000 to 39186628.00000, saving model to /content/drive/MyDrive/Colab Notebooks/practice/분류문제/문제6_딥러닝파라미터/10-39186628.00.h5\n",
            "Epoch 11/50\n",
            "1762/1762 [==============================] - 7s 4ms/step - loss: 39023432.0000 - mae: 4375.9253 - val_loss: 38077092.0000 - val_mae: 4326.0537\n",
            "\n",
            "Epoch 00011: loss improved from 39186628.00000 to 39023432.00000, saving model to /content/drive/MyDrive/Colab Notebooks/practice/분류문제/문제6_딥러닝파라미터/11-39023432.00.h5\n",
            "Epoch 12/50\n",
            "1762/1762 [==============================] - 7s 4ms/step - loss: 39071280.0000 - mae: 4372.8535 - val_loss: 37858128.0000 - val_mae: 4286.4751\n",
            "\n",
            "Epoch 00012: loss did not improve from 39023432.00000\n",
            "Epoch 13/50\n",
            "1762/1762 [==============================] - 7s 4ms/step - loss: 39023348.0000 - mae: 4374.7720 - val_loss: 38224132.0000 - val_mae: 4315.6431\n",
            "\n",
            "Epoch 00013: loss improved from 39023432.00000 to 39023348.00000, saving model to /content/drive/MyDrive/Colab Notebooks/practice/분류문제/문제6_딥러닝파라미터/13-39023348.00.h5\n",
            "Epoch 14/50\n",
            "1762/1762 [==============================] - 7s 4ms/step - loss: 38825276.0000 - mae: 4363.1558 - val_loss: 38277720.0000 - val_mae: 4293.1084\n",
            "\n",
            "Epoch 00014: loss improved from 39023348.00000 to 38825276.00000, saving model to /content/drive/MyDrive/Colab Notebooks/practice/분류문제/문제6_딥러닝파라미터/14-38825276.00.h5\n",
            "Epoch 15/50\n",
            "1762/1762 [==============================] - 7s 4ms/step - loss: 38760444.0000 - mae: 4358.7231 - val_loss: 37950900.0000 - val_mae: 4271.0752\n",
            "\n",
            "Epoch 00015: loss improved from 38825276.00000 to 38760444.00000, saving model to /content/drive/MyDrive/Colab Notebooks/practice/분류문제/문제6_딥러닝파라미터/15-38760444.00.h5\n",
            "Epoch 16/50\n",
            "1762/1762 [==============================] - 7s 4ms/step - loss: 38689028.0000 - mae: 4357.3315 - val_loss: 37591144.0000 - val_mae: 4273.6865\n",
            "\n",
            "Epoch 00016: loss improved from 38760444.00000 to 38689028.00000, saving model to /content/drive/MyDrive/Colab Notebooks/practice/분류문제/문제6_딥러닝파라미터/16-38689028.00.h5\n",
            "Epoch 17/50\n",
            "1762/1762 [==============================] - 7s 4ms/step - loss: 38587384.0000 - mae: 4350.0537 - val_loss: 37626996.0000 - val_mae: 4270.5439\n",
            "\n",
            "Epoch 00017: loss improved from 38689028.00000 to 38587384.00000, saving model to /content/drive/MyDrive/Colab Notebooks/practice/분류문제/문제6_딥러닝파라미터/17-38587384.00.h5\n",
            "Epoch 18/50\n",
            "1762/1762 [==============================] - 7s 4ms/step - loss: 38655344.0000 - mae: 4352.9463 - val_loss: 37766020.0000 - val_mae: 4277.9648\n",
            "\n",
            "Epoch 00018: loss did not improve from 38587384.00000\n",
            "Epoch 19/50\n",
            "1762/1762 [==============================] - 7s 4ms/step - loss: 38516880.0000 - mae: 4340.9834 - val_loss: 38410852.0000 - val_mae: 4289.7642\n",
            "\n",
            "Epoch 00019: loss improved from 38587384.00000 to 38516880.00000, saving model to /content/drive/MyDrive/Colab Notebooks/practice/분류문제/문제6_딥러닝파라미터/19-38516880.00.h5\n",
            "Epoch 20/50\n",
            "1762/1762 [==============================] - 7s 4ms/step - loss: 38395964.0000 - mae: 4340.0112 - val_loss: 37383700.0000 - val_mae: 4228.1875\n",
            "\n",
            "Epoch 00020: loss improved from 38516880.00000 to 38395964.00000, saving model to /content/drive/MyDrive/Colab Notebooks/practice/분류문제/문제6_딥러닝파라미터/20-38395964.00.h5\n",
            "Epoch 21/50\n",
            "1762/1762 [==============================] - 7s 4ms/step - loss: 38356700.0000 - mae: 4333.9741 - val_loss: 37276560.0000 - val_mae: 4253.4302\n",
            "\n",
            "Epoch 00021: loss improved from 38395964.00000 to 38356700.00000, saving model to /content/drive/MyDrive/Colab Notebooks/practice/분류문제/문제6_딥러닝파라미터/21-38356700.00.h5\n",
            "Epoch 22/50\n",
            "1762/1762 [==============================] - 7s 4ms/step - loss: 38202264.0000 - mae: 4325.0181 - val_loss: 37543224.0000 - val_mae: 4254.8765\n",
            "\n",
            "Epoch 00022: loss improved from 38356700.00000 to 38202264.00000, saving model to /content/drive/MyDrive/Colab Notebooks/practice/분류문제/문제6_딥러닝파라미터/22-38202264.00.h5\n",
            "Epoch 23/50\n",
            "1762/1762 [==============================] - 7s 4ms/step - loss: 38264720.0000 - mae: 4329.0981 - val_loss: 37109796.0000 - val_mae: 4228.9600\n",
            "\n",
            "Epoch 00023: loss did not improve from 38202264.00000\n",
            "Epoch 24/50\n",
            "1762/1762 [==============================] - 7s 4ms/step - loss: 38178080.0000 - mae: 4327.3716 - val_loss: 37546188.0000 - val_mae: 4248.1943\n",
            "\n",
            "Epoch 00024: loss improved from 38202264.00000 to 38178080.00000, saving model to /content/drive/MyDrive/Colab Notebooks/practice/분류문제/문제6_딥러닝파라미터/24-38178080.00.h5\n",
            "Epoch 25/50\n",
            "1762/1762 [==============================] - 7s 4ms/step - loss: 38161524.0000 - mae: 4319.9448 - val_loss: 37828860.0000 - val_mae: 4277.4180\n",
            "\n",
            "Epoch 00025: loss improved from 38178080.00000 to 38161524.00000, saving model to /content/drive/MyDrive/Colab Notebooks/practice/분류문제/문제6_딥러닝파라미터/25-38161524.00.h5\n",
            "Epoch 26/50\n",
            "1762/1762 [==============================] - 7s 4ms/step - loss: 38017672.0000 - mae: 4314.5684 - val_loss: 37488420.0000 - val_mae: 4251.5972\n",
            "\n",
            "Epoch 00026: loss improved from 38161524.00000 to 38017672.00000, saving model to /content/drive/MyDrive/Colab Notebooks/practice/분류문제/문제6_딥러닝파라미터/26-38017672.00.h5\n",
            "Epoch 27/50\n",
            "1762/1762 [==============================] - 7s 4ms/step - loss: 37985172.0000 - mae: 4314.7622 - val_loss: 37299660.0000 - val_mae: 4222.6597\n",
            "\n",
            "Epoch 00027: loss improved from 38017672.00000 to 37985172.00000, saving model to /content/drive/MyDrive/Colab Notebooks/practice/분류문제/문제6_딥러닝파라미터/27-37985172.00.h5\n",
            "Epoch 28/50\n",
            "1762/1762 [==============================] - 7s 4ms/step - loss: 37982092.0000 - mae: 4312.7891 - val_loss: 37431968.0000 - val_mae: 4252.1357\n",
            "\n",
            "Epoch 00028: loss improved from 37985172.00000 to 37982092.00000, saving model to /content/drive/MyDrive/Colab Notebooks/practice/분류문제/문제6_딥러닝파라미터/28-37982092.00.h5\n",
            "Epoch 29/50\n",
            "1762/1762 [==============================] - 7s 4ms/step - loss: 38039056.0000 - mae: 4316.0112 - val_loss: 37720428.0000 - val_mae: 4298.6372\n",
            "\n",
            "Epoch 00029: loss did not improve from 37982092.00000\n",
            "Epoch 30/50\n",
            "1762/1762 [==============================] - 7s 4ms/step - loss: 37968224.0000 - mae: 4313.5459 - val_loss: 36949524.0000 - val_mae: 4224.9751\n",
            "\n",
            "Epoch 00030: loss improved from 37982092.00000 to 37968224.00000, saving model to /content/drive/MyDrive/Colab Notebooks/practice/분류문제/문제6_딥러닝파라미터/30-37968224.00.h5\n",
            "Epoch 31/50\n",
            "1762/1762 [==============================] - 7s 4ms/step - loss: 37920828.0000 - mae: 4310.0884 - val_loss: 37023544.0000 - val_mae: 4247.0039\n",
            "\n",
            "Epoch 00031: loss improved from 37968224.00000 to 37920828.00000, saving model to /content/drive/MyDrive/Colab Notebooks/practice/분류문제/문제6_딥러닝파라미터/31-37920828.00.h5\n",
            "Epoch 32/50\n",
            "1762/1762 [==============================] - 7s 4ms/step - loss: 37903788.0000 - mae: 4306.8140 - val_loss: 37049200.0000 - val_mae: 4255.8716\n",
            "\n",
            "Epoch 00032: loss improved from 37920828.00000 to 37903788.00000, saving model to /content/drive/MyDrive/Colab Notebooks/practice/분류문제/문제6_딥러닝파라미터/32-37903788.00.h5\n",
            "Epoch 33/50\n",
            "1762/1762 [==============================] - 7s 4ms/step - loss: 37850024.0000 - mae: 4304.2041 - val_loss: 36980696.0000 - val_mae: 4208.5581\n",
            "\n",
            "Epoch 00033: loss improved from 37903788.00000 to 37850024.00000, saving model to /content/drive/MyDrive/Colab Notebooks/practice/분류문제/문제6_딥러닝파라미터/33-37850024.00.h5\n",
            "Epoch 34/50\n",
            "1762/1762 [==============================] - 7s 4ms/step - loss: 37729352.0000 - mae: 4298.8511 - val_loss: 37337376.0000 - val_mae: 4227.5132\n",
            "\n",
            "Epoch 00034: loss improved from 37850024.00000 to 37729352.00000, saving model to /content/drive/MyDrive/Colab Notebooks/practice/분류문제/문제6_딥러닝파라미터/34-37729352.00.h5\n",
            "Epoch 35/50\n",
            "1762/1762 [==============================] - 7s 4ms/step - loss: 37673548.0000 - mae: 4291.3940 - val_loss: 36670780.0000 - val_mae: 4196.3970\n",
            "\n",
            "Epoch 00035: loss improved from 37729352.00000 to 37673548.00000, saving model to /content/drive/MyDrive/Colab Notebooks/practice/분류문제/문제6_딥러닝파라미터/35-37673548.00.h5\n",
            "Epoch 36/50\n",
            "1762/1762 [==============================] - 7s 4ms/step - loss: 37660680.0000 - mae: 4296.5293 - val_loss: 36698984.0000 - val_mae: 4221.4868\n",
            "\n",
            "Epoch 00036: loss improved from 37673548.00000 to 37660680.00000, saving model to /content/drive/MyDrive/Colab Notebooks/practice/분류문제/문제6_딥러닝파라미터/36-37660680.00.h5\n",
            "Epoch 37/50\n",
            "1762/1762 [==============================] - 7s 4ms/step - loss: 37641872.0000 - mae: 4294.0732 - val_loss: 37662752.0000 - val_mae: 4283.2573\n",
            "\n",
            "Epoch 00037: loss improved from 37660680.00000 to 37641872.00000, saving model to /content/drive/MyDrive/Colab Notebooks/practice/분류문제/문제6_딥러닝파라미터/37-37641872.00.h5\n",
            "Epoch 38/50\n",
            "1762/1762 [==============================] - 7s 4ms/step - loss: 37649788.0000 - mae: 4290.0737 - val_loss: 37582276.0000 - val_mae: 4253.0928\n",
            "\n",
            "Epoch 00038: loss did not improve from 37641872.00000\n",
            "Epoch 39/50\n",
            "1762/1762 [==============================] - 7s 4ms/step - loss: 37639624.0000 - mae: 4293.2656 - val_loss: 36754248.0000 - val_mae: 4199.1289\n",
            "\n",
            "Epoch 00039: loss improved from 37641872.00000 to 37639624.00000, saving model to /content/drive/MyDrive/Colab Notebooks/practice/분류문제/문제6_딥러닝파라미터/39-37639624.00.h5\n",
            "Epoch 40/50\n",
            "1762/1762 [==============================] - 7s 4ms/step - loss: 37607172.0000 - mae: 4287.0601 - val_loss: 37000308.0000 - val_mae: 4238.3579\n",
            "\n",
            "Epoch 00040: loss improved from 37639624.00000 to 37607172.00000, saving model to /content/drive/MyDrive/Colab Notebooks/practice/분류문제/문제6_딥러닝파라미터/40-37607172.00.h5\n",
            "Epoch 41/50\n",
            "1762/1762 [==============================] - 7s 4ms/step - loss: 37639656.0000 - mae: 4293.6182 - val_loss: 36712792.0000 - val_mae: 4206.7246\n",
            "\n",
            "Epoch 00041: loss did not improve from 37607172.00000\n",
            "Epoch 42/50\n",
            "1762/1762 [==============================] - 7s 4ms/step - loss: 37609256.0000 - mae: 4293.1577 - val_loss: 36549564.0000 - val_mae: 4199.4438\n",
            "\n",
            "Epoch 00042: loss did not improve from 37607172.00000\n",
            "Epoch 43/50\n",
            "1762/1762 [==============================] - 7s 4ms/step - loss: 37513832.0000 - mae: 4282.9590 - val_loss: 36482100.0000 - val_mae: 4189.2827\n",
            "\n",
            "Epoch 00043: loss improved from 37607172.00000 to 37513832.00000, saving model to /content/drive/MyDrive/Colab Notebooks/practice/분류문제/문제6_딥러닝파라미터/43-37513832.00.h5\n",
            "Epoch 44/50\n",
            "1762/1762 [==============================] - 7s 4ms/step - loss: 37502520.0000 - mae: 4285.5605 - val_loss: 36606684.0000 - val_mae: 4197.8281\n",
            "\n",
            "Epoch 00044: loss improved from 37513832.00000 to 37502520.00000, saving model to /content/drive/MyDrive/Colab Notebooks/practice/분류문제/문제6_딥러닝파라미터/44-37502520.00.h5\n",
            "Epoch 45/50\n",
            "1762/1762 [==============================] - 7s 4ms/step - loss: 37354488.0000 - mae: 4275.0005 - val_loss: 36615404.0000 - val_mae: 4213.0166\n",
            "\n",
            "Epoch 00045: loss improved from 37502520.00000 to 37354488.00000, saving model to /content/drive/MyDrive/Colab Notebooks/practice/분류문제/문제6_딥러닝파라미터/45-37354488.00.h5\n",
            "Epoch 46/50\n",
            "1762/1762 [==============================] - 7s 4ms/step - loss: 37367168.0000 - mae: 4275.1426 - val_loss: 36737536.0000 - val_mae: 4211.8760\n",
            "\n",
            "Epoch 00046: loss did not improve from 37354488.00000\n",
            "Epoch 47/50\n",
            "1762/1762 [==============================] - 7s 4ms/step - loss: 37354028.0000 - mae: 4274.9927 - val_loss: 36745940.0000 - val_mae: 4247.3125\n",
            "\n",
            "Epoch 00047: loss improved from 37354488.00000 to 37354028.00000, saving model to /content/drive/MyDrive/Colab Notebooks/practice/분류문제/문제6_딥러닝파라미터/47-37354028.00.h5\n",
            "Epoch 48/50\n",
            "1762/1762 [==============================] - 7s 4ms/step - loss: 37395432.0000 - mae: 4276.3896 - val_loss: 36353156.0000 - val_mae: 4188.2310\n",
            "\n",
            "Epoch 00048: loss did not improve from 37354028.00000\n",
            "Epoch 49/50\n",
            "1762/1762 [==============================] - 7s 4ms/step - loss: 37286160.0000 - mae: 4270.9214 - val_loss: 36236112.0000 - val_mae: 4192.3604\n",
            "\n",
            "Epoch 00049: loss improved from 37354028.00000 to 37286160.00000, saving model to /content/drive/MyDrive/Colab Notebooks/practice/분류문제/문제6_딥러닝파라미터/49-37286160.00.h5\n",
            "Epoch 50/50\n",
            "1762/1762 [==============================] - 7s 4ms/step - loss: 37365904.0000 - mae: 4277.5620 - val_loss: 36306004.0000 - val_mae: 4182.6895\n",
            "\n",
            "Epoch 00050: loss did not improve from 37286160.00000\n"
          ],
          "name": "stdout"
        }
      ]
    },
    {
      "cell_type": "markdown",
      "metadata": {
        "id": "ukeMbMPNoHOz"
      },
      "source": [
        "#### 딥러닝 모델평가"
      ]
    },
    {
      "cell_type": "code",
      "metadata": {
        "id": "nBOgJ9Jtu-rx",
        "colab": {
          "base_uri": "https://localhost:8080/"
        },
        "outputId": "dcbbc49d-073d-4e7a-d58a-498786cd95c0"
      },
      "source": [
        "model.evaluate(X_test, y_test)"
      ],
      "execution_count": null,
      "outputs": [
        {
          "output_type": "stream",
          "text": [
            "3021/3021 [==============================] - 5s 2ms/step - loss: 36306040.0000 - mae: 4182.6978\n"
          ],
          "name": "stdout"
        },
        {
          "output_type": "execute_result",
          "data": {
            "text/plain": [
              "[36306040.0, 4182.69775390625]"
            ]
          },
          "metadata": {
            "tags": []
          },
          "execution_count": 120
        }
      ]
    },
    {
      "cell_type": "code",
      "metadata": {
        "id": "lrYT8_dW12JK",
        "colab": {
          "base_uri": "https://localhost:8080/"
        },
        "outputId": "d36068cc-0a9d-4f80-e2a1-0d64bb0cbe2f"
      },
      "source": [
        "history_dict = history.history\n",
        "history_dict.keys()"
      ],
      "execution_count": null,
      "outputs": [
        {
          "output_type": "execute_result",
          "data": {
            "text/plain": [
              "dict_keys(['loss', 'mae', 'val_loss', 'val_mae'])"
            ]
          },
          "metadata": {
            "tags": []
          },
          "execution_count": 121
        }
      ]
    },
    {
      "cell_type": "code",
      "metadata": {
        "id": "9e7xZRPt8tmO",
        "colab": {
          "base_uri": "https://localhost:8080/"
        },
        "outputId": "7f6e1f8b-e401-4aa7-df3b-c1feece24606"
      },
      "source": [
        "print(model.predict(X_test[5:10]))\n",
        "print(y_test[5:10])"
      ],
      "execution_count": null,
      "outputs": [
        {
          "output_type": "stream",
          "text": [
            "[[ 5891.446]\n",
            " [ 9238.527]\n",
            " [17666.47 ]\n",
            " [10415.357]\n",
            " [27513.326]]\n",
            "221705     7500\n",
            "309804    10800\n",
            "147525    15196\n",
            "96013     18998\n",
            "329641    15999\n",
            "Name: price, dtype: int64\n"
          ],
          "name": "stdout"
        }
      ]
    },
    {
      "cell_type": "code",
      "metadata": {
        "id": "vTp7s7CJDlCq",
        "colab": {
          "base_uri": "https://localhost:8080/",
          "height": 295
        },
        "outputId": "60f88d5b-3c0e-4c0b-8531-94127f00bcfc"
      },
      "source": [
        "loss = history.history['loss'] \n",
        "val_loss = history.history['val_loss']\n",
        "\n",
        "epochs = range(1, len(loss) + 1)\n",
        "\n",
        "# ‘bo’는 파란색 점을 의미합니다\n",
        "plt.plot(epochs, loss, 'bo', label='Training loss')\n",
        "# ‘b’는 파란색 실선을 의미합니다\n",
        "plt.plot(epochs, val_loss, 'b', label='Validation loss')\n",
        "plt.title('Training and validation loss')\n",
        "plt.xlabel('Epochs')\n",
        "plt.ylabel('Loss')\n",
        "plt.legend()\n",
        "\n",
        "plt.show()"
      ],
      "execution_count": null,
      "outputs": [
        {
          "output_type": "display_data",
          "data": {
            "image/png": "[encoded data removed]",
            "text/plain": [
              "<Figure size 432x288 with 1 Axes>"
            ]
          },
          "metadata": {
            "tags": [],
            "needs_background": "light"
          }
        }
      ]
    },
    {
      "cell_type": "code",
      "metadata": {
        "id": "7C9mbE93Kcfw",
        "colab": {
          "base_uri": "https://localhost:8080/",
          "height": 295
        },
        "outputId": "faaf0bb6-300d-414a-e710-b8c919fbb4d7"
      },
      "source": [
        "plt.clf()   # 그래프를 초기화합니다\n",
        "mae = history.history['mae'] \n",
        "val_mae = history.history['val_mae'] \n",
        "\n",
        "plt.plot(epochs, mae, 'bo', label='Training mae')\n",
        "plt.plot(epochs, val_mae, 'b', label='Validation mae')\n",
        "plt.title('Training and validation mae')\n",
        "plt.xlabel('Epochs')\n",
        "plt.ylabel('MAE')\n",
        "plt.legend()\n",
        "\n",
        "plt.show()"
      ],
      "execution_count": null,
      "outputs": [
        {
          "output_type": "display_data",
          "data": {
            "image/png": "[encoded data removed]",
            "text/plain": [
              "<Figure size 432x288 with 1 Axes>"
            ]
          },
          "metadata": {
            "tags": [],
            "needs_background": "light"
          }
        }
      ]
    },
    {
      "cell_type": "code",
      "metadata": {
        "id": "gSxfoKHoRT8s"
      },
      "source": [
        ""
      ],
      "execution_count": null,
      "outputs": []
    },
    {
      "cell_type": "code",
      "metadata": {
        "id": "vwYWv2BVYLZu"
      },
      "source": [
        ""
      ],
      "execution_count": null,
      "outputs": []
    },
    {
      "cell_type": "code",
      "metadata": {
        "id": "F2KX1HEUfC2y"
      },
      "source": [
        ""
      ],
      "execution_count": null,
      "outputs": []
    },
    {
      "cell_type": "code",
      "metadata": {
        "id": "tLIjzwGal6Ts"
      },
      "source": [
        ""
      ],
      "execution_count": null,
      "outputs": []
    },
    {
      "cell_type": "code",
      "metadata": {
        "id": "b0fW5bb2sxwl"
      },
      "source": [
        ""
      ],
      "execution_count": null,
      "outputs": []
    },
    {
      "cell_type": "code",
      "metadata": {
        "id": "gzN_s-qgzpNp"
      },
      "source": [
        ""
      ],
      "execution_count": null,
      "outputs": []
    },
    {
      "cell_type": "code",
      "metadata": {
        "id": "ev93EiZT6gqr"
      },
      "source": [
        ""
      ],
      "execution_count": null,
      "outputs": []
    },
    {
      "cell_type": "code",
      "metadata": {
        "id": "m9sYOwEcBYHx"
      },
      "source": [
        ""
      ],
      "execution_count": null,
      "outputs": []
    },
    {
      "cell_type": "code",
      "metadata": {
        "id": "4DU8FE-BIPlR"
      },
      "source": [
        ""
      ],
      "execution_count": null,
      "outputs": []
    },
    {
      "cell_type": "code",
      "metadata": {
        "id": "3eix4GfOPHBu"
      },
      "source": [
        ""
      ],
      "execution_count": null,
      "outputs": []
    },
    {
      "cell_type": "code",
      "metadata": {
        "id": "CitOYs5DV-ek"
      },
      "source": [
        ""
      ],
      "execution_count": null,
      "outputs": []
    },
    {
      "cell_type": "code",
      "metadata": {
        "id": "bJAmvSm5c17r"
      },
      "source": [
        ""
      ],
      "execution_count": null,
      "outputs": []
    },
    {
      "cell_type": "code",
      "metadata": {
        "id": "0SaTxwCGhPx5"
      },
      "source": [
        ""
      ],
      "execution_count": null,
      "outputs": []
    },
    {
      "cell_type": "code",
      "metadata": {
        "id": "Rmx5fxueYP-B"
      },
      "source": [
        ""
      ],
      "execution_count": null,
      "outputs": []
    },
    {
      "cell_type": "code",
      "metadata": {
        "id": "PUOYIPkkYQBo"
      },
      "source": [
        ""
      ],
      "execution_count": null,
      "outputs": []
    },
    {
      "cell_type": "code",
      "metadata": {
        "id": "Q9_WTfOwYQFB"
      },
      "source": [
        ""
      ],
      "execution_count": null,
      "outputs": []
    },
    {
      "cell_type": "code",
      "metadata": {
        "id": "epYkWTwFYQI2"
      },
      "source": [
        ""
      ],
      "execution_count": null,
      "outputs": []
    }
  ]
}