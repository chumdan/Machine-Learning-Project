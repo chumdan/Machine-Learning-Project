{
  "nbformat": 4,
  "nbformat_minor": 0,
  "metadata": {
    "colab": {
      "name": "이미지분류_RNN_손글씨 이미지분류.ipynb",
      "provenance": [],
      "collapsed_sections": [],
      "authorship_tag": "ABX9TyPijejlc3yo5cuvRFj5C3md",
      "include_colab_link": true
    },
    "kernelspec": {
      "name": "python3",
      "display_name": "Python 3"
    },
    "language_info": {
      "name": "python"
    },
    "accelerator": "GPU"
  },
  "cells": [
    {
      "cell_type": "markdown",
      "metadata": {
        "id": "view-in-github",
        "colab_type": "text"
      },
      "source": [
        "<a href=\"https://colab.research.google.com/github/chumdan/Machine-Learning-Project/blob/main/Deep%20Learning%20Project/%EC%9D%B4%EB%AF%B8%EC%A7%80%EB%B6%84%EB%A5%98_RNN_%EC%86%90%EA%B8%80%EC%94%A8_%EC%9D%B4%EB%AF%B8%EC%A7%80%EB%B6%84%EB%A5%98.ipynb\" target=\"_parent\"><img src=\"https://colab.research.google.com/assets/colab-badge.svg\" alt=\"Open In Colab\"/></a>"
      ]
    },
    {
      "cell_type": "markdown",
      "metadata": {
        "id": "u1vZkH9q-yA7"
      },
      "source": [
        "# 주제 : 이미지 분류 - RNN(시계열)으로 손글씨 이미지 분류하기\n",
        "\n",
        "## 데이터  \n",
        "- MNIST 데이터 손글씨 데이터\n",
        "\n",
        "## 목표\n",
        "- 이미지분류의 RNN식 접근\n",
        "- data augmentation 기법의 이해"
      ]
    },
    {
      "cell_type": "markdown",
      "metadata": {
        "id": "sO-y4Py4_nmK"
      },
      "source": [
        "## Step 1. 데이터전처리"
      ]
    },
    {
      "cell_type": "markdown",
      "metadata": {
        "id": "ASvSuCQs_uR7"
      },
      "source": [
        "### 데이터 불러오기 및 기본적 형태 확인"
      ]
    },
    {
      "cell_type": "code",
      "metadata": {
        "id": "R9WaOrfZ_3vc"
      },
      "source": [
        "import tensorflow as tf\n",
        "from tensorflow import keras\n",
        "from keras.layers import Dense\n",
        "from keras.models import Sequential\n",
        "\n",
        "import pandas as pd\n",
        "import numpy as np\n",
        "import matplotlib.pyplot as plt\n",
        "import seaborn as sns\n",
        "import warnings \n",
        "from IPython.display import Image\n",
        "\n",
        "warnings.filterwarnings('ignore')\n",
        "%matplotlib inline\n",
        "\n",
        "SEED = 34"
      ],
      "execution_count": null,
      "outputs": []
    },
    {
      "cell_type": "code",
      "metadata": {
        "colab": {
          "base_uri": "https://localhost:8080/"
        },
        "id": "aQSnrTvM_9Y9",
        "outputId": "0b210a81-58d5-4215-af7a-abae12fa6280"
      },
      "source": [
        "mnist = keras.datasets.mnist\n",
        "((train_images, train_labels), (test_images, test_labels)) = mnist.load_data()"
      ],
      "execution_count": null,
      "outputs": [
        {
          "output_type": "stream",
          "text": [
            "Downloading data from https://storage.googleapis.com/tensorflow/tf-keras-datasets/mnist.npz\n",
            "11493376/11490434 [==============================] - 0s 0us/step\n"
          ],
          "name": "stdout"
        }
      ]
    },
    {
      "cell_type": "code",
      "metadata": {
        "colab": {
          "base_uri": "https://localhost:8080/"
        },
        "id": "iESh1qOiAGs0",
        "outputId": "56be713d-73a2-4a9b-bc83-56394efd0d98"
      },
      "source": [
        "print(f\"train_images:{train_images.shape}\")\n",
        "print(f\"train_labels:{train_labels.shape}\")\n",
        "print(f\"test_images:{test_images.shape}\")\n",
        "print(f\"test_labels:{test_labels.shape}\")"
      ],
      "execution_count": null,
      "outputs": [
        {
          "output_type": "stream",
          "text": [
            "train_images:(60000, 28, 28)\n",
            "train_labels:(60000,)\n",
            "test_images:(10000, 28, 28)\n",
            "test_labels:(10000,)\n"
          ],
          "name": "stdout"
        }
      ]
    },
    {
      "cell_type": "code",
      "metadata": {
        "colab": {
          "base_uri": "https://localhost:8080/",
          "height": 283
        },
        "id": "xBVsZccNAteE",
        "outputId": "52906de4-e36c-4b76-ac9a-a42662d71027"
      },
      "source": [
        "plt.figure()\n",
        "plt.imshow(train_images[1])\n",
        "plt.colorbar()\n",
        "plt.grid(True)\n",
        "plt.show()\n",
        "print(train_labels[1])"
      ],
      "execution_count": null,
      "outputs": [
        {
          "output_type": "display_data",
          "data": {
            "image/png": "[encoded data removed]",
            "text/plain": [
              "<Figure size 432x288 with 2 Axes>"
            ]
          },
          "metadata": {
            "tags": [],
            "needs_background": "light"
          }
        },
        {
          "output_type": "stream",
          "text": [
            "0\n"
          ],
          "name": "stdout"
        }
      ]
    },
    {
      "cell_type": "code",
      "metadata": {
        "colab": {
          "base_uri": "https://localhost:8080/"
        },
        "id": "ywbfPXdmBF8V",
        "outputId": "5876a8bb-30e5-44a4-8005-bfe5afa49f08"
      },
      "source": [
        "print(train_images.dtype)\n",
        "print(train_labels.dtype)"
      ],
      "execution_count": null,
      "outputs": [
        {
          "output_type": "stream",
          "text": [
            "uint8\n",
            "uint8\n"
          ],
          "name": "stdout"
        }
      ]
    },
    {
      "cell_type": "code",
      "metadata": {
        "colab": {
          "base_uri": "https://localhost:8080/"
        },
        "id": "6LDeFykNC7Az",
        "outputId": "c793fa95-0e3f-4725-ba43-b530ab339c64"
      },
      "source": [
        "# train/test 이미지 데이터의 최소/최대값 확인\n",
        "print(max(train_images.reshape(-1)), min(train_images.reshape(-1)))\n",
        "print(max(test_images.reshape(-1)), min(test_images.reshape(-1)))"
      ],
      "execution_count": null,
      "outputs": [
        {
          "output_type": "stream",
          "text": [
            "255 0\n",
            "255 0\n"
          ],
          "name": "stdout"
        }
      ]
    },
    {
      "cell_type": "markdown",
      "metadata": {
        "id": "QEFA5yMcDZAN"
      },
      "source": [
        "### 데이터 노말라이즈 수행"
      ]
    },
    {
      "cell_type": "code",
      "metadata": {
        "id": "93GW3v_3EHYm"
      },
      "source": [
        "# train/test 데이터 타입 실수형으로 전환\n",
        "test_images = test_images.astype(np.float64)\n",
        "train_images = train_images.astype(np.float64)"
      ],
      "execution_count": null,
      "outputs": []
    },
    {
      "cell_type": "code",
      "metadata": {
        "id": "wj7kYKEXEHem"
      },
      "source": [
        "# 최소값이 어차피 0 이기 때문에, 최대값에서 데이터수를 나눠주기만 해도된다.\n",
        "train_images = train_images / 255\n",
        "test_images = test_images / 255"
      ],
      "execution_count": null,
      "outputs": []
    },
    {
      "cell_type": "code",
      "metadata": {
        "colab": {
          "base_uri": "https://localhost:8080/"
        },
        "id": "ORViP-eWEHho",
        "outputId": "1bc3bbc7-9ac3-4d15-ef1f-b454249b9daf"
      },
      "source": [
        "print(list(filter(lambda x:x !=0, train_images[6].reshape(-1)))[:20])"
      ],
      "execution_count": null,
      "outputs": [
        {
          "output_type": "stream",
          "text": [
            "[0.5686274509803921, 1.0, 0.8274509803921568, 0.12156862745098039, 0.12549019607843137, 0.9294117647058824, 0.9921568627450981, 0.9882352941176471, 0.2784313725490196, 0.043137254901960784, 0.6862745098039216, 0.9921568627450981, 0.9882352941176471, 0.2784313725490196, 0.5647058823529412, 0.9921568627450981, 0.9882352941176471, 0.2784313725490196, 0.06274509803921569, 0.7490196078431373]\n"
          ],
          "name": "stdout"
        }
      ]
    },
    {
      "cell_type": "markdown",
      "metadata": {
        "id": "ER_APE8NEHjz"
      },
      "source": [
        "## Step2. 시각화"
      ]
    },
    {
      "cell_type": "code",
      "metadata": {
        "id": "gEOdWOOQFKbM",
        "colab": {
          "base_uri": "https://localhost:8080/"
        },
        "outputId": "6f895c93-6811-442a-fecc-5e8edb2ab244"
      },
      "source": [
        "# 여러 이미지 옆으로 붙여서 시각화\n",
        "# transpose 사용\n",
        "train_images[:10].transpose((1,0,2)).reshape(28,-1)"
      ],
      "execution_count": null,
      "outputs": [
        {
          "output_type": "execute_result",
          "data": {
            "text/plain": [
              "array([[0., 0., 0., ..., 0., 0., 0.],\n",
              "       [0., 0., 0., ..., 0., 0., 0.],\n",
              "       [0., 0., 0., ..., 0., 0., 0.],\n",
              "       ...,\n",
              "       [0., 0., 0., ..., 0., 0., 0.],\n",
              "       [0., 0., 0., ..., 0., 0., 0.],\n",
              "       [0., 0., 0., ..., 0., 0., 0.]])"
            ]
          },
          "metadata": {
            "tags": []
          },
          "execution_count": 10
        }
      ]
    },
    {
      "cell_type": "code",
      "metadata": {
        "colab": {
          "base_uri": "https://localhost:8080/",
          "height": 85
        },
        "id": "DD3nFo0Vb6Fy",
        "outputId": "6eed99c3-d4be-4d3f-d137-fc70b6c77ec6"
      },
      "source": [
        "plt.imshow(train_images[:10].transpose((1,0,2)).reshape(28, -1))\n",
        "plt.show()"
      ],
      "execution_count": null,
      "outputs": [
        {
          "output_type": "display_data",
          "data": {
            "image/png": "[encoded data removed]",
            "text/plain": [
              "<Figure size 432x288 with 1 Axes>"
            ]
          },
          "metadata": {
            "tags": [],
            "needs_background": "light"
          }
        }
      ]
    },
    {
      "cell_type": "code",
      "metadata": {
        "colab": {
          "base_uri": "https://localhost:8080/",
          "height": 276
        },
        "id": "53zQAhU6cWJo",
        "outputId": "a72479bd-9f42-4499-d173-cc5ee3de58bd"
      },
      "source": [
        "# 흑백으로 출력\n",
        "plt.imshow(train_images[:10].transpose( (1,0,2) ).reshape(28,-1), cmap='gray')\n",
        "plt.colorbar()\n",
        "plt.show()\n",
        "print(train_labels[:10])"
      ],
      "execution_count": null,
      "outputs": [
        {
          "output_type": "display_data",
          "data": {
            "image/png": "[encoded data removed]",
            "text/plain": [
              "<Figure size 432x288 with 2 Axes>"
            ]
          },
          "metadata": {
            "tags": [],
            "needs_background": "light"
          }
        },
        {
          "output_type": "stream",
          "text": [
            "[5 0 4 1 9 2 1 3 1 4]\n"
          ],
          "name": "stdout"
        }
      ]
    },
    {
      "cell_type": "markdown",
      "metadata": {
        "id": "dWk1nylDcs80"
      },
      "source": [
        "### Data augmentation - Noise 를 통한 학습데이터 늘리기"
      ]
    },
    {
      "cell_type": "code",
      "metadata": {
        "colab": {
          "base_uri": "https://localhost:8080/"
        },
        "id": "mDF3PVlBc-pk",
        "outputId": "2aacab1c-8e10-49be-e17b-f041640dcf9c"
      },
      "source": [
        "np.random.random((28,28)).shape"
      ],
      "execution_count": null,
      "outputs": [
        {
          "output_type": "execute_result",
          "data": {
            "text/plain": [
              "(28, 28)"
            ]
          },
          "metadata": {
            "tags": []
          },
          "execution_count": 13
        }
      ]
    },
    {
      "cell_type": "code",
      "metadata": {
        "colab": {
          "base_uri": "https://localhost:8080/",
          "height": 265
        },
        "id": "qo2hIPIXc-vk",
        "outputId": "c9daa284-7818-4e49-96fe-4cf9dd4194f1"
      },
      "source": [
        "# 노이즈 확인\n",
        "plt.imshow(np.random.random((28,28)), cmap=\"gray\")\n",
        "plt.colorbar()\n",
        "plt.show()"
      ],
      "execution_count": null,
      "outputs": [
        {
          "output_type": "display_data",
          "data": {
            "image/png": "[encoded data removed]",
            "text/plain": [
              "<Figure size 432x288 with 2 Axes>"
            ]
          },
          "metadata": {
            "tags": [],
            "needs_background": "light"
          }
        }
      ]
    },
    {
      "cell_type": "code",
      "metadata": {
        "colab": {
          "base_uri": "https://localhost:8080/",
          "height": 265
        },
        "id": "MMeG9NfWc-zG",
        "outputId": "4e9a4065-9892-4337-da03-ba3ee4b397e6"
      },
      "source": [
        "# np.random.normal 가우시안 노이즈 사용. \n",
        "plt.imshow(np.random.normal(0.0, 0.01, (28,28)), cmap='gray')\n",
        "plt.colorbar()\n",
        "plt.show()"
      ],
      "execution_count": null,
      "outputs": [
        {
          "output_type": "display_data",
          "data": {
            "image/png": "[encoded data removed]",
            "text/plain": [
              "<Figure size 432x288 with 2 Axes>"
            ]
          },
          "metadata": {
            "tags": [],
            "needs_background": "light"
          }
        }
      ]
    },
    {
      "cell_type": "code",
      "metadata": {
        "id": "_uzS0FELd7Td"
      },
      "source": [
        "# train_images와 test_images 데이터에 랜덤 노이즈를 추가\n",
        "train_noisy_images = train_images + np.random.normal(0.5, 0.1, train_images.shape)\n",
        "# 노멀라이즈를 했기때문에 1 보다 큰 값은 그냥 그냥 1로 바꿔준다\n",
        "train_noisy_images[train_noisy_images > 1.0] = 1.0\n",
        "\n",
        "test_noisy_images = test_images + np.random.normal(0.5 , 0.1, test_images.shape)\n",
        "test_noisy_images[test_images > 1.0] = 1.0"
      ],
      "execution_count": null,
      "outputs": []
    },
    {
      "cell_type": "code",
      "metadata": {
        "colab": {
          "base_uri": "https://localhost:8080/",
          "height": 252
        },
        "id": "JrbyybZwfap2",
        "outputId": "c058324f-f222-4879-f573-ae638095107d"
      },
      "source": [
        "# 유사한 학습 데이터를 만들었음\n",
        "plt.imshow(train_noisy_images[:10].transpose( (1,0,2) ).reshape(28,-1), cmap='gray')\n",
        "plt.colorbar()\n",
        "plt.show()"
      ],
      "execution_count": null,
      "outputs": [
        {
          "output_type": "display_data",
          "data": {
            "image/png": "[encoded data removed]",
            "text/plain": [
              "<Figure size 432x288 with 2 Axes>"
            ]
          },
          "metadata": {
            "tags": [],
            "needs_background": "light"
          }
        }
      ]
    },
    {
      "cell_type": "markdown",
      "metadata": {
        "id": "D5iy6sIRf1cf"
      },
      "source": [
        "### labels에 onehot 인코딩"
      ]
    },
    {
      "cell_type": "code",
      "metadata": {
        "colab": {
          "base_uri": "https://localhost:8080/"
        },
        "id": "CtvR76sJf-2k",
        "outputId": "dfb02ec4-4608-4c1f-a3ce-32546871e304"
      },
      "source": [
        "from keras.utils import to_categorical\n",
        "print(train_labels.shape, test_labels.shape)"
      ],
      "execution_count": null,
      "outputs": [
        {
          "output_type": "stream",
          "text": [
            "(60000,) (10000,)\n"
          ],
          "name": "stdout"
        }
      ]
    },
    {
      "cell_type": "code",
      "metadata": {
        "colab": {
          "base_uri": "https://localhost:8080/"
        },
        "id": "E5755iPaf-9U",
        "outputId": "5b3bb5ce-bd64-4033-808b-13afa2f534aa"
      },
      "source": [
        "train_labels = to_categorical(train_labels, 10)\n",
        "test_labels = to_categorical(test_labels, 10)\n",
        "print(train_labels.shape, test_labels.shape)"
      ],
      "execution_count": null,
      "outputs": [
        {
          "output_type": "stream",
          "text": [
            "(60000, 10) (10000, 10)\n"
          ],
          "name": "stdout"
        }
      ]
    },
    {
      "cell_type": "markdown",
      "metadata": {
        "id": "UMuoLFsfhuyX"
      },
      "source": [
        "## Step 3. 모델링"
      ]
    },
    {
      "cell_type": "markdown",
      "metadata": {
        "id": "heSs5yhrh20F"
      },
      "source": [
        "### RNN 분류 모델"
      ]
    },
    {
      "cell_type": "code",
      "metadata": {
        "colab": {
          "base_uri": "https://localhost:8080/"
        },
        "id": "E9NsVTREiCVO",
        "outputId": "5f64e805-ef5b-4b4a-da4b-8ce77f0e3025"
      },
      "source": [
        "# fully-conntect를 가진 모델작성\n",
        "from keras.layers import SimpleRNN\n",
        "from keras.layers import Dense, Input\n",
        "from keras.models import Model\n",
        "\n",
        "inputs = Input(shape=(28,28))\n",
        "x1 = SimpleRNN(64, activation='tanh')(inputs)\n",
        "x2 = Dense(10, activation='softmax')(x1)\n",
        "model = Model(inputs, x2)\n",
        "\n",
        "model.summary()"
      ],
      "execution_count": null,
      "outputs": [
        {
          "output_type": "stream",
          "text": [
            "Model: \"model\"\n",
            "_________________________________________________________________\n",
            "Layer (type)                 Output Shape              Param #   \n",
            "=================================================================\n",
            "input_1 (InputLayer)         [(None, 28, 28)]          0         \n",
            "_________________________________________________________________\n",
            "simple_rnn (SimpleRNN)       (None, 64)                5952      \n",
            "_________________________________________________________________\n",
            "dense (Dense)                (None, 10)                650       \n",
            "=================================================================\n",
            "Total params: 6,602\n",
            "Trainable params: 6,602\n",
            "Non-trainable params: 0\n",
            "_________________________________________________________________\n"
          ],
          "name": "stdout"
        }
      ]
    },
    {
      "cell_type": "code",
      "metadata": {
        "id": "Q_pg_XwoiCYw"
      },
      "source": [
        "model.compile(loss='categorical_crossentropy', optimizer='adam', metrics =['accuracy'])"
      ],
      "execution_count": null,
      "outputs": []
    },
    {
      "cell_type": "markdown",
      "metadata": {
        "id": "AmYnyOhtiCbu"
      },
      "source": [
        "### 모델 학습"
      ]
    },
    {
      "cell_type": "code",
      "metadata": {
        "colab": {
          "base_uri": "https://localhost:8080/"
        },
        "id": "OrTCmnjSkXNn",
        "outputId": "95ee4522-c9e4-4687-8e71-ff9e613b7046"
      },
      "source": [
        "hist = model.fit(train_noisy_images, train_labels, validation_data=(test_noisy_images, test_labels), epochs=5, verbose=2 ) "
      ],
      "execution_count": null,
      "outputs": [
        {
          "output_type": "stream",
          "text": [
            "Epoch 1/5\n",
            "1875/1875 - 26s - loss: 0.7294 - accuracy: 0.7654 - val_loss: 0.7545 - val_accuracy: 0.7626\n",
            "Epoch 2/5\n",
            "1875/1875 - 22s - loss: 0.3852 - accuracy: 0.8846 - val_loss: 0.7308 - val_accuracy: 0.7784\n",
            "Epoch 3/5\n",
            "1875/1875 - 21s - loss: 0.3143 - accuracy: 0.9068 - val_loss: 0.5627 - val_accuracy: 0.8226\n",
            "Epoch 4/5\n",
            "1875/1875 - 22s - loss: 0.2809 - accuracy: 0.9186 - val_loss: 0.6765 - val_accuracy: 0.7864\n",
            "Epoch 5/5\n",
            "1875/1875 - 22s - loss: 0.2596 - accuracy: 0.9253 - val_loss: 0.6955 - val_accuracy: 0.7788\n"
          ],
          "name": "stdout"
        }
      ]
    },
    {
      "cell_type": "markdown",
      "metadata": {
        "id": "6FGCx7mmkXRm"
      },
      "source": [
        "### 학습 진행 사항 plt으로 출력"
      ]
    },
    {
      "cell_type": "code",
      "metadata": {
        "colab": {
          "base_uri": "https://localhost:8080/",
          "height": 265
        },
        "id": "dZQOLWMukXUV",
        "outputId": "1f81d1f9-70e0-4a98-9fef-34fa622f2841"
      },
      "source": [
        "plt.plot(hist.history['accuracy'], label='accuracy')\n",
        "plt.plot(hist.history['loss'], label='loss')\n",
        "plt.plot(hist.history['val_accuracy'], label='val_accuracy')\n",
        "plt.plot(hist.history['val_loss'], label='val_loss')\n",
        "plt.legend(loc='upper left')\n",
        "plt.show()"
      ],
      "execution_count": null,
      "outputs": [
        {
          "output_type": "display_data",
          "data": {
            "image/png": "[encoded data removed]",
            "text/plain": [
              "<Figure size 432x288 with 1 Axes>"
            ]
          },
          "metadata": {
            "tags": [],
            "needs_background": "light"
          }
        }
      ]
    },
    {
      "cell_type": "markdown",
      "metadata": {
        "id": "MKZwuYQwkXXY"
      },
      "source": [
        "## Step 4. 결과확인"
      ]
    },
    {
      "cell_type": "code",
      "metadata": {
        "colab": {
          "base_uri": "https://localhost:8080/",
          "height": 216
        },
        "id": "YaA7ZODPnGOf",
        "outputId": "0b961008-8c2d-4e41-984e-b8f1a49acbd4"
      },
      "source": [
        "# np.concatenate  활용 축별 결합\n",
        "plt.imshow(np.concatenate([test_noisy_images[7], test_images[7]], axis=1), cmap=\"gray\")\n",
        "plt.show()"
      ],
      "execution_count": null,
      "outputs": [
        {
          "output_type": "display_data",
          "data": {
            "image/png": "[encoded data removed]",
            "text/plain": [
              "<Figure size 432x288 with 1 Axes>"
            ]
          },
          "metadata": {
            "tags": [],
            "needs_background": "light"
          }
        }
      ]
    },
    {
      "cell_type": "markdown",
      "metadata": {
        "id": "TO0XIt58nGSe"
      },
      "source": [
        "###  res와 test_labels[0]의 결과를 plt.bar"
      ]
    },
    {
      "cell_type": "code",
      "metadata": {
        "colab": {
          "base_uri": "https://localhost:8080/",
          "height": 265
        },
        "id": "ErKkXe3nnGVO",
        "outputId": "fc26488e-792e-47ac-c9e8-b64abffe9ca8"
      },
      "source": [
        "res = model.predict( test_noisy_images[7:8])\n",
        "plt.bar(range(10), res[0], color='red')\n",
        "plt.bar(np.array(range(10)) + 0.35, test_labels[7])\n",
        "plt.show()"
      ],
      "execution_count": null,
      "outputs": [
        {
          "output_type": "display_data",
          "data": {
            "image/png": "[encoded data removed]",
            "text/plain": [
              "<Figure size 432x288 with 1 Axes>"
            ]
          },
          "metadata": {
            "tags": [],
            "needs_background": "light"
          }
        }
      ]
    },
    {
      "cell_type": "markdown",
      "metadata": {
        "id": "FR_58soVnGYB"
      },
      "source": [
        "## Step 5. 모델 저장 및 다운로드"
      ]
    },
    {
      "cell_type": "code",
      "metadata": {
        "id": "DKumsj-CnGbg"
      },
      "source": [
        "# 모델저장\n",
        "model.save(\"./lecture001.h5\")"
      ],
      "execution_count": null,
      "outputs": []
    },
    {
      "cell_type": "code",
      "metadata": {
        "id": "0dszQ2NbnGeS"
      },
      "source": [
        "new_model = tf.keras.models.load_model('./lecture001.h5')"
      ],
      "execution_count": null,
      "outputs": []
    },
    {
      "cell_type": "code",
      "metadata": {
        "colab": {
          "base_uri": "https://localhost:8080/",
          "height": 265
        },
        "id": "TnbW4tdjnGg9",
        "outputId": "8814b1fd-fa19-41fe-f3ce-d37c78c2379c"
      },
      "source": [
        "# 불러온 모델 확인\n",
        "res = new_model.predict( test_noisy_images[7:8] ) \n",
        "res.shape\n",
        "plt.bar(range(10), res[0], color='red')\n",
        "plt.bar(np.array(range(10)) + 0.35, test_labels[3])\n",
        "plt.show()"
      ],
      "execution_count": null,
      "outputs": [
        {
          "output_type": "display_data",
          "data": {
            "image/png": "[encoded data removed]",
            "text/plain": [
              "<Figure size 432x288 with 1 Axes>"
            ]
          },
          "metadata": {
            "tags": [],
            "needs_background": "light"
          }
        }
      ]
    },
    {
      "cell_type": "code",
      "metadata": {
        "colab": {
          "base_uri": "https://localhost:8080/"
        },
        "id": "9fUJWQrToZzu",
        "outputId": "6b58ca12-55ae-443a-b25f-0302a658cd2c"
      },
      "source": [
        "loss, acc = new_model.evaluate(test_noisy_images, test_labels, verbose=2)\n",
        "print(loss, acc)\n",
        "loss, acc = model.evaluate(test_noisy_images, test_labels, verbose=2)\n",
        "print(loss, acc)"
      ],
      "execution_count": null,
      "outputs": [
        {
          "output_type": "stream",
          "text": [
            "313/313 - 1s - loss: 0.6955 - accuracy: 0.7788\n",
            "0.6954827904701233 0.7788000106811523\n",
            "313/313 - 1s - loss: 0.6955 - accuracy: 0.7788\n",
            "0.6954827904701233 0.7788000106811523\n"
          ],
          "name": "stdout"
        }
      ]
    },
    {
      "cell_type": "code",
      "metadata": {
        "colab": {
          "base_uri": "https://localhost:8080/",
          "height": 17
        },
        "id": "oDtTCEgaoZ9m",
        "outputId": "64d88b2a-d824-4215-d886-339468e1840a"
      },
      "source": [
        "# 모델 컴퓨터 저장\n",
        "from google.colab import files\n",
        "files.download('./lecture001.h5')"
      ],
      "execution_count": null,
      "outputs": [
        {
          "output_type": "display_data",
          "data": {
            "application/javascript": [
              "\n",
              "    async function download(id, filename, size) {\n",
              "      if (!google.colab.kernel.accessAllowed) {\n",
              "        return;\n",
              "      }\n",
              "      const div = document.createElement('div');\n",
              "      const label = document.createElement('label');\n",
              "      label.textContent = `Downloading \"${filename}\": `;\n",
              "      div.appendChild(label);\n",
              "      const progress = document.createElement('progress');\n",
              "      progress.max = size;\n",
              "      div.appendChild(progress);\n",
              "      document.body.appendChild(div);\n",
              "\n",
              "      const buffers = [];\n",
              "      let downloaded = 0;\n",
              "\n",
              "      const channel = await google.colab.kernel.comms.open(id);\n",
              "      // Send a message to notify the kernel that we're ready.\n",
              "      channel.send({})\n",
              "\n",
              "      for await (const message of channel.messages) {\n",
              "        // Send a message to notify the kernel that we're ready.\n",
              "        channel.send({})\n",
              "        if (message.buffers) {\n",
              "          for (const buffer of message.buffers) {\n",
              "            buffers.push(buffer);\n",
              "            downloaded += buffer.byteLength;\n",
              "            progress.value = downloaded;\n",
              "          }\n",
              "        }\n",
              "      }\n",
              "      const blob = new Blob(buffers, {type: 'application/binary'});\n",
              "      const a = document.createElement('a');\n",
              "      a.href = window.URL.createObjectURL(blob);\n",
              "      a.download = filename;\n",
              "      div.appendChild(a);\n",
              "      a.click();\n",
              "      div.remove();\n",
              "    }\n",
              "  "
            ],
            "text/plain": [
              "<IPython.core.display.Javascript object>"
            ]
          },
          "metadata": {
            "tags": []
          }
        },
        {
          "output_type": "display_data",
          "data": {
            "application/javascript": [
              "download(\"download_89df638d-c057-4e23-a2dc-3531bf4d8eb9\", \"lecture001.h5\", 110528)"
            ],
            "text/plain": [
              "<IPython.core.display.Javascript object>"
            ]
          },
          "metadata": {
            "tags": []
          }
        }
      ]
    },
    {
      "cell_type": "code",
      "metadata": {
        "id": "p1VshX_QplXX"
      },
      "source": [
        ""
      ],
      "execution_count": null,
      "outputs": []
    }
  ]
}