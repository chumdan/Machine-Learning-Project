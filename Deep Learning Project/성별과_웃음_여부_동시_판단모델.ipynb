{
  "nbformat": 4,
  "nbformat_minor": 0,
  "metadata": {
    "colab": {
      "name": "성별과 웃음 여부 동시 판단모델.ipynb",
      "provenance": [],
      "toc_visible": true,
      "authorship_tag": "ABX9TyOaOoBr9Jdqyh5NajTov+YN",
      "include_colab_link": true
    },
    "kernelspec": {
      "name": "python3",
      "display_name": "Python 3"
    },
    "language_info": {
      "name": "python"
    },
    "accelerator": "GPU"
  },
  "cells": [
    {
      "cell_type": "markdown",
      "metadata": {
        "id": "view-in-github",
        "colab_type": "text"
      },
      "source": [
        "<a href=\"https://colab.research.google.com/github/chumdan/Machine-Learning-Project/blob/main/Deep%20Learning%20Project/%EC%84%B1%EB%B3%84%EA%B3%BC_%EC%9B%83%EC%9D%8C_%EC%97%AC%EB%B6%80_%EB%8F%99%EC%8B%9C_%ED%8C%90%EB%8B%A8%EB%AA%A8%EB%8D%B8.ipynb\" target=\"_parent\"><img src=\"https://colab.research.google.com/assets/colab-badge.svg\" alt=\"Open In Colab\"/></a>"
      ]
    },
    {
      "cell_type": "markdown",
      "metadata": {
        "id": "-vGdlbnGAofo"
      },
      "source": [
        "# 주제 : 성별과 웃음 여부를 동시에 판단하는 모델\n",
        "\n",
        "## 데이터  \n",
        "- 작게 줄인 celeba 데이터\n",
        "\n",
        "## 목표\n",
        "- 한 모델에서 여러 결과에 대한 분석\n",
        "- 작게 줄인 celeba 데이터를 이용하여 웃음, 성별 동시 구분"
      ]
    },
    {
      "cell_type": "code",
      "metadata": {
        "id": "5Nh3qnRtBIzz"
      },
      "source": [
        "import tensorflow as tf\n",
        "from tensorflow import keras\n",
        "from keras.layers import Dense\n",
        "from keras.models import Sequential\n",
        "\n",
        "import pandas as pd\n",
        "import numpy as np\n",
        "import matplotlib.pyplot as plt\n",
        "import seaborn as sns\n",
        "import warnings \n",
        "from IPython.display import Image\n",
        "\n",
        "warnings.filterwarnings('ignore')\n",
        "%matplotlib inline\n",
        "\n",
        "SEED = 34"
      ],
      "execution_count": 1,
      "outputs": []
    },
    {
      "cell_type": "markdown",
      "metadata": {
        "id": "PW2_OWYwBO09"
      },
      "source": [
        "## Step 1. 데이터전처리"
      ]
    },
    {
      "cell_type": "markdown",
      "metadata": {
        "id": "--ZMkGtFBd79"
      },
      "source": [
        "### 데이터 불러오기 및 기본적 형태 확인"
      ]
    },
    {
      "cell_type": "code",
      "metadata": {
        "colab": {
          "base_uri": "https://localhost:8080/"
        },
        "id": "3z20LbdYBeAB",
        "outputId": "cd0fa0db-41fa-4b70-c6cb-25b74072f3a9"
      },
      "source": [
        "from google.colab import drive\n",
        "drive.mount('/gdrive', force_remount=True)"
      ],
      "execution_count": 3,
      "outputs": [
        {
          "output_type": "stream",
          "text": [
            "Mounted at /gdrive\n"
          ],
          "name": "stdout"
        }
      ]
    },
    {
      "cell_type": "code",
      "metadata": {
        "colab": {
          "base_uri": "https://localhost:8080/"
        },
        "id": "63XM1tFPBeDe",
        "outputId": "56156a9e-7784-414e-d165-5a18aac2ddb9"
      },
      "source": [
        "!ls -al /gdrive/'My Drive'/'Colab Notebooks'/dataset/celeba_small.npz"
      ],
      "execution_count": 4,
      "outputs": [
        {
          "output_type": "stream",
          "text": [
            "-rw------- 1 root root 173961605 Apr  9 05:38 '/gdrive/My Drive/Colab Notebooks/dataset/celeba_small.npz'\n"
          ],
          "name": "stdout"
        }
      ]
    },
    {
      "cell_type": "code",
      "metadata": {
        "id": "zsM42p62BeF9"
      },
      "source": [
        "# 예시 이미지 한장 가져오기.\n",
        "celeba_small = np.load('/gdrive/MyDrive/Colab Notebooks/dataset/celeba_small.npz')\n",
        "x = celeba_small['train_images'][2]\n",
        "y = celeba_small['train_labels'][2]"
      ],
      "execution_count": 5,
      "outputs": []
    },
    {
      "cell_type": "code",
      "metadata": {
        "colab": {
          "base_uri": "https://localhost:8080/"
        },
        "id": "3e3pP5xTBeJD",
        "outputId": "c5a3361d-572a-4f97-9fbe-a31c3daab514"
      },
      "source": [
        "x.shape, y.shape\n",
        "x.shape, y.shape"
      ],
      "execution_count": 6,
      "outputs": [
        {
          "output_type": "execute_result",
          "data": {
            "text/plain": [
              "((72, 59, 3), (2,))"
            ]
          },
          "metadata": {
            "tags": []
          },
          "execution_count": 6
        }
      ]
    },
    {
      "cell_type": "code",
      "metadata": {
        "colab": {
          "base_uri": "https://localhost:8080/",
          "height": 287
        },
        "id": "O1D3oLUSBeLu",
        "outputId": "7a474950-beac-4735-c8a1-1562bd75150d"
      },
      "source": [
        "plt.imshow(x)\n",
        "plt.colorbar()\n",
        "plt.show()\n",
        "print(y)"
      ],
      "execution_count": 7,
      "outputs": [
        {
          "output_type": "display_data",
          "data": {
            "image/png": "[encoded data removed]",
            "text/plain": [
              "<Figure size 432x288 with 2 Axes>"
            ]
          },
          "metadata": {
            "tags": [],
            "needs_background": "light"
          }
        },
        {
          "output_type": "stream",
          "text": [
            "[1 0]\n"
          ],
          "name": "stdout"
        }
      ]
    },
    {
      "cell_type": "markdown",
      "metadata": {
        "id": "z-gNEJmGEOE_"
      },
      "source": [
        "### celeba_small.npz 데이터에서 학습, 테스트 데이터 로드"
      ]
    },
    {
      "cell_type": "code",
      "metadata": {
        "id": "hn9XSkhlBeOi"
      },
      "source": [
        "\n",
        "celeba_small = np.load('/gdrive/MyDrive/Colab Notebooks/dataset/celeba_small.npz')\n",
        "train_images = celeba_small['train_images']\n",
        "train_labels = celeba_small['train_labels']\n",
        "\n",
        "test_images = celeba_small['test_images']\n",
        "test_labels = celeba_small['test_labels']"
      ],
      "execution_count": 8,
      "outputs": []
    },
    {
      "cell_type": "code",
      "metadata": {
        "colab": {
          "base_uri": "https://localhost:8080/"
        },
        "id": "K9BHsUmsDz_9",
        "outputId": "0bb2c4c1-3a8b-4600-f8fb-c8c936922f3e"
      },
      "source": [
        "print(train_images.dtype)\n",
        "print(train_labels.dtype)\n",
        "print(test_images.dtype)\n",
        "print(test_labels.dtype)"
      ],
      "execution_count": 9,
      "outputs": [
        {
          "output_type": "stream",
          "text": [
            "float64\n",
            "int8\n",
            "float64\n",
            "int8\n"
          ],
          "name": "stdout"
        }
      ]
    },
    {
      "cell_type": "markdown",
      "metadata": {
        "id": "85uLguQXEEZY"
      },
      "source": [
        "### 이미지 데이터의 범위 확인 "
      ]
    },
    {
      "cell_type": "code",
      "metadata": {
        "colab": {
          "base_uri": "https://localhost:8080/"
        },
        "id": "837o-DLwEbZ9",
        "outputId": "bc584933-dace-4d49-9139-fd4537231bb6"
      },
      "source": [
        "print(train_images.shape, test_images.shape)\n",
        "print(train_images.dtype, test_images.dtype)\n",
        "\n",
        "\n",
        "print(train_labels.shape, test_labels.shape)\n",
        "print(train_labels.dtype, test_labels.dtype)\n",
        "\n",
        "print(train_images[train_images != 0][:10])\n",
        "print(test_images[test_images != 0][:10])"
      ],
      "execution_count": 10,
      "outputs": [
        {
          "output_type": "stream",
          "text": [
            "(2000, 72, 59, 3) (200, 72, 59, 3)\n",
            "float64 float64\n",
            "(2000, 2) (200, 2)\n",
            "int8 int8\n",
            "[0.02352941 0.04313725 0.05490196 0.01960784 0.03921569 0.05490196\n",
            " 0.01977401 0.03921569 0.05114656 0.02352941]\n",
            "[0.52571083 0.90221419 0.8707544  0.56460618 0.95304088 0.91372549\n",
            " 0.55277501 0.94885344 0.90571618 0.55756065]\n"
          ],
          "name": "stdout"
        }
      ]
    },
    {
      "cell_type": "code",
      "metadata": {
        "colab": {
          "base_uri": "https://localhost:8080/"
        },
        "id": "AoqbKwB4Egke",
        "outputId": "59d53544-8d02-4a67-e850-d98cd01ee151"
      },
      "source": [
        "# images/labels 이미지 데이터의 최소/최대값\n",
        "print(train_images.min(), train_images.max())\n",
        "print(train_labels.min(), train_labels.max())"
      ],
      "execution_count": 11,
      "outputs": [
        {
          "output_type": "stream",
          "text": [
            "0.0 1.0\n",
            "0 1\n"
          ],
          "name": "stdout"
        }
      ]
    },
    {
      "cell_type": "markdown",
      "metadata": {
        "id": "ym4EmW7VEqEG"
      },
      "source": [
        "### 분석하기 편하도록 shape형태 변경"
      ]
    },
    {
      "cell_type": "code",
      "metadata": {
        "colab": {
          "base_uri": "https://localhost:8080/"
        },
        "id": "_tlEGEhoE4uH",
        "outputId": "8ede0407-ff2e-4e6e-b6bf-f9d0a2373ad6"
      },
      "source": [
        "from keras.utils import to_categorical\n",
        "#  (배치, (성별,웃음)) => (배치, 남자, 여자), (배치, 웃음, 안웃음)\n",
        "train_male_labels, train_smile_labels = np.split(train_labels, 2, axis=1)\n",
        "test_male_labels, test_smile_labels = np.split(test_labels, 2, axis=1)\n",
        "\n",
        "print(train_male_labels.shape, train_smile_labels.shape)\n",
        "print(train_male_labels[0], train_smile_labels[0], train_labels[0])"
      ],
      "execution_count": 12,
      "outputs": [
        {
          "output_type": "stream",
          "text": [
            "(2000, 1) (2000, 1)\n",
            "[0] [0] [0 0]\n"
          ],
          "name": "stdout"
        }
      ]
    },
    {
      "cell_type": "code",
      "metadata": {
        "id": "vhcHZJbJE4zm"
      },
      "source": [
        "# 원핫 인코딩\n",
        "train_male_labels = to_categorical(train_male_labels)\n",
        "train_smile_labels = to_categorical(train_smile_labels)\n",
        "test_male_labels = to_categorical(test_male_labels)\n",
        "test_smile_labels = to_categorical(test_smile_labels)"
      ],
      "execution_count": 13,
      "outputs": []
    },
    {
      "cell_type": "code",
      "metadata": {
        "colab": {
          "base_uri": "https://localhost:8080/"
        },
        "id": "wRRNmCPSE43W",
        "outputId": "64479062-ca07-425b-b8c2-dac171bbbdd0"
      },
      "source": [
        "print(train_male_labels.shape, train_smile_labels.shape)\n",
        "print(test_male_labels.shape, test_smile_labels.shape)"
      ],
      "execution_count": 14,
      "outputs": [
        {
          "output_type": "stream",
          "text": [
            "(2000, 2) (2000, 2)\n",
            "(200, 2) (200, 2)\n"
          ],
          "name": "stdout"
        }
      ]
    },
    {
      "cell_type": "code",
      "metadata": {
        "colab": {
          "base_uri": "https://localhost:8080/"
        },
        "id": "Nq5O45BqE46l",
        "outputId": "fd8328bb-c516-48a7-b73a-3f4fa964e75e"
      },
      "source": [
        "# 최종적으로 labels의 shape을 (배치, 2), (배치, 2)에서 (배치, 4)로 결합\n",
        "# concatenate 사용\n",
        "train_labels2 = np.concatenate([train_male_labels, train_smile_labels], axis = 1)\n",
        "test_labels2 = np.concatenate([test_male_labels, test_smile_labels], axis = 1)\n",
        "print(train_labels2.shape, test_labels2.shape)"
      ],
      "execution_count": 15,
      "outputs": [
        {
          "output_type": "stream",
          "text": [
            "(2000, 4) (200, 4)\n"
          ],
          "name": "stdout"
        }
      ]
    },
    {
      "cell_type": "markdown",
      "metadata": {
        "id": "ycUyH3IrE49l"
      },
      "source": [
        "## Step 2. 시각화"
      ]
    },
    {
      "cell_type": "markdown",
      "metadata": {
        "id": "DIteJYI-GukG"
      },
      "source": [
        "### 이미지 5장 시각화"
      ]
    },
    {
      "cell_type": "code",
      "metadata": {
        "colab": {
          "base_uri": "https://localhost:8080/"
        },
        "id": "yLwUNlwAGunm",
        "outputId": "177cb7ef-54c1-4f06-ffb1-9b72efcfb1d7"
      },
      "source": [
        "train_images[:5].shape"
      ],
      "execution_count": 16,
      "outputs": [
        {
          "output_type": "execute_result",
          "data": {
            "text/plain": [
              "(5, 72, 59, 3)"
            ]
          },
          "metadata": {
            "tags": []
          },
          "execution_count": 16
        }
      ]
    },
    {
      "cell_type": "code",
      "metadata": {
        "colab": {
          "base_uri": "https://localhost:8080/",
          "height": 133
        },
        "id": "JHZe-ID1Guqo",
        "outputId": "6979a32a-c541-4987-e595-3b1cff1bb67b"
      },
      "source": [
        "# transpose 활용하여 plt 옆으로 출력\n",
        "\n",
        "plt.imshow(train_images[:5].transpose((1, 0, 2, 3)).reshape((72, -1, 3)))\n",
        "plt.show()"
      ],
      "execution_count": 17,
      "outputs": [
        {
          "output_type": "display_data",
          "data": {
            "image/png": "[encoded data removed]",
            "text/plain": [
              "<Figure size 432x288 with 1 Axes>"
            ]
          },
          "metadata": {
            "tags": [],
            "needs_background": "light"
          }
        }
      ]
    },
    {
      "cell_type": "code",
      "metadata": {
        "colab": {
          "base_uri": "https://localhost:8080/"
        },
        "id": "ewHfKOuyGuto",
        "outputId": "bbd2035a-6806-4ae8-db12-194da1676ccc"
      },
      "source": [
        "# smile, male label출력\n",
        "\n",
        "for male, smile in zip(train_male_labels[:5], train_smile_labels[:5]):\n",
        "  print(male, smile)"
      ],
      "execution_count": 18,
      "outputs": [
        {
          "output_type": "stream",
          "text": [
            "[1. 0.] [1. 0.]\n",
            "[0. 1.] [0. 1.]\n",
            "[0. 1.] [1. 0.]\n",
            "[0. 1.] [0. 1.]\n",
            "[0. 1.] [0. 1.]\n"
          ],
          "name": "stdout"
        }
      ]
    },
    {
      "cell_type": "markdown",
      "metadata": {
        "id": "pUOTCsZpGuwn"
      },
      "source": [
        "### smile, male이 각각 몇개 있는지 측정"
      ]
    },
    {
      "cell_type": "code",
      "metadata": {
        "colab": {
          "base_uri": "https://localhost:8080/",
          "height": 294
        },
        "id": "s2_rvSc9Guzc",
        "outputId": "8bd49fc0-f89c-4daf-d035-b2ec5e3533bc"
      },
      "source": [
        "df = pd.DataFrame(train_labels, columns = ['gender', 'smile'])\n",
        "df.groupby(['gender', 'smile']).size().unstack().plot(kind='bar', stacked=True)"
      ],
      "execution_count": 19,
      "outputs": [
        {
          "output_type": "execute_result",
          "data": {
            "text/plain": [
              "<matplotlib.axes._subplots.AxesSubplot at 0x7f5cacb7d210>"
            ]
          },
          "metadata": {
            "tags": []
          },
          "execution_count": 19
        },
        {
          "output_type": "display_data",
          "data": {
            "image/png": "[encoded data removed]",
            "text/plain": [
              "<Figure size 432x288 with 1 Axes>"
            ]
          },
          "metadata": {
            "tags": [],
            "needs_background": "light"
          }
        }
      ]
    },
    {
      "cell_type": "markdown",
      "metadata": {
        "id": "v_WcALovGu3B"
      },
      "source": [
        "## Step3. 멀티 아웃풋 모델(같은 파라미터를 공유하기 때문에 합쳐서 진행)"
      ]
    },
    {
      "cell_type": "code",
      "metadata": {
        "id": "ixnKLBaoGu6h"
      },
      "source": [
        "# input (배치, 72, 59, 3), output (배치, 4)을 처리할 수 있는 모양의 모델\n",
        "from keras.models import Model\n",
        "from keras.layers import Conv2D, MaxPool2D, Input, Dense, Flatten, Concatenate\n",
        "\n",
        "def multi_model():\n",
        "  inputs = Input((72, 59, 3))\n",
        "\n",
        "  l1 = Conv2D(32, 3, activation='relu')(inputs)\n",
        "  l2 = MaxPool2D(2)(l1)\n",
        "  l3 = Conv2D(64, 3, activation='relu')(l2)\n",
        "  l4 = MaxPool2D(2)(l3)\n",
        "  l5 = Conv2D(64, 3, activation='relu')(l4)\n",
        "  l6 = MaxPool2D(2)(l5)\n",
        "  \n",
        "  l7 = Flatten()(l6)\n",
        "  latent_vector = Dense(64, activation='relu')(l7)\n",
        "  \n",
        "# 레이어 공유\n",
        "  gender_outputs = Dense(2, activation='softmax')(latent_vector)\n",
        "  smile_outputs = Dense(2, activation='softmax')(latent_vector)\n",
        "# Concatenate 활용하여 결합\n",
        "  outputs = Concatenate(axis=1)([gender_outputs, smile_outputs])\n",
        "  model = Model(inputs, outputs)\n",
        "  return model"
      ],
      "execution_count": 20,
      "outputs": []
    },
    {
      "cell_type": "code",
      "metadata": {
        "id": "WZv-rk3gMK9V"
      },
      "source": [
        "def multi_model2():\n",
        "  inputs = Input((72, 59, 3))\n",
        "\n",
        "  l1 = Conv2D(32, 3, activation='relu')(inputs)\n",
        "  l2 = MaxPool2D(2)(l1)\n",
        "  l3 = Conv2D(64, 3, activation='relu')(l2)\n",
        "  l4 = MaxPool2D(2)(l3)\n",
        "  l5 = Conv2D(64, 3, activation='relu')(l4)\n",
        "  l6 = MaxPool2D(2)(l5)\n",
        "  \n",
        "  l7 = Flatten()(l6)\n",
        "  latent_vector = Dense(64, activation='relu')(l7)\n",
        "# 레이어공유\n",
        "  gender_outputs = Dense(2, activation='softmax')(latent_vector)\n",
        "  smile_outputs = Dense(2, activation='softmax')(latent_vector)\n",
        "\n",
        "# 리스트형식으로 결합\n",
        "  model = Model(inputs, [gender_outputs, smile_outputs])\n",
        "  return model"
      ],
      "execution_count": 21,
      "outputs": []
    },
    {
      "cell_type": "code",
      "metadata": {
        "colab": {
          "base_uri": "https://localhost:8080/"
        },
        "id": "CvKWNgm6Gu9K",
        "outputId": "95dbb81f-cb70-4aa9-a37c-864cdbeebdd3"
      },
      "source": [
        "model = multi_model()\n",
        "model.summary()"
      ],
      "execution_count": 22,
      "outputs": [
        {
          "output_type": "stream",
          "text": [
            "Model: \"model\"\n",
            "__________________________________________________________________________________________________\n",
            "Layer (type)                    Output Shape         Param #     Connected to                     \n",
            "==================================================================================================\n",
            "input_1 (InputLayer)            [(None, 72, 59, 3)]  0                                            \n",
            "__________________________________________________________________________________________________\n",
            "conv2d (Conv2D)                 (None, 70, 57, 32)   896         input_1[0][0]                    \n",
            "__________________________________________________________________________________________________\n",
            "max_pooling2d (MaxPooling2D)    (None, 35, 28, 32)   0           conv2d[0][0]                     \n",
            "__________________________________________________________________________________________________\n",
            "conv2d_1 (Conv2D)               (None, 33, 26, 64)   18496       max_pooling2d[0][0]              \n",
            "__________________________________________________________________________________________________\n",
            "max_pooling2d_1 (MaxPooling2D)  (None, 16, 13, 64)   0           conv2d_1[0][0]                   \n",
            "__________________________________________________________________________________________________\n",
            "conv2d_2 (Conv2D)               (None, 14, 11, 64)   36928       max_pooling2d_1[0][0]            \n",
            "__________________________________________________________________________________________________\n",
            "max_pooling2d_2 (MaxPooling2D)  (None, 7, 5, 64)     0           conv2d_2[0][0]                   \n",
            "__________________________________________________________________________________________________\n",
            "flatten (Flatten)               (None, 2240)         0           max_pooling2d_2[0][0]            \n",
            "__________________________________________________________________________________________________\n",
            "dense (Dense)                   (None, 64)           143424      flatten[0][0]                    \n",
            "__________________________________________________________________________________________________\n",
            "dense_1 (Dense)                 (None, 2)            130         dense[0][0]                      \n",
            "__________________________________________________________________________________________________\n",
            "dense_2 (Dense)                 (None, 2)            130         dense[0][0]                      \n",
            "__________________________________________________________________________________________________\n",
            "concatenate (Concatenate)       (None, 4)            0           dense_1[0][0]                    \n",
            "                                                                 dense_2[0][0]                    \n",
            "==================================================================================================\n",
            "Total params: 200,004\n",
            "Trainable params: 200,004\n",
            "Non-trainable params: 0\n",
            "__________________________________________________________________________________________________\n"
          ],
          "name": "stdout"
        }
      ]
    },
    {
      "cell_type": "code",
      "metadata": {
        "colab": {
          "base_uri": "https://localhost:8080/"
        },
        "id": "w3tb-sJXMTIf",
        "outputId": "ad868055-f2f8-4856-d746-3e6b83765fe3"
      },
      "source": [
        "model2 = multi_model2()\n",
        "model2.summary()"
      ],
      "execution_count": 23,
      "outputs": [
        {
          "output_type": "stream",
          "text": [
            "Model: \"model_1\"\n",
            "__________________________________________________________________________________________________\n",
            "Layer (type)                    Output Shape         Param #     Connected to                     \n",
            "==================================================================================================\n",
            "input_2 (InputLayer)            [(None, 72, 59, 3)]  0                                            \n",
            "__________________________________________________________________________________________________\n",
            "conv2d_3 (Conv2D)               (None, 70, 57, 32)   896         input_2[0][0]                    \n",
            "__________________________________________________________________________________________________\n",
            "max_pooling2d_3 (MaxPooling2D)  (None, 35, 28, 32)   0           conv2d_3[0][0]                   \n",
            "__________________________________________________________________________________________________\n",
            "conv2d_4 (Conv2D)               (None, 33, 26, 64)   18496       max_pooling2d_3[0][0]            \n",
            "__________________________________________________________________________________________________\n",
            "max_pooling2d_4 (MaxPooling2D)  (None, 16, 13, 64)   0           conv2d_4[0][0]                   \n",
            "__________________________________________________________________________________________________\n",
            "conv2d_5 (Conv2D)               (None, 14, 11, 64)   36928       max_pooling2d_4[0][0]            \n",
            "__________________________________________________________________________________________________\n",
            "max_pooling2d_5 (MaxPooling2D)  (None, 7, 5, 64)     0           conv2d_5[0][0]                   \n",
            "__________________________________________________________________________________________________\n",
            "flatten_1 (Flatten)             (None, 2240)         0           max_pooling2d_5[0][0]            \n",
            "__________________________________________________________________________________________________\n",
            "dense_3 (Dense)                 (None, 64)           143424      flatten_1[0][0]                  \n",
            "__________________________________________________________________________________________________\n",
            "dense_4 (Dense)                 (None, 2)            130         dense_3[0][0]                    \n",
            "__________________________________________________________________________________________________\n",
            "dense_5 (Dense)                 (None, 2)            130         dense_3[0][0]                    \n",
            "==================================================================================================\n",
            "Total params: 200,004\n",
            "Trainable params: 200,004\n",
            "Non-trainable params: 0\n",
            "__________________________________________________________________________________________________\n"
          ],
          "name": "stdout"
        }
      ]
    },
    {
      "cell_type": "code",
      "metadata": {
        "id": "hW6Pv4xbGu_g"
      },
      "source": [
        "model.compile(loss='categorical_crossentropy', optimizer='adam', metrics=['accuracy'])\n",
        "model2.compile(loss='categorical_crossentropy', optimizer='adam', metrics=['accuracy'])"
      ],
      "execution_count": 24,
      "outputs": []
    },
    {
      "cell_type": "markdown",
      "metadata": {
        "id": "3SvlJ4NAJo7h"
      },
      "source": [
        "## Step4. 학습 및 결과"
      ]
    },
    {
      "cell_type": "code",
      "metadata": {
        "colab": {
          "base_uri": "https://localhost:8080/"
        },
        "id": "i5dHO_ULJudp",
        "outputId": "e2f9de9f-991d-4555-9364-5faa8e46a3a3"
      },
      "source": [
        "hist1 = model.fit(train_images, train_labels2, validation_data=(test_images, test_labels2), epochs=15, verbose=1)"
      ],
      "execution_count": 25,
      "outputs": [
        {
          "output_type": "stream",
          "text": [
            "Epoch 1/15\n",
            "63/63 [==============================] - 31s 21ms/step - loss: 2.7376 - accuracy: 0.4324 - val_loss: 2.6931 - val_accuracy: 0.5550\n",
            "Epoch 2/15\n",
            "63/63 [==============================] - 1s 13ms/step - loss: 2.5197 - accuracy: 0.6131 - val_loss: 2.3467 - val_accuracy: 0.6450\n",
            "Epoch 3/15\n",
            "63/63 [==============================] - 1s 12ms/step - loss: 2.1767 - accuracy: 0.6650 - val_loss: 2.0525 - val_accuracy: 0.5750\n",
            "Epoch 4/15\n",
            "63/63 [==============================] - 1s 12ms/step - loss: 1.9636 - accuracy: 0.6451 - val_loss: 2.0677 - val_accuracy: 0.5300\n",
            "Epoch 5/15\n",
            "63/63 [==============================] - 1s 12ms/step - loss: 1.8080 - accuracy: 0.6534 - val_loss: 1.9617 - val_accuracy: 0.5850\n",
            "Epoch 6/15\n",
            "63/63 [==============================] - 1s 12ms/step - loss: 1.7764 - accuracy: 0.6445 - val_loss: 1.9337 - val_accuracy: 0.6200\n",
            "Epoch 7/15\n",
            "63/63 [==============================] - 1s 12ms/step - loss: 1.6764 - accuracy: 0.6855 - val_loss: 1.9410 - val_accuracy: 0.5700\n",
            "Epoch 8/15\n",
            "63/63 [==============================] - 1s 12ms/step - loss: 1.6500 - accuracy: 0.6883 - val_loss: 1.9582 - val_accuracy: 0.6350\n",
            "Epoch 9/15\n",
            "63/63 [==============================] - 1s 13ms/step - loss: 1.5791 - accuracy: 0.6738 - val_loss: 1.9676 - val_accuracy: 0.5950\n",
            "Epoch 10/15\n",
            "63/63 [==============================] - 1s 13ms/step - loss: 1.5645 - accuracy: 0.6768 - val_loss: 2.0964 - val_accuracy: 0.6000\n",
            "Epoch 11/15\n",
            "63/63 [==============================] - 1s 12ms/step - loss: 1.5542 - accuracy: 0.6817 - val_loss: 2.1348 - val_accuracy: 0.5900\n",
            "Epoch 12/15\n",
            "63/63 [==============================] - 1s 12ms/step - loss: 1.5225 - accuracy: 0.6907 - val_loss: 2.1134 - val_accuracy: 0.6100\n",
            "Epoch 13/15\n",
            "63/63 [==============================] - 1s 12ms/step - loss: 1.4801 - accuracy: 0.6911 - val_loss: 2.2269 - val_accuracy: 0.6200\n",
            "Epoch 14/15\n",
            "63/63 [==============================] - 1s 12ms/step - loss: 1.4727 - accuracy: 0.7012 - val_loss: 2.2698 - val_accuracy: 0.5850\n",
            "Epoch 15/15\n",
            "63/63 [==============================] - 1s 12ms/step - loss: 1.4339 - accuracy: 0.6750 - val_loss: 2.2141 - val_accuracy: 0.6250\n"
          ],
          "name": "stdout"
        }
      ]
    },
    {
      "cell_type": "code",
      "metadata": {
        "colab": {
          "base_uri": "https://localhost:8080/"
        },
        "id": "2jt72QayJugv",
        "outputId": "6fb2c57d-7ee1-4cb6-ce31-a077213da73e"
      },
      "source": [
        "# 아웃풋이 두개의 리스트기 때문에. 학습도 리스트로.\n",
        "hist2 = model2.fit(train_images, [train_male_labels, train_smile_labels], validation_data=(test_images, [test_male_labels, test_smile_labels]), epochs=15, verbose=1)"
      ],
      "execution_count": 26,
      "outputs": [
        {
          "output_type": "stream",
          "text": [
            "Epoch 1/15\n",
            "63/63 [==============================] - 2s 21ms/step - loss: 1.3680 - dense_4_loss: 0.6704 - dense_5_loss: 0.6977 - dense_4_accuracy: 0.5805 - dense_5_accuracy: 0.5096 - val_loss: 1.2452 - val_dense_4_loss: 0.5810 - val_dense_5_loss: 0.6642 - val_dense_4_accuracy: 0.7000 - val_dense_5_accuracy: 0.5750\n",
            "Epoch 2/15\n",
            "63/63 [==============================] - 1s 15ms/step - loss: 1.1431 - dense_4_loss: 0.4914 - dense_5_loss: 0.6517 - dense_4_accuracy: 0.7583 - dense_5_accuracy: 0.6311 - val_loss: 1.1949 - val_dense_4_loss: 0.5655 - val_dense_5_loss: 0.6293 - val_dense_4_accuracy: 0.7400 - val_dense_5_accuracy: 0.6700\n",
            "Epoch 3/15\n",
            "63/63 [==============================] - 1s 15ms/step - loss: 1.0844 - dense_4_loss: 0.4645 - dense_5_loss: 0.6199 - dense_4_accuracy: 0.7837 - dense_5_accuracy: 0.6658 - val_loss: 0.9543 - val_dense_4_loss: 0.4298 - val_dense_5_loss: 0.5245 - val_dense_4_accuracy: 0.8550 - val_dense_5_accuracy: 0.7450\n",
            "Epoch 4/15\n",
            "63/63 [==============================] - 1s 14ms/step - loss: 0.8132 - dense_4_loss: 0.3003 - dense_5_loss: 0.5129 - dense_4_accuracy: 0.8841 - dense_5_accuracy: 0.7537 - val_loss: 0.7359 - val_dense_4_loss: 0.3127 - val_dense_5_loss: 0.4232 - val_dense_4_accuracy: 0.9000 - val_dense_5_accuracy: 0.8150\n",
            "Epoch 5/15\n",
            "63/63 [==============================] - 1s 14ms/step - loss: 0.6246 - dense_4_loss: 0.2361 - dense_5_loss: 0.3885 - dense_4_accuracy: 0.9013 - dense_5_accuracy: 0.8306 - val_loss: 0.6542 - val_dense_4_loss: 0.3096 - val_dense_5_loss: 0.3446 - val_dense_4_accuracy: 0.9050 - val_dense_5_accuracy: 0.8600\n",
            "Epoch 6/15\n",
            "63/63 [==============================] - 1s 14ms/step - loss: 0.4743 - dense_4_loss: 0.1722 - dense_5_loss: 0.3020 - dense_4_accuracy: 0.9337 - dense_5_accuracy: 0.8668 - val_loss: 0.5860 - val_dense_4_loss: 0.2721 - val_dense_5_loss: 0.3139 - val_dense_4_accuracy: 0.9200 - val_dense_5_accuracy: 0.8850\n",
            "Epoch 7/15\n",
            "63/63 [==============================] - 1s 14ms/step - loss: 0.4334 - dense_4_loss: 0.1438 - dense_5_loss: 0.2895 - dense_4_accuracy: 0.9461 - dense_5_accuracy: 0.8752 - val_loss: 0.5601 - val_dense_4_loss: 0.2726 - val_dense_5_loss: 0.2875 - val_dense_4_accuracy: 0.9150 - val_dense_5_accuracy: 0.8650\n",
            "Epoch 8/15\n",
            "63/63 [==============================] - 1s 14ms/step - loss: 0.3682 - dense_4_loss: 0.1268 - dense_5_loss: 0.2414 - dense_4_accuracy: 0.9492 - dense_5_accuracy: 0.8984 - val_loss: 0.5412 - val_dense_4_loss: 0.2743 - val_dense_5_loss: 0.2669 - val_dense_4_accuracy: 0.9150 - val_dense_5_accuracy: 0.8850\n",
            "Epoch 9/15\n",
            "63/63 [==============================] - 1s 14ms/step - loss: 0.2902 - dense_4_loss: 0.0847 - dense_5_loss: 0.2055 - dense_4_accuracy: 0.9696 - dense_5_accuracy: 0.9164 - val_loss: 0.6057 - val_dense_4_loss: 0.3461 - val_dense_5_loss: 0.2596 - val_dense_4_accuracy: 0.8700 - val_dense_5_accuracy: 0.8950\n",
            "Epoch 10/15\n",
            "63/63 [==============================] - 1s 14ms/step - loss: 0.2530 - dense_4_loss: 0.0693 - dense_5_loss: 0.1838 - dense_4_accuracy: 0.9736 - dense_5_accuracy: 0.9169 - val_loss: 0.6512 - val_dense_4_loss: 0.3189 - val_dense_5_loss: 0.3323 - val_dense_4_accuracy: 0.9200 - val_dense_5_accuracy: 0.8650\n",
            "Epoch 11/15\n",
            "63/63 [==============================] - 1s 14ms/step - loss: 0.2331 - dense_4_loss: 0.0466 - dense_5_loss: 0.1865 - dense_4_accuracy: 0.9880 - dense_5_accuracy: 0.9179 - val_loss: 0.5709 - val_dense_4_loss: 0.3070 - val_dense_5_loss: 0.2640 - val_dense_4_accuracy: 0.9250 - val_dense_5_accuracy: 0.8750\n",
            "Epoch 12/15\n",
            "63/63 [==============================] - 1s 13ms/step - loss: 0.1901 - dense_4_loss: 0.0450 - dense_5_loss: 0.1451 - dense_4_accuracy: 0.9898 - dense_5_accuracy: 0.9505 - val_loss: 0.6990 - val_dense_4_loss: 0.4338 - val_dense_5_loss: 0.2652 - val_dense_4_accuracy: 0.9100 - val_dense_5_accuracy: 0.8750\n",
            "Epoch 13/15\n",
            "63/63 [==============================] - 1s 14ms/step - loss: 0.1553 - dense_4_loss: 0.0251 - dense_5_loss: 0.1302 - dense_4_accuracy: 0.9923 - dense_5_accuracy: 0.9535 - val_loss: 0.7149 - val_dense_4_loss: 0.4535 - val_dense_5_loss: 0.2614 - val_dense_4_accuracy: 0.9050 - val_dense_5_accuracy: 0.9200\n",
            "Epoch 14/15\n",
            "63/63 [==============================] - 1s 14ms/step - loss: 0.1210 - dense_4_loss: 0.0255 - dense_5_loss: 0.0955 - dense_4_accuracy: 0.9925 - dense_5_accuracy: 0.9667 - val_loss: 0.6767 - val_dense_4_loss: 0.4409 - val_dense_5_loss: 0.2358 - val_dense_4_accuracy: 0.9200 - val_dense_5_accuracy: 0.9050\n",
            "Epoch 15/15\n",
            "63/63 [==============================] - 1s 14ms/step - loss: 0.1143 - dense_4_loss: 0.0138 - dense_5_loss: 0.1005 - dense_4_accuracy: 0.9980 - dense_5_accuracy: 0.9654 - val_loss: 0.7225 - val_dense_4_loss: 0.4478 - val_dense_5_loss: 0.2747 - val_dense_4_accuracy: 0.9000 - val_dense_5_accuracy: 0.8800\n"
          ],
          "name": "stdout"
        }
      ]
    },
    {
      "cell_type": "markdown",
      "metadata": {
        "id": "G38kQ1KXJuj-"
      },
      "source": [
        "### 학습 진행 사항 plt으로 출력"
      ]
    },
    {
      "cell_type": "code",
      "metadata": {
        "colab": {
          "base_uri": "https://localhost:8080/",
          "height": 265
        },
        "id": "7vkJ8VwEJunR",
        "outputId": "1b5ced83-6e5b-4bd3-87fc-4d4e98d145ca"
      },
      "source": [
        "# 1모델 Concatenate 활용한 모델\n",
        "plt.plot(hist1.history['accuracy'], label = 'accuracy')\n",
        "plt.plot(hist1.history['loss'], label = 'loss')\n",
        "plt.plot(hist1.history['val_accuracy'], label = 'val_accuracy')\n",
        "plt.plot(hist1.history['val_loss'], label = 'val_loss')\n",
        "plt.show()"
      ],
      "execution_count": 27,
      "outputs": [
        {
          "output_type": "display_data",
          "data": {
            "image/png": "[encoded data removed]",
            "text/plain": [
              "<Figure size 432x288 with 1 Axes>"
            ]
          },
          "metadata": {
            "tags": [],
            "needs_background": "light"
          }
        }
      ]
    },
    {
      "cell_type": "code",
      "metadata": {
        "colab": {
          "base_uri": "https://localhost:8080/",
          "height": 265
        },
        "id": "OzTup-elJuqO",
        "outputId": "69d2f33f-b232-4b93-ba66-b5febfb9fe8f"
      },
      "source": [
        "# 2모델 리스트형식으로 결합 모델\n",
        "plt.plot(hist2.history['dense_4_accuracy'], label = 'gender_accuracy')\n",
        "plt.plot(hist2.history['dense_4_loss'], label = 'gender_loss')\n",
        "plt.plot(hist2.history['dense_5_accuracy'], label = 'smile_accuracy')\n",
        "plt.plot(hist2.history['dense_5_loss'], label = 'smile_loss')\n",
        "\n",
        "plt.plot(hist2.history['val_dense_4_accuracy'], label = 'val_gender_accuracy')\n",
        "plt.plot(hist2.history['val_dense_4_loss'], label = 'val_gender_loss')\n",
        "plt.plot(hist2.history['val_dense_5_accuracy'], label = 'val_smile_accuracy')\n",
        "plt.plot(hist2.history['val_dense_5_loss'], label = 'val_smile_loss')\n",
        "plt.legend(loc = 'uppder left')\n",
        "plt.show()\n",
        "# 결과가 더 좋음"
      ],
      "execution_count": 29,
      "outputs": [
        {
          "output_type": "display_data",
          "data": {
            "image/png": "[encoded data removed]",
            "text/plain": [
              "<Figure size 432x288 with 1 Axes>"
            ]
          },
          "metadata": {
            "tags": [],
            "needs_background": "light"
          }
        }
      ]
    },
    {
      "cell_type": "markdown",
      "metadata": {
        "id": "hno3Doh9Juto"
      },
      "source": [
        "## Step 4. 결과확인"
      ]
    },
    {
      "cell_type": "code",
      "metadata": {
        "colab": {
          "base_uri": "https://localhost:8080/",
          "height": 268
        },
        "id": "VeXU7gCAOgHr",
        "outputId": "d82461fe-9bc4-4431-d3c1-bf7d462704b4"
      },
      "source": [
        "plt.imshow(test_images[3])\n",
        "plt.show()"
      ],
      "execution_count": 30,
      "outputs": [
        {
          "output_type": "display_data",
          "data": {
            "image/png": "[encoded data removed]",
            "text/plain": [
              "<Figure size 432x288 with 1 Axes>"
            ]
          },
          "metadata": {
            "tags": [],
            "needs_background": "light"
          }
        }
      ]
    },
    {
      "cell_type": "code",
      "metadata": {
        "colab": {
          "base_uri": "https://localhost:8080/"
        },
        "id": "u-qUdLSVJuwn",
        "outputId": "3071e3d1-10e1-465e-bf63-72255d17741d"
      },
      "source": [
        "# 결합을 한 모델이기 때문에 하나로 나옴\n",
        "res = model.predict(test_images[3:4])\n",
        "print(res.shape)"
      ],
      "execution_count": 33,
      "outputs": [
        {
          "output_type": "stream",
          "text": [
            "(1, 4)\n"
          ],
          "name": "stdout"
        }
      ]
    },
    {
      "cell_type": "code",
      "metadata": {
        "colab": {
          "base_uri": "https://localhost:8080/",
          "height": 265
        },
        "id": "RwrPSE6hJuzX",
        "outputId": "257bda9f-61cf-4368-94e4-957a91891b6c"
      },
      "source": [
        "plt.bar(range(4), res[0])\n",
        "plt.bar(np.array(range(4)) + 0.3, test_labels2[3])\n",
        "plt.show()\n",
        "# 남자고, 웃고. -> 잘 맞춤."
      ],
      "execution_count": 34,
      "outputs": [
        {
          "output_type": "display_data",
          "data": {
            "image/png": "[encoded data removed]",
            "text/plain": [
              "<Figure size 432x288 with 1 Axes>"
            ]
          },
          "metadata": {
            "tags": [],
            "needs_background": "light"
          }
        }
      ]
    },
    {
      "cell_type": "code",
      "metadata": {
        "colab": {
          "base_uri": "https://localhost:8080/"
        },
        "id": "7di2cYwCJu2e",
        "outputId": "f2022521-01e3-47d0-e3c6-bc6f74cc73ee"
      },
      "source": [
        "# 아웃풋이 두개 이기때문에 두개로 나옴. 결과도 두번 봐야함 \n",
        "res2 = model2.predict(test_images[3:4])\n",
        "print(res2[0].shape, res2[1].shape)"
      ],
      "execution_count": 37,
      "outputs": [
        {
          "output_type": "stream",
          "text": [
            "(1, 2) (1, 2)\n"
          ],
          "name": "stdout"
        }
      ]
    },
    {
      "cell_type": "code",
      "metadata": {
        "colab": {
          "base_uri": "https://localhost:8080/",
          "height": 268
        },
        "id": "C2s9sOkmQbTQ",
        "outputId": "eba1a10c-6a02-495c-ec27-6f0cd52db665"
      },
      "source": [
        "plt.imshow(test_images[3])\n",
        "plt.show()"
      ],
      "execution_count": 38,
      "outputs": [
        {
          "output_type": "display_data",
          "data": {
            "image/png": "[encoded data removed]",
            "text/plain": [
              "<Figure size 432x288 with 1 Axes>"
            ]
          },
          "metadata": {
            "tags": [],
            "needs_background": "light"
          }
        }
      ]
    },
    {
      "cell_type": "code",
      "metadata": {
        "colab": {
          "base_uri": "https://localhost:8080/",
          "height": 265
        },
        "id": "s2gQ7hQwQjc5",
        "outputId": "b2420276-1ec4-4471-c3bf-c4a141ae395b"
      },
      "source": [
        "# 남자인지, 여자인지\n",
        "plt.bar(range(2), res2[0][0])\n",
        "plt.bar(np.array(range(2)) + 0.3, test_male_labels[3])\n",
        "plt.show()"
      ],
      "execution_count": 39,
      "outputs": [
        {
          "output_type": "display_data",
          "data": {
            "image/png": "[encoded data removed]",
            "text/plain": [
              "<Figure size 432x288 with 1 Axes>"
            ]
          },
          "metadata": {
            "tags": [],
            "needs_background": "light"
          }
        }
      ]
    },
    {
      "cell_type": "code",
      "metadata": {
        "colab": {
          "base_uri": "https://localhost:8080/",
          "height": 265
        },
        "id": "Bm_QVJPMQnIK",
        "outputId": "7f1a9515-e992-4f6e-d774-f83e0bc772ca"
      },
      "source": [
        "# 웃는지 안웃는지.\n",
        "plt.bar(range(2), res2[1][0])\n",
        "plt.bar(np.array(range(2)) + 0.3, test_smile_labels[3])\n",
        "plt.show()"
      ],
      "execution_count": 40,
      "outputs": [
        {
          "output_type": "display_data",
          "data": {
            "image/png": "[encoded data removed]",
            "text/plain": [
              "<Figure size 432x288 with 1 Axes>"
            ]
          },
          "metadata": {
            "tags": [],
            "needs_background": "light"
          }
        }
      ]
    },
    {
      "cell_type": "markdown",
      "metadata": {
        "id": "r9bjGE3mQpAp"
      },
      "source": [
        "## Step 5. 모델 분리"
      ]
    },
    {
      "cell_type": "code",
      "metadata": {
        "colab": {
          "base_uri": "https://localhost:8080/"
        },
        "id": "4X2whmGBRbeU",
        "outputId": "6c5db7b2-3408-490a-a5cc-3651d44d51cd"
      },
      "source": [
        "# 성별모델 분리\n",
        "gender_model = Model(inputs = model2.input, outputs = model2.get_layer('dense_4').output)\n",
        "gender_model.summary()"
      ],
      "execution_count": 42,
      "outputs": [
        {
          "output_type": "stream",
          "text": [
            "Model: \"model_3\"\n",
            "_________________________________________________________________\n",
            "Layer (type)                 Output Shape              Param #   \n",
            "=================================================================\n",
            "input_2 (InputLayer)         [(None, 72, 59, 3)]       0         \n",
            "_________________________________________________________________\n",
            "conv2d_3 (Conv2D)            (None, 70, 57, 32)        896       \n",
            "_________________________________________________________________\n",
            "max_pooling2d_3 (MaxPooling2 (None, 35, 28, 32)        0         \n",
            "_________________________________________________________________\n",
            "conv2d_4 (Conv2D)            (None, 33, 26, 64)        18496     \n",
            "_________________________________________________________________\n",
            "max_pooling2d_4 (MaxPooling2 (None, 16, 13, 64)        0         \n",
            "_________________________________________________________________\n",
            "conv2d_5 (Conv2D)            (None, 14, 11, 64)        36928     \n",
            "_________________________________________________________________\n",
            "max_pooling2d_5 (MaxPooling2 (None, 7, 5, 64)          0         \n",
            "_________________________________________________________________\n",
            "flatten_1 (Flatten)          (None, 2240)              0         \n",
            "_________________________________________________________________\n",
            "dense_3 (Dense)              (None, 64)                143424    \n",
            "_________________________________________________________________\n",
            "dense_4 (Dense)              (None, 2)                 130       \n",
            "=================================================================\n",
            "Total params: 199,874\n",
            "Trainable params: 199,874\n",
            "Non-trainable params: 0\n",
            "_________________________________________________________________\n"
          ],
          "name": "stdout"
        }
      ]
    },
    {
      "cell_type": "code",
      "metadata": {
        "colab": {
          "base_uri": "https://localhost:8080/"
        },
        "id": "NebqnOTuRbiy",
        "outputId": "20e568c6-f949-473d-f9ad-ed3a343d1977"
      },
      "source": [
        "gender_model.get_weights()[0][0][0][0]"
      ],
      "execution_count": 43,
      "outputs": [
        {
          "output_type": "execute_result",
          "data": {
            "text/plain": [
              "array([ 0.05214987,  0.19890822, -0.05182765, -0.16475953, -0.07572275,\n",
              "       -0.0300159 , -0.131279  , -0.10221037,  0.08252021,  0.05151934,\n",
              "        0.01772383, -0.02108622, -0.08849498, -0.11275187, -0.07227257,\n",
              "       -0.11716247, -0.0533311 , -0.07772388, -0.02779659,  0.00202916,\n",
              "        0.10760514,  0.0237334 , -0.08020761,  0.18084869,  0.1602351 ,\n",
              "       -0.00715726, -0.09272046, -0.14850771, -0.14123072,  0.16343   ,\n",
              "       -0.08406737, -0.17917727], dtype=float32)"
            ]
          },
          "metadata": {
            "tags": []
          },
          "execution_count": 43
        }
      ]
    },
    {
      "cell_type": "code",
      "metadata": {
        "colab": {
          "base_uri": "https://localhost:8080/"
        },
        "id": "F17fMd3WRbmh",
        "outputId": "7cd89729-031d-4926-f0c0-b53586b307e6"
      },
      "source": [
        "# 성별모델에서 테스트 데이터 확인\n",
        "x = gender_model.predict(test_images[0:1])\n",
        "x.argmax()"
      ],
      "execution_count": 44,
      "outputs": [
        {
          "output_type": "execute_result",
          "data": {
            "text/plain": [
              "1"
            ]
          },
          "metadata": {
            "tags": []
          },
          "execution_count": 44
        }
      ]
    },
    {
      "cell_type": "code",
      "metadata": {
        "colab": {
          "base_uri": "https://localhost:8080/"
        },
        "id": "2WEAiTvoRbqi",
        "outputId": "c42af4a2-d291-4036-ce1b-75b550dd2132"
      },
      "source": [
        "# 스마일모델 분리\n",
        "smile_model = Model(inputs = model2.input, outputs = model2.get_layer('dense_5').output)\n",
        "smile_model.summary()"
      ],
      "execution_count": 45,
      "outputs": [
        {
          "output_type": "stream",
          "text": [
            "Model: \"model_4\"\n",
            "_________________________________________________________________\n",
            "Layer (type)                 Output Shape              Param #   \n",
            "=================================================================\n",
            "input_2 (InputLayer)         [(None, 72, 59, 3)]       0         \n",
            "_________________________________________________________________\n",
            "conv2d_3 (Conv2D)            (None, 70, 57, 32)        896       \n",
            "_________________________________________________________________\n",
            "max_pooling2d_3 (MaxPooling2 (None, 35, 28, 32)        0         \n",
            "_________________________________________________________________\n",
            "conv2d_4 (Conv2D)            (None, 33, 26, 64)        18496     \n",
            "_________________________________________________________________\n",
            "max_pooling2d_4 (MaxPooling2 (None, 16, 13, 64)        0         \n",
            "_________________________________________________________________\n",
            "conv2d_5 (Conv2D)            (None, 14, 11, 64)        36928     \n",
            "_________________________________________________________________\n",
            "max_pooling2d_5 (MaxPooling2 (None, 7, 5, 64)          0         \n",
            "_________________________________________________________________\n",
            "flatten_1 (Flatten)          (None, 2240)              0         \n",
            "_________________________________________________________________\n",
            "dense_3 (Dense)              (None, 64)                143424    \n",
            "_________________________________________________________________\n",
            "dense_5 (Dense)              (None, 2)                 130       \n",
            "=================================================================\n",
            "Total params: 199,874\n",
            "Trainable params: 199,874\n",
            "Non-trainable params: 0\n",
            "_________________________________________________________________\n"
          ],
          "name": "stdout"
        }
      ]
    },
    {
      "cell_type": "code",
      "metadata": {
        "colab": {
          "base_uri": "https://localhost:8080/"
        },
        "id": "nHgFfMHFRbs8",
        "outputId": "6669cc8c-bc98-4060-b3f9-2f8aa70c888d"
      },
      "source": [
        "smile_model.get_weights()[0][0][0][0]"
      ],
      "execution_count": 46,
      "outputs": [
        {
          "output_type": "execute_result",
          "data": {
            "text/plain": [
              "array([ 0.05214987,  0.19890822, -0.05182765, -0.16475953, -0.07572275,\n",
              "       -0.0300159 , -0.131279  , -0.10221037,  0.08252021,  0.05151934,\n",
              "        0.01772383, -0.02108622, -0.08849498, -0.11275187, -0.07227257,\n",
              "       -0.11716247, -0.0533311 , -0.07772388, -0.02779659,  0.00202916,\n",
              "        0.10760514,  0.0237334 , -0.08020761,  0.18084869,  0.1602351 ,\n",
              "       -0.00715726, -0.09272046, -0.14850771, -0.14123072,  0.16343   ,\n",
              "       -0.08406737, -0.17917727], dtype=float32)"
            ]
          },
          "metadata": {
            "tags": []
          },
          "execution_count": 46
        }
      ]
    },
    {
      "cell_type": "code",
      "metadata": {
        "colab": {
          "base_uri": "https://localhost:8080/"
        },
        "id": "cCOhAP3hRbyh",
        "outputId": "2876353b-65ea-4bda-a770-d03604b7b678"
      },
      "source": [
        "# 스마일 모델에서 테스트 데이터 확인\n",
        "x1 = gender_model.predict(test_images[0:1])\n",
        "x1.argmax()"
      ],
      "execution_count": 47,
      "outputs": [
        {
          "output_type": "execute_result",
          "data": {
            "text/plain": [
              "1"
            ]
          },
          "metadata": {
            "tags": []
          },
          "execution_count": 47
        }
      ]
    },
    {
      "cell_type": "markdown",
      "metadata": {
        "id": "PGVx1_17SE_Q"
      },
      "source": [
        "## Step 6. 모델 저장 및 로드, 다운로드"
      ]
    },
    {
      "cell_type": "markdown",
      "metadata": {
        "id": "zU5fuAdHSNEq"
      },
      "source": [
        "### 모델저장"
      ]
    },
    {
      "cell_type": "code",
      "metadata": {
        "id": "o3HQ4OA-SNIZ"
      },
      "source": [
        "model2.save(\"./lecture004.h5\")"
      ],
      "execution_count": 48,
      "outputs": []
    },
    {
      "cell_type": "code",
      "metadata": {
        "colab": {
          "base_uri": "https://localhost:8080/"
        },
        "id": "5KYTBKyZSNL6",
        "outputId": "3a4507cc-d411-4fec-9227-4c82835b841a"
      },
      "source": [
        "# 경로확인\n",
        "!ls -al /content"
      ],
      "execution_count": 49,
      "outputs": [
        {
          "output_type": "stream",
          "text": [
            "total 2424\n",
            "drwxr-xr-x 1 root root    4096 Apr 16 10:45 .\n",
            "drwxr-xr-x 1 root root    4096 Apr 16 10:21 ..\n",
            "drwxr-xr-x 4 root root    4096 Apr  7 13:35 .config\n",
            "-rw-r--r-- 1 root root 2461880 Apr 16 10:45 lecture004.h5\n",
            "drwxr-xr-x 1 root root    4096 Apr  7 13:36 sample_data\n"
          ],
          "name": "stdout"
        }
      ]
    },
    {
      "cell_type": "markdown",
      "metadata": {
        "id": "FR8v34u4SNO7"
      },
      "source": [
        "### 모델로드"
      ]
    },
    {
      "cell_type": "code",
      "metadata": {
        "id": "QvWlrwfJSNSk"
      },
      "source": [
        "model3 = tf.keras.models.load_model('./lecture004.h5')"
      ],
      "execution_count": 50,
      "outputs": []
    },
    {
      "cell_type": "code",
      "metadata": {
        "colab": {
          "base_uri": "https://localhost:8080/"
        },
        "id": "NtYrCb8-SNUr",
        "outputId": "3269ede6-0bd8-4fd4-f18b-361c39855bb5"
      },
      "source": [
        "model3.summary()"
      ],
      "execution_count": 51,
      "outputs": [
        {
          "output_type": "stream",
          "text": [
            "Model: \"model_1\"\n",
            "__________________________________________________________________________________________________\n",
            "Layer (type)                    Output Shape         Param #     Connected to                     \n",
            "==================================================================================================\n",
            "input_2 (InputLayer)            [(None, 72, 59, 3)]  0                                            \n",
            "__________________________________________________________________________________________________\n",
            "conv2d_3 (Conv2D)               (None, 70, 57, 32)   896         input_2[0][0]                    \n",
            "__________________________________________________________________________________________________\n",
            "max_pooling2d_3 (MaxPooling2D)  (None, 35, 28, 32)   0           conv2d_3[0][0]                   \n",
            "__________________________________________________________________________________________________\n",
            "conv2d_4 (Conv2D)               (None, 33, 26, 64)   18496       max_pooling2d_3[0][0]            \n",
            "__________________________________________________________________________________________________\n",
            "max_pooling2d_4 (MaxPooling2D)  (None, 16, 13, 64)   0           conv2d_4[0][0]                   \n",
            "__________________________________________________________________________________________________\n",
            "conv2d_5 (Conv2D)               (None, 14, 11, 64)   36928       max_pooling2d_4[0][0]            \n",
            "__________________________________________________________________________________________________\n",
            "max_pooling2d_5 (MaxPooling2D)  (None, 7, 5, 64)     0           conv2d_5[0][0]                   \n",
            "__________________________________________________________________________________________________\n",
            "flatten_1 (Flatten)             (None, 2240)         0           max_pooling2d_5[0][0]            \n",
            "__________________________________________________________________________________________________\n",
            "dense_3 (Dense)                 (None, 64)           143424      flatten_1[0][0]                  \n",
            "__________________________________________________________________________________________________\n",
            "dense_4 (Dense)                 (None, 2)            130         dense_3[0][0]                    \n",
            "__________________________________________________________________________________________________\n",
            "dense_5 (Dense)                 (None, 2)            130         dense_3[0][0]                    \n",
            "==================================================================================================\n",
            "Total params: 200,004\n",
            "Trainable params: 200,004\n",
            "Non-trainable params: 0\n",
            "__________________________________________________________________________________________________\n"
          ],
          "name": "stdout"
        }
      ]
    },
    {
      "cell_type": "code",
      "metadata": {
        "colab": {
          "base_uri": "https://localhost:8080/"
        },
        "id": "-5Y90YOlSNXW",
        "outputId": "eb3ea517-2c8d-4a29-d449-fcce679e54f7"
      },
      "source": [
        "# 로드한 모델을 test 데이터 평가\n",
        "model3.evaluate(test_images, [test_male_labels, test_smile_labels])"
      ],
      "execution_count": 52,
      "outputs": [
        {
          "output_type": "stream",
          "text": [
            "7/7 [==============================] - 0s 8ms/step - loss: 0.7225 - dense_4_loss: 0.4478 - dense_5_loss: 0.2747 - dense_4_dense_4_accuracy: 0.9000 - dense_5_dense_5_accuracy: 0.8800\n"
          ],
          "name": "stdout"
        },
        {
          "output_type": "execute_result",
          "data": {
            "text/plain": [
              "[0.7224720120429993,\n",
              " 0.44775286316871643,\n",
              " 0.27471911907196045,\n",
              " 0.8999999761581421,\n",
              " 0.8799999952316284]"
            ]
          },
          "metadata": {
            "tags": []
          },
          "execution_count": 52
        }
      ]
    },
    {
      "cell_type": "markdown",
      "metadata": {
        "id": "eZ0Xdnl7SjUa"
      },
      "source": [
        "### 모델을 내 컴퓨터에 저장"
      ]
    },
    {
      "cell_type": "code",
      "metadata": {
        "colab": {
          "base_uri": "https://localhost:8080/",
          "height": 17
        },
        "id": "__-8okZaSonc",
        "outputId": "84f7eff4-1b81-4d04-95be-86f3d1e70ce4"
      },
      "source": [
        "from google.colab import files\n",
        "files.download('./lecture004.h5')"
      ],
      "execution_count": 53,
      "outputs": [
        {
          "output_type": "display_data",
          "data": {
            "application/javascript": [
              "\n",
              "    async function download(id, filename, size) {\n",
              "      if (!google.colab.kernel.accessAllowed) {\n",
              "        return;\n",
              "      }\n",
              "      const div = document.createElement('div');\n",
              "      const label = document.createElement('label');\n",
              "      label.textContent = `Downloading \"${filename}\": `;\n",
              "      div.appendChild(label);\n",
              "      const progress = document.createElement('progress');\n",
              "      progress.max = size;\n",
              "      div.appendChild(progress);\n",
              "      document.body.appendChild(div);\n",
              "\n",
              "      const buffers = [];\n",
              "      let downloaded = 0;\n",
              "\n",
              "      const channel = await google.colab.kernel.comms.open(id);\n",
              "      // Send a message to notify the kernel that we're ready.\n",
              "      channel.send({})\n",
              "\n",
              "      for await (const message of channel.messages) {\n",
              "        // Send a message to notify the kernel that we're ready.\n",
              "        channel.send({})\n",
              "        if (message.buffers) {\n",
              "          for (const buffer of message.buffers) {\n",
              "            buffers.push(buffer);\n",
              "            downloaded += buffer.byteLength;\n",
              "            progress.value = downloaded;\n",
              "          }\n",
              "        }\n",
              "      }\n",
              "      const blob = new Blob(buffers, {type: 'application/binary'});\n",
              "      const a = document.createElement('a');\n",
              "      a.href = window.URL.createObjectURL(blob);\n",
              "      a.download = filename;\n",
              "      div.appendChild(a);\n",
              "      a.click();\n",
              "      div.remove();\n",
              "    }\n",
              "  "
            ],
            "text/plain": [
              "<IPython.core.display.Javascript object>"
            ]
          },
          "metadata": {
            "tags": []
          }
        },
        {
          "output_type": "display_data",
          "data": {
            "application/javascript": [
              "download(\"download_3ab5f4e0-65b1-4775-8564-f317b63e1292\", \"lecture004.h5\", 2461880)"
            ],
            "text/plain": [
              "<IPython.core.display.Javascript object>"
            ]
          },
          "metadata": {
            "tags": []
          }
        }
      ]
    },
    {
      "cell_type": "code",
      "metadata": {
        "id": "zJiV4CzrSp5S"
      },
      "source": [
        ""
      ],
      "execution_count": null,
      "outputs": []
    }
  ]
}