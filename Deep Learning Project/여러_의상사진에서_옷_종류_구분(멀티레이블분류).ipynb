{
  "nbformat": 4,
  "nbformat_minor": 0,
  "metadata": {
    "colab": {
      "name": "여러 의상사진에서 옷 종류 구분(멀티레이블분류).ipynb",
      "provenance": [],
      "collapsed_sections": [],
      "authorship_tag": "ABX9TyPbAyPagPsD/+7iVszj4e2N",
      "include_colab_link": true
    },
    "kernelspec": {
      "name": "python3",
      "display_name": "Python 3"
    },
    "language_info": {
      "name": "python"
    },
    "accelerator": "GPU"
  },
  "cells": [
    {
      "cell_type": "markdown",
      "metadata": {
        "id": "view-in-github",
        "colab_type": "text"
      },
      "source": [
        "<a href=\"https://colab.research.google.com/github/chumdan/Machine-Learning-Project/blob/main/Deep%20Learning%20Project/%EC%97%AC%EB%9F%AC_%EC%9D%98%EC%83%81%EC%82%AC%EC%A7%84%EC%97%90%EC%84%9C_%EC%98%B7_%EC%A2%85%EB%A5%98_%EA%B5%AC%EB%B6%84(%EB%A9%80%ED%8B%B0%EB%A0%88%EC%9D%B4%EB%B8%94%EB%B6%84%EB%A5%98).ipynb\" target=\"_parent\"><img src=\"https://colab.research.google.com/assets/colab-badge.svg\" alt=\"Open In Colab\"/></a>"
      ]
    },
    {
      "cell_type": "markdown",
      "metadata": {
        "id": "6ltm6o2m8wgq"
      },
      "source": [
        "# 주제 : 여러 의상사진에서 옷 종류 구분 / 멀티레이블분류 문제 \n",
        "## 데이터  \n",
        "- fashion MNIST\n",
        "\n",
        "## 목표\n",
        "- 멀티 클래스와 멀티레이블 구분\n",
        "- 이미지 확장 \n",
        "- 이미지에 객체 삽입\n",
        "\n"
      ]
    },
    {
      "cell_type": "code",
      "metadata": {
        "id": "hx6KRSHI9TBo"
      },
      "source": [
        "import tensorflow as tf\n",
        "from tensorflow import keras\n",
        "from keras.layers import Dense\n",
        "from keras.models import Sequential\n",
        "\n",
        "import pandas as pd\n",
        "import numpy as np\n",
        "import matplotlib.pyplot as plt\n",
        "import seaborn as sns\n",
        "import warnings \n",
        "from IPython.display import Image\n",
        "\n",
        "warnings.filterwarnings('ignore')\n",
        "%matplotlib inline\n",
        "\n",
        "SEED = 34"
      ],
      "execution_count": 1,
      "outputs": []
    },
    {
      "cell_type": "markdown",
      "metadata": {
        "id": "YuRK-dfI9VjS"
      },
      "source": [
        "## Step 1. 데이터전처리"
      ]
    },
    {
      "cell_type": "markdown",
      "metadata": {
        "id": "3PNTbQVE9e_8"
      },
      "source": [
        "### 데이터 불러오기 및 기본적 형태 확인"
      ]
    },
    {
      "cell_type": "code",
      "metadata": {
        "colab": {
          "base_uri": "https://localhost:8080/"
        },
        "id": "2YgUaNUL9fD7",
        "outputId": "344c1a90-3cff-4161-d82e-71f310b38141"
      },
      "source": [
        "fashion_mnist = keras.datasets.fashion_mnist\n",
        "((train_images, train_labels), (test_images, test_labels))= fashion_mnist.load_data()"
      ],
      "execution_count": 2,
      "outputs": [
        {
          "output_type": "stream",
          "text": [
            "Downloading data from https://storage.googleapis.com/tensorflow/tf-keras-datasets/train-labels-idx1-ubyte.gz\n",
            "32768/29515 [=================================] - 0s 0us/step\n",
            "Downloading data from https://storage.googleapis.com/tensorflow/tf-keras-datasets/train-images-idx3-ubyte.gz\n",
            "26427392/26421880 [==============================] - 0s 0us/step\n",
            "Downloading data from https://storage.googleapis.com/tensorflow/tf-keras-datasets/t10k-labels-idx1-ubyte.gz\n",
            "8192/5148 [===============================================] - 0s 0us/step\n",
            "Downloading data from https://storage.googleapis.com/tensorflow/tf-keras-datasets/t10k-images-idx3-ubyte.gz\n",
            "4423680/4422102 [==============================] - 0s 0us/step\n"
          ],
          "name": "stdout"
        }
      ]
    },
    {
      "cell_type": "code",
      "metadata": {
        "colab": {
          "base_uri": "https://localhost:8080/"
        },
        "id": "zarH6Qwp9fHM",
        "outputId": "8d22d79c-2c3a-4300-dbf0-f5b0a4b11e5a"
      },
      "source": [
        "print(f\"train_images.shape: {train_images.shape}\")\n",
        "print(f\"train_labels.shape: {train_labels.shape}\")\n",
        "print(f\"test_images.shape: {test_images.shape}\")\n",
        "print(f\"test_labels.shape: {test_labels.shape}\")"
      ],
      "execution_count": 3,
      "outputs": [
        {
          "output_type": "stream",
          "text": [
            "train_images.shape: (60000, 28, 28)\n",
            "train_labels.shape: (60000,)\n",
            "test_images.shape: (10000, 28, 28)\n",
            "test_labels.shape: (10000,)\n"
          ],
          "name": "stdout"
        }
      ]
    },
    {
      "cell_type": "code",
      "metadata": {
        "id": "1mjspL8l9fKK"
      },
      "source": [
        "# 레이블 설정\n",
        "labels = [\"T-shirt/top\",  # index 0\n",
        "        \"Trouser\",      # index 1\n",
        "        \"Pullover\",     # index 2 \n",
        "        \"Dress\",        # index 3 \n",
        "        \"Coat\",         # index 4\n",
        "        \"Sandal\",       # index 5\n",
        "        \"Shirt\",        # index 6 \n",
        "        \"Sneaker\",      # index 7 \n",
        "        \"Bag\",          # index 8 \n",
        "        \"Ankle boot\"]   # index 9\n",
        "\n",
        "def idx2label(idx):\n",
        "    return labels[idx]"
      ],
      "execution_count": 4,
      "outputs": []
    },
    {
      "cell_type": "code",
      "metadata": {
        "colab": {
          "base_uri": "https://localhost:8080/",
          "height": 35
        },
        "id": "QSGmIM0U9fNa",
        "outputId": "b9c3b664-0313-46b5-cd7e-317f143f4598"
      },
      "source": [
        "idx2label(test_labels[0])"
      ],
      "execution_count": 5,
      "outputs": [
        {
          "output_type": "execute_result",
          "data": {
            "application/vnd.google.colaboratory.intrinsic+json": {
              "type": "string"
            },
            "text/plain": [
              "'Ankle boot'"
            ]
          },
          "metadata": {
            "tags": []
          },
          "execution_count": 5
        }
      ]
    },
    {
      "cell_type": "code",
      "metadata": {
        "id": "sutmLhoS9fQs"
      },
      "source": [
        "def show(idx):\n",
        "    plt.imshow(train_images[idx], cmap = \"gray\")\n",
        "    plt.title(idx2label(train_labels[idx]))\n",
        "    plt.show()"
      ],
      "execution_count": 6,
      "outputs": []
    },
    {
      "cell_type": "code",
      "metadata": {
        "colab": {
          "base_uri": "https://localhost:8080/",
          "height": 281
        },
        "id": "fXFCLd5z9fUB",
        "outputId": "3ba7b7ad-fddb-41aa-e138-e5c3b41adfa3"
      },
      "source": [
        "show(12)"
      ],
      "execution_count": 7,
      "outputs": [
        {
          "output_type": "display_data",
          "data": {
            "image/png": "[encoded data removed]",
            "text/plain": [
              "<Figure size 432x288 with 1 Axes>"
            ]
          },
          "metadata": {
            "tags": [],
            "needs_background": "light"
          }
        }
      ]
    },
    {
      "cell_type": "markdown",
      "metadata": {
        "id": "cEUDcTrM9fW6"
      },
      "source": [
        "### 이미지 데이터의 범위 확인"
      ]
    },
    {
      "cell_type": "code",
      "metadata": {
        "colab": {
          "base_uri": "https://localhost:8080/"
        },
        "id": "poOfBwIV9fZ6",
        "outputId": "bb3662ea-1136-4113-e0cf-5fe41a7c8be1"
      },
      "source": [
        "train_images[train_images != 0  ][:5]"
      ],
      "execution_count": 8,
      "outputs": [
        {
          "output_type": "execute_result",
          "data": {
            "text/plain": [
              "array([ 1, 13, 73,  1,  4], dtype=uint8)"
            ]
          },
          "metadata": {
            "tags": []
          },
          "execution_count": 8
        }
      ]
    },
    {
      "cell_type": "code",
      "metadata": {
        "colab": {
          "base_uri": "https://localhost:8080/"
        },
        "id": "SMQKfNvO9fdK",
        "outputId": "fda7f941-20f3-4eeb-bedd-bd3bf47a42d8"
      },
      "source": [
        "# 이미지의 값이 가장 큰 idx와 작은 idx를 구하여 출력\n",
        "print(train_images.reshape((60000, -1)).sum(axis=1).argmax())\n",
        "print(train_images.reshape((60000, -1)).sum(axis=1).argmin())"
      ],
      "execution_count": 9,
      "outputs": [
        {
          "output_type": "stream",
          "text": [
            "55023\n",
            "9230\n"
          ],
          "name": "stdout"
        }
      ]
    },
    {
      "cell_type": "code",
      "metadata": {
        "colab": {
          "base_uri": "https://localhost:8080/"
        },
        "id": "dahnTDU2-IEB",
        "outputId": "d9638fb5-3ee0-4ea5-f804-a288d8006a83"
      },
      "source": [
        "print(train_images.reshape((60000, -1)).sum(axis=1)[55023])\n",
        "print(train_images.reshape((60000, -1)).sum(axis=1)[9230])"
      ],
      "execution_count": 10,
      "outputs": [
        {
          "output_type": "stream",
          "text": [
            "150387\n",
            "3876\n"
          ],
          "name": "stdout"
        }
      ]
    },
    {
      "cell_type": "code",
      "metadata": {
        "colab": {
          "base_uri": "https://localhost:8080/",
          "height": 281
        },
        "id": "9rsSggw9-II6",
        "outputId": "8937904d-39f2-4052-cb8a-b11e0ae7c9cb"
      },
      "source": [
        "show(55023)"
      ],
      "execution_count": 11,
      "outputs": [
        {
          "output_type": "display_data",
          "data": {
            "image/png": "[encoded data removed]",
            "text/plain": [
              "<Figure size 432x288 with 1 Axes>"
            ]
          },
          "metadata": {
            "tags": [],
            "needs_background": "light"
          }
        }
      ]
    },
    {
      "cell_type": "code",
      "metadata": {
        "colab": {
          "base_uri": "https://localhost:8080/"
        },
        "id": "zysq-cxM-IMc",
        "outputId": "3acd2468-73de-44fc-b1e2-4a54ff9f2a5f"
      },
      "source": [
        "# train_images 타입\n",
        "train_images.dtype"
      ],
      "execution_count": 12,
      "outputs": [
        {
          "output_type": "execute_result",
          "data": {
            "text/plain": [
              "dtype('uint8')"
            ]
          },
          "metadata": {
            "tags": []
          },
          "execution_count": 12
        }
      ]
    },
    {
      "cell_type": "code",
      "metadata": {
        "colab": {
          "base_uri": "https://localhost:8080/"
        },
        "id": "oSxKOsoI-IPs",
        "outputId": "e41d09e2-91e6-4323-8ee3-8ef89948e839"
      },
      "source": [
        "# train/test 전체 데이터에서 각 images, labels의 min, max를 출력\n",
        "print(  train_images.min(), train_images.max()  )\n",
        "print(  test_images.min(), test_images.max()  )\n",
        "\n",
        "print(  train_labels.min(), train_labels.max()  )\n",
        "print(  test_labels.min(), test_labels.max()  )"
      ],
      "execution_count": 13,
      "outputs": [
        {
          "output_type": "stream",
          "text": [
            "0 255\n",
            "0 255\n",
            "0 9\n",
            "0 9\n"
          ],
          "name": "stdout"
        }
      ]
    },
    {
      "cell_type": "code",
      "metadata": {
        "id": "f20TlIqJ-ISu"
      },
      "source": [
        "train_images = train_images.astype(np.float64)\n",
        "test_images = test_images.astype(np.float64)"
      ],
      "execution_count": 15,
      "outputs": []
    },
    {
      "cell_type": "markdown",
      "metadata": {
        "id": "012mTSDM-IWK"
      },
      "source": [
        "###  데이터 0-1 노말라이즈 "
      ]
    },
    {
      "cell_type": "code",
      "metadata": {
        "id": "iXbqnvhm-IZd"
      },
      "source": [
        "def norm(data):\n",
        "    min_v = data.min()\n",
        "    max_v = data.max()\n",
        "    return (data - min_v)/(max_v - min_v)"
      ],
      "execution_count": 16,
      "outputs": []
    },
    {
      "cell_type": "code",
      "metadata": {
        "id": "CAYPLO2jAxT5"
      },
      "source": [
        "train_images  = norm(train_images)"
      ],
      "execution_count": 23,
      "outputs": []
    },
    {
      "cell_type": "code",
      "metadata": {
        "id": "4lPvfOxs9fhc"
      },
      "source": [
        "test_images  = norm(test_images)"
      ],
      "execution_count": 19,
      "outputs": []
    },
    {
      "cell_type": "code",
      "metadata": {
        "colab": {
          "base_uri": "https://localhost:8080/"
        },
        "id": "iOj_XdhY9fkL",
        "outputId": "db4c5a69-4da0-4960-84a6-c6585d9c2af3"
      },
      "source": [
        "print(  test_images.min(), test_images.max()  )"
      ],
      "execution_count": 20,
      "outputs": [
        {
          "output_type": "stream",
          "text": [
            "0.0 1.0\n"
          ],
          "name": "stdout"
        }
      ]
    },
    {
      "cell_type": "code",
      "metadata": {
        "colab": {
          "base_uri": "https://localhost:8080/"
        },
        "id": "oR1nsvuF9fm7",
        "outputId": "3b36b10f-7d03-40a5-8443-45b50e08b07c"
      },
      "source": [
        "print(f\"train_images: {train_images[train_images !=0][:10]}\")\n",
        "print(f\"test_images: {test_images[test_images !=0][:10]}\")"
      ],
      "execution_count": 24,
      "outputs": [
        {
          "output_type": "stream",
          "text": [
            "train_images: [0.00392157 0.05098039 0.28627451 0.00392157 0.01568627 0.00392157\n",
            " 0.00392157 0.01176471 0.14117647 0.53333333]\n",
            "test_images: [0.01176471 0.00392157 0.02745098 0.14509804 0.00392157 0.00784314\n",
            " 0.10588235 0.32941176 0.04313725 0.46666667]\n"
          ],
          "name": "stdout"
        }
      ]
    },
    {
      "cell_type": "markdown",
      "metadata": {
        "id": "YdkAZvKSAnwo"
      },
      "source": [
        "## Step 2. 시각화"
      ]
    },
    {
      "cell_type": "code",
      "metadata": {
        "colab": {
          "base_uri": "https://localhost:8080/",
          "height": 136
        },
        "id": "x61VckIUA_BU",
        "outputId": "141bf583-d885-4795-e567-d4472b7f2df4"
      },
      "source": [
        "# transpose 이용하여 이미지 출력\n",
        "plt.imshow(train_images[:5].transpose((1, 0, 2)).reshape((28, -1)))"
      ],
      "execution_count": 26,
      "outputs": [
        {
          "output_type": "execute_result",
          "data": {
            "text/plain": [
              "<matplotlib.image.AxesImage at 0x7f6b96de2110>"
            ]
          },
          "metadata": {
            "tags": []
          },
          "execution_count": 26
        },
        {
          "output_type": "display_data",
          "data": {
            "image/png": "[encoded data removed]",
            "text/plain": [
              "<Figure size 432x288 with 1 Axes>"
            ]
          },
          "metadata": {
            "tags": [],
            "needs_background": "light"
          }
        }
      ]
    },
    {
      "cell_type": "code",
      "metadata": {
        "colab": {
          "base_uri": "https://localhost:8080/",
          "height": 136
        },
        "id": "hwjal7KLBJfp",
        "outputId": "971544f0-4ea7-446d-8d09-b3479321a9d6"
      },
      "source": [
        "# 레이블에 따라 이미지 출력\n",
        "# argwhere\n",
        "\n",
        "plt.imshow(  train_images[ np.argwhere(  train_labels ==  2  )[:5, ..., 0]  ] . transpose((1, 0, 2)).reshape((28, -1)) )"
      ],
      "execution_count": 27,
      "outputs": [
        {
          "output_type": "execute_result",
          "data": {
            "text/plain": [
              "<matplotlib.image.AxesImage at 0x7f6b96cbcd90>"
            ]
          },
          "metadata": {
            "tags": []
          },
          "execution_count": 27
        },
        {
          "output_type": "display_data",
          "data": {
            "image/png": "[encoded data removed]",
            "text/plain": [
              "<Figure size 432x288 with 1 Axes>"
            ]
          },
          "metadata": {
            "tags": [],
            "needs_background": "light"
          }
        }
      ]
    },
    {
      "cell_type": "code",
      "metadata": {
        "id": "JJSCKWoRBYrR"
      },
      "source": [
        "# 레이블에 따라 이미지 출력 함수\n",
        "def filter(label, count = 5):\n",
        "    imgs =  train_images[ np.argwhere(  train_labels == label  )[:count, ..., 0]  ] . transpose((1, 0, 2)).reshape((28, -1)) \n",
        "    plt.imshow(imgs)\n",
        "    plt.show()"
      ],
      "execution_count": 28,
      "outputs": []
    },
    {
      "cell_type": "code",
      "metadata": {
        "colab": {
          "base_uri": "https://localhost:8080/",
          "height": 85
        },
        "id": "BvKXSV_7BYvi",
        "outputId": "d4cc70fd-2c46-4ac1-fa62-c7659a7612a9"
      },
      "source": [
        "filter(1, 10)"
      ],
      "execution_count": 29,
      "outputs": [
        {
          "output_type": "display_data",
          "data": {
            "image/png": "[encoded data removed]",
            "text/plain": [
              "<Figure size 432x288 with 1 Axes>"
            ]
          },
          "metadata": {
            "tags": [],
            "needs_background": "light"
          }
        }
      ]
    },
    {
      "cell_type": "markdown",
      "metadata": {
        "id": "vduXUUctBYzJ"
      },
      "source": [
        "## Step3. Data augmentation - 이미지 확대 및 다객체 추가"
      ]
    },
    {
      "cell_type": "code",
      "metadata": {
        "id": "Pp0ntGUVBY2T"
      },
      "source": [
        "# 이미지 4배 확장하고, 랜덤으로 이미지 공간 삽입\n",
        "\n",
        "def expand_4times(img):\n",
        "    bg = np.zeros(img.shape)\n",
        "    idx = np.random.randint(0, 4)\n",
        "    \n",
        "    slots = [bg, bg, bg, bg] \n",
        "    slots[idx] = img \n",
        "    expanded = np.vstack([\n",
        "                          np.hstack(slots[:2]),\n",
        "                          np.hstack(slots[2:])\n",
        "    ]) \n",
        "    return expanded"
      ],
      "execution_count": 30,
      "outputs": []
    },
    {
      "cell_type": "code",
      "metadata": {
        "colab": {
          "base_uri": "https://localhost:8080/",
          "height": 287
        },
        "id": "Bat8dnVUBY5Z",
        "outputId": "e10f1e75-4eea-484f-ed8a-89a4dd39a70b"
      },
      "source": [
        "plt.imshow(train_images[1])\n",
        "plt.colorbar()"
      ],
      "execution_count": 31,
      "outputs": [
        {
          "output_type": "execute_result",
          "data": {
            "text/plain": [
              "<matplotlib.colorbar.Colorbar at 0x7f6b96bef0d0>"
            ]
          },
          "metadata": {
            "tags": []
          },
          "execution_count": 31
        },
        {
          "output_type": "display_data",
          "data": {
            "image/png": "[encoded data removed]",
            "text/plain": [
              "<Figure size 432x288 with 2 Axes>"
            ]
          },
          "metadata": {
            "tags": [],
            "needs_background": "light"
          }
        }
      ]
    },
    {
      "cell_type": "code",
      "metadata": {
        "colab": {
          "base_uri": "https://localhost:8080/",
          "height": 287
        },
        "id": "d1oQHSM4BY8p",
        "outputId": "80988acf-03f6-4a1e-cbd3-381433e5a4f6"
      },
      "source": [
        "plt.imshow(expand_4times(train_images[1]))\n",
        "plt.colorbar()"
      ],
      "execution_count": 32,
      "outputs": [
        {
          "output_type": "execute_result",
          "data": {
            "text/plain": [
              "<matplotlib.colorbar.Colorbar at 0x7f6b96b28490>"
            ]
          },
          "metadata": {
            "tags": []
          },
          "execution_count": 32
        },
        {
          "output_type": "display_data",
          "data": {
            "image/png": "[encoded data removed]",
            "text/plain": [
              "<Figure size 432x288 with 2 Axes>"
            ]
          },
          "metadata": {
            "tags": [],
            "needs_background": "light"
          }
        }
      ]
    },
    {
      "cell_type": "markdown",
      "metadata": {
        "id": "ePScBwf8BY_s"
      },
      "source": [
        "###  4배 이미지 변환을 전체 train/test 데이터에 실행"
      ]
    },
    {
      "cell_type": "code",
      "metadata": {
        "id": "kfkZ7nM4B94p"
      },
      "source": [
        "train_expand_images = np.array([expand_4times(img) for img in train_images])\n",
        "test_expand_images = np.array([expand_4times(img) for img in test_images])"
      ],
      "execution_count": 33,
      "outputs": []
    },
    {
      "cell_type": "code",
      "metadata": {
        "colab": {
          "base_uri": "https://localhost:8080/"
        },
        "id": "xFbcdyhSB98q",
        "outputId": "9aa0a9ad-7f92-429c-ac8d-53381e18db3a"
      },
      "source": [
        "print(test_expand_images.shape, train_expand_images.shape) \n",
        "print(test_expand_images.dtype, train_expand_images.dtype)\n",
        "\n",
        "print(test_expand_images.min(), train_expand_images.min())\n",
        "print(test_expand_images.max(), train_expand_images.max())"
      ],
      "execution_count": 34,
      "outputs": [
        {
          "output_type": "stream",
          "text": [
            "(10000, 56, 56) (60000, 56, 56)\n",
            "float64 float64\n",
            "0.0 0.0\n",
            "1.0 1.0\n"
          ],
          "name": "stdout"
        }
      ]
    },
    {
      "cell_type": "markdown",
      "metadata": {
        "id": "t7fOgCZPB9_5"
      },
      "source": [
        "###  4배 이미지 변환 함수에 객체를 랜덤으로 4분면에 위치시키는 함수"
      ]
    },
    {
      "cell_type": "code",
      "metadata": {
        "id": "PNmS46-KB-Db"
      },
      "source": [
        "def expand_4times2(x_data, y_data):\n",
        "    images = []\n",
        "    labels = []\n",
        "\n",
        "    for _ in range(4):\n",
        "        bg = np.zeros((28, 28))\n",
        "        obj_count = np.random.randint(0, 5)\n",
        "\n",
        "        label = np.zeros((10,)) \n",
        "        slots = [bg, bg, bg, bg]\n",
        "\n",
        "        for idx in range(obj_count):\n",
        "            i = np.random.randint(len(x_data))\n",
        "            slots[idx] = x_data[i]\n",
        "            label += tf.keras.utils.to_categorical(y_data[i], 10) \n",
        "            \n",
        "        np.random.shuffle(slots) \n",
        "\n",
        "    new_img = np.vstack([\n",
        "                          np.hstack(slots[:2]),\n",
        "                          np.hstack(slots[2:])\n",
        "    ])\n",
        "    images.append(new_img)\n",
        "    labels.append((label >= 1 ).astype(np.int)) \n",
        "    return np.array(images), np.array(labels)"
      ],
      "execution_count": 35,
      "outputs": []
    },
    {
      "cell_type": "code",
      "metadata": {
        "colab": {
          "base_uri": "https://localhost:8080/",
          "height": 285
        },
        "id": "Q6dbTSQzB-GZ",
        "outputId": "2e160099-639e-4965-c994-334680407103"
      },
      "source": [
        "plt.imshow(  expand_4times2(train_images, train_labels)[0][0]  )"
      ],
      "execution_count": 42,
      "outputs": [
        {
          "output_type": "execute_result",
          "data": {
            "text/plain": [
              "<matplotlib.image.AxesImage at 0x7f6b96903f90>"
            ]
          },
          "metadata": {
            "tags": []
          },
          "execution_count": 42
        },
        {
          "output_type": "display_data",
          "data": {
            "image/png": "[encoded data removed]",
            "text/plain": [
              "<Figure size 432x288 with 1 Axes>"
            ]
          },
          "metadata": {
            "tags": [],
            "needs_background": "light"
          }
        }
      ]
    },
    {
      "cell_type": "code",
      "metadata": {
        "colab": {
          "base_uri": "https://localhost:8080/"
        },
        "id": "JkyEvzcBB-Jy",
        "outputId": "43ec78f1-bace-44eb-af02-6aa5eb50dca3"
      },
      "source": [
        "expand_4times2(train_images, train_labels)[1]"
      ],
      "execution_count": 37,
      "outputs": [
        {
          "output_type": "execute_result",
          "data": {
            "text/plain": [
              "array([[0, 0, 0, 0, 0, 0, 0, 0, 0, 0]])"
            ]
          },
          "metadata": {
            "tags": []
          },
          "execution_count": 37
        }
      ]
    },
    {
      "cell_type": "markdown",
      "metadata": {
        "id": "cUPYFiJRB-M5"
      },
      "source": [
        "### 4배 이미지 변환을 전체 train/test 데이터에 실행"
      ]
    },
    {
      "cell_type": "code",
      "metadata": {
        "id": "fJX96TuCB-Qc"
      },
      "source": [
        "train_multi_images, train_multi_labels = list(zip(*[expand_4times2(train_images, train_labels) for i in train_images]))\n",
        "test_multi_images, test_multi_labels = list(zip(*[expand_4times2(test_images, test_labels) for i in test_images]))"
      ],
      "execution_count": 43,
      "outputs": []
    },
    {
      "cell_type": "code",
      "metadata": {
        "id": "QtS4loR7B-TZ"
      },
      "source": [
        "# list형태 numpy 형태로 변경\n",
        "train_multi_images = np.array(train_multi_images)[:, 0, :, :].reshape(-1, 56, 56, 1)\n",
        "train_multi_labels = np.array(train_multi_labels)[:, 0, :]\n",
        "\n",
        "test_multi_images = np.array(test_multi_images)[:, 0, :, :].reshape(-1, 56, 56, 1)\n",
        "test_multi_labels = np.array(test_multi_labels)[:, 0, :]"
      ],
      "execution_count": 44,
      "outputs": []
    },
    {
      "cell_type": "code",
      "metadata": {
        "colab": {
          "base_uri": "https://localhost:8080/"
        },
        "id": "Fl-a5EBMB-WM",
        "outputId": "43621c6c-bc0d-4aa8-980b-5759537abeec"
      },
      "source": [
        "print(train_multi_images.shape, train_multi_labels.shape)\n",
        "print(test_multi_images.shape, test_multi_labels.shape)"
      ],
      "execution_count": 45,
      "outputs": [
        {
          "output_type": "stream",
          "text": [
            "(60000, 56, 56, 1) (60000, 10)\n",
            "(10000, 56, 56, 1) (10000, 10)\n"
          ],
          "name": "stdout"
        }
      ]
    },
    {
      "cell_type": "markdown",
      "metadata": {
        "id": "soHxCosnBZC_"
      },
      "source": [
        "## Step 4.모델링"
      ]
    },
    {
      "cell_type": "code",
      "metadata": {
        "id": "uq6FOcW7Fl07"
      },
      "source": [
        "from keras.layers import Input, Conv2D, MaxPool2D, Dropout, Dense, Flatten, GlobalAvgPool2D\n",
        "from keras.models import Model"
      ],
      "execution_count": 46,
      "outputs": []
    },
    {
      "cell_type": "code",
      "metadata": {
        "id": "nZLtBtbRFl4i"
      },
      "source": [
        "def multi_fashin_mnist_model():\n",
        "    inputs = Input((56, 56, 1))\n",
        "    x = Conv2D(16, 2, padding=\"same\", activation=\"relu\")(inputs)\n",
        "    x = MaxPool2D(2)(x)\n",
        "    x = Dropout(0.3)(x)\n",
        "\n",
        "    x = Conv2D(32, 2, padding=\"same\", activation=\"relu\")(x)\n",
        "    x = MaxPool2D(2)(x)\n",
        "    x = Dropout(0.3)(x)\n",
        "\n",
        "    x = Conv2D(64, 2, padding=\"same\", activation=\"relu\")(x)\n",
        "    x = MaxPool2D(2)(x)\n",
        "    x = GlobalAvgPool2D()(x)\n",
        "\n",
        "    x = Dense(10, activation='sigmoid')(x) \n",
        "    return Model(inputs, x)"
      ],
      "execution_count": 56,
      "outputs": []
    },
    {
      "cell_type": "code",
      "metadata": {
        "colab": {
          "base_uri": "https://localhost:8080/"
        },
        "id": "jzAj_WazFl74",
        "outputId": "0682ce3e-c9ae-453c-d237-4d839bbaeefb"
      },
      "source": [
        "model = multi_fashin_mnist_model()\n",
        "model.summary()"
      ],
      "execution_count": 57,
      "outputs": [
        {
          "output_type": "stream",
          "text": [
            "Model: \"model\"\n",
            "_________________________________________________________________\n",
            "Layer (type)                 Output Shape              Param #   \n",
            "=================================================================\n",
            "input_1 (InputLayer)         [(None, 56, 56, 1)]       0         \n",
            "_________________________________________________________________\n",
            "conv2d (Conv2D)              (None, 56, 56, 16)        80        \n",
            "_________________________________________________________________\n",
            "max_pooling2d (MaxPooling2D) (None, 28, 28, 16)        0         \n",
            "_________________________________________________________________\n",
            "dropout (Dropout)            (None, 28, 28, 16)        0         \n",
            "_________________________________________________________________\n",
            "conv2d_1 (Conv2D)            (None, 28, 28, 32)        2080      \n",
            "_________________________________________________________________\n",
            "max_pooling2d_1 (MaxPooling2 (None, 14, 14, 32)        0         \n",
            "_________________________________________________________________\n",
            "dropout_1 (Dropout)          (None, 14, 14, 32)        0         \n",
            "_________________________________________________________________\n",
            "conv2d_2 (Conv2D)            (None, 14, 14, 64)        8256      \n",
            "_________________________________________________________________\n",
            "max_pooling2d_2 (MaxPooling2 (None, 7, 7, 64)          0         \n",
            "_________________________________________________________________\n",
            "global_average_pooling2d (Gl (None, 64)                0         \n",
            "_________________________________________________________________\n",
            "dense (Dense)                (None, 10)                650       \n",
            "=================================================================\n",
            "Total params: 11,066\n",
            "Trainable params: 11,066\n",
            "Non-trainable params: 0\n",
            "_________________________________________________________________\n"
          ],
          "name": "stdout"
        }
      ]
    },
    {
      "cell_type": "code",
      "metadata": {
        "colab": {
          "base_uri": "https://localhost:8080/"
        },
        "id": "cLmAtQg_Fl_G",
        "outputId": "143eea73-ebd8-4bcb-a17c-fd06a8e04fae"
      },
      "source": [
        "model.get_weights()[0]"
      ],
      "execution_count": 58,
      "outputs": [
        {
          "output_type": "execute_result",
          "data": {
            "text/plain": [
              "array([[[[ 0.09169334,  0.06302923, -0.11072433,  0.02029762,\n",
              "           0.11124933, -0.2523194 ,  0.02433619, -0.10509868,\n",
              "          -0.06245977,  0.03762153, -0.07571404, -0.01635402,\n",
              "           0.24659461,  0.05059806,  0.090152  , -0.00791842]],\n",
              "\n",
              "        [[-0.00758329, -0.06986423, -0.13003434, -0.04072887,\n",
              "           0.1746211 , -0.04464236,  0.0416511 , -0.09833747,\n",
              "          -0.06940807, -0.07218765,  0.13629767,  0.21690583,\n",
              "          -0.20905267, -0.2769701 , -0.15007985,  0.01551849]]],\n",
              "\n",
              "\n",
              "       [[[-0.16498318, -0.06349559, -0.25699535, -0.11534263,\n",
              "          -0.15190816, -0.1405494 , -0.00298765, -0.26626828,\n",
              "           0.26167047,  0.10950634, -0.13362788, -0.1895639 ,\n",
              "           0.12444538, -0.09749797,  0.17156959, -0.2340664 ]],\n",
              "\n",
              "        [[ 0.2797159 ,  0.1911146 , -0.16898853,  0.19071919,\n",
              "          -0.24942276,  0.19890347,  0.24713701,  0.06991217,\n",
              "          -0.17871371, -0.0791242 ,  0.16650745,  0.05384222,\n",
              "          -0.15208592,  0.19506413, -0.00644422,  0.20480943]]]],\n",
              "      dtype=float32)"
            ]
          },
          "metadata": {
            "tags": []
          },
          "execution_count": 58
        }
      ]
    },
    {
      "cell_type": "code",
      "metadata": {
        "colab": {
          "base_uri": "https://localhost:8080/"
        },
        "id": "s1AAdzJOFmB6",
        "outputId": "75bc3f00-731e-4da2-80e7-8bd4b9c5102a"
      },
      "source": [
        "train_multi_images.shape, train_multi_labels.shape"
      ],
      "execution_count": 59,
      "outputs": [
        {
          "output_type": "execute_result",
          "data": {
            "text/plain": [
              "((60000, 56, 56, 1), (60000, 10))"
            ]
          },
          "metadata": {
            "tags": []
          },
          "execution_count": 59
        }
      ]
    },
    {
      "cell_type": "markdown",
      "metadata": {
        "id": "iz8KNKNHFmEm"
      },
      "source": [
        "## Step 5. 학습 및 결과 "
      ]
    },
    {
      "cell_type": "code",
      "metadata": {
        "colab": {
          "base_uri": "https://localhost:8080/"
        },
        "id": "gMMZOYI8JexY",
        "outputId": "2af66f79-118b-420c-af91-aab123f7326a"
      },
      "source": [
        "# 멀티클레스 레이블 모델 학습.\n",
        "\n",
        "epochs = 15\n",
        "batch_size = 32\n",
        "model.compile(loss=\"binary_crossentropy\", optimizer=\"adam\", metrics=['accuracy'])\n",
        "for epoch in range(epochs):\n",
        "    for _ in range(0, len(train_images), batch_size):\n",
        "        batch_x = []\n",
        "        batch_y = []\n",
        "        for _ in range(batch_size):\n",
        "            x, y = expand_4times2(train_images, train_labels)\n",
        "            batch_x.append(x)\n",
        "            batch_y.append(y)\n",
        "\n",
        "        batch_x = np.array(batch_x).reshape((-1, 56, 56, 1))\n",
        "        batch_y = np.array(batch_y).reshape((-1, 10))\n",
        "        model.train_on_batch(batch_x, batch_y)\n",
        "    print(epoch, \"e\")"
      ],
      "execution_count": 61,
      "outputs": [
        {
          "output_type": "stream",
          "text": [
            "0 e\n",
            "1 e\n",
            "2 e\n",
            "3 e\n",
            "4 e\n",
            "5 e\n",
            "6 e\n",
            "7 e\n",
            "8 e\n",
            "9 e\n",
            "10 e\n",
            "11 e\n",
            "12 e\n",
            "13 e\n",
            "14 e\n"
          ],
          "name": "stdout"
        }
      ]
    },
    {
      "cell_type": "code",
      "metadata": {
        "colab": {
          "base_uri": "https://localhost:8080/"
        },
        "id": "HM89hA9FJe12",
        "outputId": "9c19ca91-c582-4e9d-a1be-67c1d00196ef"
      },
      "source": [
        "res = model.predict(test_multi_images[6].reshape((1,56,56,1)))\n",
        "res.shape"
      ],
      "execution_count": 72,
      "outputs": [
        {
          "output_type": "execute_result",
          "data": {
            "text/plain": [
              "(1, 10)"
            ]
          },
          "metadata": {
            "tags": []
          },
          "execution_count": 72
        }
      ]
    },
    {
      "cell_type": "code",
      "metadata": {
        "colab": {
          "base_uri": "https://localhost:8080/",
          "height": 283
        },
        "id": "2EaFTJeQJe44",
        "outputId": "39b835de-e679-482a-8729-541c8acb0598"
      },
      "source": [
        "plt.bar(np.arange(0, 10),    test_multi_labels[6], color=\"black\")"
      ],
      "execution_count": 74,
      "outputs": [
        {
          "output_type": "execute_result",
          "data": {
            "text/plain": [
              "<BarContainer object of 10 artists>"
            ]
          },
          "metadata": {
            "tags": []
          },
          "execution_count": 74
        },
        {
          "output_type": "display_data",
          "data": {
            "image/png": "[encoded data removed]",
            "text/plain": [
              "<Figure size 432x288 with 1 Axes>"
            ]
          },
          "metadata": {
            "tags": [],
            "needs_background": "light"
          }
        }
      ]
    },
    {
      "cell_type": "code",
      "metadata": {
        "colab": {
          "base_uri": "https://localhost:8080/",
          "height": 283
        },
        "id": "Al0uR3fyJe73",
        "outputId": "72919c13-730e-483b-8a42-44a37d93fe8d"
      },
      "source": [
        "plt.bar(np.arange(0, 10), res[0] > 0.5, color=\"red\")"
      ],
      "execution_count": 75,
      "outputs": [
        {
          "output_type": "execute_result",
          "data": {
            "text/plain": [
              "<BarContainer object of 10 artists>"
            ]
          },
          "metadata": {
            "tags": []
          },
          "execution_count": 75
        },
        {
          "output_type": "display_data",
          "data": {
            "image/png": "[encoded data removed]",
            "text/plain": [
              "<Figure size 432x288 with 1 Axes>"
            ]
          },
          "metadata": {
            "tags": [],
            "needs_background": "light"
          }
        }
      ]
    },
    {
      "cell_type": "code",
      "metadata": {
        "colab": {
          "base_uri": "https://localhost:8080/"
        },
        "id": "0jmH_QJzJe-3",
        "outputId": "f737ab30-841c-44ca-9ab4-555dd74eade7"
      },
      "source": [
        "res"
      ],
      "execution_count": 68,
      "outputs": [
        {
          "output_type": "execute_result",
          "data": {
            "text/plain": [
              "array([[0.02187647, 0.01412443, 0.03797625, 0.30555412, 0.22315173,\n",
              "        0.16146487, 0.1556168 , 0.18393162, 0.17824546, 0.98742664]],\n",
              "      dtype=float32)"
            ]
          },
          "metadata": {
            "tags": []
          },
          "execution_count": 68
        }
      ]
    },
    {
      "cell_type": "markdown",
      "metadata": {
        "id": "P88qvfzXJfBZ"
      },
      "source": [
        "## Step 6. 모델 저장 및 로드, 다운"
      ]
    },
    {
      "cell_type": "code",
      "metadata": {
        "id": "z8TAXNyGJfEu"
      },
      "source": [
        "model.save('./lecture008-multilabel.h5')"
      ],
      "execution_count": 76,
      "outputs": []
    },
    {
      "cell_type": "code",
      "metadata": {
        "id": "Ru9hfYt2BZGJ"
      },
      "source": [
        "model2 = tf.keras.models.load_model('./lecture008-multilabel.h5')"
      ],
      "execution_count": 78,
      "outputs": []
    },
    {
      "cell_type": "code",
      "metadata": {
        "colab": {
          "base_uri": "https://localhost:8080/"
        },
        "id": "9o37IqJ_BZIq",
        "outputId": "0699ab2c-91dc-4fe2-e7e8-bba14c76b258"
      },
      "source": [
        "# 로드한 모델을 test 데이터로 평가\n",
        "loss, acc = model2.evaluate(test_expand_images.reshape((-1, 56,56, 1)), tf.keras.utils.to_categorical(test_labels))\n",
        "print(loss, acc)"
      ],
      "execution_count": 79,
      "outputs": [
        {
          "output_type": "stream",
          "text": [
            "313/313 [==============================] - 1s 3ms/step - loss: 0.1648 - accuracy: 0.7634\n",
            "0.16478343307971954 0.7634000182151794\n"
          ],
          "name": "stdout"
        }
      ]
    },
    {
      "cell_type": "code",
      "metadata": {
        "colab": {
          "base_uri": "https://localhost:8080/",
          "height": 17
        },
        "id": "PtUbZ1dqBZLo",
        "outputId": "c6d9eaa6-3316-4851-ec1e-a46d79d021a6"
      },
      "source": [
        "# 모델 컴퓨터에 저장\n",
        "from google.colab import files\n",
        "files.download('./lecture008-multilabel.h5')"
      ],
      "execution_count": 81,
      "outputs": [
        {
          "output_type": "display_data",
          "data": {
            "application/javascript": [
              "\n",
              "    async function download(id, filename, size) {\n",
              "      if (!google.colab.kernel.accessAllowed) {\n",
              "        return;\n",
              "      }\n",
              "      const div = document.createElement('div');\n",
              "      const label = document.createElement('label');\n",
              "      label.textContent = `Downloading \"${filename}\": `;\n",
              "      div.appendChild(label);\n",
              "      const progress = document.createElement('progress');\n",
              "      progress.max = size;\n",
              "      div.appendChild(progress);\n",
              "      document.body.appendChild(div);\n",
              "\n",
              "      const buffers = [];\n",
              "      let downloaded = 0;\n",
              "\n",
              "      const channel = await google.colab.kernel.comms.open(id);\n",
              "      // Send a message to notify the kernel that we're ready.\n",
              "      channel.send({})\n",
              "\n",
              "      for await (const message of channel.messages) {\n",
              "        // Send a message to notify the kernel that we're ready.\n",
              "        channel.send({})\n",
              "        if (message.buffers) {\n",
              "          for (const buffer of message.buffers) {\n",
              "            buffers.push(buffer);\n",
              "            downloaded += buffer.byteLength;\n",
              "            progress.value = downloaded;\n",
              "          }\n",
              "        }\n",
              "      }\n",
              "      const blob = new Blob(buffers, {type: 'application/binary'});\n",
              "      const a = document.createElement('a');\n",
              "      a.href = window.URL.createObjectURL(blob);\n",
              "      a.download = filename;\n",
              "      div.appendChild(a);\n",
              "      a.click();\n",
              "      div.remove();\n",
              "    }\n",
              "  "
            ],
            "text/plain": [
              "<IPython.core.display.Javascript object>"
            ]
          },
          "metadata": {
            "tags": []
          }
        },
        {
          "output_type": "display_data",
          "data": {
            "application/javascript": [
              "download(\"download_f10510cf-1188-48f7-a029-cbaf1d12cb1e\", \"lecture008-multilabel.h5\", 181864)"
            ],
            "text/plain": [
              "<IPython.core.display.Javascript object>"
            ]
          },
          "metadata": {
            "tags": []
          }
        }
      ]
    },
    {
      "cell_type": "code",
      "metadata": {
        "id": "IZJW0qubNTEd"
      },
      "source": [
        ""
      ],
      "execution_count": null,
      "outputs": []
    }
  ]
}