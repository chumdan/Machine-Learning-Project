{
  "nbformat": 4,
  "nbformat_minor": 0,
  "metadata": {
    "colab": {
      "name": "문제1_심부전증을 예방할 수 있을까.ipynb",
      "provenance": [],
      "collapsed_sections": [],
      "authorship_tag": "ABX9TyPasyin5haKMxJXoOMRIbPI",
      "include_colab_link": true
    },
    "kernelspec": {
      "name": "python3",
      "display_name": "Python 3"
    },
    "accelerator": "GPU"
  },
  "cells": [
    {
      "cell_type": "markdown",
      "metadata": {
        "id": "view-in-github",
        "colab_type": "text"
      },
      "source": [
        "<a href=\"https://colab.research.google.com/github/chumdan/Machine-Learning-Project/blob/main/%EB%AC%B8%EC%A0%9C1_%EC%8B%AC%EB%B6%80%EC%A0%84%EC%A6%9D%EC%9D%84_%EC%98%88%EB%B0%A9%ED%95%A0_%EC%88%98_%EC%9E%88%EC%9D%84%EA%B9%8C.ipynb\" target=\"_parent\"><img src=\"https://colab.research.google.com/assets/colab-badge.svg\" alt=\"Open In Colab\"/></a>"
      ]
    },
    {
      "cell_type": "markdown",
      "metadata": {
        "id": "bU_PF744uCXm"
      },
      "source": [
        "# 주제 : 데이터 분석으로 심부전증을 예방할 수 있을까? (분류문제유형)"
      ]
    },
    {
      "cell_type": "markdown",
      "metadata": {
        "id": "4IJgpP00uugb"
      },
      "source": [
        "### Step 0. 필요패키지 다운 및 데이터셋 준비\n",
        "\n",
        "\n",
        "\n"
      ]
    },
    {
      "cell_type": "markdown",
      "metadata": {
        "id": "vkJeSNQDwWhS"
      },
      "source": [
        "#### 필요패키지 설치"
      ]
    },
    {
      "cell_type": "code",
      "metadata": {
        "colab": {
          "base_uri": "https://localhost:8080/"
        },
        "id": "940YLpyfsmRb",
        "outputId": "1fc537f2-f5fb-41af-ee14-b9ba6f7e8021"
      },
      "source": [
        "from google.colab import drive\n",
        "drive.mount('/content/drive')"
      ],
      "execution_count": null,
      "outputs": [
        {
          "output_type": "stream",
          "text": [
            "Mounted at /content/drive\n"
          ],
          "name": "stdout"
        }
      ]
    },
    {
      "cell_type": "code",
      "metadata": {
        "id": "7Iig5boQdrb8"
      },
      "source": [
        "import pandas as pd\n",
        "import numpy as np\n",
        "import matplotlib.pyplot as plt\n",
        "import seaborn as sns\n",
        "import os\n",
        "from sklearn.neighbors import KNeighborsClassifier as KNN\n",
        "from sklearn.svm import SVC\n",
        "from sklearn.linear_model import LogisticRegression as LR\n",
        "from sklearn.tree import DecisionTreeClassifier as DTC\n",
        "from sklearn.ensemble import RandomForestClassifier as RFC\n",
        "from xgboost import XGBClassifier as XGB\n",
        "from lightgbm import LGBMClassifier as LGBM\n",
        "from sklearn.feature_selection import *\n",
        "from sklearn.metrics import f1_score\n",
        "from sklearn.model_selection import ParameterGrid\n",
        "# from sklearn.decomposition import PCA\n",
        "from sklearn.preprocessing import StandardScaler\n",
        "# from sklearn.preprocessing import MinMaxScaler\n",
        "from tensorflow.keras.callbacks import EarlyStopping, ModelCheckpoint\n",
        "from sklearn.model_selection import train_test_split\n",
        "from keras import models\n",
        "from keras import layers\n",
        "from sklearn.metrics import classification_report\n",
        "from sklearn.metrics import plot_precision_recall_curve\n",
        "from sklearn.metrics import plot_roc_curve"
      ],
      "execution_count": null,
      "outputs": []
    },
    {
      "cell_type": "code",
      "metadata": {
        "id": "NENSKS_kgEAz"
      },
      "source": [
        "# os.environ을 이용하여 Kaggle API Username, Key 세팅하기\n",
        "os.environ['KAGGLE_USERNAME'] = 'chumdan'\n",
        "os.environ['KAGGLE_KEY'] = '0e8bf51ba50bce898a8a9736072bd3b8'"
      ],
      "execution_count": null,
      "outputs": []
    },
    {
      "cell_type": "code",
      "metadata": {
        "colab": {
          "base_uri": "https://localhost:8080/"
        },
        "id": "kTnexlP_gNwX",
        "outputId": "1fab2d98-50f4-4fee-abe3-3472a397f814"
      },
      "source": [
        "# Linux 명령어로 Kaggle API를 이용하여 데이터셋 다운로드하기\n",
        "# Linux 명령어로 압축 해제하기\n",
        "!kaggle datasets download -d andrewmvd/heart-failure-clinical-data\n",
        "!unzip '*.zip'"
      ],
      "execution_count": null,
      "outputs": [
        {
          "output_type": "stream",
          "text": [
            "Downloading heart-failure-clinical-data.zip to /content\n",
            "\r  0% 0.00/3.97k [00:00<?, ?B/s]\n",
            "\r100% 3.97k/3.97k [00:00<00:00, 2.91MB/s]\n",
            "Archive:  heart-failure-clinical-data.zip\n",
            "  inflating: heart_failure_clinical_records_dataset.csv  \n"
          ],
          "name": "stdout"
        }
      ]
    },
    {
      "cell_type": "markdown",
      "metadata": {
        "id": "Vga6GNT4vFZL"
      },
      "source": [
        "#### 데이터소개 \n",
        "\n",
        " - 다음 1개의 csv 파일을 사용합니다.\n",
        "\n",
        "\n",
        "> \n",
        "    heart_failure_clinical_records_dataset.csv\n",
        "    \n",
        "- 각 파일의 컬럼은 아래와 같습니다.\n",
        "\n",
        "> \n",
        "    age: 환자의 나이\n",
        "    anaemia: 환자의 빈혈증 여부 (0: 정상, 1: 빈혈)\n",
        "    creatinine_phosphokinase: 크레아틴키나제 검사 결과\n",
        "    diabetes: 당뇨병 여부 (0: 정상, 1: 당뇨)\n",
        "    ejection_fraction: 박출계수 (%)\n",
        "    high_blood_pressure: 고혈압 여부 (0: 정상, 1: 고혈압)\n",
        "    platelets: 혈소판 수 (kiloplatelets/mL)\n",
        "    serum_creatinine: 혈중 크레아틴 레벨 (mg/dL)\n",
        "    serum_sodium: 혈중 나트륨 레벨 (mEq/L)\n",
        "    sex: 성별 (0: 여성, 1: 남성)\n",
        "    smoking: 흡연 여부 (0: 비흡연, 1: 흡연)\n",
        "    time: 관찰 기간 (일)\n",
        "    DEATH_EVENT: 사망 여부 (0: 생존, 1: 사망)\n",
        "    \n",
        "    종속변수: DEATH_EVENT\n",
        "    \n",
        "- 데이터 출처: https://www.kaggle.com/andrewmvd/heart-failure-clinical-data\n",
        "\n"
      ]
    },
    {
      "cell_type": "code",
      "metadata": {
        "id": "kqGYptvYgTdF",
        "colab": {
          "base_uri": "https://localhost:8080/",
          "height": 218
        },
        "outputId": "9ec9dd98-80d3-4d0f-ac82-a2aff2716311"
      },
      "source": [
        "# pd.read_csv()로 csv파일 읽어들이기\n",
        "df = pd.read_csv('heart_failure_clinical_records_dataset.csv')\n",
        "df.head()"
      ],
      "execution_count": null,
      "outputs": [
        {
          "output_type": "execute_result",
          "data": {
            "text/html": [
              "<div>\n",
              "<style scoped>\n",
              "    .dataframe tbody tr th:only-of-type {\n",
              "        vertical-align: middle;\n",
              "    }\n",
              "\n",
              "    .dataframe tbody tr th {\n",
              "        vertical-align: top;\n",
              "    }\n",
              "\n",
              "    .dataframe thead th {\n",
              "        text-align: right;\n",
              "    }\n",
              "</style>\n",
              "<table border=\"1\" class=\"dataframe\">\n",
              "  <thead>\n",
              "    <tr style=\"text-align: right;\">\n",
              "      <th></th>\n",
              "      <th>age</th>\n",
              "      <th>anaemia</th>\n",
              "      <th>creatinine_phosphokinase</th>\n",
              "      <th>diabetes</th>\n",
              "      <th>ejection_fraction</th>\n",
              "      <th>high_blood_pressure</th>\n",
              "      <th>platelets</th>\n",
              "      <th>serum_creatinine</th>\n",
              "      <th>serum_sodium</th>\n",
              "      <th>sex</th>\n",
              "      <th>smoking</th>\n",
              "      <th>time</th>\n",
              "      <th>DEATH_EVENT</th>\n",
              "    </tr>\n",
              "  </thead>\n",
              "  <tbody>\n",
              "    <tr>\n",
              "      <th>0</th>\n",
              "      <td>75.0</td>\n",
              "      <td>0</td>\n",
              "      <td>582</td>\n",
              "      <td>0</td>\n",
              "      <td>20</td>\n",
              "      <td>1</td>\n",
              "      <td>265000.00</td>\n",
              "      <td>1.9</td>\n",
              "      <td>130</td>\n",
              "      <td>1</td>\n",
              "      <td>0</td>\n",
              "      <td>4</td>\n",
              "      <td>1</td>\n",
              "    </tr>\n",
              "    <tr>\n",
              "      <th>1</th>\n",
              "      <td>55.0</td>\n",
              "      <td>0</td>\n",
              "      <td>7861</td>\n",
              "      <td>0</td>\n",
              "      <td>38</td>\n",
              "      <td>0</td>\n",
              "      <td>263358.03</td>\n",
              "      <td>1.1</td>\n",
              "      <td>136</td>\n",
              "      <td>1</td>\n",
              "      <td>0</td>\n",
              "      <td>6</td>\n",
              "      <td>1</td>\n",
              "    </tr>\n",
              "    <tr>\n",
              "      <th>2</th>\n",
              "      <td>65.0</td>\n",
              "      <td>0</td>\n",
              "      <td>146</td>\n",
              "      <td>0</td>\n",
              "      <td>20</td>\n",
              "      <td>0</td>\n",
              "      <td>162000.00</td>\n",
              "      <td>1.3</td>\n",
              "      <td>129</td>\n",
              "      <td>1</td>\n",
              "      <td>1</td>\n",
              "      <td>7</td>\n",
              "      <td>1</td>\n",
              "    </tr>\n",
              "    <tr>\n",
              "      <th>3</th>\n",
              "      <td>50.0</td>\n",
              "      <td>1</td>\n",
              "      <td>111</td>\n",
              "      <td>0</td>\n",
              "      <td>20</td>\n",
              "      <td>0</td>\n",
              "      <td>210000.00</td>\n",
              "      <td>1.9</td>\n",
              "      <td>137</td>\n",
              "      <td>1</td>\n",
              "      <td>0</td>\n",
              "      <td>7</td>\n",
              "      <td>1</td>\n",
              "    </tr>\n",
              "    <tr>\n",
              "      <th>4</th>\n",
              "      <td>65.0</td>\n",
              "      <td>1</td>\n",
              "      <td>160</td>\n",
              "      <td>1</td>\n",
              "      <td>20</td>\n",
              "      <td>0</td>\n",
              "      <td>327000.00</td>\n",
              "      <td>2.7</td>\n",
              "      <td>116</td>\n",
              "      <td>0</td>\n",
              "      <td>0</td>\n",
              "      <td>8</td>\n",
              "      <td>1</td>\n",
              "    </tr>\n",
              "  </tbody>\n",
              "</table>\n",
              "</div>"
            ],
            "text/plain": [
              "    age  anaemia  creatinine_phosphokinase  ...  smoking  time  DEATH_EVENT\n",
              "0  75.0        0                       582  ...        0     4            1\n",
              "1  55.0        0                      7861  ...        0     6            1\n",
              "2  65.0        0                       146  ...        1     7            1\n",
              "3  50.0        1                       111  ...        0     7            1\n",
              "4  65.0        1                       160  ...        0     8            1\n",
              "\n",
              "[5 rows x 13 columns]"
            ]
          },
          "metadata": {
            "tags": []
          },
          "execution_count": 5
        }
      ]
    },
    {
      "cell_type": "markdown",
      "metadata": {
        "id": "kTjsnK2Lw1AE"
      },
      "source": [
        "### Step 1. 데이터 기초 통계 분석 및 그래프"
      ]
    },
    {
      "cell_type": "markdown",
      "metadata": {
        "id": "iapn6JpSxAHq"
      },
      "source": [
        "#### 데이터프레임의 각 칼럼 분석"
      ]
    },
    {
      "cell_type": "code",
      "metadata": {
        "colab": {
          "base_uri": "https://localhost:8080/"
        },
        "id": "OczQ7snigXB1",
        "outputId": "d046bb61-7d35-45ed-eb23-188f3a6dbb12"
      },
      "source": [
        "df.info()"
      ],
      "execution_count": null,
      "outputs": [
        {
          "output_type": "stream",
          "text": [
            "<class 'pandas.core.frame.DataFrame'>\n",
            "RangeIndex: 299 entries, 0 to 298\n",
            "Data columns (total 13 columns):\n",
            " #   Column                    Non-Null Count  Dtype  \n",
            "---  ------                    --------------  -----  \n",
            " 0   age                       299 non-null    float64\n",
            " 1   anaemia                   299 non-null    int64  \n",
            " 2   creatinine_phosphokinase  299 non-null    int64  \n",
            " 3   diabetes                  299 non-null    int64  \n",
            " 4   ejection_fraction         299 non-null    int64  \n",
            " 5   high_blood_pressure       299 non-null    int64  \n",
            " 6   platelets                 299 non-null    float64\n",
            " 7   serum_creatinine          299 non-null    float64\n",
            " 8   serum_sodium              299 non-null    int64  \n",
            " 9   sex                       299 non-null    int64  \n",
            " 10  smoking                   299 non-null    int64  \n",
            " 11  time                      299 non-null    int64  \n",
            " 12  DEATH_EVENT               299 non-null    int64  \n",
            "dtypes: float64(3), int64(10)\n",
            "memory usage: 30.5 KB\n"
          ],
          "name": "stdout"
        }
      ]
    },
    {
      "cell_type": "code",
      "metadata": {
        "colab": {
          "base_uri": "https://localhost:8080/",
          "height": 458
        },
        "id": "lzaXZ4fQgcz8",
        "outputId": "48b363f5-3c50-409f-d46a-f5e6c57befc5"
      },
      "source": [
        "df.describe(include='all').T"
      ],
      "execution_count": null,
      "outputs": [
        {
          "output_type": "execute_result",
          "data": {
            "text/html": [
              "<div>\n",
              "<style scoped>\n",
              "    .dataframe tbody tr th:only-of-type {\n",
              "        vertical-align: middle;\n",
              "    }\n",
              "\n",
              "    .dataframe tbody tr th {\n",
              "        vertical-align: top;\n",
              "    }\n",
              "\n",
              "    .dataframe thead th {\n",
              "        text-align: right;\n",
              "    }\n",
              "</style>\n",
              "<table border=\"1\" class=\"dataframe\">\n",
              "  <thead>\n",
              "    <tr style=\"text-align: right;\">\n",
              "      <th></th>\n",
              "      <th>count</th>\n",
              "      <th>mean</th>\n",
              "      <th>std</th>\n",
              "      <th>min</th>\n",
              "      <th>25%</th>\n",
              "      <th>50%</th>\n",
              "      <th>75%</th>\n",
              "      <th>max</th>\n",
              "    </tr>\n",
              "  </thead>\n",
              "  <tbody>\n",
              "    <tr>\n",
              "      <th>age</th>\n",
              "      <td>299.0</td>\n",
              "      <td>60.833893</td>\n",
              "      <td>11.894809</td>\n",
              "      <td>40.0</td>\n",
              "      <td>51.0</td>\n",
              "      <td>60.0</td>\n",
              "      <td>70.0</td>\n",
              "      <td>95.0</td>\n",
              "    </tr>\n",
              "    <tr>\n",
              "      <th>anaemia</th>\n",
              "      <td>299.0</td>\n",
              "      <td>0.431438</td>\n",
              "      <td>0.496107</td>\n",
              "      <td>0.0</td>\n",
              "      <td>0.0</td>\n",
              "      <td>0.0</td>\n",
              "      <td>1.0</td>\n",
              "      <td>1.0</td>\n",
              "    </tr>\n",
              "    <tr>\n",
              "      <th>creatinine_phosphokinase</th>\n",
              "      <td>299.0</td>\n",
              "      <td>581.839465</td>\n",
              "      <td>970.287881</td>\n",
              "      <td>23.0</td>\n",
              "      <td>116.5</td>\n",
              "      <td>250.0</td>\n",
              "      <td>582.0</td>\n",
              "      <td>7861.0</td>\n",
              "    </tr>\n",
              "    <tr>\n",
              "      <th>diabetes</th>\n",
              "      <td>299.0</td>\n",
              "      <td>0.418060</td>\n",
              "      <td>0.494067</td>\n",
              "      <td>0.0</td>\n",
              "      <td>0.0</td>\n",
              "      <td>0.0</td>\n",
              "      <td>1.0</td>\n",
              "      <td>1.0</td>\n",
              "    </tr>\n",
              "    <tr>\n",
              "      <th>ejection_fraction</th>\n",
              "      <td>299.0</td>\n",
              "      <td>38.083612</td>\n",
              "      <td>11.834841</td>\n",
              "      <td>14.0</td>\n",
              "      <td>30.0</td>\n",
              "      <td>38.0</td>\n",
              "      <td>45.0</td>\n",
              "      <td>80.0</td>\n",
              "    </tr>\n",
              "    <tr>\n",
              "      <th>high_blood_pressure</th>\n",
              "      <td>299.0</td>\n",
              "      <td>0.351171</td>\n",
              "      <td>0.478136</td>\n",
              "      <td>0.0</td>\n",
              "      <td>0.0</td>\n",
              "      <td>0.0</td>\n",
              "      <td>1.0</td>\n",
              "      <td>1.0</td>\n",
              "    </tr>\n",
              "    <tr>\n",
              "      <th>platelets</th>\n",
              "      <td>299.0</td>\n",
              "      <td>263358.029264</td>\n",
              "      <td>97804.236869</td>\n",
              "      <td>25100.0</td>\n",
              "      <td>212500.0</td>\n",
              "      <td>262000.0</td>\n",
              "      <td>303500.0</td>\n",
              "      <td>850000.0</td>\n",
              "    </tr>\n",
              "    <tr>\n",
              "      <th>serum_creatinine</th>\n",
              "      <td>299.0</td>\n",
              "      <td>1.393880</td>\n",
              "      <td>1.034510</td>\n",
              "      <td>0.5</td>\n",
              "      <td>0.9</td>\n",
              "      <td>1.1</td>\n",
              "      <td>1.4</td>\n",
              "      <td>9.4</td>\n",
              "    </tr>\n",
              "    <tr>\n",
              "      <th>serum_sodium</th>\n",
              "      <td>299.0</td>\n",
              "      <td>136.625418</td>\n",
              "      <td>4.412477</td>\n",
              "      <td>113.0</td>\n",
              "      <td>134.0</td>\n",
              "      <td>137.0</td>\n",
              "      <td>140.0</td>\n",
              "      <td>148.0</td>\n",
              "    </tr>\n",
              "    <tr>\n",
              "      <th>sex</th>\n",
              "      <td>299.0</td>\n",
              "      <td>0.648829</td>\n",
              "      <td>0.478136</td>\n",
              "      <td>0.0</td>\n",
              "      <td>0.0</td>\n",
              "      <td>1.0</td>\n",
              "      <td>1.0</td>\n",
              "      <td>1.0</td>\n",
              "    </tr>\n",
              "    <tr>\n",
              "      <th>smoking</th>\n",
              "      <td>299.0</td>\n",
              "      <td>0.321070</td>\n",
              "      <td>0.467670</td>\n",
              "      <td>0.0</td>\n",
              "      <td>0.0</td>\n",
              "      <td>0.0</td>\n",
              "      <td>1.0</td>\n",
              "      <td>1.0</td>\n",
              "    </tr>\n",
              "    <tr>\n",
              "      <th>time</th>\n",
              "      <td>299.0</td>\n",
              "      <td>130.260870</td>\n",
              "      <td>77.614208</td>\n",
              "      <td>4.0</td>\n",
              "      <td>73.0</td>\n",
              "      <td>115.0</td>\n",
              "      <td>203.0</td>\n",
              "      <td>285.0</td>\n",
              "    </tr>\n",
              "    <tr>\n",
              "      <th>DEATH_EVENT</th>\n",
              "      <td>299.0</td>\n",
              "      <td>0.321070</td>\n",
              "      <td>0.467670</td>\n",
              "      <td>0.0</td>\n",
              "      <td>0.0</td>\n",
              "      <td>0.0</td>\n",
              "      <td>1.0</td>\n",
              "      <td>1.0</td>\n",
              "    </tr>\n",
              "  </tbody>\n",
              "</table>\n",
              "</div>"
            ],
            "text/plain": [
              "                          count           mean  ...       75%       max\n",
              "age                       299.0      60.833893  ...      70.0      95.0\n",
              "anaemia                   299.0       0.431438  ...       1.0       1.0\n",
              "creatinine_phosphokinase  299.0     581.839465  ...     582.0    7861.0\n",
              "diabetes                  299.0       0.418060  ...       1.0       1.0\n",
              "ejection_fraction         299.0      38.083612  ...      45.0      80.0\n",
              "high_blood_pressure       299.0       0.351171  ...       1.0       1.0\n",
              "platelets                 299.0  263358.029264  ...  303500.0  850000.0\n",
              "serum_creatinine          299.0       1.393880  ...       1.4       9.4\n",
              "serum_sodium              299.0     136.625418  ...     140.0     148.0\n",
              "sex                       299.0       0.648829  ...       1.0       1.0\n",
              "smoking                   299.0       0.321070  ...       1.0       1.0\n",
              "time                      299.0     130.260870  ...     203.0     285.0\n",
              "DEATH_EVENT               299.0       0.321070  ...       1.0       1.0\n",
              "\n",
              "[13 rows x 8 columns]"
            ]
          },
          "metadata": {
            "tags": []
          },
          "execution_count": 7
        }
      ]
    },
    {
      "cell_type": "markdown",
      "metadata": {
        "id": "qe8wY3M9xWXv"
      },
      "source": [
        "#### 데이터 그래프 분석"
      ]
    },
    {
      "cell_type": "code",
      "metadata": {
        "colab": {
          "base_uri": "https://localhost:8080/",
          "height": 297
        },
        "id": "atWCqT56xWe4",
        "outputId": "e785e655-48b3-4095-d9f4-fe665f7586c4"
      },
      "source": [
        "sns.histplot(x='age', data=df, hue='DEATH_EVENT', kde=True)"
      ],
      "execution_count": null,
      "outputs": [
        {
          "output_type": "execute_result",
          "data": {
            "text/plain": [
              "<matplotlib.axes._subplots.AxesSubplot at 0x7fb554897310>"
            ]
          },
          "metadata": {
            "tags": []
          },
          "execution_count": 8
        },
        {
          "output_type": "display_data",
          "data": {
            "image/png": "[encoded data removed]",
            "text/plain": [
              "<Figure size 432x288 with 1 Axes>"
            ]
          },
          "metadata": {
            "tags": [],
            "needs_background": "light"
          }
        }
      ]
    },
    {
      "cell_type": "code",
      "metadata": {
        "colab": {
          "base_uri": "https://localhost:8080/"
        },
        "id": "vs9qSMuDxWlQ",
        "outputId": "59d11368-f0af-4e5d-f9ba-70d997ef95ca"
      },
      "source": [
        "df.columns"
      ],
      "execution_count": null,
      "outputs": [
        {
          "output_type": "execute_result",
          "data": {
            "text/plain": [
              "Index(['age', 'anaemia', 'creatinine_phosphokinase', 'diabetes',\n",
              "       'ejection_fraction', 'high_blood_pressure', 'platelets',\n",
              "       'serum_creatinine', 'serum_sodium', 'sex', 'smoking', 'time',\n",
              "       'DEATH_EVENT'],\n",
              "      dtype='object')"
            ]
          },
          "metadata": {
            "tags": []
          },
          "execution_count": 9
        }
      ]
    },
    {
      "cell_type": "code",
      "metadata": {
        "colab": {
          "base_uri": "https://localhost:8080/",
          "height": 298
        },
        "id": "iRaWSAWaxpxY",
        "outputId": "dc4021df-ec9d-4e34-c900-6e01cae77c80"
      },
      "source": [
        "sns.histplot(data=df.loc[df['creatinine_phosphokinase'] < 3000, 'creatinine_phosphokinase'])"
      ],
      "execution_count": null,
      "outputs": [
        {
          "output_type": "execute_result",
          "data": {
            "text/plain": [
              "<matplotlib.axes._subplots.AxesSubplot at 0x7fb553b60350>"
            ]
          },
          "metadata": {
            "tags": []
          },
          "execution_count": 10
        },
        {
          "output_type": "display_data",
          "data": {
            "image/png": "[encoded data removed]",
            "text/plain": [
              "<Figure size 432x288 with 1 Axes>"
            ]
          },
          "metadata": {
            "tags": [],
            "needs_background": "light"
          }
        }
      ]
    },
    {
      "cell_type": "code",
      "metadata": {
        "colab": {
          "base_uri": "https://localhost:8080/",
          "height": 301
        },
        "id": "4FdplDQUxp25",
        "outputId": "cc76257b-5959-4f1a-c34d-46857bf416c4"
      },
      "source": [
        "sns.histplot(x='ejection_fraction', data=df, bins=13, hue='DEATH_EVENT', kde=True)"
      ],
      "execution_count": null,
      "outputs": [
        {
          "output_type": "execute_result",
          "data": {
            "text/plain": [
              "<matplotlib.axes._subplots.AxesSubplot at 0x7fb552a30650>"
            ]
          },
          "metadata": {
            "tags": []
          },
          "execution_count": 11
        },
        {
          "output_type": "display_data",
          "data": {
            "image/png": "[encoded data removed]",
            "text/plain": [
              "<Figure size 432x288 with 1 Axes>"
            ]
          },
          "metadata": {
            "tags": [],
            "needs_background": "light"
          }
        }
      ]
    },
    {
      "cell_type": "code",
      "metadata": {
        "colab": {
          "base_uri": "https://localhost:8080/",
          "height": 297
        },
        "id": "7pcvJgLaxp7M",
        "outputId": "5e80864f-f91b-471d-81ee-332e4f3101e2"
      },
      "source": [
        "sns.histplot(x='platelets', data=df, hue='DEATH_EVENT')"
      ],
      "execution_count": null,
      "outputs": [
        {
          "output_type": "execute_result",
          "data": {
            "text/plain": [
              "<matplotlib.axes._subplots.AxesSubplot at 0x7fb552f3eb90>"
            ]
          },
          "metadata": {
            "tags": []
          },
          "execution_count": 12
        },
        {
          "output_type": "display_data",
          "data": {
            "image/png": "[encoded data removed]",
            "text/plain": [
              "<Figure size 432x288 with 1 Axes>"
            ]
          },
          "metadata": {
            "tags": [],
            "needs_background": "light"
          }
        }
      ]
    },
    {
      "cell_type": "code",
      "metadata": {
        "colab": {
          "base_uri": "https://localhost:8080/",
          "height": 297
        },
        "id": "UWo24LC-xp_k",
        "outputId": "405a6621-649a-407c-8d81-fb8c6c3573b8"
      },
      "source": [
        "sns.histplot(x='time', data=df, hue='DEATH_EVENT', kde=True)"
      ],
      "execution_count": null,
      "outputs": [
        {
          "output_type": "execute_result",
          "data": {
            "text/plain": [
              "<matplotlib.axes._subplots.AxesSubplot at 0x7fb55281fa10>"
            ]
          },
          "metadata": {
            "tags": []
          },
          "execution_count": 13
        },
        {
          "output_type": "display_data",
          "data": {
            "image/png": "[encoded data removed]",
            "text/plain": [
              "<Figure size 432x288 with 1 Axes>"
            ]
          },
          "metadata": {
            "tags": [],
            "needs_background": "light"
          }
        }
      ]
    },
    {
      "cell_type": "code",
      "metadata": {
        "colab": {
          "base_uri": "https://localhost:8080/",
          "height": 470
        },
        "id": "abjqRRAUxqCw",
        "outputId": "4a9e7071-75de-4a33-c72a-0f22c0cbaf62"
      },
      "source": [
        "sns.jointplot(x='platelets', y='creatinine_phosphokinase', hue='DEATH_EVENT', data=df, alpha=0.3)"
      ],
      "execution_count": null,
      "outputs": [
        {
          "output_type": "execute_result",
          "data": {
            "text/plain": [
              "<seaborn.axisgrid.JointGrid at 0x7fb5527cb7d0>"
            ]
          },
          "metadata": {
            "tags": []
          },
          "execution_count": 14
        },
        {
          "output_type": "display_data",
          "data": {
            "image/png": "[encoded data removed]",
            "text/plain": [
              "<Figure size 432x432 with 3 Axes>"
            ]
          },
          "metadata": {
            "tags": [],
            "needs_background": "light"
          }
        }
      ]
    },
    {
      "cell_type": "code",
      "metadata": {
        "colab": {
          "base_uri": "https://localhost:8080/",
          "height": 459
        },
        "id": "vf6nmSPGxqF5",
        "outputId": "8989b0bc-c32f-4d01-b9d9-9e4f984cd749"
      },
      "source": [
        "sns.jointplot(x='ejection_fraction', y='serum_creatinine', data=df, hue='DEATH_EVENT')"
      ],
      "execution_count": null,
      "outputs": [
        {
          "output_type": "execute_result",
          "data": {
            "text/plain": [
              "<seaborn.axisgrid.JointGrid at 0x7fb549e70750>"
            ]
          },
          "metadata": {
            "tags": []
          },
          "execution_count": 15
        },
        {
          "output_type": "display_data",
          "data": {
            "image/png": "[encoded data removed]",
            "text/plain": [
              "<Figure size 432x432 with 3 Axes>"
            ]
          },
          "metadata": {
            "tags": [],
            "needs_background": "light"
          }
        }
      ]
    },
    {
      "cell_type": "code",
      "metadata": {
        "colab": {
          "base_uri": "https://localhost:8080/",
          "height": 298
        },
        "id": "5163-ZW_yBla",
        "outputId": "48b69ae0-e01c-4231-e166-f3c0015f2bed"
      },
      "source": [
        "sns.boxplot(x='DEATH_EVENT', y='ejection_fraction', data=df)"
      ],
      "execution_count": null,
      "outputs": [
        {
          "output_type": "execute_result",
          "data": {
            "text/plain": [
              "<matplotlib.axes._subplots.AxesSubplot at 0x7fb552f23650>"
            ]
          },
          "metadata": {
            "tags": []
          },
          "execution_count": 16
        },
        {
          "output_type": "display_data",
          "data": {
            "image/png": "[encoded data removed]",
            "text/plain": [
              "<Figure size 432x288 with 1 Axes>"
            ]
          },
          "metadata": {
            "tags": [],
            "needs_background": "light"
          }
        }
      ]
    },
    {
      "cell_type": "code",
      "metadata": {
        "colab": {
          "base_uri": "https://localhost:8080/",
          "height": 297
        },
        "id": "_x_wAULZyBro",
        "outputId": "fb65e945-6f65-4db6-aba4-873fa6da29d7"
      },
      "source": [
        "sns.boxplot(x='smoking', y='ejection_fraction', data=df)"
      ],
      "execution_count": null,
      "outputs": [
        {
          "output_type": "execute_result",
          "data": {
            "text/plain": [
              "<matplotlib.axes._subplots.AxesSubplot at 0x7fb549cf2950>"
            ]
          },
          "metadata": {
            "tags": []
          },
          "execution_count": 17
        },
        {
          "output_type": "display_data",
          "data": {
            "image/png": "[encoded data removed]",
            "text/plain": [
              "<Figure size 432x288 with 1 Axes>"
            ]
          },
          "metadata": {
            "tags": [],
            "needs_background": "light"
          }
        }
      ]
    },
    {
      "cell_type": "code",
      "metadata": {
        "colab": {
          "base_uri": "https://localhost:8080/",
          "height": 355
        },
        "id": "---ZfjLCyBwI",
        "outputId": "bbc84e21-ae72-4f88-f243-395e8128f039"
      },
      "source": [
        "sns.swarmplot(x='DEATH_EVENT', y='platelets', hue='smoking', data=df)"
      ],
      "execution_count": null,
      "outputs": [
        {
          "output_type": "stream",
          "text": [
            "/usr/local/lib/python3.7/dist-packages/seaborn/categorical.py:1296: UserWarning: 9.9% of the points cannot be placed; you may want to decrease the size of the markers or use stripplot.\n",
            "  warnings.warn(msg, UserWarning)\n"
          ],
          "name": "stderr"
        },
        {
          "output_type": "execute_result",
          "data": {
            "text/plain": [
              "<matplotlib.axes._subplots.AxesSubplot at 0x7fb549c62e10>"
            ]
          },
          "metadata": {
            "tags": []
          },
          "execution_count": 18
        },
        {
          "output_type": "display_data",
          "data": {
            "image/png": "[encoded data removed]",
            "text/plain": [
              "<Figure size 432x288 with 1 Axes>"
            ]
          },
          "metadata": {
            "tags": [],
            "needs_background": "light"
          }
        }
      ]
    },
    {
      "cell_type": "markdown",
      "metadata": {
        "id": "IfE6UgCKyIcY"
      },
      "source": [
        "### Step 2. 모델 학습을 위한 전처리"
      ]
    },
    {
      "cell_type": "markdown",
      "metadata": {
        "id": "fjbBSChzyIqg"
      },
      "source": [
        "#### StandardScaler를 이용하여 데이터 전처리하기"
      ]
    },
    {
      "cell_type": "code",
      "metadata": {
        "colab": {
          "base_uri": "https://localhost:8080/"
        },
        "id": "Qa9cBL9Cyzco",
        "outputId": "6eb72ae0-53a5-45ed-8dc2-cdfe11229b35"
      },
      "source": [
        "df.columns"
      ],
      "execution_count": null,
      "outputs": [
        {
          "output_type": "execute_result",
          "data": {
            "text/plain": [
              "Index(['age', 'anaemia', 'creatinine_phosphokinase', 'diabetes',\n",
              "       'ejection_fraction', 'high_blood_pressure', 'platelets',\n",
              "       'serum_creatinine', 'serum_sodium', 'sex', 'smoking', 'time',\n",
              "       'DEATH_EVENT'],\n",
              "      dtype='object')"
            ]
          },
          "metadata": {
            "tags": []
          },
          "execution_count": 19
        }
      ]
    },
    {
      "cell_type": "code",
      "metadata": {
        "id": "5mFkIUPJglbN"
      },
      "source": [
        "# 수치형 입력 데이터, 범주형 입력 데이터, 출력 데이터로 구분하기\n",
        "X_num = df[['age', 'creatinine_phosphokinase','ejection_fraction', 'platelets','serum_creatinine', 'serum_sodium']]\n",
        "X_cat = df[['anaemia', 'diabetes', 'high_blood_pressure', 'sex', 'smoking']]\n",
        "y = df['DEATH_EVENT']"
      ],
      "execution_count": null,
      "outputs": []
    },
    {
      "cell_type": "code",
      "metadata": {
        "id": "rC8aVDkjhmxl"
      },
      "source": [
        "# 수치형 입력 데이터를 전처리하고 입력 데이터 통합하기\n",
        "scaler = StandardScaler()\n",
        "scaler.fit(X_num)\n",
        "X_scaled = scaler.transform(X_num)\n",
        "X_scaled = pd.DataFrame(data=X_scaled, index=X_num.index, columns=X_num.columns)\n",
        "X = pd.concat([X_scaled, X_cat], axis=1)"
      ],
      "execution_count": null,
      "outputs": []
    },
    {
      "cell_type": "code",
      "metadata": {
        "colab": {
          "base_uri": "https://localhost:8080/",
          "height": 218
        },
        "id": "mJjum9pUh2Bl",
        "outputId": "ce0da2cd-2b75-402c-fddb-ba76072925a5"
      },
      "source": [
        "X.head()"
      ],
      "execution_count": null,
      "outputs": [
        {
          "output_type": "execute_result",
          "data": {
            "text/html": [
              "<div>\n",
              "<style scoped>\n",
              "    .dataframe tbody tr th:only-of-type {\n",
              "        vertical-align: middle;\n",
              "    }\n",
              "\n",
              "    .dataframe tbody tr th {\n",
              "        vertical-align: top;\n",
              "    }\n",
              "\n",
              "    .dataframe thead th {\n",
              "        text-align: right;\n",
              "    }\n",
              "</style>\n",
              "<table border=\"1\" class=\"dataframe\">\n",
              "  <thead>\n",
              "    <tr style=\"text-align: right;\">\n",
              "      <th></th>\n",
              "      <th>age</th>\n",
              "      <th>creatinine_phosphokinase</th>\n",
              "      <th>ejection_fraction</th>\n",
              "      <th>platelets</th>\n",
              "      <th>serum_creatinine</th>\n",
              "      <th>serum_sodium</th>\n",
              "      <th>anaemia</th>\n",
              "      <th>diabetes</th>\n",
              "      <th>high_blood_pressure</th>\n",
              "      <th>sex</th>\n",
              "      <th>smoking</th>\n",
              "    </tr>\n",
              "  </thead>\n",
              "  <tbody>\n",
              "    <tr>\n",
              "      <th>0</th>\n",
              "      <td>1.192945</td>\n",
              "      <td>0.000166</td>\n",
              "      <td>-1.530560</td>\n",
              "      <td>1.681648e-02</td>\n",
              "      <td>0.490057</td>\n",
              "      <td>-1.504036</td>\n",
              "      <td>0</td>\n",
              "      <td>0</td>\n",
              "      <td>1</td>\n",
              "      <td>1</td>\n",
              "      <td>0</td>\n",
              "    </tr>\n",
              "    <tr>\n",
              "      <th>1</th>\n",
              "      <td>-0.491279</td>\n",
              "      <td>7.514640</td>\n",
              "      <td>-0.007077</td>\n",
              "      <td>7.535660e-09</td>\n",
              "      <td>-0.284552</td>\n",
              "      <td>-0.141976</td>\n",
              "      <td>0</td>\n",
              "      <td>0</td>\n",
              "      <td>0</td>\n",
              "      <td>1</td>\n",
              "      <td>0</td>\n",
              "    </tr>\n",
              "    <tr>\n",
              "      <th>2</th>\n",
              "      <td>0.350833</td>\n",
              "      <td>-0.449939</td>\n",
              "      <td>-1.530560</td>\n",
              "      <td>-1.038073e+00</td>\n",
              "      <td>-0.090900</td>\n",
              "      <td>-1.731046</td>\n",
              "      <td>0</td>\n",
              "      <td>0</td>\n",
              "      <td>0</td>\n",
              "      <td>1</td>\n",
              "      <td>1</td>\n",
              "    </tr>\n",
              "    <tr>\n",
              "      <th>3</th>\n",
              "      <td>-0.912335</td>\n",
              "      <td>-0.486071</td>\n",
              "      <td>-1.530560</td>\n",
              "      <td>-5.464741e-01</td>\n",
              "      <td>0.490057</td>\n",
              "      <td>0.085034</td>\n",
              "      <td>1</td>\n",
              "      <td>0</td>\n",
              "      <td>0</td>\n",
              "      <td>1</td>\n",
              "      <td>0</td>\n",
              "    </tr>\n",
              "    <tr>\n",
              "      <th>4</th>\n",
              "      <td>0.350833</td>\n",
              "      <td>-0.435486</td>\n",
              "      <td>-1.530560</td>\n",
              "      <td>6.517986e-01</td>\n",
              "      <td>1.264666</td>\n",
              "      <td>-4.682176</td>\n",
              "      <td>1</td>\n",
              "      <td>1</td>\n",
              "      <td>0</td>\n",
              "      <td>0</td>\n",
              "      <td>0</td>\n",
              "    </tr>\n",
              "  </tbody>\n",
              "</table>\n",
              "</div>"
            ],
            "text/plain": [
              "        age  creatinine_phosphokinase  ...  sex  smoking\n",
              "0  1.192945                  0.000166  ...    1        0\n",
              "1 -0.491279                  7.514640  ...    1        0\n",
              "2  0.350833                 -0.449939  ...    1        1\n",
              "3 -0.912335                 -0.486071  ...    1        0\n",
              "4  0.350833                 -0.435486  ...    0        0\n",
              "\n",
              "[5 rows x 11 columns]"
            ]
          },
          "metadata": {
            "tags": []
          },
          "execution_count": 22
        }
      ]
    },
    {
      "cell_type": "code",
      "metadata": {
        "colab": {
          "base_uri": "https://localhost:8080/"
        },
        "id": "e67BrdOUzNHn",
        "outputId": "bb3f910a-78b6-46a2-9f03-ca05c067b2aa"
      },
      "source": [
        "# 범주형 변수가 모두 0, 1 이진변수로 원핫인코딩 패스.\n",
        "for i in X_cat.columns:\n",
        "  print(X_cat[i].unique())\n"
      ],
      "execution_count": null,
      "outputs": [
        {
          "output_type": "stream",
          "text": [
            "[0 1]\n",
            "[0 1]\n",
            "[1 0]\n",
            "[1 0]\n",
            "[0 1]\n"
          ],
          "name": "stdout"
        }
      ]
    },
    {
      "cell_type": "markdown",
      "metadata": {
        "id": "5IAUHur_h41E"
      },
      "source": [
        "#### 학습데이터와 테스트데이터 분리"
      ]
    },
    {
      "cell_type": "code",
      "metadata": {
        "id": "sBr5skVY2Mff"
      },
      "source": [
        "X_train, X_test, y_train, y_test = train_test_split(X, y, test_size=0.3, random_state=1)"
      ],
      "execution_count": null,
      "outputs": []
    },
    {
      "cell_type": "markdown",
      "metadata": {
        "id": "KeY7VUSmiN-M"
      },
      "source": [
        "### Step 3. Classification 모델 학습하기(y : binary 변수)\n",
        "\n",
        "- 기본 모델은 로지스틱 모델로 설정.\n",
        "-  모델이 단순하기 때문에 KNN, SVM, XGB, LGBM을 모두 하이퍼파라미터 조절을 통해 분석해본다.\n"
      ]
    },
    {
      "cell_type": "markdown",
      "metadata": {
        "id": "dosmgmYC85i2"
      },
      "source": [
        "#### 기본 모델 분석"
      ]
    },
    {
      "cell_type": "code",
      "metadata": {
        "id": "XJKQfj8212z9",
        "colab": {
          "base_uri": "https://localhost:8080/"
        },
        "outputId": "fdee3a1a-8119-40b4-abea-15cc18a78ac2"
      },
      "source": [
        "# 결정계수를 설정해서 가장 적합한 로지스틱분석의 결정계수를 정한다.\n",
        "def LR_model_test(C):\n",
        "    model_lr = LR(C = C, max_iter = 100000, random_state = 10).fit(X_train, y_train) # 가벼운 모델이므로 max_iter를 크게 잡았음\n",
        "    y_pred_lr = model_lr.predict(X_test)\n",
        "    return f1_score(y_test, y_pred_lr)\n",
        "\n",
        "print(\"C = 0.1:\\t{}\".format(LR_model_test(C = 0.1)))\n",
        "print(\"C = 0.3:\\t{}\".format(LR_model_test(C = 0.3))) \n",
        "print(\"C = 0.5:\\t{}\".format(LR_model_test(C = 0.5)))\n",
        "print(\"C = 0.7:\\t{}\".format(LR_model_test(C = 0.7)))\n",
        "print(\"C = 1:\\t{}\".format(LR_model_test(C = 1)))\n",
        "# cut-off는 0.5로 했을 때, 가장 좋은 로지스틱 모델이 나온다."
      ],
      "execution_count": null,
      "outputs": [
        {
          "output_type": "stream",
          "text": [
            "C = 0.1:\t0.29411764705882354\n",
            "C = 0.3:\t0.43243243243243246\n",
            "C = 0.5:\t0.46153846153846156\n",
            "C = 0.7:\t0.45\n",
            "C = 1:\t0.45\n"
          ],
          "name": "stdout"
        }
      ]
    },
    {
      "cell_type": "code",
      "metadata": {
        "id": "Wsfe7N7m42Sx",
        "colab": {
          "base_uri": "https://localhost:8080/"
        },
        "outputId": "c7b168ea-72c5-4632-aa8a-37cd24b5d361"
      },
      "source": [
        "model_lr = LR(C = 0.5, max_iter = 100000, random_state = 10)\n",
        "model_lr.fit(X_train, y_train)"
      ],
      "execution_count": null,
      "outputs": [
        {
          "output_type": "execute_result",
          "data": {
            "text/plain": [
              "LogisticRegression(C=0.5, class_weight=None, dual=False, fit_intercept=True,\n",
              "                   intercept_scaling=1, l1_ratio=None, max_iter=100000,\n",
              "                   multi_class='auto', n_jobs=None, penalty='l2',\n",
              "                   random_state=10, solver='lbfgs', tol=0.0001, verbose=0,\n",
              "                   warm_start=False)"
            ]
          },
          "metadata": {
            "tags": []
          },
          "execution_count": 26
        }
      ]
    },
    {
      "cell_type": "code",
      "metadata": {
        "colab": {
          "base_uri": "https://localhost:8080/"
        },
        "id": "vvRMd6cD45qt",
        "outputId": "e08d4a38-0639-4863-a810-4d22207a135b"
      },
      "source": [
        "# Predict를 수행하고 classification_report() 결과 출력하기\n",
        "pred_lr = model_lr.predict(X_test)\n",
        "print(classification_report(y_test, pred_lr))"
      ],
      "execution_count": null,
      "outputs": [
        {
          "output_type": "stream",
          "text": [
            "              precision    recall  f1-score   support\n",
            "\n",
            "           0       0.78      0.94      0.85        64\n",
            "           1       0.69      0.35      0.46        26\n",
            "\n",
            "    accuracy                           0.77        90\n",
            "   macro avg       0.74      0.64      0.66        90\n",
            "weighted avg       0.75      0.77      0.74        90\n",
            "\n"
          ],
          "name": "stdout"
        }
      ]
    },
    {
      "cell_type": "markdown",
      "metadata": {
        "id": "iNg_ywHJ9AJ9"
      },
      "source": [
        "#### 파라미터 그리드 설계"
      ]
    },
    {
      "cell_type": "code",
      "metadata": {
        "colab": {
          "base_uri": "https://localhost:8080/"
        },
        "id": "ZTzn323a1tYc",
        "outputId": "af900cc9-f207-4331-b7c9-0d0d73cab3cb"
      },
      "source": [
        "# 모델 파라미터 그리드 설계\n",
        "# 키가 모델의 함수, 값이 파라미터 그리드의 값\n",
        "param_grid = dict() \n",
        "\n",
        "param_grid_for_KNN = ParameterGrid({\"n_neighbors\": [3, 5, 7],\n",
        "                                    \"metric\":['euclidean', 'manhattan']})\n",
        "\n",
        "param_grid_for_SVM = ParameterGrid({\"C\": [0.1, 1, 10],\n",
        "                                    \"kernel\":['rbf', 'linear']})\n",
        "\n",
        "param_grid_for_XGB = ParameterGrid({\"max_depth\": [2, 3, 4],\n",
        "                                    \"n_estimators\": [50, 100],\n",
        "                                    \"learning_rate\": [0.05, 0.1, 0.15, 0.2]})\n",
        "\n",
        "param_grid_for_LGBM = ParameterGrid({\"max_depth\": [2, 3, 4],\n",
        "                                     \"n_estimators\": [50, 100],\n",
        "                                     \"learning_rate\": [0.05, 0.1, 0.15, 0.2]})\n",
        "\n",
        "\n",
        "\n",
        "\n",
        "param_grid[KNN] = param_grid_for_KNN\n",
        "param_grid[SVC] = param_grid_for_SVM\n",
        "param_grid[XGB] = param_grid_for_XGB\n",
        "param_grid[LGBM] = param_grid_for_LGBM\n",
        "\n",
        "# 출력을 위한 max_iter_num 계산\n",
        "                           \n",
        "# 튜닝 시작\n",
        "best_score = 0\n",
        "iteration_num = 0    \n",
        "for k in range(30, 5, -1): \n",
        "    print(k)\n",
        "  \n",
        "    for model_func in [KNN, SVC, XGB, LGBM]:\n",
        "        for param in param_grid[model_func]:\n",
        "            model = model_func(**param).fit(X_train.values, y_train.values)\n",
        "            y_pred = model.predict(X_test.values)\n",
        "            score = f1_score(y_test, y_pred, average = 'micro')\n",
        "            if score > best_score:\n",
        "                best_model_func = model_func\n",
        "                best_score = score\n",
        "                best_parameter = param\n",
        "            iteration_num += 1      \n",
        "\n",
        "\n",
        "print(\"모델:\", best_model_func)\n",
        "print(\"점수:\", best_score)\n",
        "print(\"파라미터:\", best_parameter)\n",
        "        \n",
        "\n"
      ],
      "execution_count": null,
      "outputs": [
        {
          "output_type": "stream",
          "text": [
            "30\n",
            "29\n",
            "28\n",
            "27\n",
            "26\n",
            "25\n",
            "24\n",
            "23\n",
            "22\n",
            "21\n",
            "20\n",
            "19\n",
            "18\n",
            "17\n",
            "16\n",
            "15\n",
            "14\n",
            "13\n",
            "12\n",
            "11\n",
            "10\n",
            "9\n",
            "8\n",
            "7\n",
            "6\n",
            "모델: <class 'xgboost.sklearn.XGBClassifier'>\n",
            "점수: 0.8111111111111111\n",
            "파라미터: {'learning_rate': 0.2, 'max_depth': 3, 'n_estimators': 50}\n"
          ],
          "name": "stdout"
        }
      ]
    },
    {
      "cell_type": "code",
      "metadata": {
        "colab": {
          "base_uri": "https://localhost:8080/"
        },
        "id": "mnv5OHIHo7KN",
        "outputId": "457f860b-5c47-45c1-a67b-380cad12e9b5"
      },
      "source": [
        "final_model_xgb=XGB(max_depth=3, n_estimators=50,learning_rate=0.2)\n",
        "final_model_xgb.fit(X_train, y_train)\n",
        "pred_xgb = final_model_xgb.predict(X_test)\n",
        "print(classification_report(y_test, pred_xgb))\n",
        "\n",
        "# 기본 모델인 로지스틱 모델에 비해서 f1-score가 0.05 상승했다."
      ],
      "execution_count": null,
      "outputs": [
        {
          "output_type": "stream",
          "text": [
            "              precision    recall  f1-score   support\n",
            "\n",
            "           0       0.84      0.91      0.87        64\n",
            "           1       0.71      0.58      0.64        26\n",
            "\n",
            "    accuracy                           0.81        90\n",
            "   macro avg       0.78      0.74      0.76        90\n",
            "weighted avg       0.80      0.81      0.80        90\n",
            "\n"
          ],
          "name": "stdout"
        }
      ]
    },
    {
      "cell_type": "markdown",
      "metadata": {
        "id": "yhA9aM-Z8mFd"
      },
      "source": [
        "#### 특징중요도 파악"
      ]
    },
    {
      "cell_type": "code",
      "metadata": {
        "colab": {
          "base_uri": "https://localhost:8080/",
          "height": 385
        },
        "id": "IVG6reRdx0QD",
        "outputId": "fdd06a20-a81c-4dbe-da7b-e9fa5cbf4e53"
      },
      "source": [
        "plt.bar(X.columns, final_model_xgb.feature_importances_)\n",
        "plt.xticks(rotation=90)\n",
        "plt.show()\n",
        "\n",
        "# 가장 중요한 변수는 serum_creatinine: 혈중 크레아틴 레벨 (mg/dL) 이다."
      ],
      "execution_count": null,
      "outputs": [
        {
          "output_type": "display_data",
          "data": {
            "image/png": "[encoded data removed]",
            "text/plain": [
              "<Figure size 432x288 with 1 Axes>"
            ]
          },
          "metadata": {
            "tags": [],
            "needs_background": "light"
          }
        }
      ]
    },
    {
      "cell_type": "markdown",
      "metadata": {
        "id": "PNmYGiLa9dsd"
      },
      "source": [
        "#### Precision-Recall 커브와 ROC 커브 그리기"
      ]
    },
    {
      "cell_type": "code",
      "metadata": {
        "colab": {
          "base_uri": "https://localhost:8080/",
          "height": 297
        },
        "id": "4uWgGt-V9d9U",
        "outputId": "d38d0047-50ab-4539-f64d-ecaeabc3d798"
      },
      "source": [
        "fig = plt.figure()\n",
        "ax = fig.gca()\n",
        "plot_precision_recall_curve(model_lr, X_test, y_test, ax=ax)\n",
        "plot_precision_recall_curve(final_model_xgb, X_test, y_test, ax=ax)"
      ],
      "execution_count": null,
      "outputs": [
        {
          "output_type": "execute_result",
          "data": {
            "text/plain": [
              "<sklearn.metrics._plot.precision_recall_curve.PrecisionRecallDisplay at 0x7fb549b96dd0>"
            ]
          },
          "metadata": {
            "tags": []
          },
          "execution_count": 31
        },
        {
          "output_type": "display_data",
          "data": {
            "image/png": "[encoded data removed]",
            "text/plain": [
              "<Figure size 432x288 with 1 Axes>"
            ]
          },
          "metadata": {
            "tags": [],
            "needs_background": "light"
          }
        }
      ]
    },
    {
      "cell_type": "code",
      "metadata": {
        "colab": {
          "base_uri": "https://localhost:8080/",
          "height": 297
        },
        "id": "0fvUFeD99_6V",
        "outputId": "e7921010-d8f3-49e0-f9c6-e451617ada8f"
      },
      "source": [
        "fig = plt.figure()\n",
        "ax = fig.gca()\n",
        "plot_roc_curve(model_lr, X_test, y_test, ax=ax)\n",
        "plot_roc_curve(final_model_xgb, X_test, y_test, ax=ax)"
      ],
      "execution_count": null,
      "outputs": [
        {
          "output_type": "execute_result",
          "data": {
            "text/plain": [
              "<sklearn.metrics._plot.roc_curve.RocCurveDisplay at 0x7fb5404e2850>"
            ]
          },
          "metadata": {
            "tags": []
          },
          "execution_count": 32
        },
        {
          "output_type": "display_data",
          "data": {
            "image/png": "[encoded data removed]",
            "text/plain": [
              "<Figure size 432x288 with 1 Axes>"
            ]
          },
          "metadata": {
            "tags": [],
            "needs_background": "light"
          }
        }
      ]
    },
    {
      "cell_type": "markdown",
      "metadata": {
        "id": "oSYiCrihP_AP"
      },
      "source": [
        "### Step 4. 딥러닝.신경망 모델로 분석"
      ]
    },
    {
      "cell_type": "code",
      "metadata": {
        "id": "beTtdZ6QB4nJ"
      },
      "source": [
        "from keras.optimizers import Adam\n"
      ],
      "execution_count": null,
      "outputs": []
    },
    {
      "cell_type": "code",
      "metadata": {
        "colab": {
          "base_uri": "https://localhost:8080/"
        },
        "id": "YtXl7UnHB4zD",
        "outputId": "59930114-9e72-4b92-cf51-434f3191d29b"
      },
      "source": [
        "print(X_train.shape, y_train.shape)"
      ],
      "execution_count": null,
      "outputs": [
        {
          "output_type": "stream",
          "text": [
            "(209, 11) (209,)\n"
          ],
          "name": "stdout"
        }
      ]
    },
    {
      "cell_type": "markdown",
      "metadata": {
        "id": "MmnFwSBzEePU"
      },
      "source": [
        "#### 모델구현"
      ]
    },
    {
      "cell_type": "code",
      "metadata": {
        "colab": {
          "base_uri": "https://localhost:8080/"
        },
        "id": "zr3Ul8GC_uBI",
        "outputId": "7ef2a841-e314-4745-b98c-043bb729aefd"
      },
      "source": [
        "    model = models.Sequential()\n",
        "    model.add(layers.Dense(32, activation='relu',input_shape=(11,)))\n",
        "    model.add(layers.BatchNormalization())\n",
        "\n",
        "    model.add(layers.Dense(64, activation='relu'))\n",
        "    model.add(layers.BatchNormalization())\n",
        "\n",
        "    model.add(layers.Dense(32, activation='relu'))\n",
        "    model.add(layers.BatchNormalization())\n",
        "    # model.add(layers.Dropout(0.5))\n",
        "\n",
        "    model.add(layers.Dense(32, activation='relu'))\n",
        "    model.add(layers.BatchNormalization())\n",
        "  \n",
        "    model.add(layers.Dense(1, activation='sigmoid'))\n",
        "    model.compile(optimizer='Adam', loss='binary_crossentropy', metrics=['acc'])\n",
        "\n",
        "model.summary()"
      ],
      "execution_count": null,
      "outputs": [
        {
          "output_type": "stream",
          "text": [
            "Model: \"sequential\"\n",
            "_________________________________________________________________\n",
            "Layer (type)                 Output Shape              Param #   \n",
            "=================================================================\n",
            "dense (Dense)                (None, 32)                384       \n",
            "_________________________________________________________________\n",
            "batch_normalization (BatchNo (None, 32)                128       \n",
            "_________________________________________________________________\n",
            "dense_1 (Dense)              (None, 64)                2112      \n",
            "_________________________________________________________________\n",
            "batch_normalization_1 (Batch (None, 64)                256       \n",
            "_________________________________________________________________\n",
            "dense_2 (Dense)              (None, 32)                2080      \n",
            "_________________________________________________________________\n",
            "batch_normalization_2 (Batch (None, 32)                128       \n",
            "_________________________________________________________________\n",
            "dense_3 (Dense)              (None, 32)                1056      \n",
            "_________________________________________________________________\n",
            "batch_normalization_3 (Batch (None, 32)                128       \n",
            "_________________________________________________________________\n",
            "dense_4 (Dense)              (None, 1)                 33        \n",
            "=================================================================\n",
            "Total params: 6,305\n",
            "Trainable params: 5,985\n",
            "Non-trainable params: 320\n",
            "_________________________________________________________________\n"
          ],
          "name": "stdout"
        }
      ]
    },
    {
      "cell_type": "markdown",
      "metadata": {
        "id": "yfnsTmOcEKKN"
      },
      "source": [
        "#### 딥러닝 모델 학습"
      ]
    },
    {
      "cell_type": "code",
      "metadata": {
        "colab": {
          "base_uri": "https://localhost:8080/"
        },
        "id": "NoLrAnwb_uG7",
        "outputId": "c13dd5c5-b764-4042-fbbd-6adcdffe24b1"
      },
      "source": [
        "# 콜백 함수 적용 부분(분류모델은 val_loss로)\n",
        "early_stopping_callback = EarlyStopping(monitor='val_loss', mode='min', patience=10)\n",
        "# 분류모델이면 model_checkpoint = ModelCheckpoint(filepath='./{epoch}-{val_loss:.2f}-{val_accuracy:.2f}.h5', monitor='val_loss', save_best_only=True, verbose=1)\n",
        "model_checkpoint = ModelCheckpoint(filepath='/content/drive/MyDrive/Colab Notebooks/practice/문제1_딥러닝파라미터/{epoch}-{loss:.2f}.h5', \n",
        "                                   monitor='val_loss', save_best_only=True, verbose=1)\n",
        "\n",
        "\n",
        "history = model.fit(X_train, y_train, batch_size=16,  epochs=1000,\n",
        "            callbacks=[early_stopping_callback, model_checkpoint],\n",
        "            validation_data=(X_test, y_test))"
      ],
      "execution_count": null,
      "outputs": [
        {
          "output_type": "stream",
          "text": [
            "Epoch 1/1000\n",
            "14/14 [==============================] - 4s 38ms/step - loss: 0.7725 - acc: 0.5642 - val_loss: 0.6784 - val_acc: 0.6556\n",
            "\n",
            "Epoch 00001: val_loss improved from inf to 0.67837, saving model to /content/drive/MyDrive/Colab Notebooks/practice/문제1_딥러닝파라미터/1-0.81.h5\n",
            "Epoch 2/1000\n",
            "14/14 [==============================] - 0s 6ms/step - loss: 0.7415 - acc: 0.5720 - val_loss: 0.6615 - val_acc: 0.7111\n",
            "\n",
            "Epoch 00002: val_loss improved from 0.67837 to 0.66153, saving model to /content/drive/MyDrive/Colab Notebooks/practice/문제1_딥러닝파라미터/2-0.67.h5\n",
            "Epoch 3/1000\n",
            "14/14 [==============================] - 0s 8ms/step - loss: 0.6283 - acc: 0.6765 - val_loss: 0.6532 - val_acc: 0.7222\n",
            "\n",
            "Epoch 00003: val_loss improved from 0.66153 to 0.65325, saving model to /content/drive/MyDrive/Colab Notebooks/practice/문제1_딥러닝파라미터/3-0.61.h5\n",
            "Epoch 4/1000\n",
            "14/14 [==============================] - 0s 7ms/step - loss: 0.5114 - acc: 0.7626 - val_loss: 0.6394 - val_acc: 0.7000\n",
            "\n",
            "Epoch 00004: val_loss improved from 0.65325 to 0.63939, saving model to /content/drive/MyDrive/Colab Notebooks/practice/문제1_딥러닝파라미터/4-0.57.h5\n",
            "Epoch 5/1000\n",
            "14/14 [==============================] - 0s 7ms/step - loss: 0.5460 - acc: 0.7094 - val_loss: 0.6257 - val_acc: 0.6889\n",
            "\n",
            "Epoch 00005: val_loss improved from 0.63939 to 0.62566, saving model to /content/drive/MyDrive/Colab Notebooks/practice/문제1_딥러닝파라미터/5-0.56.h5\n",
            "Epoch 6/1000\n",
            "14/14 [==============================] - 0s 6ms/step - loss: 0.5606 - acc: 0.6821 - val_loss: 0.6079 - val_acc: 0.7000\n",
            "\n",
            "Epoch 00006: val_loss improved from 0.62566 to 0.60791, saving model to /content/drive/MyDrive/Colab Notebooks/practice/문제1_딥러닝파라미터/6-0.54.h5\n",
            "Epoch 7/1000\n",
            "14/14 [==============================] - 0s 6ms/step - loss: 0.4360 - acc: 0.8088 - val_loss: 0.5900 - val_acc: 0.6889\n",
            "\n",
            "Epoch 00007: val_loss improved from 0.60791 to 0.59003, saving model to /content/drive/MyDrive/Colab Notebooks/practice/문제1_딥러닝파라미터/7-0.46.h5\n",
            "Epoch 8/1000\n",
            "14/14 [==============================] - 0s 6ms/step - loss: 0.4891 - acc: 0.7437 - val_loss: 0.5803 - val_acc: 0.7111\n",
            "\n",
            "Epoch 00008: val_loss improved from 0.59003 to 0.58026, saving model to /content/drive/MyDrive/Colab Notebooks/practice/문제1_딥러닝파라미터/8-0.49.h5\n",
            "Epoch 9/1000\n",
            "14/14 [==============================] - 0s 7ms/step - loss: 0.4587 - acc: 0.7929 - val_loss: 0.5739 - val_acc: 0.7222\n",
            "\n",
            "Epoch 00009: val_loss improved from 0.58026 to 0.57390, saving model to /content/drive/MyDrive/Colab Notebooks/practice/문제1_딥러닝파라미터/9-0.48.h5\n",
            "Epoch 10/1000\n",
            "14/14 [==============================] - 0s 7ms/step - loss: 0.3944 - acc: 0.8448 - val_loss: 0.5697 - val_acc: 0.7333\n",
            "\n",
            "Epoch 00010: val_loss improved from 0.57390 to 0.56975, saving model to /content/drive/MyDrive/Colab Notebooks/practice/문제1_딥러닝파라미터/10-0.38.h5\n",
            "Epoch 11/1000\n",
            "14/14 [==============================] - 0s 7ms/step - loss: 0.4326 - acc: 0.7828 - val_loss: 0.5613 - val_acc: 0.7333\n",
            "\n",
            "Epoch 00011: val_loss improved from 0.56975 to 0.56133, saving model to /content/drive/MyDrive/Colab Notebooks/practice/문제1_딥러닝파라미터/11-0.38.h5\n",
            "Epoch 12/1000\n",
            "14/14 [==============================] - 0s 6ms/step - loss: 0.4144 - acc: 0.7934 - val_loss: 0.5563 - val_acc: 0.7222\n",
            "\n",
            "Epoch 00012: val_loss improved from 0.56133 to 0.55629, saving model to /content/drive/MyDrive/Colab Notebooks/practice/문제1_딥러닝파라미터/12-0.39.h5\n",
            "Epoch 13/1000\n",
            "14/14 [==============================] - 0s 6ms/step - loss: 0.3516 - acc: 0.8823 - val_loss: 0.5593 - val_acc: 0.7333\n",
            "\n",
            "Epoch 00013: val_loss did not improve from 0.55629\n",
            "Epoch 14/1000\n",
            "14/14 [==============================] - 0s 6ms/step - loss: 0.3368 - acc: 0.8425 - val_loss: 0.5542 - val_acc: 0.7111\n",
            "\n",
            "Epoch 00014: val_loss improved from 0.55629 to 0.55423, saving model to /content/drive/MyDrive/Colab Notebooks/practice/문제1_딥러닝파라미터/14-0.37.h5\n",
            "Epoch 15/1000\n",
            "14/14 [==============================] - 0s 7ms/step - loss: 0.3913 - acc: 0.8116 - val_loss: 0.5493 - val_acc: 0.7222\n",
            "\n",
            "Epoch 00015: val_loss improved from 0.55423 to 0.54934, saving model to /content/drive/MyDrive/Colab Notebooks/practice/문제1_딥러닝파라미터/15-0.35.h5\n",
            "Epoch 16/1000\n",
            "14/14 [==============================] - 0s 6ms/step - loss: 0.3926 - acc: 0.8301 - val_loss: 0.5507 - val_acc: 0.7333\n",
            "\n",
            "Epoch 00016: val_loss did not improve from 0.54934\n",
            "Epoch 17/1000\n",
            "14/14 [==============================] - 0s 6ms/step - loss: 0.2977 - acc: 0.8911 - val_loss: 0.5470 - val_acc: 0.7333\n",
            "\n",
            "Epoch 00017: val_loss improved from 0.54934 to 0.54699, saving model to /content/drive/MyDrive/Colab Notebooks/practice/문제1_딥러닝파라미터/17-0.29.h5\n",
            "Epoch 18/1000\n",
            "14/14 [==============================] - 0s 7ms/step - loss: 0.3331 - acc: 0.8715 - val_loss: 0.5537 - val_acc: 0.7000\n",
            "\n",
            "Epoch 00018: val_loss did not improve from 0.54699\n",
            "Epoch 19/1000\n",
            "14/14 [==============================] - 0s 7ms/step - loss: 0.3093 - acc: 0.9016 - val_loss: 0.5671 - val_acc: 0.7000\n",
            "\n",
            "Epoch 00019: val_loss did not improve from 0.54699\n",
            "Epoch 20/1000\n",
            "14/14 [==============================] - 0s 7ms/step - loss: 0.3382 - acc: 0.8785 - val_loss: 0.5785 - val_acc: 0.7000\n",
            "\n",
            "Epoch 00020: val_loss did not improve from 0.54699\n",
            "Epoch 21/1000\n",
            "14/14 [==============================] - 0s 6ms/step - loss: 0.2602 - acc: 0.9071 - val_loss: 0.5931 - val_acc: 0.7111\n",
            "\n",
            "Epoch 00021: val_loss did not improve from 0.54699\n",
            "Epoch 22/1000\n",
            "14/14 [==============================] - 0s 6ms/step - loss: 0.2982 - acc: 0.9064 - val_loss: 0.5947 - val_acc: 0.7222\n",
            "\n",
            "Epoch 00022: val_loss did not improve from 0.54699\n",
            "Epoch 23/1000\n",
            "14/14 [==============================] - 0s 7ms/step - loss: 0.3006 - acc: 0.8708 - val_loss: 0.6311 - val_acc: 0.7000\n",
            "\n",
            "Epoch 00023: val_loss did not improve from 0.54699\n",
            "Epoch 24/1000\n",
            "14/14 [==============================] - 0s 6ms/step - loss: 0.2843 - acc: 0.8992 - val_loss: 0.6242 - val_acc: 0.6889\n",
            "\n",
            "Epoch 00024: val_loss did not improve from 0.54699\n",
            "Epoch 25/1000\n",
            "14/14 [==============================] - 0s 6ms/step - loss: 0.2702 - acc: 0.8946 - val_loss: 0.6380 - val_acc: 0.7000\n",
            "\n",
            "Epoch 00025: val_loss did not improve from 0.54699\n",
            "Epoch 26/1000\n",
            "14/14 [==============================] - 0s 6ms/step - loss: 0.2779 - acc: 0.9177 - val_loss: 0.6352 - val_acc: 0.7111\n",
            "\n",
            "Epoch 00026: val_loss did not improve from 0.54699\n",
            "Epoch 27/1000\n",
            "14/14 [==============================] - 0s 7ms/step - loss: 0.2471 - acc: 0.8934 - val_loss: 0.6300 - val_acc: 0.7222\n",
            "\n",
            "Epoch 00027: val_loss did not improve from 0.54699\n"
          ],
          "name": "stdout"
        }
      ]
    },
    {
      "cell_type": "markdown",
      "metadata": {
        "id": "cAS5oVBGEpMY"
      },
      "source": [
        "#### 딥러닝 모델평가"
      ]
    },
    {
      "cell_type": "code",
      "metadata": {
        "colab": {
          "base_uri": "https://localhost:8080/"
        },
        "id": "MJ6nrjHf_uNH",
        "outputId": "40569832-f58b-41ba-b5ed-56775d089570"
      },
      "source": [
        "model.evaluate(X_test, y_test)"
      ],
      "execution_count": null,
      "outputs": [
        {
          "output_type": "stream",
          "text": [
            "3/3 [==============================] - 0s 3ms/step - loss: 0.6300 - acc: 0.7222\n"
          ],
          "name": "stdout"
        },
        {
          "output_type": "execute_result",
          "data": {
            "text/plain": [
              "[0.6300397515296936, 0.7222222089767456]"
            ]
          },
          "metadata": {
            "tags": []
          },
          "execution_count": 37
        }
      ]
    },
    {
      "cell_type": "code",
      "metadata": {
        "colab": {
          "base_uri": "https://localhost:8080/"
        },
        "id": "DZA3pmNEFiYN",
        "outputId": "b0a63d45-31cd-4735-bed4-637bf99b481b"
      },
      "source": [
        "history_dict = history.history\n",
        "history_dict.keys()"
      ],
      "execution_count": null,
      "outputs": [
        {
          "output_type": "execute_result",
          "data": {
            "text/plain": [
              "dict_keys(['loss', 'acc', 'val_loss', 'val_acc'])"
            ]
          },
          "metadata": {
            "tags": []
          },
          "execution_count": 38
        }
      ]
    },
    {
      "cell_type": "code",
      "metadata": {
        "colab": {
          "base_uri": "https://localhost:8080/",
          "height": 295
        },
        "id": "QW5xSEFlM500",
        "outputId": "c736e393-a396-4082-8ec2-b3cacaa4337a"
      },
      "source": [
        "acc = history.history['acc'] \n",
        "val_acc = history.history['val_acc'] \n",
        "loss = history.history['loss'] \n",
        "val_loss = history.history['val_loss']\n",
        "\n",
        "epochs = range(1, len(loss) + 1)\n",
        "\n",
        "# ‘bo’는 파란색 점을 의미합니다\n",
        "plt.plot(epochs, loss, 'bo', label='Training loss')\n",
        "# ‘b’는 파란색 실선을 의미합니다\n",
        "plt.plot(epochs, val_loss, 'b', label='Validation loss')\n",
        "plt.title('Training and validation loss')\n",
        "plt.xlabel('Epochs')\n",
        "plt.ylabel('Loss')\n",
        "plt.legend()\n",
        "\n",
        "plt.show()"
      ],
      "execution_count": null,
      "outputs": [
        {
          "output_type": "display_data",
          "data": {
            "image/png": "[encoded data removed]",
            "text/plain": [
              "<Figure size 432x288 with 1 Axes>"
            ]
          },
          "metadata": {
            "tags": [],
            "needs_background": "light"
          }
        }
      ]
    },
    {
      "cell_type": "code",
      "metadata": {
        "id": "dabXlbbWNzMc",
        "colab": {
          "base_uri": "https://localhost:8080/",
          "height": 295
        },
        "outputId": "5d137d8b-0d59-444d-956e-438626695145"
      },
      "source": [
        "plt.clf()   # 그래프를 초기화합니다\n",
        "acc = history.history['acc'] \n",
        "val_acc = history.history['val_acc'] \n",
        "\n",
        "plt.plot(epochs, acc, 'bo', label='Training acc')\n",
        "plt.plot(epochs, val_acc, 'b', label='Validation acc')\n",
        "plt.title('Training and validation acc')\n",
        "plt.xlabel('Epochs')\n",
        "plt.ylabel('accuracy')\n",
        "plt.legend()\n",
        "\n",
        "plt.show()"
      ],
      "execution_count": null,
      "outputs": [
        {
          "output_type": "display_data",
          "data": {
            "image/png": "[encoded data removed]",
            "text/plain": [
              "<Figure size 432x288 with 1 Axes>"
            ]
          },
          "metadata": {
            "tags": [],
            "needs_background": "light"
          }
        }
      ]
    }
  ]
}